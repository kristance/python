{
 "cells": [
  {
   "cell_type": "code",
   "execution_count": 1,
   "id": "ff05f6dd",
   "metadata": {},
   "outputs": [],
   "source": [
    "%config Completer.use_jedi = False\n",
    "import warnings\n",
    "warnings.filterwarnings(action=\"ignore\")"
   ]
  },
  {
   "cell_type": "code",
   "execution_count": 2,
   "id": "98ccff57",
   "metadata": {},
   "outputs": [],
   "source": [
    "from bs4 import BeautifulSoup\n",
    "from selenium import webdriver\n",
    "from selenium.webdriver.chrome.options import Options\n",
    "import time"
   ]
  },
  {
   "cell_type": "code",
   "execution_count": 3,
   "id": "18f94698",
   "metadata": {},
   "outputs": [
    {
     "name": "stdout",
     "output_type": "stream",
     "text": [
      "15\n",
      " 3, 🎉100화 축하!!🥳작가님 100화 진심으로 축하드립니다!!\n",
      "연재도 중요하지만 건강이 우선입니다 아셨죠?100화 연재 해주셔서 감사하고 축하드려요!!🥳🥳\n",
      "\n",
      "\n",
      "****************************************************************************************************\n",
      "10\n",
      "['축하드려요']\n",
      "['100화 축하드립니다!!! 리코팀 & 작가님']\n",
      "['탈모 축하 드려요']\n",
      "['어시분들도 고생 많으셨습니다\\U0001faf6\\U0001faf6💕']\n",
      "['100화까지 잘 오셨습니다200화까지도 모두 화이팅!!']\n",
      "['탈모(?)']\n",
      "['리코팀 축하드립니다!!!!!']\n",
      "['200화 가즈아....']\n",
      "['이렇게만 쭉갑시다!']\n",
      "['탈모 ㅊㅋ']\n"
     ]
    }
   ],
   "source": [
    "option = Options()\n",
    "option.add_argument(\"--window-size=1680,1024\") #가상 크롬의 창 크기를 지정한다.\n",
    "#option.add_argument(\"headless\")\n",
    "driver = webdriver.Chrome(\"./chromedriver.exe\", options=option)\n",
    "driver.implicitly_wait(5) \n",
    "driver.get(\"https://comic.naver.com/webtoon/detail?titleId=769209&no=101&week=wed\")\n",
    "html = driver.page_source\n",
    "soup = BeautifulSoup(html, \"html.parser\")\n",
    "reviews = soup.select('span.u_cbox_contents')\n",
    "print(len(reviews))\n",
    "#print(reviews)\n",
    "print(\"{:2d}, {}\".format(3, reviews[2].text))\n",
    "print(\"*\" * 100)\n",
    "\n",
    "\n",
    "#답글 하이퍼링크를 선택한 후 클릭해서 답글을 연다.\n",
    "driver.find_element_by_xpath(\n",
    "    #'//*[@id=\"cbox_module_wai_u_cbox_content_wrap_tabpanel\"]/ul/li[1]/div[1]/div/div[4]/a' #1번째 Best댓글의 하이퍼링크\n",
    "    #'//*[@id=\"cbox_module_wai_u_cbox_content_wrap_tabpanel\"]/ul/li[2]/div[1]/div/div[4]/a' #2번쨰 Best댓글의 하이퍼링크\n",
    "    '//*[@id=\"cbox_module_wai_u_cbox_content_wrap_tabpanel\"]/ul/li[3]/div[1]/div/div[4]/a' #3번째 Best댓글의 하이퍼링크\n",
    "    #...\n",
    "    #//*[@id=\"cbox_module_wai_u_cbox_content_wrap_tabpanel\"]/ul/li[15]/div[1]/div/div[4]/a' #15번째 Best댓글의 하이퍼링크\n",
    ").click()\n",
    "time.sleep(0.5)\n",
    "\n",
    "# 더보기 하이퍼링크가 더이상나오지 않을때까지 반복하며 답글의 더보기 하이퍼링크를 클릭해서 답글을 표시한다.\n",
    "while True :\n",
    "    try:\n",
    "        driver.find_element_by_xpath(\n",
    "        #'//*[@id=\"cbox_module_wai_u_cbox_content_wrap_tabpanel\"]/ul/li[1]/div[2]/div[2]/a' #1번째 Best댓글의 더보기 하이퍼링크\n",
    "        #'//*[@id=\"cbox_module_wai_u_cbox_content_wrap_tabpanel\"]/ul/li[2]/div[2]/div[2]/a' #2번째 Best댓글의 더보기 하이퍼링크\n",
    "        #...\n",
    "        \n",
    "        ).click()\n",
    "        time.sleep(0.3)\n",
    "    except :\n",
    "        break\n",
    "    #---- try\n",
    "#------ while True\n",
    "\n",
    "#페이지의 내용이 변경되면 다시 읽어와야 한다.\n",
    "html = driver.page_source\n",
    "soup = BeautifulSoup(html, \"html.parser\")\n",
    "\n",
    "#답글을 읽는다\n",
    "#cbox_module_wai_u_cbox_content_wrap_tabpanel > ul > li.u_cbox_comment.cbox_module__comment_461794567._user_id_no_aK3ia > div.u_cbox_reply_area > ul > li.u_cbox_comment.cbox_module__comment_461794780._user_id_no_bAbsx > div > div > div.u_cbox_text_wrap > span.u_cbox_contents\n",
    "#cbox_module_wai_u_cbox_content_wrap_tabpanel > ul > li.u_cbox_comment.cbox_module__comment_461794567._user_id_no_aK3ia > div.u_cbox_comment_box > div > div.u_cbox_text_wrap > span.u_cbox_contents\n",
    "replies = soup.select('#cbox_module_wai_u_cbox_content_wrap_tabpanel div.u_cbox_reply_area div.u_cbox_text_wrap > span.u_cbox_contents')\n",
    "print(len(replies))\n",
    "for i in range(len(replies)):\n",
    "    print(replies[i].text.strip().split(\"\\n\"))\n",
    "#---------- for i\n",
    "\n",
    "#답글접기 하이퍼링크를 클릭해서 읽은 Best댓글의 답글을 닫는다.\n",
    "driver.find_element_by_xpath(\n",
    "#//*[@id=\"cbox_module_wai_u_cbox_content_wrap_tabpanel\"]/ul/li[1]/div[2]/a #1번째 Best 댓글의 답글 접기 하이퍼링크\n",
    "#//*[@id=\"cbox_module_wai_u_cbox_content_wrap_tabpanel\"]/ul/li[2]/div[2]/a #2번째 Best 댓글의 답글 접기 하이퍼링크\n",
    "    '//*[@id=\"cbox_module_wai_u_cbox_content_wrap_tabpanel\"]/ul/li[3]/div[2]/a' #3번째 Best 댓글의 답글 접기 하이퍼링크\n",
    "    #'/html/body/div[1]/div[5]/div/div/div[4]/div[1]/div[3]/div/div/div[6]/ul/li[3]/div[2]/a'\n",
    "    #..\n",
    "#//*[@id=\"cbox_module_wai_u_cbox_content_wrap_tabpanel\"]/ul/li[15]/div[2]/a #15번째 Best 댓글의 답글 접기 하이퍼링크\n",
    ").click()\n",
    "\n",
    "\n",
    "\n",
    "#time.sleep(0.5)\n"
   ]
  },
  {
   "cell_type": "code",
   "execution_count": null,
   "id": "b4ef51f9",
   "metadata": {},
   "outputs": [],
   "source": []
  },
  {
   "cell_type": "code",
   "execution_count": null,
   "id": "1d6f99ef",
   "metadata": {},
   "outputs": [],
   "source": []
  },
  {
   "cell_type": "code",
   "execution_count": null,
   "id": "774012a4",
   "metadata": {},
   "outputs": [],
   "source": []
  },
  {
   "cell_type": "code",
   "execution_count": null,
   "id": "c1027897",
   "metadata": {},
   "outputs": [],
   "source": []
  },
  {
   "cell_type": "code",
   "execution_count": null,
   "id": "6b93b5d3",
   "metadata": {},
   "outputs": [],
   "source": []
  },
  {
   "cell_type": "code",
   "execution_count": null,
   "id": "b4bb638b",
   "metadata": {},
   "outputs": [],
   "source": []
  }
 ],
 "metadata": {
  "kernelspec": {
   "display_name": "Python [conda env:.conda-py3.6] *",
   "language": "python",
   "name": "conda-env-.conda-py3.6-py"
  },
  "language_info": {
   "codemirror_mode": {
    "name": "ipython",
    "version": 3
   },
   "file_extension": ".py",
   "mimetype": "text/x-python",
   "name": "python",
   "nbconvert_exporter": "python",
   "pygments_lexer": "ipython3",
   "version": "3.6.13"
  }
 },
 "nbformat": 4,
 "nbformat_minor": 5
}
