{
 "cells": [
  {
   "cell_type": "code",
   "execution_count": 7,
   "id": "ecaf80e8",
   "metadata": {},
   "outputs": [],
   "source": [
    "%config Completer.use_jedi = False\n",
    "import warnings\n",
    "warnings.filterwarnings(action=\"ignore\")"
   ]
  },
  {
   "cell_type": "code",
   "execution_count": 8,
   "id": "a9e7e9e1",
   "metadata": {},
   "outputs": [],
   "source": [
    "from bs4 import BeautifulSoup\n",
    "from selenium import webdriver\n",
    "from selenium.webdriver.firefox.options import Options\n",
    "import time"
   ]
  },
  {
   "cell_type": "code",
   "execution_count": 10,
   "id": "24827b02",
   "metadata": {},
   "outputs": [
    {
     "name": "stdout",
     "output_type": "stream",
     "text": [
      "1935\n",
      "review.txt 저장\n"
     ]
    }
   ],
   "source": [
    "option = Options()\n",
    "option.add_argument('--window-size=1680, 1024')\n",
    "option.binary_location = r'C:\\Program Files\\Mozilla Firefox\\firefox.exe'\n",
    "driver = webdriver.Firefox( executable_path= r'C:/Users/tj/Desktop/python/seleniumV3Crawling/geckodriver.exe', options=option)\n",
    "driver.get('https://comic.naver.com/webtoon/detail?titleId=769209&no=101&week=wed')\n",
    "driver.implicitly_wait(5)\n",
    "html = driver.page_source\n",
    "soup = BeautifulSoup(html, 'html.parser')\n",
    "\n",
    "#전체 댓글을 연다\n",
    "'''\n",
    "driver.find_element_by_xpath(\n",
    "    '//*[@id=\"cbox_module_wai_u_cbox_sort_option_tab2\"]'\n",
    ").click()\n",
    "'''\n",
    "driver.find_element_by_css_selector(\n",
    "    '#cbox_module_wai_u_cbox_sort_option_tab2'\n",
    ").click()\n",
    "time.sleep(0.2)\n",
    "\n",
    "#더보기 하이퍼링크가 더이상 나오지 않을 때까지 반복하며 더보기 하이퍼링크를 클릭해서 댓글을 표시한다.\n",
    "while True :\n",
    "    try:\n",
    "        driver.find_element_by_xpath(\n",
    "            '//*[@id=\"cbox_module\"]/div/div[7]/a'\n",
    "        ).click()\n",
    "        time.sleep(0.2)\n",
    "    except:\n",
    "        break\n",
    "    #------ try\n",
    "#------- while True\n",
    "html = driver.page_source\n",
    "soup = BeautifulSoup(html, 'html.parser')\n",
    "replies = soup.select('#cbox_module_wai_u_cbox_content_wrap_tabpanel div.u_cbox_comment_box div.u_cbox_text_wrap > span.u_cbox_contents')\n",
    "print(len(replies))\n",
    "\n",
    "# 텍스트 파일을 쓰기용으로 open하고 크롤링 결과를 파일로 저장한다.\n",
    "with open ('./review.txt', 'w', encoding='utf-8') as file :\n",
    "    for j in range(len(replies)):\n",
    "        file.write('{}. {}\\n'.format( (j + 1), replies[j].text))\n",
    "    #------ for \n",
    "print('review.txt 저장')\n"
   ]
  },
  {
   "cell_type": "code",
   "execution_count": null,
   "id": "5510bad1",
   "metadata": {},
   "outputs": [],
   "source": []
  },
  {
   "cell_type": "code",
   "execution_count": null,
   "id": "f60930d0",
   "metadata": {},
   "outputs": [],
   "source": []
  },
  {
   "cell_type": "code",
   "execution_count": null,
   "id": "4726175d",
   "metadata": {},
   "outputs": [],
   "source": []
  },
  {
   "cell_type": "code",
   "execution_count": null,
   "id": "031fd09c",
   "metadata": {},
   "outputs": [],
   "source": []
  },
  {
   "cell_type": "code",
   "execution_count": null,
   "id": "4aac0192",
   "metadata": {},
   "outputs": [],
   "source": []
  },
  {
   "cell_type": "code",
   "execution_count": null,
   "id": "a5116dd7",
   "metadata": {},
   "outputs": [],
   "source": []
  },
  {
   "cell_type": "code",
   "execution_count": null,
   "id": "b6f61d4b",
   "metadata": {},
   "outputs": [],
   "source": []
  },
  {
   "cell_type": "code",
   "execution_count": null,
   "id": "57207bb0",
   "metadata": {},
   "outputs": [],
   "source": []
  },
  {
   "cell_type": "code",
   "execution_count": null,
   "id": "2cbadbfb",
   "metadata": {},
   "outputs": [],
   "source": []
  },
  {
   "cell_type": "code",
   "execution_count": null,
   "id": "ccb11e47",
   "metadata": {},
   "outputs": [],
   "source": []
  },
  {
   "cell_type": "code",
   "execution_count": null,
   "id": "6c20f63f",
   "metadata": {},
   "outputs": [],
   "source": []
  }
 ],
 "metadata": {
  "kernelspec": {
   "display_name": "Python [conda env:.conda-py3.6] *",
   "language": "python",
   "name": "conda-env-.conda-py3.6-py"
  },
  "language_info": {
   "codemirror_mode": {
    "name": "ipython",
    "version": 3
   },
   "file_extension": ".py",
   "mimetype": "text/x-python",
   "name": "python",
   "nbconvert_exporter": "python",
   "pygments_lexer": "ipython3",
   "version": "3.6.13"
  }
 },
 "nbformat": 4,
 "nbformat_minor": 5
}
