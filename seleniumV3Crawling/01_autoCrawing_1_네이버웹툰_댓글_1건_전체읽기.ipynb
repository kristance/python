{
 "cells": [
  {
   "cell_type": "code",
   "execution_count": 5,
   "id": "d6fcc8c2",
   "metadata": {},
   "outputs": [],
   "source": [
    "%config Completer.use_jedi = False\n",
    "import warnings\n",
    "warnings.filterwarnings(action=\"ignore\")"
   ]
  },
  {
   "cell_type": "code",
   "execution_count": 6,
   "id": "1aafd368",
   "metadata": {},
   "outputs": [],
   "source": [
    "from bs4 import BeautifulSoup\n",
    "from selenium import webdriver\n",
    "from selenium.webdriver.chrome.options import Options"
   ]
  },
  {
   "cell_type": "markdown",
   "id": "e9188511",
   "metadata": {},
   "source": [
    "셀레니움 옵션"
   ]
  },
  {
   "cell_type": "code",
   "execution_count": 9,
   "id": "d810f4e3",
   "metadata": {},
   "outputs": [
    {
     "name": "stdout",
     "output_type": "stream",
     "text": [
      "15\n",
      " 1, 첫번째 배댓은 탈모가 올것이다\n",
      " 2, 인정도해주고 사지도 붙여놨네 청명이..\n",
      " 3, 🎉100화 축하!!🥳작가님 100화 진심으로 축하드립니다!!\n",
      "연재도 중요하지만 건강이 우선입니다 아셨죠?100화 연재 해주셔서 감사하고 축하드려요!!🥳🥳\n",
      "\n",
      "\n",
      " 4, 리코팀 '화산귀환' 100화 축하드려요!!화산귀환이 무협웹툰이다 보니 진입장벽이 높고, 한 화당 나오는 분량도, 전투씬도 많은텐데 이렇게 보기 쉽고 재미있는 작품 만들어주셔서 감사해요!!!\n",
      "소설이 2000화를 바라보는 만큼 리코팀도 힘내서 1000화 찍어봅시다.\n",
      "다시 한 번 화산귀환이라는 웹툰을 만들어 주셔서 감사합니다.\n",
      " 5, 조명산이 가만히 청명을 바라본다.마치 무언가를 기다리는 듯 말이다.\n",
      "청명이 그런 조명산을 향해 가볍게 고개를 끄덕여 주었다.\n",
      "“좋은 승부였어.”\n",
      "조명산의 시야가 흐려진다.\n",
      "다리에 힘이 풀리고 육체의 모든 감각이 흐려지기 시작했다.\n",
      "자신의 몸이 바닥으로 쓰러지는 것을 느끼며 조명산은 저도 모르게 희미한 미소를 지었다.\n",
      "‘나는 인정받았다.’\n",
      "채 바닥에 쓰러지기도 전에 숨이 끊겼지만, 죽은 그의 입가에는 꽤 멋진 미소가 떠올라 있었다\n",
      "\n",
      "화산귀환 [독점] 156화 | 비가\n",
      "\n",
      "시리즈에서 보기\n",
      "http://naver.me/GSkIxmj1\n",
      "\n",
      "원래 이 사람이 청명이처럼 강한 사람이랑 싸워서 자신이 인정받았다는 그런 행복감을 보여주는 화 였는데 다 스킵돼서 좀 아쉬움ㅠㅠ 되게 의미 있는 화라 생각했는데.. 다들 소설도 보시길..\n",
      " 6, 와 칠매검... 무슨 소용돌이 같음... 매화에 홀린다는 게 이런 거구나... 진짜 넋놓고 봄\n",
      " 7, 리코팀 당신들도 '인정받았어'\n",
      " 8, (화산귀환 업뎃)다른 수요웹툰들: 이건 못 이긴다...\n",
      " 9, ㅋㅋㅋㅋㅋ빨간 두건쉑 폼 잡더니만 청명이 보고 바로 런각 잡네\n",
      "10, 🌋화산귀환 회차 알리미🌋\n",
      "이어 보시려면 157화 21% 부터 보시면 됩니다!\n",
      "(핸드폰 기준 전체 세팅값이 1일때)\n",
      "\n",
      "소설은 네이버 시리즈에 화산귀환 검색하셔서 보시면 됩니다!\n",
      "\n",
      "🌟화산귀환 100화 축하드립니다!!🌟\n",
      "11, 매화 나올 때마다 진짜 넋 놓고 보게 된다 홀린 기분임\n",
      "12, 청명아... 사랑해♡\n",
      "13, ㅋㅋㅋㅋㅋㅋㅋ삼살귀 이제야 심각성과 자신 목숨을 느껴네 한심한 놈 이제 알겠냐\n",
      "14, 와.... 숨도 못쉬고 전투씬 봄.... 대박이다.... 청명아 오늘도 너무 멋있다 ㅠㅠㅠ\n",
      "15, 상위 0.63% 독자가 인정하는 ㅈㄴ 재밌는 작품\n"
     ]
    }
   ],
   "source": [
    "option = Options()\n",
    "option.add_argument(\"--window-size=1680,1024\") #가상 크롬의 창 크기를 지정한다.\n",
    "driver = webdriver.Chrome(\"./chromedriver_1.exe\", options=option)\n",
    "#지정된 시간동안 가상 크롬창에  크롤링할 페이지가 로딩되기를 기다리며 대기한다.\n",
    "driver.implicitly_wait(5) #로딩이 완료되면 즉시 다음 단계로 진행한다.\n",
    "\n",
    "# 네이버웹툰 화산귀환 100화\n",
    "# https://comic.naver.com/webtoon/detail?titleId=769209&no=101&week=wed\n",
    "#get() 메소드로 크롤링할 페이지를 지정해서 가상 크롬 창에 띄운다.\n",
    "driver.get(\"https://comic.naver.com/webtoon/detail?titleId=769209&no=101&week=wed\")\n",
    "\n",
    "# 특정 베스트 댓글 1건을 읽는다.\n",
    "html = driver.page_source #가상크롬에 실행된 페이지의 html정보를 읽어온다.\n",
    "#print(html)\n",
    "soup = BeautifulSoup(html, \"html.parser\") #읽어들인 html 문서를 파싱할 수 있도록 준비한다.\n",
    "#review = soup.select_one(\"li.u_cbox_comment:nth-child(1) > div:nth-child(1) > div:nth-child(1) > div:nth-child(2) > span:nth-child(2)\")\n",
    "review = soup.select_one(\"li.u_cbox_comment:nth-child(5) > div:nth-child(1) > div:nth-child(1) > div:nth-child(2) > span:nth-child(2)\")\n",
    "#print(review.text)\n",
    "\n",
    "#전체 베스트 댓글을 읽는다.\n",
    "html = driver.page_source \n",
    "soup = BeautifulSoup(html, \"html.parser\")\n",
    "reviews = soup.select(\"span.u_cbox_contents\")\n",
    "print(len(reviews))\n",
    "for i in range(len(reviews)):\n",
    "    print(\"{:2d}, {}\".format(i + 1, reviews[i].text))"
   ]
  },
  {
   "cell_type": "code",
   "execution_count": null,
   "id": "baa04ff5",
   "metadata": {},
   "outputs": [],
   "source": []
  },
  {
   "cell_type": "code",
   "execution_count": null,
   "id": "b7ecebd7",
   "metadata": {},
   "outputs": [],
   "source": []
  },
  {
   "cell_type": "code",
   "execution_count": null,
   "id": "22e0cfdd",
   "metadata": {},
   "outputs": [],
   "source": []
  },
  {
   "cell_type": "code",
   "execution_count": null,
   "id": "3210e2df",
   "metadata": {},
   "outputs": [],
   "source": []
  },
  {
   "cell_type": "code",
   "execution_count": null,
   "id": "32b34812",
   "metadata": {},
   "outputs": [],
   "source": []
  },
  {
   "cell_type": "code",
   "execution_count": null,
   "id": "0785e60e",
   "metadata": {},
   "outputs": [],
   "source": []
  },
  {
   "cell_type": "code",
   "execution_count": null,
   "id": "7e2a7e50",
   "metadata": {},
   "outputs": [],
   "source": []
  },
  {
   "cell_type": "code",
   "execution_count": null,
   "id": "529250b9",
   "metadata": {},
   "outputs": [],
   "source": []
  },
  {
   "cell_type": "code",
   "execution_count": null,
   "id": "b356bcbf",
   "metadata": {},
   "outputs": [],
   "source": []
  },
  {
   "cell_type": "code",
   "execution_count": null,
   "id": "0464ff47",
   "metadata": {},
   "outputs": [],
   "source": []
  },
  {
   "cell_type": "code",
   "execution_count": null,
   "id": "b9526857",
   "metadata": {},
   "outputs": [],
   "source": []
  },
  {
   "cell_type": "code",
   "execution_count": null,
   "id": "7ff7d629",
   "metadata": {},
   "outputs": [],
   "source": []
  },
  {
   "cell_type": "code",
   "execution_count": null,
   "id": "6d28a900",
   "metadata": {},
   "outputs": [],
   "source": []
  },
  {
   "cell_type": "code",
   "execution_count": null,
   "id": "c0308db3",
   "metadata": {},
   "outputs": [],
   "source": []
  },
  {
   "cell_type": "code",
   "execution_count": null,
   "id": "175c99a7",
   "metadata": {},
   "outputs": [],
   "source": []
  },
  {
   "cell_type": "code",
   "execution_count": null,
   "id": "fb6d2f8d",
   "metadata": {},
   "outputs": [],
   "source": []
  }
 ],
 "metadata": {
  "kernelspec": {
   "display_name": "Python [conda env:.conda-py3.6]",
   "language": "python",
   "name": "conda-env-.conda-py3.6-py"
  },
  "language_info": {
   "codemirror_mode": {
    "name": "ipython",
    "version": 3
   },
   "file_extension": ".py",
   "mimetype": "text/x-python",
   "name": "python",
   "nbconvert_exporter": "python",
   "pygments_lexer": "ipython3",
   "version": "3.6.13"
  }
 },
 "nbformat": 4,
 "nbformat_minor": 5
}
