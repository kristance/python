{
 "cells": [
  {
   "cell_type": "code",
   "execution_count": 1,
   "id": "439fc41b",
   "metadata": {},
   "outputs": [],
   "source": [
    "%config Completer.use_jedi = False\n",
    "import warnings\n",
    "warnings.filterwarnings(action=\"ignore\")\n",
    "import numpy as np\n",
    "import pandas as pd"
   ]
  },
  {
   "cell_type": "markdown",
   "id": "ef822c5f",
   "metadata": {},
   "source": [
    "***\n",
    "Pandas의 데이터프레임과 시리즈\n",
    "***\n",
    "데이터프레임과 시리즈는 파이썬의 리스트나 딕셔너리와 비슷하지만 데이터를 다루는데 더 특화되어 있다.  \n",
    "리스트나 딕셔너리는 많은 양의 데이터를 저장하거나 조작할 수 있는 메소드가 많지않다.\n",
    "  \n",
    "반면, pandas의 데이터프레임과 시리즈는 많은 양의 데이터를 저장할 수 있을 뿐만아니라  \n",
    "스프레드시트 계열(엑셀)의 프로그램을 사용하는 것처럼 행과 열 단위로 데이터를 조작할 수 있는 다양한 메소드와  \n",
    "속성을 제공한다."
   ]
  },
  {
   "cell_type": "markdown",
   "id": "b2b0fc5c",
   "metadata": {},
   "source": [
    "***\n",
    "시리즈 만들기\n",
    "***\n",
    "시리즈를 만들기 위해서는 리스트 또는 튜플을 Series() 클래스의 인수로 전달하면 된다.  "
   ]
  },
  {
   "cell_type": "code",
   "execution_count": 2,
   "id": "ec857bb6",
   "metadata": {},
   "outputs": [
    {
     "name": "stdout",
     "output_type": "stream",
     "text": [
      "<class 'pandas.core.series.Series'>\n",
      "0    banana\n",
      "1        31\n",
      "dtype: object\n"
     ]
    }
   ],
   "source": [
    "s = pd.Series(['banana', 31])\n",
    "print(type(s))\n",
    "print(s)"
   ]
  },
  {
   "cell_type": "code",
   "execution_count": 3,
   "id": "0f223be3",
   "metadata": {},
   "outputs": [
    {
     "name": "stdout",
     "output_type": "stream",
     "text": [
      "<class 'pandas.core.series.Series'>\n",
      "0         fruit\n",
      "1    grapefruit\n",
      "dtype: object\n",
      "----------------------------------------------------------------------------------------------------\n",
      "fruit\n",
      "fruit\n"
     ]
    }
   ],
   "source": [
    "s = pd.Series( ('fruit', 'grapefruit') )\n",
    "print(type(s))\n",
    "print(s)\n",
    "print('-'* 100)\n",
    "print(s.loc[0])\n",
    "print(s.iloc[0])"
   ]
  },
  {
   "cell_type": "code",
   "execution_count": 4,
   "id": "79da42cb",
   "metadata": {},
   "outputs": [
    {
     "name": "stdout",
     "output_type": "stream",
     "text": [
      "name1    뽀로로\n",
      "name2     크롱\n",
      "dtype: object\n",
      "뽀로로\n",
      "뽀로로\n"
     ]
    }
   ],
   "source": [
    "#시리즈를 생성할 때 문자열을 인덱스로 지정할 수 있다.\n",
    "#문자열을 인덱스로 지정하려면 index 속성으로 인덱스로 사용할 문자열을 리스트에 담아서 전달하면 된다.\n",
    "s = pd.Series(['뽀로로', '크롱'], index=['name1', 'name2'])\n",
    "print(s)\n",
    "print(s.loc['name1'])\n",
    "print(s.iloc[0])"
   ]
  },
  {
   "cell_type": "markdown",
   "id": "aaa44fd3",
   "metadata": {},
   "source": [
    "***\n",
    "데이터프레임 만들기\n",
    "***\n",
    "데이터프레임을 만들기 위해서는 딕셔너리를 DataFrame() 클래스의 인수로 전달하면 된다.  \n",
    "   \n",
    "딕셔너리의 key가 데이터프레임의 열 이름이 되고, 딕셔너리의 value(반드시 list 형태)는 데이터가 된다."
   ]
  },
  {
   "cell_type": "code",
   "execution_count": 5,
   "id": "22d587e6",
   "metadata": {},
   "outputs": [
    {
     "name": "stdout",
     "output_type": "stream",
     "text": [
      "<class 'dict'>\n",
      "<class 'pandas.core.frame.DataFrame'>\n"
     ]
    },
    {
     "data": {
      "text/html": [
       "<div>\n",
       "<style scoped>\n",
       "    .dataframe tbody tr th:only-of-type {\n",
       "        vertical-align: middle;\n",
       "    }\n",
       "\n",
       "    .dataframe tbody tr th {\n",
       "        vertical-align: top;\n",
       "    }\n",
       "\n",
       "    .dataframe thead th {\n",
       "        text-align: right;\n",
       "    }\n",
       "</style>\n",
       "<table border=\"1\" class=\"dataframe\">\n",
       "  <thead>\n",
       "    <tr style=\"text-align: right;\">\n",
       "      <th></th>\n",
       "      <th>name</th>\n",
       "      <th>job</th>\n",
       "      <th>born</th>\n",
       "      <th>ref</th>\n",
       "      <th>age</th>\n",
       "    </tr>\n",
       "  </thead>\n",
       "  <tbody>\n",
       "    <tr>\n",
       "      <th>0</th>\n",
       "      <td>뽀로로</td>\n",
       "      <td>놀이꾼</td>\n",
       "      <td>2000년일껄</td>\n",
       "      <td>노는거 좋아함</td>\n",
       "      <td>5</td>\n",
       "    </tr>\n",
       "    <tr>\n",
       "      <th>1</th>\n",
       "      <td>크롱</td>\n",
       "      <td>흑우</td>\n",
       "      <td>옆에 애랑 비슷할껄??</td>\n",
       "      <td>노는 거 좋아하는 놈 좋아함</td>\n",
       "      <td>6</td>\n",
       "    </tr>\n",
       "  </tbody>\n",
       "</table>\n",
       "</div>"
      ],
      "text/plain": [
       "  name  job          born              ref  age\n",
       "0  뽀로로  놀이꾼       2000년일껄          노는거 좋아함    5\n",
       "1   크롱   흑우  옆에 애랑 비슷할껄??  노는 거 좋아하는 놈 좋아함    6"
      ]
     },
     "execution_count": 5,
     "metadata": {},
     "output_type": "execute_result"
    }
   ],
   "source": [
    "data = {\n",
    "    'name' : ['뽀로로', '크롱'],\n",
    "    'job' : ['놀이꾼', '흑우'],\n",
    "    'born': ['2000년일껄', '옆에 애랑 비슷할껄??'],\n",
    "    'ref' : ['노는거 좋아함', '노는 거 좋아하는 놈 좋아함'],\n",
    "    'age' : [5, 6]\n",
    "}\n",
    "print(type(data))\n",
    "df = pd.DataFrame(data)\n",
    "print(type(df))\n",
    "df"
   ]
  },
  {
   "cell_type": "code",
   "execution_count": 6,
   "id": "82d84a4b",
   "metadata": {},
   "outputs": [
    {
     "name": "stdout",
     "output_type": "stream",
     "text": [
      "<class 'dict'>\n",
      "<class 'pandas.core.frame.DataFrame'>\n"
     ]
    },
    {
     "data": {
      "text/html": [
       "<div>\n",
       "<style scoped>\n",
       "    .dataframe tbody tr th:only-of-type {\n",
       "        vertical-align: middle;\n",
       "    }\n",
       "\n",
       "    .dataframe tbody tr th {\n",
       "        vertical-align: top;\n",
       "    }\n",
       "\n",
       "    .dataframe thead th {\n",
       "        text-align: right;\n",
       "    }\n",
       "</style>\n",
       "<table border=\"1\" class=\"dataframe\">\n",
       "  <thead>\n",
       "    <tr style=\"text-align: right;\">\n",
       "      <th></th>\n",
       "      <th>job</th>\n",
       "      <th>age</th>\n",
       "    </tr>\n",
       "  </thead>\n",
       "  <tbody>\n",
       "    <tr>\n",
       "      <th>뽀로로</th>\n",
       "      <td>놀이꾼</td>\n",
       "      <td>5</td>\n",
       "    </tr>\n",
       "    <tr>\n",
       "      <th>크롱</th>\n",
       "      <td>흑우</td>\n",
       "      <td>6</td>\n",
       "    </tr>\n",
       "  </tbody>\n",
       "</table>\n",
       "</div>"
      ],
      "text/plain": [
       "     job  age\n",
       "뽀로로  놀이꾼    5\n",
       "크롱    흑우    6"
      ]
     },
     "execution_count": 6,
     "metadata": {},
     "output_type": "execute_result"
    }
   ],
   "source": [
    "#데이터프레임을 생성할 때 문자열을 인덱스로 지정할 수 있다.\n",
    "#문자열을 인덱스로 지정하려면 index 속성으로 인덱스로 사용할 문자열을 리스트에 담아서 전달하면 된다.\n",
    "#column 속성으로 딕셔너리의 key 중에서 데이터프레임으로 만들 key를 지정할 수 있다.\n",
    "data = {\n",
    "    'job' : ['놀이꾼', '흑우'],\n",
    "    'born': ['2000년일껄', '옆에 애랑 비슷할껄??'],\n",
    "    'ref' : ['노는거 좋아함', '노는 거 좋아하는 놈 좋아함'],\n",
    "    'age' : [5, 6]\n",
    "}\n",
    "print(type(data))\n",
    "df = pd.DataFrame(data, index=['뽀로로', '크롱'], columns=['job', 'age'])\n",
    "print(type(df))\n",
    "df"
   ]
  },
  {
   "cell_type": "code",
   "execution_count": 7,
   "id": "b814c7c0",
   "metadata": {},
   "outputs": [
    {
     "data": {
      "text/html": [
       "<div>\n",
       "<style scoped>\n",
       "    .dataframe tbody tr th:only-of-type {\n",
       "        vertical-align: middle;\n",
       "    }\n",
       "\n",
       "    .dataframe tbody tr th {\n",
       "        vertical-align: top;\n",
       "    }\n",
       "\n",
       "    .dataframe thead th {\n",
       "        text-align: right;\n",
       "    }\n",
       "</style>\n",
       "<table border=\"1\" class=\"dataframe\">\n",
       "  <thead>\n",
       "    <tr style=\"text-align: right;\">\n",
       "      <th></th>\n",
       "      <th>name</th>\n",
       "      <th>job</th>\n",
       "      <th>born</th>\n",
       "      <th>ref</th>\n",
       "      <th>age</th>\n",
       "    </tr>\n",
       "  </thead>\n",
       "  <tbody>\n",
       "    <tr>\n",
       "      <th>0</th>\n",
       "      <td>뽀로로</td>\n",
       "      <td>놀이꾼</td>\n",
       "      <td>2000년일껄</td>\n",
       "      <td>노는거 좋아함</td>\n",
       "      <td>5</td>\n",
       "    </tr>\n",
       "    <tr>\n",
       "      <th>1</th>\n",
       "      <td>크롱</td>\n",
       "      <td>흑우</td>\n",
       "      <td>옆에 애랑 비슷할껄??</td>\n",
       "      <td>노는 거 좋아하는 놈 좋아함</td>\n",
       "      <td>6</td>\n",
       "    </tr>\n",
       "  </tbody>\n",
       "</table>\n",
       "</div>"
      ],
      "text/plain": [
       "  name  job          born              ref  age\n",
       "0  뽀로로  놀이꾼       2000년일껄          노는거 좋아함    5\n",
       "1   크롱   흑우  옆에 애랑 비슷할껄??  노는 거 좋아하는 놈 좋아함    6"
      ]
     },
     "execution_count": 7,
     "metadata": {},
     "output_type": "execute_result"
    }
   ],
   "source": [
    "# 딕셔너리는 key와 value로 이루어진 한 쌍으로 입력되는 데이터의 순서를 보장하지 않는다.\n",
    "# 순서가 보장되는 딕셔너리를 전달하려면 collections 모듈의 OrderedDict 클래스를 import하고\n",
    "# OrderedDict 클래스의 인수로 key와 value가 튜플 형태로 작성된 리스트를 넘겨주면 데이터의 순서를\n",
    "# 그대로 유지하는 데이터프레임을 만들 수 있다.\n",
    "from collections import OrderedDict\n",
    "data = OrderedDict([\n",
    "    ('name', ['뽀로로', '크롱']),\n",
    "    ('job', ['놀이꾼', '흑우']),\n",
    "    ('born', ['2000년일껄', '옆에 애랑 비슷할껄??']),\n",
    "    ('ref', ['노는거 좋아함', '노는 거 좋아하는 놈 좋아함']),\n",
    "    ('age', [5, 6])\n",
    "])\n",
    "df = pd.DataFrame(data)\n",
    "df"
   ]
  },
  {
   "cell_type": "markdown",
   "id": "72ac8941",
   "metadata": {},
   "source": [
    "***\n",
    "시리즈 다루기\n",
    "***\n"
   ]
  },
  {
   "cell_type": "code",
   "execution_count": 8,
   "id": "8d1b3063",
   "metadata": {},
   "outputs": [
    {
     "data": {
      "text/html": [
       "<div>\n",
       "<style scoped>\n",
       "    .dataframe tbody tr th:only-of-type {\n",
       "        vertical-align: middle;\n",
       "    }\n",
       "\n",
       "    .dataframe tbody tr th {\n",
       "        vertical-align: top;\n",
       "    }\n",
       "\n",
       "    .dataframe thead th {\n",
       "        text-align: right;\n",
       "    }\n",
       "</style>\n",
       "<table border=\"1\" class=\"dataframe\">\n",
       "  <thead>\n",
       "    <tr style=\"text-align: right;\">\n",
       "      <th></th>\n",
       "      <th>job</th>\n",
       "      <th>born</th>\n",
       "      <th>ref</th>\n",
       "      <th>age</th>\n",
       "    </tr>\n",
       "  </thead>\n",
       "  <tbody>\n",
       "    <tr>\n",
       "      <th>뽀로로</th>\n",
       "      <td>놀이꾼</td>\n",
       "      <td>2000년일껄</td>\n",
       "      <td>노는거 좋아함</td>\n",
       "      <td>5</td>\n",
       "    </tr>\n",
       "    <tr>\n",
       "      <th>크롱</th>\n",
       "      <td>흑우</td>\n",
       "      <td>옆에 애랑 비슷할껄??</td>\n",
       "      <td>노는 거 좋아하는 놈 좋아함</td>\n",
       "      <td>6</td>\n",
       "    </tr>\n",
       "  </tbody>\n",
       "</table>\n",
       "</div>"
      ],
      "text/plain": [
       "     job          born              ref  age\n",
       "뽀로로  놀이꾼       2000년일껄          노는거 좋아함    5\n",
       "크롱    흑우  옆에 애랑 비슷할껄??  노는 거 좋아하는 놈 좋아함    6"
      ]
     },
     "execution_count": 8,
     "metadata": {},
     "output_type": "execute_result"
    }
   ],
   "source": [
    "data = {\n",
    "    'job' : ['놀이꾼', '흑우'],\n",
    "    'born': ['2000년일껄', '옆에 애랑 비슷할껄??'],\n",
    "    'ref' : ['노는거 좋아함', '노는 거 좋아하는 놈 좋아함'],\n",
    "    'age' : [5, 6]\n",
    "}\n",
    "df = pd.DataFrame(data, index=['뽀로로', '크롱'])\n",
    "df"
   ]
  },
  {
   "cell_type": "code",
   "execution_count": 9,
   "id": "8617ff26",
   "metadata": {},
   "outputs": [
    {
     "name": "stdout",
     "output_type": "stream",
     "text": [
      "<class 'pandas.core.series.Series'>\n",
      "job         놀이꾼\n",
      "born    2000년일껄\n",
      "ref     노는거 좋아함\n",
      "age           5\n",
      "Name: 뽀로로, dtype: object\n",
      "----------------------------------------------------------------------------------------------------\n",
      "<class 'pandas.core.series.Series'>\n",
      "job         놀이꾼\n",
      "born    2000년일껄\n",
      "ref     노는거 좋아함\n",
      "age           5\n",
      "Name: 뽀로로, dtype: object\n"
     ]
    }
   ],
   "source": [
    "# 데이터프레임에서 시리즈를 선택하려면 loc 속성에 인덱스(행 또는 열의 이름)을 전달하거나\n",
    "# iloc 속성에 행 도는 열의 일련번호를 전달한다.\n",
    "row = df.iloc[0]\n",
    "print(type(row))\n",
    "print(row)\n",
    "print('-' * 100)\n",
    "row = df.loc['뽀로로']\n",
    "print(type(row))\n",
    "print(row)"
   ]
  },
  {
   "cell_type": "code",
   "execution_count": 10,
   "id": "b92576a0",
   "metadata": {},
   "outputs": [
    {
     "name": "stdout",
     "output_type": "stream",
     "text": [
      "뽀로로    놀이꾼\n",
      "크롱      흑우\n",
      "Name: job, dtype: object\n",
      "<class 'pandas.core.series.Series'>\n",
      "----------------------------------------------------------------------------------------------------\n",
      "뽀로로    놀이꾼\n",
      "크롱      흑우\n",
      "Name: job, dtype: object\n",
      "<class 'pandas.core.series.Series'>\n"
     ]
    }
   ],
   "source": [
    "col = df.iloc[:, 0]\n",
    "print(col)\n",
    "print(type(col))\n",
    "print('-' * 100)\n",
    "col = df.loc[:, 'job']\n",
    "print(col)\n",
    "print(type(col))"
   ]
  },
  {
   "cell_type": "markdown",
   "id": "6ccab866",
   "metadata": {},
   "source": [
    "***\n",
    "index, values 속성와 keys() 메소드"
   ]
  },
  {
   "cell_type": "code",
   "execution_count": 11,
   "id": "d5c98fa3",
   "metadata": {},
   "outputs": [
    {
     "name": "stdout",
     "output_type": "stream",
     "text": [
      "job         놀이꾼\n",
      "born    2000년일껄\n",
      "ref     노는거 좋아함\n",
      "age           5\n",
      "Name: 뽀로로, dtype: object\n",
      "Index(['job', 'born', 'ref', 'age'], dtype='object')\n",
      "Index(['job', 'born', 'ref', 'age'], dtype='object')\n",
      "['놀이꾼' '2000년일껄' '노는거 좋아함' 5]\n",
      "<class 'numpy.ndarray'>\n"
     ]
    }
   ],
   "source": [
    "print(row)\n",
    "print(row.index) # 시리즈의 인덱스를 얻어온다.\n",
    "print(row.keys()) #keys() 메소드는 index 속성과 같이 시리즈의 인덱스를 얻어온다.\n",
    "print(row.values) # 시리즈의 데이터를 얻어온다.\n",
    "print(type(row.values))"
   ]
  },
  {
   "cell_type": "code",
   "execution_count": 12,
   "id": "132b88dc",
   "metadata": {},
   "outputs": [
    {
     "name": "stdout",
     "output_type": "stream",
     "text": [
      "뽀로로    놀이꾼\n",
      "크롱      흑우\n",
      "Name: job, dtype: object\n",
      "Index(['뽀로로', '크롱'], dtype='object')\n",
      "Index(['뽀로로', '크롱'], dtype='object')\n",
      "['놀이꾼' '흑우']\n",
      "<class 'numpy.ndarray'>\n"
     ]
    }
   ],
   "source": [
    "print(col)\n",
    "print(col.index)\n",
    "print(col.keys())\n",
    "print(col.values)\n",
    "print(type(col.values))"
   ]
  },
  {
   "cell_type": "markdown",
   "id": "9d25c36c",
   "metadata": {},
   "source": [
    "***\n",
    "시리즈 통계 메소드\n",
    "***"
   ]
  },
  {
   "cell_type": "code",
   "execution_count": 13,
   "id": "6298b9bb",
   "metadata": {},
   "outputs": [
    {
     "name": "stdout",
     "output_type": "stream",
     "text": [
      "<class 'pandas.core.series.Series'>\n",
      "뽀로로    5\n",
      "크롱     6\n",
      "Name: age, dtype: int64\n",
      "----------------------------------------------------------------------------------------------------\n",
      "갯수 -> 2\n",
      "합계 -> 11\n",
      "평균 -> 5.5\n",
      "최대값 -> 6\n",
      "최소값 -> 5\n",
      "분산 -> 0.5\n",
      "표준편차 -> 0.7071067811865476\n"
     ]
    }
   ],
   "source": [
    "ages = df.age\n",
    "print(type(ages))\n",
    "print(ages)\n",
    "print('-'* 100)\n",
    "\n",
    "print('갯수 -> {}'.format(ages.count()))\n",
    "print('합계 -> {}'.format(ages.sum()))\n",
    "print('평균 -> {}'.format(ages.mean()))\n",
    "print('최대값 -> {}'.format(ages.max()))\n",
    "print('최소값 -> {}'.format(ages.min()))\n",
    "print('분산 -> {}'.format(ages.var()))\n",
    "print('표준편차 -> {}'.format(ages.std()))\n"
   ]
  },
  {
   "cell_type": "code",
   "execution_count": 14,
   "id": "64150a6c",
   "metadata": {},
   "outputs": [
    {
     "data": {
      "text/html": [
       "<div>\n",
       "<style scoped>\n",
       "    .dataframe tbody tr th:only-of-type {\n",
       "        vertical-align: middle;\n",
       "    }\n",
       "\n",
       "    .dataframe tbody tr th {\n",
       "        vertical-align: top;\n",
       "    }\n",
       "\n",
       "    .dataframe thead th {\n",
       "        text-align: right;\n",
       "    }\n",
       "</style>\n",
       "<table border=\"1\" class=\"dataframe\">\n",
       "  <thead>\n",
       "    <tr style=\"text-align: right;\">\n",
       "      <th></th>\n",
       "      <th>Name</th>\n",
       "      <th>Born</th>\n",
       "      <th>Died</th>\n",
       "      <th>Age</th>\n",
       "      <th>Occupation</th>\n",
       "    </tr>\n",
       "  </thead>\n",
       "  <tbody>\n",
       "    <tr>\n",
       "      <th>0</th>\n",
       "      <td>Rosaline Franklin</td>\n",
       "      <td>1920-07-25</td>\n",
       "      <td>1958-04-16</td>\n",
       "      <td>37</td>\n",
       "      <td>Chemist</td>\n",
       "    </tr>\n",
       "    <tr>\n",
       "      <th>1</th>\n",
       "      <td>William Gosset</td>\n",
       "      <td>1876-06-13</td>\n",
       "      <td>1937-10-16</td>\n",
       "      <td>61</td>\n",
       "      <td>Statistician</td>\n",
       "    </tr>\n",
       "    <tr>\n",
       "      <th>2</th>\n",
       "      <td>Florence Nightingale</td>\n",
       "      <td>1820-05-12</td>\n",
       "      <td>1910-08-13</td>\n",
       "      <td>90</td>\n",
       "      <td>Nurse</td>\n",
       "    </tr>\n",
       "    <tr>\n",
       "      <th>3</th>\n",
       "      <td>Marie Curie</td>\n",
       "      <td>1867-11-07</td>\n",
       "      <td>1934-07-04</td>\n",
       "      <td>66</td>\n",
       "      <td>Chemist</td>\n",
       "    </tr>\n",
       "    <tr>\n",
       "      <th>4</th>\n",
       "      <td>Rachel Carson</td>\n",
       "      <td>1907-05-27</td>\n",
       "      <td>1964-04-14</td>\n",
       "      <td>56</td>\n",
       "      <td>Biologist</td>\n",
       "    </tr>\n",
       "    <tr>\n",
       "      <th>5</th>\n",
       "      <td>John Snow</td>\n",
       "      <td>1813-03-15</td>\n",
       "      <td>1858-06-16</td>\n",
       "      <td>45</td>\n",
       "      <td>Physician</td>\n",
       "    </tr>\n",
       "    <tr>\n",
       "      <th>6</th>\n",
       "      <td>Alan Turing</td>\n",
       "      <td>1912-06-23</td>\n",
       "      <td>1954-06-07</td>\n",
       "      <td>41</td>\n",
       "      <td>Computer Scientist</td>\n",
       "    </tr>\n",
       "    <tr>\n",
       "      <th>7</th>\n",
       "      <td>Johann Gauss</td>\n",
       "      <td>1777-04-30</td>\n",
       "      <td>1855-02-23</td>\n",
       "      <td>77</td>\n",
       "      <td>Mathematician</td>\n",
       "    </tr>\n",
       "  </tbody>\n",
       "</table>\n",
       "</div>"
      ],
      "text/plain": [
       "                   Name        Born        Died  Age          Occupation\n",
       "0     Rosaline Franklin  1920-07-25  1958-04-16   37             Chemist\n",
       "1        William Gosset  1876-06-13  1937-10-16   61        Statistician\n",
       "2  Florence Nightingale  1820-05-12  1910-08-13   90               Nurse\n",
       "3           Marie Curie  1867-11-07  1934-07-04   66             Chemist\n",
       "4         Rachel Carson  1907-05-27  1964-04-14   56           Biologist\n",
       "5             John Snow  1813-03-15  1858-06-16   45           Physician\n",
       "6           Alan Turing  1912-06-23  1954-06-07   41  Computer Scientist\n",
       "7          Johann Gauss  1777-04-30  1855-02-23   77       Mathematician"
      ]
     },
     "execution_count": 14,
     "metadata": {},
     "output_type": "execute_result"
    }
   ],
   "source": [
    "#scientists = pd.read_csv('./data/scientists.csv', sep=',')\n",
    "scientists = pd.read_csv('./data/scientists.csv') # sep 옵션의 기본값은 ','이다.\n",
    "scientists"
   ]
  },
  {
   "cell_type": "code",
   "execution_count": 15,
   "id": "bedd3230",
   "metadata": {},
   "outputs": [
    {
     "name": "stdout",
     "output_type": "stream",
     "text": [
      "<class 'pandas.core.series.Series'>\n",
      "0    37\n",
      "1    61\n",
      "2    90\n",
      "3    66\n",
      "4    56\n",
      "5    45\n",
      "6    41\n",
      "7    77\n",
      "Name: Age, dtype: int64\n",
      "----------------------------------------------------------------------------------------------------\n",
      "갯수 -> 8\n",
      "합계 -> 473\n",
      "평균 -> 59.125\n",
      "최대값 -> 90\n",
      "최소값 -> 37\n",
      "분산 -> 335.8392857142857\n",
      "표준편차 -> 18.325918413937288\n"
     ]
    }
   ],
   "source": [
    "ages = scientists.Age\n",
    "print(type(ages))\n",
    "print(ages)\n",
    "print('-'*100)\n",
    "\n",
    "print('갯수 -> {}'.format(ages.count()))\n",
    "print('합계 -> {}'.format(ages.sum()))\n",
    "print('평균 -> {}'.format(ages.mean()))\n",
    "print('최대값 -> {}'.format(ages.max()))\n",
    "print('최소값 -> {}'.format(ages.min()))\n",
    "print('분산 -> {}'.format(ages.var()))\n",
    "print('표준편차 -> {}'.format(ages.std()))\n"
   ]
  },
  {
   "cell_type": "markdown",
   "id": "7fc389a4",
   "metadata": {},
   "source": [
    "***\n",
    "브로드캐스팅\n",
    "***\n",
    "시리즈나 데이터프레임에서 모든 데이터에 대해서 한번에 연산하는 것을 브로드캐스팅이라 한다.  \n",
    "여러 개의 값을 가지는 데이터를 벡터라하고, 단순 크기를 나타내는 데이터 1개를 스칼라라고 한다."
   ]
  },
  {
   "cell_type": "code",
   "execution_count": 16,
   "id": "23f7bb88",
   "metadata": {},
   "outputs": [
    {
     "name": "stdout",
     "output_type": "stream",
     "text": [
      "0    False\n",
      "1     True\n",
      "2     True\n",
      "3     True\n",
      "4    False\n",
      "5    False\n",
      "6    False\n",
      "7     True\n",
      "Name: Age, dtype: bool\n"
     ]
    }
   ],
   "source": [
    "#scientists 데이터프레임의 Age 시리즈의 평균 나이 (59.125)보다 나이가 많은 데이터만 추출한다.\n",
    "bool_values = ages > ages.mean() # 브로드캐스팅\n",
    "print(bool_values)"
   ]
  },
  {
   "cell_type": "code",
   "execution_count": 17,
   "id": "286a12b7",
   "metadata": {},
   "outputs": [
    {
     "name": "stdout",
     "output_type": "stream",
     "text": [
      "1    61\n",
      "2    90\n",
      "3    66\n",
      "7    77\n",
      "Name: Age, dtype: int64\n"
     ]
    }
   ],
   "source": [
    "print(ages[bool_values]) # 불리언 인덱싱"
   ]
  },
  {
   "cell_type": "code",
   "execution_count": 18,
   "id": "06e2d974",
   "metadata": {},
   "outputs": [
    {
     "name": "stdout",
     "output_type": "stream",
     "text": [
      "1    61\n",
      "2    90\n",
      "3    66\n",
      "7    77\n",
      "Name: Age, dtype: int64\n"
     ]
    }
   ],
   "source": [
    "print(ages[[False, True, True, True ,False, False, False, True]])"
   ]
  },
  {
   "cell_type": "code",
   "execution_count": 19,
   "id": "de7c8c04",
   "metadata": {},
   "outputs": [
    {
     "name": "stdout",
     "output_type": "stream",
     "text": [
      "1    61\n",
      "2    90\n",
      "3    66\n",
      "7    77\n",
      "Name: Age, dtype: int64\n"
     ]
    }
   ],
   "source": [
    "print(ages[ages > ages.mean()])"
   ]
  },
  {
   "cell_type": "code",
   "execution_count": 20,
   "id": "729fe17e",
   "metadata": {},
   "outputs": [
    {
     "name": "stdout",
     "output_type": "stream",
     "text": [
      "  37   61   90   66   56   45   41   77 "
     ]
    }
   ],
   "source": [
    "for age in ages:\n",
    "    print('{:4d}'.format(age), end=' ')"
   ]
  },
  {
   "cell_type": "code",
   "execution_count": 21,
   "id": "0b8c3f4d",
   "metadata": {},
   "outputs": [
    {
     "name": "stdout",
     "output_type": "stream",
     "text": [
      "  74  122  180  132  112   90   82  154 \n",
      "1369 3721 8100 4356 3136 2025 1681 5929 "
     ]
    }
   ],
   "source": [
    "# 같은 길이의 벡터로 연산을 하면 결과값으로 같은 길이의 벡터가 출력된다.\n",
    "for age in ages + ages:\n",
    "    print('{:4d}'.format(age), end=' ')\n",
    "print()\n",
    "for age in ages * ages:\n",
    "    print('{:4d}'.format(age), end=' ')"
   ]
  },
  {
   "cell_type": "code",
   "execution_count": 22,
   "id": "acc7a652",
   "metadata": {
    "scrolled": true
   },
   "outputs": [
    {
     "name": "stdout",
     "output_type": "stream",
     "text": [
      " 137  161  190  166  156  145  141  177 \n",
      "  74  122  180  132  112   90   82  154 "
     ]
    }
   ],
   "source": [
    "# 벡터에 스칼라값을 연산하면 각각의 벡터값에 스칼라값이 연산된 결과가 출력된다.\n",
    "for age in ages + 100:\n",
    "    print('{:4d}'.format(age), end=' ')\n",
    "print()\n",
    "for age in ages * 2:\n",
    "    print('{:4d}'.format(age), end=' ')"
   ]
  },
  {
   "cell_type": "code",
   "execution_count": 23,
   "id": "86d1e8ad",
   "metadata": {},
   "outputs": [
    {
     "name": "stdout",
     "output_type": "stream",
     "text": [
      "0      1\n",
      "1    100\n",
      "dtype: int64\n",
      "0     38.0\n",
      "1    161.0\n",
      "2      NaN\n",
      "3      NaN\n",
      "4      NaN\n",
      "5      NaN\n",
      "6      NaN\n",
      "7      NaN\n",
      "dtype: float64\n"
     ]
    }
   ],
   "source": [
    "# 길이가 서로 다른 벡터를 연산하면 같은 인덱스를 가지는 값만 계산한다.\n",
    "print(pd.Series([1, 100]))\n",
    "# print(pd.Series([1, 100]))의 0, 1 인덱스만 계산되고 나머지는 계산할 수 없으므로\n",
    "# 누락값(NaN, nan, NA, na, 결측치)으로 처리된다.\n",
    "print(ages + pd.Series([1, 100]))"
   ]
  },
  {
   "cell_type": "markdown",
   "id": "edd2e13f",
   "metadata": {},
   "source": [
    "***\n",
    "시리즈 정렬\n",
    "***\n",
    "- sort_index() 메소드는 인덱스를 정렬한다.  \n",
    "- sort_values() 메소드는 데이터를 정렬한다.  \n",
    "- sort_index() 메소드와 sort_values() 메소드는 별도의 설정을 하지 않으면 오름차순으로 정렬되지만,  \n",
    "내림차순으로 정렬하려면 ascending 속성값을 False로 지정한다."
   ]
  },
  {
   "cell_type": "code",
   "execution_count": 24,
   "id": "2a460394",
   "metadata": {},
   "outputs": [
    {
     "name": "stdout",
     "output_type": "stream",
     "text": [
      "0    37\n",
      "1    61\n",
      "2    90\n",
      "3    66\n",
      "4    56\n",
      "5    45\n",
      "6    41\n",
      "7    77\n",
      "Name: Age, dtype: int64\n",
      "----------------------------------------------------------------------------------------------------\n",
      "0    37\n",
      "1    61\n",
      "2    90\n",
      "3    66\n",
      "4    56\n",
      "5    45\n",
      "6    41\n",
      "7    77\n",
      "Name: Age, dtype: int64\n",
      "----------------------------------------------------------------------------------------------------\n",
      "7    77\n",
      "6    41\n",
      "5    45\n",
      "4    56\n",
      "3    66\n",
      "2    90\n",
      "1    61\n",
      "0    37\n",
      "Name: Age, dtype: int64\n"
     ]
    }
   ],
   "source": [
    "print(ages)\n",
    "print('-' * 100)\n",
    "print( ages.sort_index() ) # 오름차순 정렬, ages.sort_index(ascending=True)\n",
    "print('-' * 100)\n",
    "print( ages.sort_index(ascending=False) ) # 내림차순 정렬print(ages)"
   ]
  },
  {
   "cell_type": "code",
   "execution_count": 25,
   "id": "5f66a18a",
   "metadata": {},
   "outputs": [
    {
     "name": "stdout",
     "output_type": "stream",
     "text": [
      "0    37\n",
      "6    41\n",
      "5    45\n",
      "4    56\n",
      "1    61\n",
      "3    66\n",
      "7    77\n",
      "2    90\n",
      "Name: Age, dtype: int64\n",
      "----------------------------------------------------------------------------------------------------\n",
      "2    90\n",
      "7    77\n",
      "3    66\n",
      "1    61\n",
      "4    56\n",
      "5    45\n",
      "6    41\n",
      "0    37\n",
      "Name: Age, dtype: int64\n"
     ]
    }
   ],
   "source": [
    "print( ages.sort_values() ) # 오름차순 정렬, ages.sort_values(ascending=True)\n",
    "print('-' * 100)\n",
    "print( ages.sort_values(ascending=False) ) # 내림차순 정렬"
   ]
  },
  {
   "cell_type": "code",
   "execution_count": 26,
   "id": "7a1d9724",
   "metadata": {},
   "outputs": [
    {
     "name": "stdout",
     "output_type": "stream",
     "text": [
      "  74  122  180  132  112   90   82  154 "
     ]
    }
   ],
   "source": [
    "# 벡터와 벡터의 연산은 같은 인덱스를 가지는 값끼리 수행한다.\n",
    "for age in ages + ages.sort_index(ascending=False):\n",
    "    print('{:4d}'.format(age), end=' ')"
   ]
  },
  {
   "cell_type": "markdown",
   "id": "be26fbb3",
   "metadata": {},
   "source": [
    "***\n",
    "데이터프레임도 시리즈와 마찬가지로 브로드캐스팅과 불리언 인덱싱이 가능하다\n",
    "***\n"
   ]
  },
  {
   "cell_type": "code",
   "execution_count": 27,
   "id": "eb0652af",
   "metadata": {},
   "outputs": [
    {
     "data": {
      "text/html": [
       "<div>\n",
       "<style scoped>\n",
       "    .dataframe tbody tr th:only-of-type {\n",
       "        vertical-align: middle;\n",
       "    }\n",
       "\n",
       "    .dataframe tbody tr th {\n",
       "        vertical-align: top;\n",
       "    }\n",
       "\n",
       "    .dataframe thead th {\n",
       "        text-align: right;\n",
       "    }\n",
       "</style>\n",
       "<table border=\"1\" class=\"dataframe\">\n",
       "  <thead>\n",
       "    <tr style=\"text-align: right;\">\n",
       "      <th></th>\n",
       "      <th>Name</th>\n",
       "      <th>Born</th>\n",
       "      <th>Died</th>\n",
       "      <th>Age</th>\n",
       "      <th>Occupation</th>\n",
       "    </tr>\n",
       "  </thead>\n",
       "  <tbody>\n",
       "    <tr>\n",
       "      <th>0</th>\n",
       "      <td>Rosaline Franklin</td>\n",
       "      <td>1920-07-25</td>\n",
       "      <td>1958-04-16</td>\n",
       "      <td>37</td>\n",
       "      <td>Chemist</td>\n",
       "    </tr>\n",
       "    <tr>\n",
       "      <th>1</th>\n",
       "      <td>William Gosset</td>\n",
       "      <td>1876-06-13</td>\n",
       "      <td>1937-10-16</td>\n",
       "      <td>61</td>\n",
       "      <td>Statistician</td>\n",
       "    </tr>\n",
       "    <tr>\n",
       "      <th>2</th>\n",
       "      <td>Florence Nightingale</td>\n",
       "      <td>1820-05-12</td>\n",
       "      <td>1910-08-13</td>\n",
       "      <td>90</td>\n",
       "      <td>Nurse</td>\n",
       "    </tr>\n",
       "    <tr>\n",
       "      <th>3</th>\n",
       "      <td>Marie Curie</td>\n",
       "      <td>1867-11-07</td>\n",
       "      <td>1934-07-04</td>\n",
       "      <td>66</td>\n",
       "      <td>Chemist</td>\n",
       "    </tr>\n",
       "    <tr>\n",
       "      <th>4</th>\n",
       "      <td>Rachel Carson</td>\n",
       "      <td>1907-05-27</td>\n",
       "      <td>1964-04-14</td>\n",
       "      <td>56</td>\n",
       "      <td>Biologist</td>\n",
       "    </tr>\n",
       "    <tr>\n",
       "      <th>5</th>\n",
       "      <td>John Snow</td>\n",
       "      <td>1813-03-15</td>\n",
       "      <td>1858-06-16</td>\n",
       "      <td>45</td>\n",
       "      <td>Physician</td>\n",
       "    </tr>\n",
       "    <tr>\n",
       "      <th>6</th>\n",
       "      <td>Alan Turing</td>\n",
       "      <td>1912-06-23</td>\n",
       "      <td>1954-06-07</td>\n",
       "      <td>41</td>\n",
       "      <td>Computer Scientist</td>\n",
       "    </tr>\n",
       "    <tr>\n",
       "      <th>7</th>\n",
       "      <td>Johann Gauss</td>\n",
       "      <td>1777-04-30</td>\n",
       "      <td>1855-02-23</td>\n",
       "      <td>77</td>\n",
       "      <td>Mathematician</td>\n",
       "    </tr>\n",
       "  </tbody>\n",
       "</table>\n",
       "</div>"
      ],
      "text/plain": [
       "                   Name        Born        Died  Age          Occupation\n",
       "0     Rosaline Franklin  1920-07-25  1958-04-16   37             Chemist\n",
       "1        William Gosset  1876-06-13  1937-10-16   61        Statistician\n",
       "2  Florence Nightingale  1820-05-12  1910-08-13   90               Nurse\n",
       "3           Marie Curie  1867-11-07  1934-07-04   66             Chemist\n",
       "4         Rachel Carson  1907-05-27  1964-04-14   56           Biologist\n",
       "5             John Snow  1813-03-15  1858-06-16   45           Physician\n",
       "6           Alan Turing  1912-06-23  1954-06-07   41  Computer Scientist\n",
       "7          Johann Gauss  1777-04-30  1855-02-23   77       Mathematician"
      ]
     },
     "execution_count": 27,
     "metadata": {},
     "output_type": "execute_result"
    }
   ],
   "source": [
    "scientists"
   ]
  },
  {
   "cell_type": "code",
   "execution_count": 28,
   "id": "5eb72fb8",
   "metadata": {},
   "outputs": [
    {
     "data": {
      "text/html": [
       "<div>\n",
       "<style scoped>\n",
       "    .dataframe tbody tr th:only-of-type {\n",
       "        vertical-align: middle;\n",
       "    }\n",
       "\n",
       "    .dataframe tbody tr th {\n",
       "        vertical-align: top;\n",
       "    }\n",
       "\n",
       "    .dataframe thead th {\n",
       "        text-align: right;\n",
       "    }\n",
       "</style>\n",
       "<table border=\"1\" class=\"dataframe\">\n",
       "  <thead>\n",
       "    <tr style=\"text-align: right;\">\n",
       "      <th></th>\n",
       "      <th>Name</th>\n",
       "      <th>Born</th>\n",
       "      <th>Died</th>\n",
       "      <th>Age</th>\n",
       "      <th>Occupation</th>\n",
       "    </tr>\n",
       "  </thead>\n",
       "  <tbody>\n",
       "    <tr>\n",
       "      <th>1</th>\n",
       "      <td>William Gosset</td>\n",
       "      <td>1876-06-13</td>\n",
       "      <td>1937-10-16</td>\n",
       "      <td>61</td>\n",
       "      <td>Statistician</td>\n",
       "    </tr>\n",
       "    <tr>\n",
       "      <th>2</th>\n",
       "      <td>Florence Nightingale</td>\n",
       "      <td>1820-05-12</td>\n",
       "      <td>1910-08-13</td>\n",
       "      <td>90</td>\n",
       "      <td>Nurse</td>\n",
       "    </tr>\n",
       "    <tr>\n",
       "      <th>3</th>\n",
       "      <td>Marie Curie</td>\n",
       "      <td>1867-11-07</td>\n",
       "      <td>1934-07-04</td>\n",
       "      <td>66</td>\n",
       "      <td>Chemist</td>\n",
       "    </tr>\n",
       "    <tr>\n",
       "      <th>7</th>\n",
       "      <td>Johann Gauss</td>\n",
       "      <td>1777-04-30</td>\n",
       "      <td>1855-02-23</td>\n",
       "      <td>77</td>\n",
       "      <td>Mathematician</td>\n",
       "    </tr>\n",
       "  </tbody>\n",
       "</table>\n",
       "</div>"
      ],
      "text/plain": [
       "                   Name        Born        Died  Age     Occupation\n",
       "1        William Gosset  1876-06-13  1937-10-16   61   Statistician\n",
       "2  Florence Nightingale  1820-05-12  1910-08-13   90          Nurse\n",
       "3           Marie Curie  1867-11-07  1934-07-04   66        Chemist\n",
       "7          Johann Gauss  1777-04-30  1855-02-23   77  Mathematician"
      ]
     },
     "execution_count": 28,
     "metadata": {},
     "output_type": "execute_result"
    }
   ],
   "source": [
    "#(ages[ages > ages.mean()]\n",
    "scientists[scientists.Age > scientists.Age.mean()]"
   ]
  },
  {
   "cell_type": "code",
   "execution_count": 29,
   "id": "d92ac49a",
   "metadata": {},
   "outputs": [
    {
     "data": {
      "text/html": [
       "<div>\n",
       "<style scoped>\n",
       "    .dataframe tbody tr th:only-of-type {\n",
       "        vertical-align: middle;\n",
       "    }\n",
       "\n",
       "    .dataframe tbody tr th {\n",
       "        vertical-align: top;\n",
       "    }\n",
       "\n",
       "    .dataframe thead th {\n",
       "        text-align: right;\n",
       "    }\n",
       "</style>\n",
       "<table border=\"1\" class=\"dataframe\">\n",
       "  <thead>\n",
       "    <tr style=\"text-align: right;\">\n",
       "      <th></th>\n",
       "      <th>Name</th>\n",
       "      <th>Born</th>\n",
       "      <th>Died</th>\n",
       "      <th>Age</th>\n",
       "      <th>Occupation</th>\n",
       "    </tr>\n",
       "  </thead>\n",
       "  <tbody>\n",
       "    <tr>\n",
       "      <th>0</th>\n",
       "      <td>Rosaline FranklinRosaline Franklin</td>\n",
       "      <td>1920-07-251920-07-25</td>\n",
       "      <td>1958-04-161958-04-16</td>\n",
       "      <td>74</td>\n",
       "      <td>ChemistChemist</td>\n",
       "    </tr>\n",
       "    <tr>\n",
       "      <th>1</th>\n",
       "      <td>William GossetWilliam Gosset</td>\n",
       "      <td>1876-06-131876-06-13</td>\n",
       "      <td>1937-10-161937-10-16</td>\n",
       "      <td>122</td>\n",
       "      <td>StatisticianStatistician</td>\n",
       "    </tr>\n",
       "    <tr>\n",
       "      <th>2</th>\n",
       "      <td>Florence NightingaleFlorence Nightingale</td>\n",
       "      <td>1820-05-121820-05-12</td>\n",
       "      <td>1910-08-131910-08-13</td>\n",
       "      <td>180</td>\n",
       "      <td>NurseNurse</td>\n",
       "    </tr>\n",
       "    <tr>\n",
       "      <th>3</th>\n",
       "      <td>Marie CurieMarie Curie</td>\n",
       "      <td>1867-11-071867-11-07</td>\n",
       "      <td>1934-07-041934-07-04</td>\n",
       "      <td>132</td>\n",
       "      <td>ChemistChemist</td>\n",
       "    </tr>\n",
       "    <tr>\n",
       "      <th>4</th>\n",
       "      <td>Rachel CarsonRachel Carson</td>\n",
       "      <td>1907-05-271907-05-27</td>\n",
       "      <td>1964-04-141964-04-14</td>\n",
       "      <td>112</td>\n",
       "      <td>BiologistBiologist</td>\n",
       "    </tr>\n",
       "    <tr>\n",
       "      <th>5</th>\n",
       "      <td>John SnowJohn Snow</td>\n",
       "      <td>1813-03-151813-03-15</td>\n",
       "      <td>1858-06-161858-06-16</td>\n",
       "      <td>90</td>\n",
       "      <td>PhysicianPhysician</td>\n",
       "    </tr>\n",
       "    <tr>\n",
       "      <th>6</th>\n",
       "      <td>Alan TuringAlan Turing</td>\n",
       "      <td>1912-06-231912-06-23</td>\n",
       "      <td>1954-06-071954-06-07</td>\n",
       "      <td>82</td>\n",
       "      <td>Computer ScientistComputer Scientist</td>\n",
       "    </tr>\n",
       "    <tr>\n",
       "      <th>7</th>\n",
       "      <td>Johann GaussJohann Gauss</td>\n",
       "      <td>1777-04-301777-04-30</td>\n",
       "      <td>1855-02-231855-02-23</td>\n",
       "      <td>154</td>\n",
       "      <td>MathematicianMathematician</td>\n",
       "    </tr>\n",
       "  </tbody>\n",
       "</table>\n",
       "</div>"
      ],
      "text/plain": [
       "                                       Name                  Born  \\\n",
       "0        Rosaline FranklinRosaline Franklin  1920-07-251920-07-25   \n",
       "1              William GossetWilliam Gosset  1876-06-131876-06-13   \n",
       "2  Florence NightingaleFlorence Nightingale  1820-05-121820-05-12   \n",
       "3                    Marie CurieMarie Curie  1867-11-071867-11-07   \n",
       "4                Rachel CarsonRachel Carson  1907-05-271907-05-27   \n",
       "5                        John SnowJohn Snow  1813-03-151813-03-15   \n",
       "6                    Alan TuringAlan Turing  1912-06-231912-06-23   \n",
       "7                  Johann GaussJohann Gauss  1777-04-301777-04-30   \n",
       "\n",
       "                   Died  Age                            Occupation  \n",
       "0  1958-04-161958-04-16   74                        ChemistChemist  \n",
       "1  1937-10-161937-10-16  122              StatisticianStatistician  \n",
       "2  1910-08-131910-08-13  180                            NurseNurse  \n",
       "3  1934-07-041934-07-04  132                        ChemistChemist  \n",
       "4  1964-04-141964-04-14  112                    BiologistBiologist  \n",
       "5  1858-06-161858-06-16   90                    PhysicianPhysician  \n",
       "6  1954-06-071954-06-07   82  Computer ScientistComputer Scientist  \n",
       "7  1855-02-231855-02-23  154            MathematicianMathematician  "
      ]
     },
     "execution_count": 29,
     "metadata": {},
     "output_type": "execute_result"
    }
   ],
   "source": [
    "#시리즈에 스칼라 연산을 적용할 때 모든 요소에 스칼라 연산이 실행되는 것처럼 데이터프레임도 스칼라 연산이 적용된다.\n",
    "#데이터프레임에 2를 곱하면 숫자 데이터는 2를 곱한 숫자가 되고, 문자열 데이터는 2회 반복된다.\n",
    "scientists * 2"
   ]
  },
  {
   "cell_type": "markdown",
   "id": "e3de6423",
   "metadata": {},
   "source": [
    "***\n",
    "데이터프레임 열의 자료형 바꾸기\n",
    "***"
   ]
  },
  {
   "cell_type": "code",
   "execution_count": 30,
   "id": "7d63a957",
   "metadata": {},
   "outputs": [
    {
     "name": "stdout",
     "output_type": "stream",
     "text": [
      "Name          object\n",
      "Born          object\n",
      "Died          object\n",
      "Age            int64\n",
      "Occupation    object\n",
      "dtype: object\n"
     ]
    }
   ],
   "source": [
    "print(scientists.dtypes)"
   ]
  },
  {
   "cell_type": "code",
   "execution_count": 31,
   "id": "a5b121b4",
   "metadata": {},
   "outputs": [
    {
     "name": "stdout",
     "output_type": "stream",
     "text": [
      "0   1920-07-25\n",
      "1   1876-06-13\n",
      "2   1820-05-12\n",
      "3   1867-11-07\n",
      "4   1907-05-27\n",
      "5   1813-03-15\n",
      "6   1912-06-23\n",
      "7   1777-04-30\n",
      "Name: Born, dtype: datetime64[ns]\n",
      "0   1958-04-16\n",
      "1   1937-10-16\n",
      "2   1910-08-13\n",
      "3   1934-07-04\n",
      "4   1964-04-14\n",
      "5   1858-06-16\n",
      "6   1954-06-07\n",
      "7   1855-02-23\n",
      "Name: Died, dtype: datetime64[ns]\n"
     ]
    }
   ],
   "source": [
    "# 날짜를 문자열 형태로 저장한 데이터는 날짜 및 시간에 관련된 작업을 할 수 있도록 데이터타입을 변경해야한다.\n",
    "# to_datetime() 메소드는 object(문자열) 타입의 데이터를 datetime(날짜 및 시간) 타입으로 변경한다.\n",
    "born_datetime = pd.to_datetime(scientists.Born)\n",
    "print(born_datetime)\n",
    "died_datetime = pd.to_datetime(scientists.Died, format='%Y-%m-%d')\n",
    "print(died_datetime)"
   ]
  },
  {
   "cell_type": "code",
   "execution_count": 32,
   "id": "ded5ee8f",
   "metadata": {},
   "outputs": [],
   "source": [
    "scientists.Born = pd.to_datetime(scientists.Born)\n",
    "scientists.Died = pd.to_datetime(scientists.Died, format='%Y-%m-%d')"
   ]
  },
  {
   "cell_type": "code",
   "execution_count": 33,
   "id": "4fea79cc",
   "metadata": {},
   "outputs": [
    {
     "name": "stdout",
     "output_type": "stream",
     "text": [
      "Name                  object\n",
      "Born          datetime64[ns]\n",
      "Died          datetime64[ns]\n",
      "Age                    int64\n",
      "Occupation            object\n",
      "dtype: object\n"
     ]
    }
   ],
   "source": [
    "print(scientists.dtypes)"
   ]
  },
  {
   "cell_type": "markdown",
   "id": "3dae61ae",
   "metadata": {},
   "source": [
    "***\n",
    " 파생변수(열, 계산에 의한 변수) 추가하기 -> 데이터프레임의 한 열을 변수라 부르기도 한다.\n",
    "***"
   ]
  },
  {
   "cell_type": "code",
   "execution_count": 34,
   "id": "49f339da",
   "metadata": {},
   "outputs": [
    {
     "name": "stdout",
     "output_type": "stream",
     "text": [
      "(8, 5)\n",
      "(8, 7)\n"
     ]
    }
   ],
   "source": [
    "# object 타입을 datetime 타입으로 변경한 born_datetime, died_datetime를 데이터프레임에 파생 변수로 추가한다.\n",
    "print(scientists.shape)\n",
    "# 데이터프레임에 존재하는 열에 데이터를 넣으면 기존 데이터가 수정되고, \n",
    "# 존재하지 않는 열에 데이터를 넣으면 데이터가 추가된다.\n",
    "# 데이터프레임에 파생 변수 추가는 데이터프레임이름['파생변수이름'] = 데이터 형태만 가능하다.\n",
    "scientists['born_dt'] = born_datetime \n",
    "#scientists.get('died_dt') = died_datetime # 사용 불가\n",
    "#scientists.died_dt = died_datetime # 사용 불가\n",
    "scientists['died_dt'] = died_datetime\n",
    "print(scientists.shape)\n"
   ]
  },
  {
   "cell_type": "code",
   "execution_count": 35,
   "id": "e9f66064",
   "metadata": {},
   "outputs": [
    {
     "name": "stdout",
     "output_type": "stream",
     "text": [
      "(8, 8)\n"
     ]
    },
    {
     "data": {
      "text/html": [
       "<div>\n",
       "<style scoped>\n",
       "    .dataframe tbody tr th:only-of-type {\n",
       "        vertical-align: middle;\n",
       "    }\n",
       "\n",
       "    .dataframe tbody tr th {\n",
       "        vertical-align: top;\n",
       "    }\n",
       "\n",
       "    .dataframe thead th {\n",
       "        text-align: right;\n",
       "    }\n",
       "</style>\n",
       "<table border=\"1\" class=\"dataframe\">\n",
       "  <thead>\n",
       "    <tr style=\"text-align: right;\">\n",
       "      <th></th>\n",
       "      <th>Name</th>\n",
       "      <th>Born</th>\n",
       "      <th>Died</th>\n",
       "      <th>Age</th>\n",
       "      <th>Occupation</th>\n",
       "      <th>born_dt</th>\n",
       "      <th>died_dt</th>\n",
       "      <th>age_days</th>\n",
       "    </tr>\n",
       "  </thead>\n",
       "  <tbody>\n",
       "    <tr>\n",
       "      <th>0</th>\n",
       "      <td>Rosaline Franklin</td>\n",
       "      <td>1920-07-25</td>\n",
       "      <td>1958-04-16</td>\n",
       "      <td>37</td>\n",
       "      <td>Chemist</td>\n",
       "      <td>1920-07-25</td>\n",
       "      <td>1958-04-16</td>\n",
       "      <td>13779 days</td>\n",
       "    </tr>\n",
       "    <tr>\n",
       "      <th>1</th>\n",
       "      <td>William Gosset</td>\n",
       "      <td>1876-06-13</td>\n",
       "      <td>1937-10-16</td>\n",
       "      <td>61</td>\n",
       "      <td>Statistician</td>\n",
       "      <td>1876-06-13</td>\n",
       "      <td>1937-10-16</td>\n",
       "      <td>22404 days</td>\n",
       "    </tr>\n",
       "    <tr>\n",
       "      <th>2</th>\n",
       "      <td>Florence Nightingale</td>\n",
       "      <td>1820-05-12</td>\n",
       "      <td>1910-08-13</td>\n",
       "      <td>90</td>\n",
       "      <td>Nurse</td>\n",
       "      <td>1820-05-12</td>\n",
       "      <td>1910-08-13</td>\n",
       "      <td>32964 days</td>\n",
       "    </tr>\n",
       "    <tr>\n",
       "      <th>3</th>\n",
       "      <td>Marie Curie</td>\n",
       "      <td>1867-11-07</td>\n",
       "      <td>1934-07-04</td>\n",
       "      <td>66</td>\n",
       "      <td>Chemist</td>\n",
       "      <td>1867-11-07</td>\n",
       "      <td>1934-07-04</td>\n",
       "      <td>24345 days</td>\n",
       "    </tr>\n",
       "    <tr>\n",
       "      <th>4</th>\n",
       "      <td>Rachel Carson</td>\n",
       "      <td>1907-05-27</td>\n",
       "      <td>1964-04-14</td>\n",
       "      <td>56</td>\n",
       "      <td>Biologist</td>\n",
       "      <td>1907-05-27</td>\n",
       "      <td>1964-04-14</td>\n",
       "      <td>20777 days</td>\n",
       "    </tr>\n",
       "    <tr>\n",
       "      <th>5</th>\n",
       "      <td>John Snow</td>\n",
       "      <td>1813-03-15</td>\n",
       "      <td>1858-06-16</td>\n",
       "      <td>45</td>\n",
       "      <td>Physician</td>\n",
       "      <td>1813-03-15</td>\n",
       "      <td>1858-06-16</td>\n",
       "      <td>16529 days</td>\n",
       "    </tr>\n",
       "    <tr>\n",
       "      <th>6</th>\n",
       "      <td>Alan Turing</td>\n",
       "      <td>1912-06-23</td>\n",
       "      <td>1954-06-07</td>\n",
       "      <td>41</td>\n",
       "      <td>Computer Scientist</td>\n",
       "      <td>1912-06-23</td>\n",
       "      <td>1954-06-07</td>\n",
       "      <td>15324 days</td>\n",
       "    </tr>\n",
       "    <tr>\n",
       "      <th>7</th>\n",
       "      <td>Johann Gauss</td>\n",
       "      <td>1777-04-30</td>\n",
       "      <td>1855-02-23</td>\n",
       "      <td>77</td>\n",
       "      <td>Mathematician</td>\n",
       "      <td>1777-04-30</td>\n",
       "      <td>1855-02-23</td>\n",
       "      <td>28422 days</td>\n",
       "    </tr>\n",
       "  </tbody>\n",
       "</table>\n",
       "</div>"
      ],
      "text/plain": [
       "                   Name       Born       Died  Age          Occupation  \\\n",
       "0     Rosaline Franklin 1920-07-25 1958-04-16   37             Chemist   \n",
       "1        William Gosset 1876-06-13 1937-10-16   61        Statistician   \n",
       "2  Florence Nightingale 1820-05-12 1910-08-13   90               Nurse   \n",
       "3           Marie Curie 1867-11-07 1934-07-04   66             Chemist   \n",
       "4         Rachel Carson 1907-05-27 1964-04-14   56           Biologist   \n",
       "5             John Snow 1813-03-15 1858-06-16   45           Physician   \n",
       "6           Alan Turing 1912-06-23 1954-06-07   41  Computer Scientist   \n",
       "7          Johann Gauss 1777-04-30 1855-02-23   77       Mathematician   \n",
       "\n",
       "     born_dt    died_dt   age_days  \n",
       "0 1920-07-25 1958-04-16 13779 days  \n",
       "1 1876-06-13 1937-10-16 22404 days  \n",
       "2 1820-05-12 1910-08-13 32964 days  \n",
       "3 1867-11-07 1934-07-04 24345 days  \n",
       "4 1907-05-27 1964-04-14 20777 days  \n",
       "5 1813-03-15 1858-06-16 16529 days  \n",
       "6 1912-06-23 1954-06-07 15324 days  \n",
       "7 1777-04-30 1855-02-23 28422 days  "
      ]
     },
     "execution_count": 35,
     "metadata": {},
     "output_type": "execute_result"
    }
   ],
   "source": [
    "scientists['age_days'] = scientists.died_dt - scientists.born_dt\n",
    "print(scientists.shape)\n",
    "scientists"
   ]
  },
  {
   "cell_type": "markdown",
   "id": "75454895",
   "metadata": {},
   "source": [
    "***\n",
    "데이터프레임의 열 삭제하기\n",
    "***\n",
    "- drop() 메소드는 데이터프레임의 열을 삭제한다.\n",
    "- drop() 메소드는 axis=0이 기본값이므로 열 방향 단위로 작업을 해 삭제하려하기때문에  \n",
    "에러가 발생되므로 반드시 axis=1로 설정해야한다.  \n",
    "- 삭제할 열이 2개이상이면 삭제할 열 목록을 리스트로 만들어서 drop() 메소드에 전달한다."
   ]
  },
  {
   "cell_type": "code",
   "execution_count": 36,
   "id": "8454acab",
   "metadata": {},
   "outputs": [
    {
     "data": {
      "text/html": [
       "<div>\n",
       "<style scoped>\n",
       "    .dataframe tbody tr th:only-of-type {\n",
       "        vertical-align: middle;\n",
       "    }\n",
       "\n",
       "    .dataframe tbody tr th {\n",
       "        vertical-align: top;\n",
       "    }\n",
       "\n",
       "    .dataframe thead th {\n",
       "        text-align: right;\n",
       "    }\n",
       "</style>\n",
       "<table border=\"1\" class=\"dataframe\">\n",
       "  <thead>\n",
       "    <tr style=\"text-align: right;\">\n",
       "      <th></th>\n",
       "      <th>Name</th>\n",
       "      <th>Age</th>\n",
       "      <th>Occupation</th>\n",
       "      <th>born_dt</th>\n",
       "      <th>died_dt</th>\n",
       "      <th>age_days</th>\n",
       "    </tr>\n",
       "  </thead>\n",
       "  <tbody>\n",
       "    <tr>\n",
       "      <th>0</th>\n",
       "      <td>Rosaline Franklin</td>\n",
       "      <td>37</td>\n",
       "      <td>Chemist</td>\n",
       "      <td>1920-07-25</td>\n",
       "      <td>1958-04-16</td>\n",
       "      <td>13779 days</td>\n",
       "    </tr>\n",
       "    <tr>\n",
       "      <th>1</th>\n",
       "      <td>William Gosset</td>\n",
       "      <td>61</td>\n",
       "      <td>Statistician</td>\n",
       "      <td>1876-06-13</td>\n",
       "      <td>1937-10-16</td>\n",
       "      <td>22404 days</td>\n",
       "    </tr>\n",
       "    <tr>\n",
       "      <th>2</th>\n",
       "      <td>Florence Nightingale</td>\n",
       "      <td>90</td>\n",
       "      <td>Nurse</td>\n",
       "      <td>1820-05-12</td>\n",
       "      <td>1910-08-13</td>\n",
       "      <td>32964 days</td>\n",
       "    </tr>\n",
       "    <tr>\n",
       "      <th>3</th>\n",
       "      <td>Marie Curie</td>\n",
       "      <td>66</td>\n",
       "      <td>Chemist</td>\n",
       "      <td>1867-11-07</td>\n",
       "      <td>1934-07-04</td>\n",
       "      <td>24345 days</td>\n",
       "    </tr>\n",
       "    <tr>\n",
       "      <th>4</th>\n",
       "      <td>Rachel Carson</td>\n",
       "      <td>56</td>\n",
       "      <td>Biologist</td>\n",
       "      <td>1907-05-27</td>\n",
       "      <td>1964-04-14</td>\n",
       "      <td>20777 days</td>\n",
       "    </tr>\n",
       "    <tr>\n",
       "      <th>5</th>\n",
       "      <td>John Snow</td>\n",
       "      <td>45</td>\n",
       "      <td>Physician</td>\n",
       "      <td>1813-03-15</td>\n",
       "      <td>1858-06-16</td>\n",
       "      <td>16529 days</td>\n",
       "    </tr>\n",
       "    <tr>\n",
       "      <th>6</th>\n",
       "      <td>Alan Turing</td>\n",
       "      <td>41</td>\n",
       "      <td>Computer Scientist</td>\n",
       "      <td>1912-06-23</td>\n",
       "      <td>1954-06-07</td>\n",
       "      <td>15324 days</td>\n",
       "    </tr>\n",
       "    <tr>\n",
       "      <th>7</th>\n",
       "      <td>Johann Gauss</td>\n",
       "      <td>77</td>\n",
       "      <td>Mathematician</td>\n",
       "      <td>1777-04-30</td>\n",
       "      <td>1855-02-23</td>\n",
       "      <td>28422 days</td>\n",
       "    </tr>\n",
       "  </tbody>\n",
       "</table>\n",
       "</div>"
      ],
      "text/plain": [
       "                   Name  Age          Occupation    born_dt    died_dt  \\\n",
       "0     Rosaline Franklin   37             Chemist 1920-07-25 1958-04-16   \n",
       "1        William Gosset   61        Statistician 1876-06-13 1937-10-16   \n",
       "2  Florence Nightingale   90               Nurse 1820-05-12 1910-08-13   \n",
       "3           Marie Curie   66             Chemist 1867-11-07 1934-07-04   \n",
       "4         Rachel Carson   56           Biologist 1907-05-27 1964-04-14   \n",
       "5             John Snow   45           Physician 1813-03-15 1858-06-16   \n",
       "6           Alan Turing   41  Computer Scientist 1912-06-23 1954-06-07   \n",
       "7          Johann Gauss   77       Mathematician 1777-04-30 1855-02-23   \n",
       "\n",
       "    age_days  \n",
       "0 13779 days  \n",
       "1 22404 days  \n",
       "2 32964 days  \n",
       "3 24345 days  \n",
       "4 20777 days  \n",
       "5 16529 days  \n",
       "6 15324 days  \n",
       "7 28422 days  "
      ]
     },
     "execution_count": 36,
     "metadata": {},
     "output_type": "execute_result"
    }
   ],
   "source": [
    "#scientists_dropped = scientists.drop('Born') # scientists.drop('Born', axis=0) # 에러\n",
    "#scientists_dropped = scientists.drop('Born', axis=1) # 열 1개 삭제\n",
    "scientists_dropped = scientists.drop(['Born', 'Died'], axis=1) # 열 1개 삭제\n",
    "scientists_dropped"
   ]
  },
  {
   "cell_type": "markdown",
   "id": "9330c08f",
   "metadata": {},
   "source": [
    "***\n",
    "데이터프레임을 파일로 저장하기\n",
    "***\n",
    "- 피클(pickle)은 Pandas 전용 데이터 파일로 데이터를 바이너리(이진) 형태로 직렬화한 객체로 저장하는 방법으로 데이터를 오래 보관할 수 있다는 뜻으로 피클이라고 이름이 붙여졌다.  \n",
    "-  피클로 저장하면 스프레드시트 형태보다 더 작은 용량으로 데이터를 저장할 수 있다.\n",
    "- 시리즈 피클 파일로 저장하기\n",
    "- to_pickle() 메소드로 시리즈나 데이터프레임을 피클 파일로 저장할 수 있다."
   ]
  },
  {
   "cell_type": "code",
   "execution_count": 37,
   "id": "680e0c31",
   "metadata": {},
   "outputs": [
    {
     "name": "stdout",
     "output_type": "stream",
     "text": [
      "<class 'pandas.core.series.Series'>\n",
      "0       Rosaline Franklin\n",
      "1          William Gosset\n",
      "2    Florence Nightingale\n",
      "3             Marie Curie\n",
      "4           Rachel Carson\n",
      "5               John Snow\n",
      "6             Alan Turing\n",
      "7            Johann Gauss\n",
      "Name: Name, dtype: object\n"
     ]
    }
   ],
   "source": [
    "names = scientists.Name\n",
    "print(type(names))\n",
    "print(names)\n",
    "\n",
    "\n",
    "names.to_pickle('./output/scientist_name_series.pickle')"
   ]
  },
  {
   "cell_type": "markdown",
   "id": "66926980",
   "metadata": {},
   "source": [
    "***\n",
    "데이터프레임을 피클 파일로 저장하기\n",
    "***"
   ]
  },
  {
   "cell_type": "code",
   "execution_count": 38,
   "id": "a8bcec23",
   "metadata": {},
   "outputs": [],
   "source": [
    "scientists.to_pickle('./output/scientist_df_name_series.pickle')"
   ]
  },
  {
   "cell_type": "markdown",
   "id": "dc6cf064",
   "metadata": {},
   "source": [
    "***\n",
    "피클 파일을 읽어오기\n",
    "***\n",
    "read_pickle() 메소드로 시리즈나 데이터프레임을 피클 파일로 저장할 수 있다."
   ]
  },
  {
   "cell_type": "code",
   "execution_count": 39,
   "id": "8e4bb367",
   "metadata": {},
   "outputs": [
    {
     "name": "stdout",
     "output_type": "stream",
     "text": [
      "0       Rosaline Franklin\n",
      "1          William Gosset\n",
      "2    Florence Nightingale\n",
      "3             Marie Curie\n",
      "4           Rachel Carson\n",
      "5               John Snow\n",
      "6             Alan Turing\n",
      "7            Johann Gauss\n",
      "Name: Name, dtype: object\n"
     ]
    }
   ],
   "source": [
    "print(pd.read_pickle('./output/scientist_name_series.pickle'))"
   ]
  },
  {
   "cell_type": "code",
   "execution_count": 40,
   "id": "0a16b3bd",
   "metadata": {},
   "outputs": [
    {
     "data": {
      "text/html": [
       "<div>\n",
       "<style scoped>\n",
       "    .dataframe tbody tr th:only-of-type {\n",
       "        vertical-align: middle;\n",
       "    }\n",
       "\n",
       "    .dataframe tbody tr th {\n",
       "        vertical-align: top;\n",
       "    }\n",
       "\n",
       "    .dataframe thead th {\n",
       "        text-align: right;\n",
       "    }\n",
       "</style>\n",
       "<table border=\"1\" class=\"dataframe\">\n",
       "  <thead>\n",
       "    <tr style=\"text-align: right;\">\n",
       "      <th></th>\n",
       "      <th>Name</th>\n",
       "      <th>Born</th>\n",
       "      <th>Died</th>\n",
       "      <th>Age</th>\n",
       "      <th>Occupation</th>\n",
       "      <th>born_dt</th>\n",
       "      <th>died_dt</th>\n",
       "      <th>age_days</th>\n",
       "    </tr>\n",
       "  </thead>\n",
       "  <tbody>\n",
       "    <tr>\n",
       "      <th>0</th>\n",
       "      <td>Rosaline Franklin</td>\n",
       "      <td>1920-07-25</td>\n",
       "      <td>1958-04-16</td>\n",
       "      <td>37</td>\n",
       "      <td>Chemist</td>\n",
       "      <td>1920-07-25</td>\n",
       "      <td>1958-04-16</td>\n",
       "      <td>13779 days</td>\n",
       "    </tr>\n",
       "    <tr>\n",
       "      <th>1</th>\n",
       "      <td>William Gosset</td>\n",
       "      <td>1876-06-13</td>\n",
       "      <td>1937-10-16</td>\n",
       "      <td>61</td>\n",
       "      <td>Statistician</td>\n",
       "      <td>1876-06-13</td>\n",
       "      <td>1937-10-16</td>\n",
       "      <td>22404 days</td>\n",
       "    </tr>\n",
       "    <tr>\n",
       "      <th>2</th>\n",
       "      <td>Florence Nightingale</td>\n",
       "      <td>1820-05-12</td>\n",
       "      <td>1910-08-13</td>\n",
       "      <td>90</td>\n",
       "      <td>Nurse</td>\n",
       "      <td>1820-05-12</td>\n",
       "      <td>1910-08-13</td>\n",
       "      <td>32964 days</td>\n",
       "    </tr>\n",
       "    <tr>\n",
       "      <th>3</th>\n",
       "      <td>Marie Curie</td>\n",
       "      <td>1867-11-07</td>\n",
       "      <td>1934-07-04</td>\n",
       "      <td>66</td>\n",
       "      <td>Chemist</td>\n",
       "      <td>1867-11-07</td>\n",
       "      <td>1934-07-04</td>\n",
       "      <td>24345 days</td>\n",
       "    </tr>\n",
       "    <tr>\n",
       "      <th>4</th>\n",
       "      <td>Rachel Carson</td>\n",
       "      <td>1907-05-27</td>\n",
       "      <td>1964-04-14</td>\n",
       "      <td>56</td>\n",
       "      <td>Biologist</td>\n",
       "      <td>1907-05-27</td>\n",
       "      <td>1964-04-14</td>\n",
       "      <td>20777 days</td>\n",
       "    </tr>\n",
       "    <tr>\n",
       "      <th>5</th>\n",
       "      <td>John Snow</td>\n",
       "      <td>1813-03-15</td>\n",
       "      <td>1858-06-16</td>\n",
       "      <td>45</td>\n",
       "      <td>Physician</td>\n",
       "      <td>1813-03-15</td>\n",
       "      <td>1858-06-16</td>\n",
       "      <td>16529 days</td>\n",
       "    </tr>\n",
       "    <tr>\n",
       "      <th>6</th>\n",
       "      <td>Alan Turing</td>\n",
       "      <td>1912-06-23</td>\n",
       "      <td>1954-06-07</td>\n",
       "      <td>41</td>\n",
       "      <td>Computer Scientist</td>\n",
       "      <td>1912-06-23</td>\n",
       "      <td>1954-06-07</td>\n",
       "      <td>15324 days</td>\n",
       "    </tr>\n",
       "    <tr>\n",
       "      <th>7</th>\n",
       "      <td>Johann Gauss</td>\n",
       "      <td>1777-04-30</td>\n",
       "      <td>1855-02-23</td>\n",
       "      <td>77</td>\n",
       "      <td>Mathematician</td>\n",
       "      <td>1777-04-30</td>\n",
       "      <td>1855-02-23</td>\n",
       "      <td>28422 days</td>\n",
       "    </tr>\n",
       "  </tbody>\n",
       "</table>\n",
       "</div>"
      ],
      "text/plain": [
       "                   Name       Born       Died  Age          Occupation  \\\n",
       "0     Rosaline Franklin 1920-07-25 1958-04-16   37             Chemist   \n",
       "1        William Gosset 1876-06-13 1937-10-16   61        Statistician   \n",
       "2  Florence Nightingale 1820-05-12 1910-08-13   90               Nurse   \n",
       "3           Marie Curie 1867-11-07 1934-07-04   66             Chemist   \n",
       "4         Rachel Carson 1907-05-27 1964-04-14   56           Biologist   \n",
       "5             John Snow 1813-03-15 1858-06-16   45           Physician   \n",
       "6           Alan Turing 1912-06-23 1954-06-07   41  Computer Scientist   \n",
       "7          Johann Gauss 1777-04-30 1855-02-23   77       Mathematician   \n",
       "\n",
       "     born_dt    died_dt   age_days  \n",
       "0 1920-07-25 1958-04-16 13779 days  \n",
       "1 1876-06-13 1937-10-16 22404 days  \n",
       "2 1820-05-12 1910-08-13 32964 days  \n",
       "3 1867-11-07 1934-07-04 24345 days  \n",
       "4 1907-05-27 1964-04-14 20777 days  \n",
       "5 1813-03-15 1858-06-16 16529 days  \n",
       "6 1912-06-23 1954-06-07 15324 days  \n",
       "7 1777-04-30 1855-02-23 28422 days  "
      ]
     },
     "execution_count": 40,
     "metadata": {},
     "output_type": "execute_result"
    }
   ],
   "source": [
    "pd.read_pickle('./output/scientist_df_name_series.pickle')"
   ]
  },
  {
   "cell_type": "markdown",
   "id": "62e64912",
   "metadata": {},
   "source": [
    "***\n",
    "시리즈나 데이터프레임을 텍스트(csv 또는 tsv) 파일로 저장하기\n",
    "***\n",
    "- to_csv() 메소드로 시리즈나 데이터프레임을 텍스트 파일로 저장할 수 있다. \n",
    "\n",
    "\n",
    "- csv 파일로 저장할 때는 to_csv() 메소드의 구분자를 지정하는 sep 옵션의 기본값이 ','이므로  \n",
    "    구분자를 별로도 지정하지 않아도 되지만,  \n",
    "    tsv 파일로 저장할 때는 구분자를 반드시 '\\t'로 지정해야한다."
   ]
  },
  {
   "cell_type": "code",
   "execution_count": 41,
   "id": "17a83466",
   "metadata": {},
   "outputs": [],
   "source": [
    "names.to_csv('./output/scientist_name.csv')\n",
    "scientists.to_csv('./output/scientist_df.tsv', sep='\\t')"
   ]
  },
  {
   "cell_type": "code",
   "execution_count": null,
   "id": "58b82599",
   "metadata": {},
   "outputs": [],
   "source": []
  },
  {
   "cell_type": "code",
   "execution_count": null,
   "id": "617a1ba3",
   "metadata": {},
   "outputs": [],
   "source": []
  },
  {
   "cell_type": "code",
   "execution_count": null,
   "id": "4d00533c",
   "metadata": {},
   "outputs": [],
   "source": []
  },
  {
   "cell_type": "code",
   "execution_count": null,
   "id": "a97338c8",
   "metadata": {},
   "outputs": [],
   "source": []
  },
  {
   "cell_type": "code",
   "execution_count": null,
   "id": "92ecec18",
   "metadata": {},
   "outputs": [],
   "source": []
  },
  {
   "cell_type": "code",
   "execution_count": null,
   "id": "4b0db02a",
   "metadata": {},
   "outputs": [],
   "source": []
  },
  {
   "cell_type": "code",
   "execution_count": null,
   "id": "43b2af9c",
   "metadata": {},
   "outputs": [],
   "source": []
  },
  {
   "cell_type": "code",
   "execution_count": null,
   "id": "f48974db",
   "metadata": {},
   "outputs": [],
   "source": []
  },
  {
   "cell_type": "code",
   "execution_count": null,
   "id": "2a1bde3b",
   "metadata": {},
   "outputs": [],
   "source": []
  },
  {
   "cell_type": "code",
   "execution_count": null,
   "id": "50c89bda",
   "metadata": {},
   "outputs": [],
   "source": []
  },
  {
   "cell_type": "code",
   "execution_count": null,
   "id": "3dac5aa6",
   "metadata": {},
   "outputs": [],
   "source": []
  }
 ],
 "metadata": {
  "kernelspec": {
   "display_name": "Python [conda env:.conda-py3.7] *",
   "language": "python",
   "name": "conda-env-.conda-py3.7-py"
  },
  "language_info": {
   "codemirror_mode": {
    "name": "ipython",
    "version": 3
   },
   "file_extension": ".py",
   "mimetype": "text/x-python",
   "name": "python",
   "nbconvert_exporter": "python",
   "pygments_lexer": "ipython3",
   "version": "3.7.16"
  }
 },
 "nbformat": 4,
 "nbformat_minor": 5
}
