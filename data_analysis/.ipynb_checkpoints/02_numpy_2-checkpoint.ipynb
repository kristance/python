{
 "cells": [
  {
   "cell_type": "code",
   "execution_count": 1,
   "id": "e83ab22c",
   "metadata": {},
   "outputs": [],
   "source": [
    "%config Completer.use_jedi = False\n",
    "import warnings\n",
    "warnings.filterwarnings(action=\"ignore\")"
   ]
  },
  {
   "cell_type": "code",
   "execution_count": 2,
   "id": "717a2429",
   "metadata": {},
   "outputs": [],
   "source": [
    "import numpy as np"
   ]
  },
  {
   "cell_type": "code",
   "execution_count": 3,
   "id": "c3be59de",
   "metadata": {},
   "outputs": [],
   "source": [
    "def pprint(arr):\n",
    "    print('type -> {}'.format( type(arr) ))\n",
    "    print('shape -> {}, dimension -> {}, dtype -> {}'.format( arr.shape, arr.ndim, arr.dtype ))\n",
    "    print('vvv numpy Data vvv\\n ', arr, sep='')"
   ]
  },
  {
   "cell_type": "markdown",
   "id": "e84b83c1",
   "metadata": {},
   "source": [
    "***\n",
    "numpy 파일 입출력\n",
    "***\n",
    "numpy는 배열 객체를 바이너리(이진) 파일 또는 텍스트 파일에 저장하고 불러오는 기능을 제공한다."
   ]
  },
  {
   "cell_type": "code",
   "execution_count": 4,
   "id": "b659b9cc",
   "metadata": {},
   "outputs": [
    {
     "name": "stdout",
     "output_type": "stream",
     "text": [
      "[[5 8 3]\n",
      " [8 9 7]]\n",
      "[[8 2 6]\n",
      " [2 5 9]]\n"
     ]
    }
   ],
   "source": [
    "a = np.random.randint(1, 11, (2, 3))\n",
    "print(a)\n",
    "b = np.random.randint(1, 11, (2, 3))\n",
    "print(b)"
   ]
  },
  {
   "cell_type": "code",
   "execution_count": 5,
   "id": "4fa23ad2",
   "metadata": {},
   "outputs": [],
   "source": [
    "# save(), savez() 메소드로 numpy 배열 객체를 바이너리 형태로 저장할 수 있다.\n",
    "# save() 메소드는 numpy 배열 1개를 저장한다. 확장명 -> *.npy\n",
    "# savez() 메소드는 numpy 배열 여러 개를 저장한다. 확장명 -> *.npz\n",
    "\n",
    "# a배열을 바이너리 파일로 저장한다.\n",
    "# save('경로', 배열명)\n",
    "np.save('./output/my_array1', a)\n",
    "\n",
    "# a, b배열을 바이너리 파일로 저장한다.\n",
    "# savez('경로', 배열명1, 배열명2, ....)\n",
    "np.savez('./output/my_array2', a, b)"
   ]
  },
  {
   "cell_type": "code",
   "execution_count": 6,
   "id": "0af2520c",
   "metadata": {},
   "outputs": [
    {
     "name": "stdout",
     "output_type": "stream",
     "text": [
      "[[5 8 3]\n",
      " [8 9 7]]\n",
      "----------------------------------------------------------------------------------------------------\n",
      "<numpy.lib.npyio.NpzFile object at 0x000002626A94FB88>\n",
      "['arr_0', 'arr_1']\n",
      "[[5 8 3]\n",
      " [8 9 7]]\n",
      "[[8 2 6]\n",
      " [2 5 9]]\n",
      "----------------------------------------------------------------------------------------------------\n",
      "arr_0\n",
      "[[5 8 3]\n",
      " [8 9 7]]\n",
      "arr_1\n",
      "[[8 2 6]\n",
      " [2 5 9]]\n"
     ]
    }
   ],
   "source": [
    "# load() 메소드로 npy, npz 파일에서 데이터를 읽어올 수 있다.\n",
    "# save(), savez() 메소드는 메소드에 따라 정해진 확장명이 있으므로 확장명을 입력하지 않아도되지만,\n",
    "# load() 메소드는 반드시 확장명까지 입력해야 한다.\n",
    "# load('경로명')\n",
    "\n",
    "# npy 파일 읽기\n",
    "print(np.load('./output/my_array1.npy'))\n",
    "print('-' * 100)\n",
    "\n",
    "# npz 파일 읽기\n",
    "print(np.load('./output/my_array2.npz'))\n",
    "npzFile = np.load('./output/my_array2.npz')\n",
    "print( list(npzFile) )\n",
    "print(npzFile['arr_0'])\n",
    "print(npzFile['arr_1'])\n",
    "print('-' * 100)\n",
    "\n",
    "for arr in npzFile:\n",
    "    print(arr)\n",
    "    print(npzFile[arr])"
   ]
  },
  {
   "cell_type": "code",
   "execution_count": 7,
   "id": "b530b27b",
   "metadata": {},
   "outputs": [],
   "source": [
    "# savetxt() 메소드로 numpy 배열 객체를 텍스트 형태의 파일로 저장할 수 있다.\n",
    "# 여기서 말하는 텍스트 파일은 확장명이 txt인 파일을 말하는 것이 아니고 csv 또는 tsv 파일을 의미한다.\n",
    "# savetxt('경로명', 배열명, delimiter='구분자')\n",
    "np.savetxt('./output/saved.csv', a, delimiter=',') # csv 파일은 데이터를 ','로 구분한다.\n",
    "np.savetxt('./output/saved.tsv', b, delimiter='\\t') # tsv 파일은 데이터를 tab로 구분한다."
   ]
  },
  {
   "cell_type": "code",
   "execution_count": 8,
   "id": "bcc9a5e5",
   "metadata": {},
   "outputs": [
    {
     "name": "stdout",
     "output_type": "stream",
     "text": [
      "[[5. 8. 3.]\n",
      " [8. 9. 7.]]\n",
      "[[8 2 6]\n",
      " [2 5 9]]\n"
     ]
    }
   ],
   "source": [
    "#loadtxt() 메소드로 텍스트 형태의 파일로 저장된 numpy 배열 객체를 읽어올 수 있다.\n",
    "# loadtxt('경로명', dtype, delimiter='구분자')\n",
    "print(np.loadtxt('./output/saved.csv', dtype=np.float, delimiter=','))\n",
    "print(np.loadtxt('./output/saved.tsv', dtype=np.int, delimiter='\\t'))"
   ]
  },
  {
   "cell_type": "markdown",
   "id": "3443ee48",
   "metadata": {},
   "source": [
    "***\n",
    "배열 연산\n",
    "***"
   ]
  },
  {
   "cell_type": "code",
   "execution_count": 9,
   "id": "4e3ca008",
   "metadata": {},
   "outputs": [
    {
     "name": "stdout",
     "output_type": "stream",
     "text": [
      "[[1 2 3]\n",
      " [4 5 6]\n",
      " [7 8 9]]\n",
      "[[9 8 7]\n",
      " [6 5 4]\n",
      " [3 2 1]]\n"
     ]
    }
   ],
   "source": [
    "# reshape() 메소드는 numpy 배열의 차원을 변경한다.\n",
    "a = np.arange(1, 10).reshape(3, 3)\n",
    "print(a)\n",
    "b = np.arange(9, 0, -1).reshape(3, 3)\n",
    "print(b)"
   ]
  },
  {
   "cell_type": "code",
   "execution_count": 10,
   "id": "53fa9d01",
   "metadata": {},
   "outputs": [
    {
     "name": "stdout",
     "output_type": "stream",
     "text": [
      "[[10 10 10]\n",
      " [10 10 10]\n",
      " [10 10 10]]\n",
      "[[10 10 10]\n",
      " [10 10 10]\n",
      " [10 10 10]]\n"
     ]
    }
   ],
   "source": [
    "#덧셈 : +, add() \n",
    "print(a + b)\n",
    "print(np.add(a, b))"
   ]
  },
  {
   "cell_type": "code",
   "execution_count": 11,
   "id": "551961e2",
   "metadata": {},
   "outputs": [
    {
     "name": "stdout",
     "output_type": "stream",
     "text": [
      "[[-8 -6 -4]\n",
      " [-2  0  2]\n",
      " [ 4  6  8]]\n",
      "[[-8 -6 -4]\n",
      " [-2  0  2]\n",
      " [ 4  6  8]]\n"
     ]
    }
   ],
   "source": [
    "#뺄셈 : -, subtract() \n",
    "print(a - b)\n",
    "print(np.subtract(a, b))"
   ]
  },
  {
   "cell_type": "code",
   "execution_count": 12,
   "id": "8f152dfc",
   "metadata": {},
   "outputs": [
    {
     "name": "stdout",
     "output_type": "stream",
     "text": [
      "[[ 9 16 21]\n",
      " [24 25 24]\n",
      " [21 16  9]]\n",
      "[[ 9 16 21]\n",
      " [24 25 24]\n",
      " [21 16  9]]\n"
     ]
    }
   ],
   "source": [
    "#곱셈 : *, multiply() \n",
    "print(a * b)\n",
    "print(np.multiply(a, b))"
   ]
  },
  {
   "cell_type": "code",
   "execution_count": 13,
   "id": "2dd1649c",
   "metadata": {},
   "outputs": [
    {
     "name": "stdout",
     "output_type": "stream",
     "text": [
      "[[0.11111111 0.25       0.42857143]\n",
      " [0.66666667 1.         1.5       ]\n",
      " [2.33333333 4.         9.        ]]\n",
      "[[0.11111111 0.25       0.42857143]\n",
      " [0.66666667 1.         1.5       ]\n",
      " [2.33333333 4.         9.        ]]\n"
     ]
    }
   ],
   "source": [
    "#실수 나눗셈 : /, divide() \n",
    "print(a / b)\n",
    "print(np.divide(a, b))"
   ]
  },
  {
   "cell_type": "code",
   "execution_count": 14,
   "id": "9436496c",
   "metadata": {},
   "outputs": [
    {
     "name": "stdout",
     "output_type": "stream",
     "text": [
      "[[0 0 0]\n",
      " [0 1 1]\n",
      " [2 4 9]]\n",
      "[[1 2 3]\n",
      " [4 0 2]\n",
      " [1 0 0]]\n",
      "(array([[0, 0, 0],\n",
      "       [0, 1, 1],\n",
      "       [2, 4, 9]], dtype=int32), array([[1, 2, 3],\n",
      "       [4, 0, 2],\n",
      "       [1, 0, 0]], dtype=int32))\n",
      "[[0 0 0]\n",
      " [0 1 1]\n",
      " [2 4 9]]\n",
      "[[1 2 3]\n",
      " [4 0 2]\n",
      " [1 0 0]]\n"
     ]
    }
   ],
   "source": [
    "#정수 나눗셈 : //(몫), %(나머지), divmod()\n",
    "print(a // b)\n",
    "print(a % b)\n",
    "print(np.divmod(a, b)) #divmod() 메소드는 몫과 나머지를 계산한다.\n",
    "print(np.divmod(a, b)[0]) #몫\n",
    "print(np.divmod(a, b)[1]) #나머지"
   ]
  },
  {
   "cell_type": "code",
   "execution_count": 15,
   "id": "79d5408f",
   "metadata": {},
   "outputs": [
    {
     "name": "stdout",
     "output_type": "stream",
     "text": [
      "[[2.71828183e+00 7.38905610e+00 2.00855369e+01]\n",
      " [5.45981500e+01 1.48413159e+02 4.03428793e+02]\n",
      " [1.09663316e+03 2.98095799e+03 8.10308393e+03]]\n"
     ]
    }
   ],
   "source": [
    "# 지수\n",
    "print(np.exp(a))"
   ]
  },
  {
   "cell_type": "code",
   "execution_count": 16,
   "id": "83e97544",
   "metadata": {},
   "outputs": [
    {
     "name": "stdout",
     "output_type": "stream",
     "text": [
      "[[1.         1.41421356 1.73205081]\n",
      " [2.         2.23606798 2.44948974]\n",
      " [2.64575131 2.82842712 3.        ]]\n"
     ]
    }
   ],
   "source": [
    "#제곱근\n",
    "print(np.sqrt(a))"
   ]
  },
  {
   "cell_type": "code",
   "execution_count": 17,
   "id": "26e49334",
   "metadata": {},
   "outputs": [
    {
     "name": "stdout",
     "output_type": "stream",
     "text": [
      "[[ 0.84147098  0.90929743  0.14112001]\n",
      " [-0.7568025  -0.95892427 -0.2794155 ]\n",
      " [ 0.6569866   0.98935825  0.41211849]]\n",
      "[[ 0.54030231 -0.41614684 -0.9899925 ]\n",
      " [-0.65364362  0.28366219  0.96017029]\n",
      " [ 0.75390225 -0.14550003 -0.91113026]]\n",
      "[[ 1.55740772 -2.18503986 -0.14254654]\n",
      " [ 1.15782128 -3.38051501 -0.29100619]\n",
      " [ 0.87144798 -6.79971146 -0.45231566]]\n"
     ]
    }
   ],
   "source": [
    "#삼각함수\n",
    "print(np.sin(a))\n",
    "print(np.cos(a))\n",
    "print(np.tan(a))"
   ]
  },
  {
   "cell_type": "code",
   "execution_count": 18,
   "id": "f95a4893",
   "metadata": {},
   "outputs": [
    {
     "name": "stdout",
     "output_type": "stream",
     "text": [
      "[[0.         0.69314718 1.09861229]\n",
      " [1.38629436 1.60943791 1.79175947]\n",
      " [1.94591015 2.07944154 2.19722458]]\n",
      "[[0.         0.30103    0.47712125]\n",
      " [0.60205999 0.69897    0.77815125]\n",
      " [0.84509804 0.90308999 0.95424251]]\n"
     ]
    }
   ],
   "source": [
    "#로그\n",
    "print(np.log(a))\n",
    "print(np.log10(a))"
   ]
  },
  {
   "cell_type": "code",
   "execution_count": 19,
   "id": "3d632eb4",
   "metadata": {},
   "outputs": [
    {
     "name": "stdout",
     "output_type": "stream",
     "text": [
      "[[ 30  24  18]\n",
      " [ 84  69  54]\n",
      " [138 114  90]]\n",
      "[[ 9 16 21]\n",
      " [24 25 24]\n",
      " [21 16  9]]\n"
     ]
    }
   ],
   "source": [
    "#행렬의 내적\n",
    "print(np.dot(a , b))\n",
    "print(np.multiply(a , b))"
   ]
  },
  {
   "cell_type": "code",
   "execution_count": 20,
   "id": "ce004cfc",
   "metadata": {},
   "outputs": [
    {
     "name": "stdout",
     "output_type": "stream",
     "text": [
      "[[False False False]\n",
      " [False  True False]\n",
      " [False False False]]\n"
     ]
    }
   ],
   "source": [
    "#배열 요소별 비교 : >, >=, <=, <, ==, !=\n",
    "print(a == b)"
   ]
  },
  {
   "cell_type": "code",
   "execution_count": 21,
   "id": "ed1615ca",
   "metadata": {},
   "outputs": [
    {
     "name": "stdout",
     "output_type": "stream",
     "text": [
      "False\n"
     ]
    }
   ],
   "source": [
    "#array_equal() 메소드를 사용하면 배열 전체를 ㅂ교할 수 있다.\n",
    "print(np.array_equal(a, b))"
   ]
  },
  {
   "cell_type": "markdown",
   "id": "0a6192a9",
   "metadata": {},
   "source": [
    "***\n",
    "배열 집계\n",
    "***\n",
    "\n",
    "numpy의 모든 배열 집계 메소드는 axis를 기준으로 계산하며,   \n",
    "집계 메소드에 axis를 지정하지 않으면 None이 기본값으로 사용된다.  "
   ]
  },
  {
   "cell_type": "code",
   "execution_count": 22,
   "id": "b021312a",
   "metadata": {},
   "outputs": [
    {
     "name": "stdout",
     "output_type": "stream",
     "text": [
      "[[1 2 3]\n",
      " [4 5 6]\n",
      " [7 8 9]]\n"
     ]
    }
   ],
   "source": [
    "a = np.arange(1, 10).reshape(3, 3)\n",
    "print(a)"
   ]
  },
  {
   "cell_type": "markdown",
   "id": "e2679f95",
   "metadata": {},
   "source": [
    "- 합계 : numpy배열.sum(), np.sum(numpy배열)"
   ]
  },
  {
   "cell_type": "code",
   "execution_count": 23,
   "id": "fc1073d8",
   "metadata": {},
   "outputs": [
    {
     "name": "stdout",
     "output_type": "stream",
     "text": [
      "45\n",
      "45\n",
      "45\n",
      "45\n"
     ]
    }
   ],
   "source": [
    "# axis를 생략하면 None이 기본값으로 사용되어 axis=None를 입력한 것과 같은 기능이 실행된다.\n",
    "print(a.sum())\n",
    "print(a.sum(axis=None))\n",
    "print(np.sum(a))\n",
    "print(np.sum(a, axis=None))"
   ]
  },
  {
   "cell_type": "markdown",
   "id": "06f41405",
   "metadata": {},
   "source": [
    "<img src=\"./image/numpyImage02.jpg\" align=\"left\">"
   ]
  },
  {
   "cell_type": "code",
   "execution_count": 24,
   "id": "80c585ae",
   "metadata": {},
   "outputs": [
    {
     "name": "stdout",
     "output_type": "stream",
     "text": [
      "[12 15 18]\n",
      "[12 15 18]\n"
     ]
    }
   ],
   "source": [
    "#axis = 0\n",
    "#axis = 0은 각 행의 동일한 열 인덱스 요소를 그룹으로 게산한다. -> 각 열의 합계\n",
    "print(a.sum(axis=0))\n",
    "print(np.sum(a, axis=0))"
   ]
  },
  {
   "cell_type": "markdown",
   "id": "c1a5a5cb",
   "metadata": {},
   "source": [
    "<img src=\"./image/numpyImage03.jpg\" align=\"left\">"
   ]
  },
  {
   "cell_type": "code",
   "execution_count": 25,
   "id": "523d200d",
   "metadata": {},
   "outputs": [
    {
     "name": "stdout",
     "output_type": "stream",
     "text": [
      "[ 6 15 24]\n",
      "[ 6 15 24]\n"
     ]
    }
   ],
   "source": [
    "#axis = 1\n",
    "#axis = 1은 각 행의 동일한 행 인덱스 요소를 그룹으로 게산한다. -> 각 행의 합계\n",
    "print(a.sum(axis=1))\n",
    "print(np.sum(a, axis=1))"
   ]
  },
  {
   "cell_type": "markdown",
   "id": "ab95d1db",
   "metadata": {},
   "source": [
    "<img src=\"./image/numpyImage04.jpg\" align=\"left\">"
   ]
  },
  {
   "cell_type": "markdown",
   "id": "483ab157",
   "metadata": {},
   "source": [
    "***\n",
    "- 최대값 : numpy배열.max(), np.max(numpy배열)  \n",
    "- 최소값 : numpy배열.min(), np.min(numpy배열)\n",
    "***"
   ]
  },
  {
   "cell_type": "code",
   "execution_count": 26,
   "id": "0382ddaa",
   "metadata": {},
   "outputs": [
    {
     "name": "stdout",
     "output_type": "stream",
     "text": [
      "9\n",
      "9\n",
      "1\n",
      "1\n"
     ]
    }
   ],
   "source": [
    "print(a.max()) # a.max(axix = None)\n",
    "print(np.max(a)) #np.max(a, axix = None)\n",
    "print(a.min()) # a.min(axix = None)\n",
    "print(np.min(a)) # np.min(a, axix = None)"
   ]
  },
  {
   "cell_type": "code",
   "execution_count": 27,
   "id": "0b461778",
   "metadata": {},
   "outputs": [
    {
     "name": "stdout",
     "output_type": "stream",
     "text": [
      "[7 8 9]\n",
      "[7 8 9]\n",
      "[1 2 3]\n",
      "[1 2 3]\n"
     ]
    }
   ],
   "source": [
    "print(a.max(axis=0))\n",
    "print(np.max(a, axis=0))\n",
    "print(a.min(axis=0))\n",
    "print(np.min(a, axis=0))"
   ]
  },
  {
   "cell_type": "code",
   "execution_count": 28,
   "id": "a91d22c6",
   "metadata": {},
   "outputs": [
    {
     "name": "stdout",
     "output_type": "stream",
     "text": [
      "[3 6 9]\n",
      "[3 6 9]\n",
      "[1 4 7]\n",
      "[1 4 7]\n"
     ]
    }
   ],
   "source": [
    "print(a.max(axis=1))\n",
    "print(np.max(a, axis=1))\n",
    "print(a.min(axis=1))\n",
    "print(np.min(a, axis=1))"
   ]
  },
  {
   "cell_type": "markdown",
   "id": "83e28b5d",
   "metadata": {},
   "source": [
    "***\n",
    "누적 합계 : numpy배열.cumsum(), np.cumsum(numpy 배열)\n",
    "***"
   ]
  },
  {
   "cell_type": "code",
   "execution_count": 29,
   "id": "d1042161",
   "metadata": {},
   "outputs": [
    {
     "name": "stdout",
     "output_type": "stream",
     "text": [
      "[ 1  3  6 10 15 21 28 36 45]\n",
      "[ 1  3  6 10 15 21 28 36 45]\n"
     ]
    }
   ],
   "source": [
    "print(a.cumsum()) #a.cumsum(axis=None)\n",
    "print(np.cumsum(a)) #np.cumsum(a, axis=None)"
   ]
  },
  {
   "cell_type": "code",
   "execution_count": 30,
   "id": "50e57468",
   "metadata": {},
   "outputs": [
    {
     "name": "stdout",
     "output_type": "stream",
     "text": [
      "[[ 1  2  3]\n",
      " [ 5  7  9]\n",
      " [12 15 18]]\n",
      "[[ 1  2  3]\n",
      " [ 5  7  9]\n",
      " [12 15 18]]\n"
     ]
    }
   ],
   "source": [
    "print(a.cumsum(axis=0))\n",
    "print(np.cumsum(a, axis=0))"
   ]
  },
  {
   "cell_type": "code",
   "execution_count": 31,
   "id": "165e61d5",
   "metadata": {},
   "outputs": [
    {
     "name": "stdout",
     "output_type": "stream",
     "text": [
      "[[ 1  3  6]\n",
      " [ 4  9 15]\n",
      " [ 7 15 24]]\n",
      "[[ 1  3  6]\n",
      " [ 4  9 15]\n",
      " [ 7 15 24]]\n"
     ]
    }
   ],
   "source": [
    "print(a.cumsum(axis=1))\n",
    "print(np.cumsum(a, axis=1))"
   ]
  },
  {
   "cell_type": "markdown",
   "id": "6016b3f0",
   "metadata": {},
   "source": [
    "***\n",
    "평균 : numpy배열.mean(), np.mean(numpy 배열)\n",
    "***"
   ]
  },
  {
   "cell_type": "code",
   "execution_count": 32,
   "id": "355b6be9",
   "metadata": {},
   "outputs": [
    {
     "name": "stdout",
     "output_type": "stream",
     "text": [
      "5.0\n",
      "5.0\n"
     ]
    }
   ],
   "source": [
    "print(a.mean()) #a.mean(axis=None)\n",
    "print(np.mean(a)) #np.mean(a, axis=None)"
   ]
  },
  {
   "cell_type": "code",
   "execution_count": 33,
   "id": "167977c5",
   "metadata": {},
   "outputs": [
    {
     "name": "stdout",
     "output_type": "stream",
     "text": [
      "[[ 1  2  3]\n",
      " [ 5  7  9]\n",
      " [12 15 18]]\n",
      "[[ 1  2  3]\n",
      " [ 5  7  9]\n",
      " [12 15 18]]\n"
     ]
    }
   ],
   "source": [
    "print(a.cumsum(axis=0))\n",
    "print(np.cumsum(a, axis=0))"
   ]
  },
  {
   "cell_type": "code",
   "execution_count": 34,
   "id": "28ea81b3",
   "metadata": {},
   "outputs": [
    {
     "name": "stdout",
     "output_type": "stream",
     "text": [
      "[2. 5. 8.]\n",
      "[2. 5. 8.]\n"
     ]
    }
   ],
   "source": [
    "print(a.mean(axis=1))\n",
    "print(np.mean(a, axis=1))"
   ]
  },
  {
   "cell_type": "markdown",
   "id": "97d2ac0a",
   "metadata": {},
   "source": [
    "***\n",
    "중앙값 : np.median(numpy 배열)\n",
    "***"
   ]
  },
  {
   "cell_type": "code",
   "execution_count": 35,
   "id": "3c4f4396",
   "metadata": {},
   "outputs": [
    {
     "name": "stdout",
     "output_type": "stream",
     "text": [
      "5.0\n",
      "[4. 5. 6.]\n",
      "[2. 5. 8.]\n"
     ]
    }
   ],
   "source": [
    "print(np.median(a)) #np.median(a, axis=None)\n",
    "print(np.median(a, axis=0))\n",
    "print(np.median(a, axis=1))"
   ]
  },
  {
   "cell_type": "markdown",
   "id": "839089f2",
   "metadata": {},
   "source": [
    "***\n",
    "상관계수 : np.corrcoef(numpy 배열)\n",
    "***"
   ]
  },
  {
   "cell_type": "code",
   "execution_count": 36,
   "id": "920246f8",
   "metadata": {},
   "outputs": [
    {
     "name": "stdout",
     "output_type": "stream",
     "text": [
      "[[1. 1. 1.]\n",
      " [1. 1. 1.]\n",
      " [1. 1. 1.]]\n"
     ]
    }
   ],
   "source": [
    "# 전체 데이털르 대상으로만 작업이 가능하다.\n",
    "print(np.corrcoef(a)) "
   ]
  },
  {
   "cell_type": "markdown",
   "id": "034f3415",
   "metadata": {},
   "source": [
    "***\n",
    "분산 : numpy배열.var(), np.var(numpy 배열)\n",
    "***"
   ]
  },
  {
   "cell_type": "code",
   "execution_count": 37,
   "id": "d38795d4",
   "metadata": {},
   "outputs": [
    {
     "name": "stdout",
     "output_type": "stream",
     "text": [
      "6.666666666666667\n",
      "6.666666666666667\n"
     ]
    }
   ],
   "source": [
    "print(a.var()) # a.var(axix = None)\n",
    "print(np.var(a)) #np.var(a, axix = None)"
   ]
  },
  {
   "cell_type": "code",
   "execution_count": 38,
   "id": "98e73863",
   "metadata": {},
   "outputs": [
    {
     "name": "stdout",
     "output_type": "stream",
     "text": [
      "[6. 6. 6.]\n",
      "[6. 6. 6.]\n"
     ]
    }
   ],
   "source": [
    "print(a.var(axis=0))\n",
    "print(np.var(a, axis=0))"
   ]
  },
  {
   "cell_type": "code",
   "execution_count": 39,
   "id": "e1fb9254",
   "metadata": {},
   "outputs": [
    {
     "name": "stdout",
     "output_type": "stream",
     "text": [
      "[0.66666667 0.66666667 0.66666667]\n",
      "[0.66666667 0.66666667 0.66666667]\n"
     ]
    }
   ],
   "source": [
    "print(a.var(axis=1))\n",
    "print(np.var(a, axis=1))"
   ]
  },
  {
   "cell_type": "markdown",
   "id": "a69314e4",
   "metadata": {},
   "source": [
    "***\n",
    "표준편차 : numpy배열.std(), np.std(numpy 배열)\n",
    "***"
   ]
  },
  {
   "cell_type": "code",
   "execution_count": 40,
   "id": "0331747a",
   "metadata": {},
   "outputs": [
    {
     "name": "stdout",
     "output_type": "stream",
     "text": [
      "2.581988897471611\n",
      "2.581988897471611\n"
     ]
    }
   ],
   "source": [
    "print(a.std()) # a.var(axix = None)\n",
    "print(np.std(a)) #np.var(a, axix = None)"
   ]
  },
  {
   "cell_type": "code",
   "execution_count": 41,
   "id": "285eebad",
   "metadata": {},
   "outputs": [
    {
     "name": "stdout",
     "output_type": "stream",
     "text": [
      "[2.44948974 2.44948974 2.44948974]\n",
      "[2.44948974 2.44948974 2.44948974]\n"
     ]
    }
   ],
   "source": [
    "print(a.std(axis=0))\n",
    "print(np.std(a, axis=0))"
   ]
  },
  {
   "cell_type": "code",
   "execution_count": 42,
   "id": "2d8ab74d",
   "metadata": {},
   "outputs": [
    {
     "name": "stdout",
     "output_type": "stream",
     "text": [
      "[0.81649658 0.81649658 0.81649658]\n",
      "[0.81649658 0.81649658 0.81649658]\n"
     ]
    }
   ],
   "source": [
    "print(a.std(axis=1))\n",
    "print(np.std(a, axis=1))"
   ]
  },
  {
   "cell_type": "markdown",
   "id": "dffe4ec8",
   "metadata": {},
   "source": [
    "***\n",
    "브로드캐스팅\n",
    "***\n",
    "- shape이 같은 두 배열의 이항 연산은 같은 배열 요소별로 실행된다.  \n",
    "- 두 배열의 shape이 다를 경우 두 배열 간의 형상(모양)을 맞추는 아래 그림과 같은 브로드캐스팅을 거쳐서 실행된다."
   ]
  },
  {
   "cell_type": "markdown",
   "id": "6b4cb85f",
   "metadata": {},
   "source": [
    "<img src=\"./image/numpyImage05.jpg\" width=\"600\">"
   ]
  },
  {
   "cell_type": "markdown",
   "id": "5de24ee7",
   "metadata": {},
   "source": [
    "***\n",
    "shape이 <u>같은</u> 두 배열의 연산\n",
    "***"
   ]
  },
  {
   "cell_type": "code",
   "execution_count": 43,
   "id": "c9e15244",
   "metadata": {},
   "outputs": [
    {
     "name": "stdout",
     "output_type": "stream",
     "text": [
      "[[ 1  2  3  4  5  6]\n",
      " [ 7  8  9 10 11 12]\n",
      " [13 14 15 16 17 18]\n",
      " [19 20 21 22 23 24]]\n",
      "[[25 26 27 28 29 30]\n",
      " [31 32 33 34 35 36]\n",
      " [37 38 39 40 41 42]\n",
      " [43 44 45 46 47 48]]\n"
     ]
    }
   ],
   "source": [
    "a = np.arange(1, 25).reshape(4, 6)\n",
    "print(a)\n",
    "b = np.arange(25, 49).reshape(4, 6)\n",
    "print(b)"
   ]
  },
  {
   "cell_type": "code",
   "execution_count": 44,
   "id": "20a8ee20",
   "metadata": {},
   "outputs": [
    {
     "name": "stdout",
     "output_type": "stream",
     "text": [
      "[[26 28 30 32 34 36]\n",
      " [38 40 42 44 46 48]\n",
      " [50 52 54 56 58 60]\n",
      " [62 64 66 68 70 72]]\n"
     ]
    }
   ],
   "source": [
    "# shape이 같은 배열을 이항 연산할 경우 위치가 같은 요소 단위로 실행된다.\n",
    "print(a + b)"
   ]
  },
  {
   "cell_type": "markdown",
   "id": "88e7d9ba",
   "metadata": {},
   "source": [
    "***\n",
    "shape이 <u>다른</u> 두 배열의 연산\n",
    "***\n",
    "shape이 다른 두 배열 사이의 이항 연산에서 브로드캐스팅 발생시 두 배열을 같은 shape로 만든 후 연산을 실행한다."
   ]
  },
  {
   "cell_type": "code",
   "execution_count": 45,
   "id": "cab0dfe7",
   "metadata": {},
   "outputs": [
    {
     "name": "stdout",
     "output_type": "stream",
     "text": [
      "[[ 1  2  3  4  5  6]\n",
      " [ 7  8  9 10 11 12]\n",
      " [13 14 15 16 17 18]\n",
      " [19 20 21 22 23 24]]\n",
      "[[101 102 103 104 105 106]\n",
      " [107 108 109 110 111 112]\n",
      " [113 114 115 116 117 118]\n",
      " [119 120 121 122 123 124]]\n"
     ]
    }
   ],
   "source": [
    "# 배열과 스칼라(단일값)의 연산\n",
    "# 배열과 스칼라 사이의 이항 연산시, 스칼라를 배열로 변환한다.\n",
    "print(a)\n",
    "print(a + 100)"
   ]
  },
  {
   "cell_type": "code",
   "execution_count": 46,
   "id": "4753efcc",
   "metadata": {},
   "outputs": [
    {
     "name": "stdout",
     "output_type": "stream",
     "text": [
      "[[100 100 100 100 100 100]\n",
      " [100 100 100 100 100 100]\n",
      " [100 100 100 100 100 100]\n",
      " [100 100 100 100 100 100]]\n",
      "[[101 102 103 104 105 106]\n",
      " [107 108 109 110 111 112]\n",
      " [113 114 115 116 117 118]\n",
      " [119 120 121 122 123 124]]\n"
     ]
    }
   ],
   "source": [
    "# a + 100은 다음과 같은 과정을 거쳐서 처리된다.\n",
    "new_arr = np.full_like(a, 100)\n",
    "print(new_arr)\n",
    "print(a + new_arr)"
   ]
  },
  {
   "cell_type": "code",
   "execution_count": 47,
   "id": "04f00459",
   "metadata": {},
   "outputs": [
    {
     "name": "stdout",
     "output_type": "stream",
     "text": [
      "[[0 1 2 3 4]]\n",
      "[[0]\n",
      " [1]\n",
      " [2]\n",
      " [3]\n",
      " [4]]\n",
      "[[0 1 2 3 4]\n",
      " [1 2 3 4 5]\n",
      " [2 3 4 5 6]\n",
      " [3 4 5 6 7]\n",
      " [4 5 6 7 8]]\n"
     ]
    }
   ],
   "source": [
    "# shape이 다른 배열의 연산\n",
    "a = np.arange(5).reshape(1, 5)\n",
    "print(a)\n",
    "b = np.arange(5).reshape(5, 1)\n",
    "print(b)\n",
    "print(a + b)"
   ]
  },
  {
   "cell_type": "markdown",
   "id": "17028b50",
   "metadata": {},
   "source": [
    "***\n",
    "- numpy는 벡터 연산을 지원한다.  \n",
    "- numpy는 집합 연산에는 벡터화 기능이 적용되어 있어, 벡터 처리에 대해 벡터 연산을 적용할 경우  \n",
    "처리 속도가 100배이상 빠르다.\n",
    "***"
   ]
  },
  {
   "cell_type": "code",
   "execution_count": 50,
   "id": "db510a61",
   "metadata": {},
   "outputs": [
    {
     "name": "stdout",
     "output_type": "stream",
     "text": [
      "[      1       2       3 ...  999998  999999 1000000]\n"
     ]
    }
   ],
   "source": [
    "a = np.arange(1, 1000001, dtype=np.int64)\n",
    "print(a)"
   ]
  },
  {
   "cell_type": "code",
   "execution_count": 56,
   "id": "44eff294",
   "metadata": {},
   "outputs": [
    {
     "name": "stdout",
     "output_type": "stream",
     "text": [
      "500000500000\n",
      "Wall time: 164 ms\n"
     ]
    }
   ],
   "source": [
    "%%time\n",
    "result = 0\n",
    "for i in a:\n",
    "    result += i\n",
    "print(result)"
   ]
  },
  {
   "cell_type": "code",
   "execution_count": 55,
   "id": "966c4a4a",
   "metadata": {},
   "outputs": [
    {
     "name": "stdout",
     "output_type": "stream",
     "text": [
      "500000500000\n",
      "Wall time: 1.05 ms\n"
     ]
    }
   ],
   "source": [
    "%%time\n",
    "result = np.sum(a)\n",
    "print(result)"
   ]
  },
  {
   "cell_type": "markdown",
   "id": "d901cf84",
   "metadata": {},
   "source": [
    "***\n",
    "배열 복사\n",
    "***\n",
    "- numpy 배열 객체에 대한 인덱싱, 슬라이싱이 반환하는 numpy 배열은 새로운 객체가 아닌 기존 배열의 view이다.  \n",
    "- 반환된 배열의 값을 변경하면 원본 배열에 변경할 값이 변경된다. -> 얕은 복사(주소 복사)"
   ]
  },
  {
   "cell_type": "code",
   "execution_count": 88,
   "id": "2dd26939",
   "metadata": {
    "scrolled": true
   },
   "outputs": [
    {
     "name": "stdout",
     "output_type": "stream",
     "text": [
      "[[2 0 5]\n",
      " [6 1 7]\n",
      " [6 3 2]]\n",
      "[2 0 5]\n",
      "[  2 777   5]\n",
      "----------------------------------------------------------------------------------------------------\n",
      "[[  2 777   5]\n",
      " [  6   1   7]\n",
      " [  6   3   2]]\n"
     ]
    }
   ],
   "source": [
    "a = np.random.randint(0, 9, (3, 3))\n",
    "print(a)\n",
    "b = a[0, :] # b에는 a배열의 0번쨰 인덱스에 해당되는 데이터가 저장된 주소가 전달된다. 한 행 인덱싱\n",
    "print(b)\n",
    "b[1] = 777 # a배열의 0번쨰 행의 1번쨰 인덱스의 데이터도 같이 수정된다.\n",
    "print(b)\n",
    "print('-' * 100)\n",
    "print(a)\n"
   ]
  },
  {
   "cell_type": "code",
   "execution_count": 89,
   "id": "10277652",
   "metadata": {},
   "outputs": [
    {
     "name": "stdout",
     "output_type": "stream",
     "text": [
      "[[7 7 8]\n",
      " [7 2 5]\n",
      " [3 5 4]]\n",
      "[7 7 3]\n",
      "[  7 777   3]\n",
      "----------------------------------------------------------------------------------------------------\n",
      "[[  7   7   8]\n",
      " [777   2   5]\n",
      " [  3   5   4]]\n"
     ]
    }
   ],
   "source": [
    "a = np.random.randint(0, 9, (3, 3))\n",
    "print(a)\n",
    "b = a[0] # 행은 상관없이(모든 행) 0번째 열만 슬라이싱한다. -> 한 열 인덱싱\n",
    "print(b)\n",
    "b[1] = 777 \n",
    "print(b)\n",
    "print('-' * 100)\n",
    "print(a)\n"
   ]
  },
  {
   "cell_type": "markdown",
   "id": "5a197043",
   "metadata": {},
   "source": [
    "***\n",
    "- 기존 배열로부터 새로운 배열을 생성하기 위해 copy() 메소드를 사용한다.  \n",
    "- copy() 메소드로 복사된 배열은 원본 배열과 완전히 다른 별도의 객체가 된다. -> 깊은 복사  \n",
    "  \n",
    "- numpy 배열.copy(), np.copy(numpy 배열)\n",
    "***"
   ]
  },
  {
   "cell_type": "code",
   "execution_count": 94,
   "id": "aaa16695",
   "metadata": {},
   "outputs": [
    {
     "name": "stdout",
     "output_type": "stream",
     "text": [
      "[[5 3 6]\n",
      " [3 8 6]\n",
      " [4 7 6]]\n",
      "[5 3 6]\n",
      "[  5 777   6]\n",
      "----------------------------------------------------------------------------------------------------\n",
      "[[5 3 6]\n",
      " [3 8 6]\n",
      " [4 7 6]]\n"
     ]
    }
   ],
   "source": [
    "a = np.random.randint(0, 9, (3, 3))\n",
    "print(a)\n",
    "#b = a[0]  #얕은 복사, 원본도 같이 값이 변함; 주소가 복사되어 데이터가 변경되면 참조 대상의 데이터도 변함.\n",
    "b = a.copy()[0] #깊은 복사, 원본은 변하지 않음; 데이터만 복사\n",
    "print(b)\n",
    "b[1] = 777\n",
    "print(b)\n",
    "print('-' * 100)\n",
    "print(a)\n"
   ]
  },
  {
   "cell_type": "code",
   "execution_count": 96,
   "id": "3a18f64b",
   "metadata": {},
   "outputs": [
    {
     "name": "stdout",
     "output_type": "stream",
     "text": [
      "[[6 7 0]\n",
      " [4 1 0]\n",
      " [6 7 7]]\n",
      "[6 4 6]\n",
      "[  6 777   6]\n",
      "----------------------------------------------------------------------------------------------------\n",
      "[[6 7 0]\n",
      " [4 1 0]\n",
      " [6 7 7]]\n"
     ]
    }
   ],
   "source": [
    "a = np.random.randint(0, 9, (3, 3))\n",
    "print(a)\n",
    "#b = a[0] #얕은 복사\n",
    "b = np.copy(a)[:, 0] # 열만 선택 [:, 0], 행만 선택 [0, :]\n",
    "print(b)\n",
    "b[1] = 777 \n",
    "print(b)\n",
    "print('-' * 100)\n",
    "print(a)"
   ]
  },
  {
   "cell_type": "markdown",
   "id": "b40f193a",
   "metadata": {},
   "source": [
    "***\n",
    "배열 정렬\n",
    "***\n",
    "- numpy는 axis를 기준으로 요소를 정렬하는 sort() 메소드를 제공한다.   \n",
    "- numpy배열.sort(), np.sort(numpy배열)\n",
    "- sort() 메소드의 axis를 생략했을 때 기본값은 None이 아닌 -1이다.  \n",
    " -1은 numpy 배열의 마지막 axis를 의미한다.  \n",
    "- 아래의 a배열은 2차원 배열이므로 axis가 0과 1이 존재하고, 이때 마지막 axis는 1이다.  "
   ]
  },
  {
   "cell_type": "code",
   "execution_count": 138,
   "id": "e5d8689d",
   "metadata": {},
   "outputs": [
    {
     "name": "stdout",
     "output_type": "stream",
     "text": [
      "2\n",
      "[[33 27 69]\n",
      " [16 43 19]\n",
      " [16 70 18]]\n"
     ]
    }
   ],
   "source": [
    "a = np.random.randint(1, 78, (3, 3))\n",
    "print(a)"
   ]
  },
  {
   "cell_type": "code",
   "execution_count": 128,
   "id": "1c2759d0",
   "metadata": {},
   "outputs": [
    {
     "name": "stdout",
     "output_type": "stream",
     "text": [
      "[[36 23 18]\n",
      " [19 77 55]\n",
      " [51 16 54]]\n",
      "None\n",
      "[[18 23 36]\n",
      " [19 55 77]\n",
      " [16 51 54]]\n"
     ]
    }
   ],
   "source": [
    "# numpy배열.sort() : 정렬을 실행한 결과가 numpy 배열에 즉시(바로) 반영된다.\n",
    "b = a.copy() #정렬 작업을 위해 복사본을 만든다.\n",
    "print(b)\n",
    "# c로 리턴되는 값이 없고 정렬 결과는 sort() 메소드를 실행한 배열 b에 저장된다.\n",
    "c = b.sort() \n",
    "#b.sort(axis=-1) -> 기본값;-1은 마지막 인덱스를 의미하므로 axis=1을 가르킴, b.sort(axis=1) -> 마지막 2차원 배열의 axis\n",
    "print(c)\n",
    "print(b)"
   ]
  },
  {
   "cell_type": "code",
   "execution_count": 135,
   "id": "2da27aea",
   "metadata": {},
   "outputs": [
    {
     "name": "stdout",
     "output_type": "stream",
     "text": [
      "[[36 23 18]\n",
      " [19 77 55]\n",
      " [51 16 54]]\n",
      "None\n",
      "[[19 16 18]\n",
      " [36 23 54]\n",
      " [51 77 55]]\n"
     ]
    }
   ],
   "source": [
    "b = a.copy()\n",
    "print(b)\n",
    "c = b.sort(axis=0)\n",
    "print(c)\n",
    "print(b)"
   ]
  },
  {
   "cell_type": "code",
   "execution_count": 134,
   "id": "2f63b26d",
   "metadata": {},
   "outputs": [
    {
     "name": "stdout",
     "output_type": "stream",
     "text": [
      "[[36 23 18]\n",
      " [19 77 55]\n",
      " [51 16 54]]\n",
      "[[18 23 36]\n",
      " [19 55 77]\n",
      " [16 51 54]]\n",
      "----------------------------------------------------------------------------------------------------\n",
      "[[36 23 18]\n",
      " [19 77 55]\n",
      " [51 16 54]]\n"
     ]
    }
   ],
   "source": [
    "#np.sort(numpy 배열): 정렬을 실행한 결과를 리턴한다. 원본은 변경되지 않는다.\n",
    "b = a.copy()\n",
    "print(b)\n",
    "c = np.sort(b, axis=1) #np.sort(b, axis=1), np.sort(b, axis=-1)\n",
    "print(c)\n",
    "print('-' * 100)\n",
    "print(b)"
   ]
  },
  {
   "cell_type": "code",
   "execution_count": 137,
   "id": "960ee0dd",
   "metadata": {},
   "outputs": [
    {
     "name": "stdout",
     "output_type": "stream",
     "text": [
      "[[36 23 18]\n",
      " [19 77 55]\n",
      " [51 16 54]]\n",
      "[[51 77 55]\n",
      " [36 23 54]\n",
      " [19 16 18]]\n",
      "----------------------------------------------------------------------------------------------------\n",
      "[[36 23 18]\n",
      " [19 77 55]\n",
      " [51 16 54]]\n"
     ]
    }
   ],
   "source": [
    "b = a.copy()\n",
    "print(b)\n",
    "c = np.sort(b, axis=0)[::-1] #내림차순 정렬\n",
    "print(c)\n",
    "print('-' * 100)\n",
    "print(b)"
   ]
  },
  {
   "cell_type": "code",
   "execution_count": null,
   "id": "9790c11d",
   "metadata": {},
   "outputs": [],
   "source": []
  },
  {
   "cell_type": "code",
   "execution_count": null,
   "id": "d4bf32c0",
   "metadata": {},
   "outputs": [],
   "source": []
  },
  {
   "cell_type": "code",
   "execution_count": null,
   "id": "fbc16285",
   "metadata": {},
   "outputs": [],
   "source": []
  },
  {
   "cell_type": "code",
   "execution_count": null,
   "id": "3ba68fef",
   "metadata": {},
   "outputs": [],
   "source": []
  },
  {
   "cell_type": "code",
   "execution_count": null,
   "id": "c5b7ad5e",
   "metadata": {},
   "outputs": [],
   "source": []
  },
  {
   "cell_type": "code",
   "execution_count": null,
   "id": "787e75cf",
   "metadata": {},
   "outputs": [],
   "source": []
  },
  {
   "cell_type": "code",
   "execution_count": null,
   "id": "75f7e25c",
   "metadata": {},
   "outputs": [],
   "source": []
  },
  {
   "cell_type": "code",
   "execution_count": null,
   "id": "4f03a75b",
   "metadata": {},
   "outputs": [],
   "source": []
  },
  {
   "cell_type": "code",
   "execution_count": null,
   "id": "77c0fbd7",
   "metadata": {},
   "outputs": [],
   "source": []
  },
  {
   "cell_type": "code",
   "execution_count": null,
   "id": "fbf6f543",
   "metadata": {},
   "outputs": [],
   "source": []
  }
 ],
 "metadata": {
  "kernelspec": {
   "display_name": "Python [conda env:.conda-py3.7] *",
   "language": "python",
   "name": "conda-env-.conda-py3.7-py"
  },
  "language_info": {
   "codemirror_mode": {
    "name": "ipython",
    "version": 3
   },
   "file_extension": ".py",
   "mimetype": "text/x-python",
   "name": "python",
   "nbconvert_exporter": "python",
   "pygments_lexer": "ipython3",
   "version": "3.7.16"
  }
 },
 "nbformat": 4,
 "nbformat_minor": 5
}
