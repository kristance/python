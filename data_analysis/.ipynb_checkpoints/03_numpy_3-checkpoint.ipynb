{
 "cells": [
  {
   "cell_type": "code",
   "execution_count": 1,
   "id": "3df0e43a",
   "metadata": {},
   "outputs": [],
   "source": [
    "%config Completer.use_jedi = False\n",
    "import warnings\n",
    "warnings.filterwarnings(action=\"ignore\")\n",
    "import numpy as np\n",
    "def pprint(arr):\n",
    "    print('type -> {}'.format( type(arr) ))\n",
    "    print('shape -> {}, dimension -> {}, dtype -> {}'.format( arr.shape, arr.ndim, arr.dtype ))\n",
    "    print('vvv numpy Data vvv\\n ', arr, sep='')"
   ]
  },
  {
   "cell_type": "markdown",
   "id": "5ad1ba0d",
   "metadata": {},
   "source": [
    "***\n",
    "인덱싱\n",
    "***\n",
    "- numpy 배열의 각 요소는 axis 인덱스 배열로 참조할 수 있다.\n",
    "- 1차원 배열은 1개의 인덱스, 2차원 배열은 2개의 인덱스, 3차원 배열은 3개의 인덱스로 요소를 참조할 수 있다.\n",
    "- 인덱싱 작업시 [행][열]과 같이 인덱스를 지정하거나, [행, 열]과 같이 인덱스를 지정할 수 있다.  \n"
   ]
  },
  {
   "cell_type": "code",
   "execution_count": 2,
   "id": "cc220cd3",
   "metadata": {},
   "outputs": [
    {
     "name": "stdout",
     "output_type": "stream",
     "text": [
      "[ 0  1  2  3  4  5  6  7  8  9 10 11 12 13 14 15 16 17 18 19 20 21 22 23]\n",
      "5\n",
      "[  0   1   2   3   4 100   6   7   8   9  10  11  12  13  14  15  16  17\n",
      "  18  19  20  21  22  23]\n"
     ]
    }
   ],
   "source": [
    "# 1차원 배열 요소 참조 및 변경\n",
    "a = np.arange(24) # 1차원 배열\n",
    "print(a)\n",
    "print(a[5])\n",
    "a[5] = 100\n",
    "print(a)"
   ]
  },
  {
   "cell_type": "code",
   "execution_count": 3,
   "id": "e7847f11",
   "metadata": {},
   "outputs": [
    {
     "name": "stdout",
     "output_type": "stream",
     "text": [
      "[[ 0  1  2  3  4  5]\n",
      " [ 6  7  8  9 10 11]\n",
      " [12 13 14 15 16 17]\n",
      " [18 19 20 21 22 23]]\n",
      "8\n",
      "[[   0    1    2    3    4    5]\n",
      " [   6    7 1000    9   10   11]\n",
      " [  12   13   14   15   16   17]\n",
      " [  18   19   20   21   22   23]]\n"
     ]
    }
   ],
   "source": [
    "# 2차원 배열 요소 참조 및 변경\n",
    "b = np.arange(24).reshape(4, 6) # 2차원 배열\n",
    "print(b)\n",
    "print(b[1][2])\n",
    "b[1, 2] = 1000\n",
    "print(b)"
   ]
  },
  {
   "cell_type": "code",
   "execution_count": 4,
   "id": "6d8367be",
   "metadata": {},
   "outputs": [
    {
     "name": "stdout",
     "output_type": "stream",
     "text": [
      "[[[ 0  1  2]\n",
      "  [ 3  4  5]\n",
      "  [ 6  7  8]\n",
      "  [ 9 10 11]]\n",
      "\n",
      " [[12 13 14]\n",
      "  [15 16 17]\n",
      "  [18 19 20]\n",
      "  [21 22 23]]]\n",
      "23\n",
      "[[[   0    1    2]\n",
      "  [   3    4    5]\n",
      "  [   6    7    8]\n",
      "  [   9   10   11]]\n",
      "\n",
      " [[  12   13   14]\n",
      "  [  15   16   17]\n",
      "  [  18   19   20]\n",
      "  [  21   22 1000]]]\n"
     ]
    }
   ],
   "source": [
    "# 3차원 배열 요소 참조 및 변경\n",
    "c = np.arange(24).reshape(2, 4, 3) # 3차원 배열\n",
    "print(c)\n",
    "print(c[1][3][2])\n",
    "c[1, 3, 2] = 1000\n",
    "print(c)"
   ]
  },
  {
   "cell_type": "markdown",
   "id": "97603566",
   "metadata": {},
   "source": [
    "***\n",
    "슬라이싱\n",
    "***"
   ]
  },
  {
   "cell_type": "code",
   "execution_count": 5,
   "id": "091a857c",
   "metadata": {},
   "outputs": [
    {
     "name": "stdout",
     "output_type": "stream",
     "text": [
      "[  0   1   2   3   4 100   6   7   8   9  10  11  12  13  14  15  16  17\n",
      "  18  19  20  21  22  23]\n",
      "[  2   3   4 100]\n"
     ]
    }
   ],
   "source": [
    "print(a)\n",
    "print(a[2:6])"
   ]
  },
  {
   "cell_type": "markdown",
   "id": "ddca645c",
   "metadata": {},
   "source": [
    "<img src=\"./image/numpyImage06.jpg\" width=\"600\">"
   ]
  },
  {
   "cell_type": "code",
   "execution_count": 6,
   "id": "c757e169",
   "metadata": {},
   "outputs": [
    {
     "name": "stdout",
     "output_type": "stream",
     "text": [
      "[[   0    1    2    3    4    5]\n",
      " [   6    7 1000    9   10   11]\n",
      " [  12   13   14   15   16   17]\n",
      " [  18   19   20   21   22   23]]\n",
      "----------------------------------------------------------------------------------------------------\n",
      "[[   6    7 1000    9   10   11]\n",
      " [  12   13   14   15   16   17]]\n",
      "----------------------------------------------------------------------------------------------------\n",
      "[[   1    2    3    4]\n",
      " [   7 1000    9   10]\n",
      " [  13   14   15   16]\n",
      " [  19   20   21   22]]\n",
      "----------------------------------------------------------------------------------------------------\n",
      "[[12 13 14 15 16 17]]\n",
      "----------------------------------------------------------------------------------------------------\n",
      "[[   7 1000    9   10]\n",
      " [  13   14   15   16]]\n"
     ]
    }
   ],
   "source": [
    "print(b)\n",
    "print('-' * 100)\n",
    "# 열을 생략하면 전체 열을 의미하므로 행 단위 슬라이싱을 할 수 있다.\n",
    "print(b[1:3]) # b[1:3, :] 같은 표현이다.\n",
    "print('-' * 100)\n",
    "# 열 단위 슬라이싱을 하려면 행 위치에 반드시 ':'을 적어야 한다. ':' 전체 행을 의미한다.\n",
    "print(b[:, 1:5])\n",
    "print('-' * 100)\n",
    "# 인덱싱은 [행][열] 방식이나 [행, 열] 방식을 모두 사용할 수 있지만,\n",
    "# 슬라이싱은 [행, 열] 방식만 사용할 수 있다.\n",
    "# b[1:3][1:5] 방식으로 슬라이싱을 하면 b[1:3]로 슬라이싱한 결과에서  [1:5]로 슬라이싱 한다.\n",
    "print(b[1:3][1:5])\n",
    "print('-' * 100)\n",
    "print(b[1:3, 1:5])"
   ]
  },
  {
   "cell_type": "markdown",
   "id": "3409bc01",
   "metadata": {},
   "source": [
    "<img src=\"./image/numpyImage07.jpg\" width=\"600\">"
   ]
  },
  {
   "cell_type": "code",
   "execution_count": 7,
   "id": "4a1a8957",
   "metadata": {},
   "outputs": [
    {
     "name": "stdout",
     "output_type": "stream",
     "text": [
      "[[   7 1000    9   10]\n",
      " [  13   14   15   16]]\n",
      "----------------------------------------------------------------------------------------------------\n",
      "[[   7 1000    9   10]\n",
      " [  13   14   15   16]]\n"
     ]
    }
   ],
   "source": [
    "#음수 인덱싱을 이용한 범위 설정\n",
    "#음수 인덱스는 지정한 axis의 마지막 요소부터 반대 방향의 인덱스이고, -1은 마지막 요소의 인덱스를 의미한다.\n",
    "print(b[1:3, 1:5])\n",
    "print('-' * 100)\n",
    "print(b[1:-1, 1:-1])"
   ]
  },
  {
   "cell_type": "code",
   "execution_count": 8,
   "id": "33d7dc06",
   "metadata": {
    "scrolled": true
   },
   "outputs": [
    {
     "name": "stdout",
     "output_type": "stream",
     "text": [
      "[[   0    1    2    3    4    5]\n",
      " [   6    7 1000    9   10   11]\n",
      " [  12   13   14   15   16   17]\n",
      " [  18   19   20   21   22   23]]\n",
      "----------------------------------------------------------------------------------------------------\n",
      "[[   7 1000    9   10]\n",
      " [  13   14   15   16]]\n",
      "----------------------------------------------------------------------------------------------------\n",
      "[[  0   1   2   3   4   5]\n",
      " [  6   7 777 777  10  11]\n",
      " [ 12  13 777 777  16  17]\n",
      " [ 18  19  20  21  22  23]]\n",
      "----------------------------------------------------------------------------------------------------\n",
      "[[  7 777 777  10]\n",
      " [ 13 777 777  16]]\n"
     ]
    }
   ],
   "source": [
    "#슬라이싱을 이용한 데이터 수정\n",
    "print(b)\n",
    "print('-' * 100)\n",
    "slide_arr = b[1:3, 1:5] # 얕은 복사\n",
    "print(slide_arr)\n",
    "print('-' * 100)\n",
    "slide_arr[:, 1:3] = 777\n",
    "print(b)\n",
    "print('-' * 100)\n",
    "print(slide_arr)"
   ]
  },
  {
   "cell_type": "markdown",
   "id": "c16db68e",
   "metadata": {},
   "source": [
    "***\n",
    "불리언 인덱싱\n",
    "***\n",
    "numpy의 불리언 인덱싱은 배열의 각 요소의 선택 여부를 True, False로 지정하는 방식이다. -> True가 선택된다."
   ]
  },
  {
   "cell_type": "code",
   "execution_count": 9,
   "id": "f288e381",
   "metadata": {},
   "outputs": [
    {
     "name": "stdout",
     "output_type": "stream",
     "text": [
      "[[ 0  1  2  3  4  5]\n",
      " [ 6  7  8  9 10 11]\n",
      " [12 13 14 15 16 17]\n",
      " [18 19 20 21 22 23]]\n"
     ]
    }
   ],
   "source": [
    "a = np.arange(24).reshape(4, 6) # 2차원 배열\n",
    "print(a)"
   ]
  },
  {
   "cell_type": "markdown",
   "id": "c148625d",
   "metadata": {},
   "source": [
    "a 배열에서 요소의 값이 짝수인 요소의 전체 합계"
   ]
  },
  {
   "cell_type": "code",
   "execution_count": 10,
   "id": "bbd103a6",
   "metadata": {},
   "outputs": [
    {
     "name": "stdout",
     "output_type": "stream",
     "text": [
      "[[0 1 0 1 0 1]\n",
      " [0 1 0 1 0 1]\n",
      " [0 1 0 1 0 1]\n",
      " [0 1 0 1 0 1]]\n",
      "----------------------------------------------------------------------------------------------------\n",
      "[[ True False  True False  True False]\n",
      " [ True False  True False  True False]\n",
      " [ True False  True False  True False]\n",
      " [ True False  True False  True False]]\n",
      "----------------------------------------------------------------------------------------------------\n",
      "[[ True False  True False  True False]\n",
      " [ True False  True False  True False]\n",
      " [ True False  True False  True False]\n",
      " [ True False  True False  True False]]\n"
     ]
    }
   ],
   "source": [
    "#브로드캐스팅 기능을 이용해서 배열 요소 중에서 짝수인 요소를 확인한다.\n",
    "even_arr1 = a % 2 #브로드캐스팅\n",
    "print(even_arr1)\n",
    "print('-' * 100)\n",
    "even_arr2 = even_arr1 == 0 # 브로드캐스팅\n",
    "print(even_arr2)\n",
    "print('-' * 100)\n",
    "even_arr = a % 2 == 0\n",
    "print(even_arr)"
   ]
  },
  {
   "cell_type": "code",
   "execution_count": 11,
   "id": "a9952103",
   "metadata": {},
   "outputs": [
    {
     "name": "stdout",
     "output_type": "stream",
     "text": [
      "[ 0  2  4  6  8 10 12 14 16 18 20 22]\n",
      "[ 0  2  4  6  8 10 12 14 16 18 20 22]\n"
     ]
    }
   ],
   "source": [
    "# 불리언 인덱싱은 브로드캐스팅 결과가 True인 요소들만 추출한다.\n",
    "print(a[even_arr])\n",
    "print(a[a % 2 == 0]) \n",
    "# a배열에서 2로 나눈 나머지가 0인 값<브로드캐스팅으로 각각의 요소를 2로 나눈 값>\n",
    "# 들은 True로 가정되고, 아닌 값들은 False로 가정된다. -> 값은 변하지 않고 가상으로 True, False가 설정된다."
   ]
  },
  {
   "cell_type": "code",
   "execution_count": 12,
   "id": "3981e158",
   "metadata": {},
   "outputs": [
    {
     "name": "stdout",
     "output_type": "stream",
     "text": [
      "276\n",
      "276\n",
      "132\n",
      "132\n"
     ]
    }
   ],
   "source": [
    "print(a.sum())\n",
    "print(np.sum(a))\n",
    "print(a[a % 2 == 0].sum())\n",
    "print(np.sum(a[a % 2 == 0]))"
   ]
  },
  {
   "cell_type": "markdown",
   "id": "af02b51e",
   "metadata": {},
   "source": [
    "***\n",
    "불리언 인덱스 응용\n",
    "***\n",
    "데이터 파일 -> 2014년 시애틀 강수량 데이터"
   ]
  },
  {
   "cell_type": "code",
   "execution_count": 13,
   "id": "c7e27583",
   "metadata": {},
   "outputs": [],
   "source": [
    "import pandas as pd"
   ]
  },
  {
   "cell_type": "code",
   "execution_count": 14,
   "id": "f94e8d34",
   "metadata": {},
   "outputs": [
    {
     "name": "stdout",
     "output_type": "stream",
     "text": [
      "<class 'pandas.core.frame.DataFrame'>\n"
     ]
    },
    {
     "data": {
      "text/html": [
       "<div>\n",
       "<style scoped>\n",
       "    .dataframe tbody tr th:only-of-type {\n",
       "        vertical-align: middle;\n",
       "    }\n",
       "\n",
       "    .dataframe tbody tr th {\n",
       "        vertical-align: top;\n",
       "    }\n",
       "\n",
       "    .dataframe thead th {\n",
       "        text-align: right;\n",
       "    }\n",
       "</style>\n",
       "<table border=\"1\" class=\"dataframe\">\n",
       "  <thead>\n",
       "    <tr style=\"text-align: right;\">\n",
       "      <th></th>\n",
       "      <th>STATION</th>\n",
       "      <th>STATION_NAME</th>\n",
       "      <th>DATE</th>\n",
       "      <th>PRCP</th>\n",
       "      <th>SNWD</th>\n",
       "      <th>SNOW</th>\n",
       "      <th>TMAX</th>\n",
       "      <th>TMIN</th>\n",
       "      <th>AWND</th>\n",
       "      <th>WDF2</th>\n",
       "      <th>WDF5</th>\n",
       "      <th>WSF2</th>\n",
       "      <th>WSF5</th>\n",
       "      <th>WT01</th>\n",
       "      <th>WT05</th>\n",
       "      <th>WT02</th>\n",
       "      <th>WT03</th>\n",
       "    </tr>\n",
       "  </thead>\n",
       "  <tbody>\n",
       "    <tr>\n",
       "      <th>0</th>\n",
       "      <td>GHCND:USW00024233</td>\n",
       "      <td>SEATTLE TACOMA INTERNATIONAL AIRPORT WA US</td>\n",
       "      <td>20140101</td>\n",
       "      <td>0</td>\n",
       "      <td>0</td>\n",
       "      <td>0</td>\n",
       "      <td>72</td>\n",
       "      <td>33</td>\n",
       "      <td>12</td>\n",
       "      <td>340</td>\n",
       "      <td>310</td>\n",
       "      <td>36</td>\n",
       "      <td>40</td>\n",
       "      <td>-9999</td>\n",
       "      <td>-9999</td>\n",
       "      <td>-9999</td>\n",
       "      <td>-9999</td>\n",
       "    </tr>\n",
       "    <tr>\n",
       "      <th>1</th>\n",
       "      <td>GHCND:USW00024233</td>\n",
       "      <td>SEATTLE TACOMA INTERNATIONAL AIRPORT WA US</td>\n",
       "      <td>20140102</td>\n",
       "      <td>41</td>\n",
       "      <td>0</td>\n",
       "      <td>0</td>\n",
       "      <td>106</td>\n",
       "      <td>61</td>\n",
       "      <td>32</td>\n",
       "      <td>190</td>\n",
       "      <td>200</td>\n",
       "      <td>94</td>\n",
       "      <td>116</td>\n",
       "      <td>-9999</td>\n",
       "      <td>-9999</td>\n",
       "      <td>-9999</td>\n",
       "      <td>-9999</td>\n",
       "    </tr>\n",
       "    <tr>\n",
       "      <th>2</th>\n",
       "      <td>GHCND:USW00024233</td>\n",
       "      <td>SEATTLE TACOMA INTERNATIONAL AIRPORT WA US</td>\n",
       "      <td>20140103</td>\n",
       "      <td>15</td>\n",
       "      <td>0</td>\n",
       "      <td>0</td>\n",
       "      <td>89</td>\n",
       "      <td>28</td>\n",
       "      <td>26</td>\n",
       "      <td>30</td>\n",
       "      <td>50</td>\n",
       "      <td>63</td>\n",
       "      <td>72</td>\n",
       "      <td>1</td>\n",
       "      <td>-9999</td>\n",
       "      <td>-9999</td>\n",
       "      <td>-9999</td>\n",
       "    </tr>\n",
       "    <tr>\n",
       "      <th>3</th>\n",
       "      <td>GHCND:USW00024233</td>\n",
       "      <td>SEATTLE TACOMA INTERNATIONAL AIRPORT WA US</td>\n",
       "      <td>20140104</td>\n",
       "      <td>0</td>\n",
       "      <td>0</td>\n",
       "      <td>0</td>\n",
       "      <td>78</td>\n",
       "      <td>6</td>\n",
       "      <td>27</td>\n",
       "      <td>40</td>\n",
       "      <td>40</td>\n",
       "      <td>45</td>\n",
       "      <td>58</td>\n",
       "      <td>1</td>\n",
       "      <td>-9999</td>\n",
       "      <td>-9999</td>\n",
       "      <td>-9999</td>\n",
       "    </tr>\n",
       "    <tr>\n",
       "      <th>4</th>\n",
       "      <td>GHCND:USW00024233</td>\n",
       "      <td>SEATTLE TACOMA INTERNATIONAL AIRPORT WA US</td>\n",
       "      <td>20140105</td>\n",
       "      <td>0</td>\n",
       "      <td>0</td>\n",
       "      <td>0</td>\n",
       "      <td>83</td>\n",
       "      <td>-5</td>\n",
       "      <td>37</td>\n",
       "      <td>10</td>\n",
       "      <td>10</td>\n",
       "      <td>67</td>\n",
       "      <td>76</td>\n",
       "      <td>-9999</td>\n",
       "      <td>-9999</td>\n",
       "      <td>-9999</td>\n",
       "      <td>-9999</td>\n",
       "    </tr>\n",
       "    <tr>\n",
       "      <th>...</th>\n",
       "      <td>...</td>\n",
       "      <td>...</td>\n",
       "      <td>...</td>\n",
       "      <td>...</td>\n",
       "      <td>...</td>\n",
       "      <td>...</td>\n",
       "      <td>...</td>\n",
       "      <td>...</td>\n",
       "      <td>...</td>\n",
       "      <td>...</td>\n",
       "      <td>...</td>\n",
       "      <td>...</td>\n",
       "      <td>...</td>\n",
       "      <td>...</td>\n",
       "      <td>...</td>\n",
       "      <td>...</td>\n",
       "      <td>...</td>\n",
       "    </tr>\n",
       "    <tr>\n",
       "      <th>360</th>\n",
       "      <td>GHCND:USW00024233</td>\n",
       "      <td>SEATTLE TACOMA INTERNATIONAL AIRPORT WA US</td>\n",
       "      <td>20141227</td>\n",
       "      <td>33</td>\n",
       "      <td>0</td>\n",
       "      <td>0</td>\n",
       "      <td>94</td>\n",
       "      <td>44</td>\n",
       "      <td>49</td>\n",
       "      <td>210</td>\n",
       "      <td>210</td>\n",
       "      <td>112</td>\n",
       "      <td>161</td>\n",
       "      <td>1</td>\n",
       "      <td>-9999</td>\n",
       "      <td>-9999</td>\n",
       "      <td>-9999</td>\n",
       "    </tr>\n",
       "    <tr>\n",
       "      <th>361</th>\n",
       "      <td>GHCND:USW00024233</td>\n",
       "      <td>SEATTLE TACOMA INTERNATIONAL AIRPORT WA US</td>\n",
       "      <td>20141228</td>\n",
       "      <td>41</td>\n",
       "      <td>0</td>\n",
       "      <td>0</td>\n",
       "      <td>67</td>\n",
       "      <td>28</td>\n",
       "      <td>18</td>\n",
       "      <td>50</td>\n",
       "      <td>30</td>\n",
       "      <td>58</td>\n",
       "      <td>72</td>\n",
       "      <td>1</td>\n",
       "      <td>-9999</td>\n",
       "      <td>-9999</td>\n",
       "      <td>-9999</td>\n",
       "    </tr>\n",
       "    <tr>\n",
       "      <th>362</th>\n",
       "      <td>GHCND:USW00024233</td>\n",
       "      <td>SEATTLE TACOMA INTERNATIONAL AIRPORT WA US</td>\n",
       "      <td>20141229</td>\n",
       "      <td>0</td>\n",
       "      <td>0</td>\n",
       "      <td>0</td>\n",
       "      <td>61</td>\n",
       "      <td>6</td>\n",
       "      <td>43</td>\n",
       "      <td>350</td>\n",
       "      <td>350</td>\n",
       "      <td>76</td>\n",
       "      <td>103</td>\n",
       "      <td>1</td>\n",
       "      <td>-9999</td>\n",
       "      <td>-9999</td>\n",
       "      <td>-9999</td>\n",
       "    </tr>\n",
       "    <tr>\n",
       "      <th>363</th>\n",
       "      <td>GHCND:USW00024233</td>\n",
       "      <td>SEATTLE TACOMA INTERNATIONAL AIRPORT WA US</td>\n",
       "      <td>20141230</td>\n",
       "      <td>0</td>\n",
       "      <td>0</td>\n",
       "      <td>0</td>\n",
       "      <td>33</td>\n",
       "      <td>-21</td>\n",
       "      <td>36</td>\n",
       "      <td>90</td>\n",
       "      <td>70</td>\n",
       "      <td>63</td>\n",
       "      <td>76</td>\n",
       "      <td>-9999</td>\n",
       "      <td>-9999</td>\n",
       "      <td>-9999</td>\n",
       "      <td>-9999</td>\n",
       "    </tr>\n",
       "    <tr>\n",
       "      <th>364</th>\n",
       "      <td>GHCND:USW00024233</td>\n",
       "      <td>SEATTLE TACOMA INTERNATIONAL AIRPORT WA US</td>\n",
       "      <td>20141231</td>\n",
       "      <td>0</td>\n",
       "      <td>0</td>\n",
       "      <td>0</td>\n",
       "      <td>33</td>\n",
       "      <td>-27</td>\n",
       "      <td>30</td>\n",
       "      <td>30</td>\n",
       "      <td>-9999</td>\n",
       "      <td>58</td>\n",
       "      <td>-9999</td>\n",
       "      <td>-9999</td>\n",
       "      <td>-9999</td>\n",
       "      <td>-9999</td>\n",
       "      <td>-9999</td>\n",
       "    </tr>\n",
       "  </tbody>\n",
       "</table>\n",
       "<p>365 rows × 17 columns</p>\n",
       "</div>"
      ],
      "text/plain": [
       "               STATION                                STATION_NAME      DATE  \\\n",
       "0    GHCND:USW00024233  SEATTLE TACOMA INTERNATIONAL AIRPORT WA US  20140101   \n",
       "1    GHCND:USW00024233  SEATTLE TACOMA INTERNATIONAL AIRPORT WA US  20140102   \n",
       "2    GHCND:USW00024233  SEATTLE TACOMA INTERNATIONAL AIRPORT WA US  20140103   \n",
       "3    GHCND:USW00024233  SEATTLE TACOMA INTERNATIONAL AIRPORT WA US  20140104   \n",
       "4    GHCND:USW00024233  SEATTLE TACOMA INTERNATIONAL AIRPORT WA US  20140105   \n",
       "..                 ...                                         ...       ...   \n",
       "360  GHCND:USW00024233  SEATTLE TACOMA INTERNATIONAL AIRPORT WA US  20141227   \n",
       "361  GHCND:USW00024233  SEATTLE TACOMA INTERNATIONAL AIRPORT WA US  20141228   \n",
       "362  GHCND:USW00024233  SEATTLE TACOMA INTERNATIONAL AIRPORT WA US  20141229   \n",
       "363  GHCND:USW00024233  SEATTLE TACOMA INTERNATIONAL AIRPORT WA US  20141230   \n",
       "364  GHCND:USW00024233  SEATTLE TACOMA INTERNATIONAL AIRPORT WA US  20141231   \n",
       "\n",
       "     PRCP  SNWD  SNOW  TMAX  TMIN  AWND  WDF2  WDF5  WSF2  WSF5  WT01  WT05  \\\n",
       "0       0     0     0    72    33    12   340   310    36    40 -9999 -9999   \n",
       "1      41     0     0   106    61    32   190   200    94   116 -9999 -9999   \n",
       "2      15     0     0    89    28    26    30    50    63    72     1 -9999   \n",
       "3       0     0     0    78     6    27    40    40    45    58     1 -9999   \n",
       "4       0     0     0    83    -5    37    10    10    67    76 -9999 -9999   \n",
       "..    ...   ...   ...   ...   ...   ...   ...   ...   ...   ...   ...   ...   \n",
       "360    33     0     0    94    44    49   210   210   112   161     1 -9999   \n",
       "361    41     0     0    67    28    18    50    30    58    72     1 -9999   \n",
       "362     0     0     0    61     6    43   350   350    76   103     1 -9999   \n",
       "363     0     0     0    33   -21    36    90    70    63    76 -9999 -9999   \n",
       "364     0     0     0    33   -27    30    30 -9999    58 -9999 -9999 -9999   \n",
       "\n",
       "     WT02  WT03  \n",
       "0   -9999 -9999  \n",
       "1   -9999 -9999  \n",
       "2   -9999 -9999  \n",
       "3   -9999 -9999  \n",
       "4   -9999 -9999  \n",
       "..    ...   ...  \n",
       "360 -9999 -9999  \n",
       "361 -9999 -9999  \n",
       "362 -9999 -9999  \n",
       "363 -9999 -9999  \n",
       "364 -9999 -9999  \n",
       "\n",
       "[365 rows x 17 columns]"
      ]
     },
     "execution_count": 14,
     "metadata": {},
     "output_type": "execute_result"
    }
   ],
   "source": [
    "# 2014년 1월 시애틀의 평균 강수량?????\n",
    "# pandas의 read_csv() 메소드로 csv 파일을 읽어서 데이터프레임으로 리턴한다.\n",
    "seattle_df = pd.read_csv('./data/Seattle2014.csv', delimiter=',')\n",
    "print(type(seattle_df))\n",
    "seattle_df"
   ]
  },
  {
   "cell_type": "code",
   "execution_count": 15,
   "id": "f8a43259",
   "metadata": {},
   "outputs": [
    {
     "name": "stdout",
     "output_type": "stream",
     "text": [
      "<class 'pandas.core.series.Series'>\n",
      "0       0\n",
      "1      41\n",
      "2      15\n",
      "3       0\n",
      "4       0\n",
      "       ..\n",
      "360    33\n",
      "361    41\n",
      "362     0\n",
      "363     0\n",
      "364     0\n",
      "Name: PRCP, Length: 365, dtype: int64\n"
     ]
    }
   ],
   "source": [
    "# 2014년 시애틀 강수량 데이터의 강수량 열(시리즈) PRCP의 데이터만 추출한다.\n",
    "# 데이터프레임의 특정 시리즈 추출하는 방법은 3가지가 있다.\n",
    "#rain = seattle_df.get('PRCP') # 데이터프레임이름.get('시리즈이름')\n",
    "#rain = seattle_df['PRCP'] # 데이터프레임이름['시리즈이름']\n",
    "rain = seattle_df.PRCP # 데이터프레임이름.시리즈이름\n",
    "print(type(rain))\n",
    "print(rain)"
   ]
  },
  {
   "cell_type": "code",
   "execution_count": 16,
   "id": "f4e1f5e0",
   "metadata": {},
   "outputs": [
    {
     "name": "stdout",
     "output_type": "stream",
     "text": [
      "<class 'numpy.ndarray'>\n",
      "365\n",
      "[  0  41  15   0   0   3 122  97  58  43 213  15   0   0   0   0   0   0\n",
      "   0   0   0   5   0   0   0   0   0  89 216   0  23  20   0   0   0   0\n",
      "   0   0  51   5]\n"
     ]
    }
   ],
   "source": [
    "# 시리즈에서 인덱스만 얻어오려면 index 속성을 사용하고, 데이터만 얻어오려면 values 속성을 사용한다.\n",
    "print(type(rain.values)) # 시리즈의 데이터는 numpy 배열 형태로 얻어온다.\n",
    "print(len(rain.values))\n",
    "rain_arr = rain.values\n",
    "print(rain_arr[:40])"
   ]
  },
  {
   "cell_type": "code",
   "execution_count": 17,
   "id": "0638b102",
   "metadata": {},
   "outputs": [
    {
     "name": "stdout",
     "output_type": "stream",
     "text": [
      "[ 0  1  2  3  4  5  6  7  8  9 10 11 12 13 14 15 16 17 18 19 20 21 22 23\n",
      " 24 25 26 27 28 29 30 31 32 33 34 35 36 37 38 39]\n",
      "[ True  True  True  True  True  True  True  True  True  True  True  True\n",
      "  True  True  True  True  True  True  True  True  True  True  True  True\n",
      "  True  True  True  True  True  True  True False False False False False\n",
      " False False False False]\n"
     ]
    }
   ],
   "source": [
    "days_arr = np.arange(365) #날짜 배열\n",
    "print(days_arr[:40])\n",
    "#1월의 날 수 만큼 불리언 인덱스를 생성한다.\n",
    "january = days_arr < 31\n",
    "print(january[:40])\n"
   ]
  },
  {
   "cell_type": "code",
   "execution_count": 18,
   "id": "1f2bc213",
   "metadata": {
    "scrolled": true
   },
   "outputs": [
    {
     "name": "stdout",
     "output_type": "stream",
     "text": [
      "31\n",
      "[  0  41  15   0   0   3 122  97  58  43 213  15   0   0   0   0   0   0\n",
      "   0   0   0   5   0   0   0   0   0  89 216   0  23]\n"
     ]
    }
   ],
   "source": [
    "#불리언 인덱싱을 이용해서 1월의 강수량만 추출한다.\n",
    "rain_january = rain_arr[january] # january의 실제값은 0-31이다. True가 아니다\n",
    "print(len(rain_january))\n",
    "print(rain_january)"
   ]
  },
  {
   "cell_type": "code",
   "execution_count": 19,
   "id": "8e1ca515",
   "metadata": {},
   "outputs": [
    {
     "name": "stdout",
     "output_type": "stream",
     "text": [
      "1월 강수량 합계 = 940mm\n",
      "1월 강수량 평균 = 30.3mm\n"
     ]
    }
   ],
   "source": [
    "print('1월 강수량 합계 = {}mm'.format(np.sum(rain_january)))\n",
    "print('1월 강수량 평균 = {:.1f}mm'.format(np.mean(rain_january)))"
   ]
  },
  {
   "cell_type": "markdown",
   "id": "8e3e0ab1",
   "metadata": {},
   "source": [
    "***\n",
    "팬시 인덱싱\n",
    "***\n",
    "배열에 인덱스 배열을 전달해 요소를 참조하는 방법이다."
   ]
  },
  {
   "cell_type": "code",
   "execution_count": 20,
   "id": "c829295b",
   "metadata": {},
   "outputs": [
    {
     "name": "stdout",
     "output_type": "stream",
     "text": [
      "[[ 1  2  3  4  5  6]\n",
      " [ 7  8  9 10 11 12]\n",
      " [13 14 15 16 17 18]\n",
      " [19 20 21 22 23 24]]\n"
     ]
    }
   ],
   "source": [
    "a = np.arange(1, 25).reshape(4, 6)\n",
    "print(a)"
   ]
  },
  {
   "cell_type": "code",
   "execution_count": 28,
   "id": "82e10863",
   "metadata": {},
   "outputs": [
    {
     "name": "stdout",
     "output_type": "stream",
     "text": [
      "1 8 15 22\n",
      "<class 'tuple'>\n",
      "(1, 8, 15, 22)\n",
      "<class 'list'>\n",
      "[1, 8, 15, 22]\n",
      "[ 1  8 15 22]\n"
     ]
    }
   ],
   "source": [
    "print(a[0, 0], a[1, 1], a[2, 2], a[3, 3])\n",
    "arr = a[0, 0], a[1, 1], a[2, 2], a[3, 3]\n",
    "print(type(arr))\n",
    "print(arr)\n",
    "arr = [a[0, 0], a[1, 1], a[2, 2], a[3, 3]]\n",
    "print(type(arr))\n",
    "print(arr)\n",
    "\n",
    "print(a[[0, 1, 2, 3], (0, 1, 2, 3)])m"
   ]
  },
  {
   "cell_type": "markdown",
   "id": "0fa2efcf",
   "metadata": {},
   "source": [
    "***\n",
    "배열 변환\n",
    "***\n",
    "배열 변환 방법은 전치, shape 변경, 크기 변경, 요소 추가, 삽입, 삭제, 결합, 분리 등이 있다.  \n",
    "\n",
    "- 전치 : 행렬의 인덱스가 바뀌는 변환이다.  \n",
    "<img src=\"./image/numpyImage08.jpg\" width=\"200\"/>"
   ]
  },
  {
   "cell_type": "code",
   "execution_count": 30,
   "id": "3cdddcd2",
   "metadata": {},
   "outputs": [
    {
     "name": "stdout",
     "output_type": "stream",
     "text": [
      "[[7 6]\n",
      " [3 7]\n",
      " [4 2]]\n",
      "[[7 3 4]\n",
      " [6 7 2]]\n"
     ]
    }
   ],
   "source": [
    "#numpy에서 행렬을 전치하기 위해서 numpy배열.T 속성을 사용한다. 반드시 대문자로 사용한다.\n",
    "a = np.random.randint(1, 10, (3, 2))\n",
    "print(a)\n",
    "print(a.T)"
   ]
  },
  {
   "cell_type": "markdown",
   "id": "76287529",
   "metadata": {},
   "source": [
    "numpy는 배열의 형태를 변경하는 reshape() 메소드와 ravel() 메소드를 제공한다.  \n",
    "- reshape() 메소드는 지정한 shape으로 배열의 형태를 변환하지만,  \n",
    "- ravel() 메소드는 배열의 shape을 무조건 1차원으로 변환한다.  "
   ]
  },
  {
   "cell_type": "code",
   "execution_count": 33,
   "id": "df43c135",
   "metadata": {},
   "outputs": [
    {
     "name": "stdout",
     "output_type": "stream",
     "text": [
      "[[5 3]\n",
      " [4 5]\n",
      " [3 5]]\n",
      "[5 3 4 5 3 5]\n",
      "[[5 3]\n",
      " [4 5]\n",
      " [3 5]]\n"
     ]
    }
   ],
   "source": [
    "a = np.random.randint(1, 10, (3, 2))\n",
    "print(a)\n",
    "print(a.ravel()) # ravel() 메소드는 1차원으로 변환한 결과를 리턴한다.\n",
    "print(a)"
   ]
  },
  {
   "cell_type": "code",
   "execution_count": 36,
   "id": "ff9531c3",
   "metadata": {},
   "outputs": [
    {
     "name": "stdout",
     "output_type": "stream",
     "text": [
      "[  5   3   4   5 777   5]\n",
      "[  5   3   4   5 777   5]\n",
      "[[  5   3]\n",
      " [  4   5]\n",
      " [777   5]]\n"
     ]
    }
   ],
   "source": [
    "#ravel() 메소드는 원본 배열의 view를 반환한다. -> 얕은 복사를 한다.\n",
    "#ravel() 메소드가 리턴한 배열을 수정하면 원본 배열의 내용이 같이 수정된다.\n",
    "b = a.ravel()\n",
    "print(b)\n",
    "b[4] = 777\n",
    "print(b)\n",
    "print(a)"
   ]
  },
  {
   "cell_type": "code",
   "execution_count": 52,
   "id": "f87e617a",
   "metadata": {},
   "outputs": [
    {
     "name": "stdout",
     "output_type": "stream",
     "text": [
      "[[6 2]\n",
      " [5 1]\n",
      " [8 1]]\n",
      "[[[6]\n",
      "  [2]]\n",
      "\n",
      " [[5]\n",
      "  [1]]\n",
      "\n",
      " [[8]\n",
      "  [1]]]\n",
      "[[6 2]\n",
      " [5 1]\n",
      " [8 1]]\n"
     ]
    }
   ],
   "source": [
    "a = np.random.randint(1, 10, (3, 2))\n",
    "print(a)\n",
    "print(a.reshape(3, 2, 1)) # reshape() 메소드는 지정한 shape으로 변환한 결과를 리턴한다.\n",
    "print(a)"
   ]
  },
  {
   "cell_type": "code",
   "execution_count": 41,
   "id": "03d2f276",
   "metadata": {
    "scrolled": true
   },
   "outputs": [
    {
     "name": "stdout",
     "output_type": "stream",
     "text": [
      "[[[  1]\n",
      "  [  9]]\n",
      "\n",
      " [[  5]\n",
      "  [777]]\n",
      "\n",
      " [[  8]\n",
      "  [  9]]]\n",
      "[[[  1]\n",
      "  [  9]]\n",
      "\n",
      " [[  5]\n",
      "  [777]]\n",
      "\n",
      " [[  8]\n",
      "  [  9]]]\n",
      "[[  1   9]\n",
      " [  5 777]\n",
      " [  8   9]]\n"
     ]
    }
   ],
   "source": [
    "#reshape() 메소드는 원본 배열의 view를 반환한다. -> 얕은 복사를 한다.\n",
    "#reshape() 메소드가 리턴한 배열을 수정하면 원본 배열의 내용이 같이 수정된다.\n",
    "b = a.reshape(3, 2, 1)\n",
    "print(b)\n",
    "b[1, 1, 0] = 777\n",
    "print(b)\n",
    "print(a)"
   ]
  },
  {
   "cell_type": "markdown",
   "id": "27d060d1",
   "metadata": {},
   "source": [
    "resize() 메소드로 shape를 지정해서 배열의 크기를 변경할 수 있다.  \n",
    "***\n",
    "- numpy배열.resize(new_shape)\n",
    "- np.resize(numpy배열, new_shape)"
   ]
  },
  {
   "cell_type": "code",
   "execution_count": 44,
   "id": "24d411c1",
   "metadata": {},
   "outputs": [
    {
     "name": "stdout",
     "output_type": "stream",
     "text": [
      "[[2 7 5 7 5 7]\n",
      " [8 3 4 5 1 9]]\n",
      "None\n",
      "[[2 7]\n",
      " [5 7]\n",
      " [5 7]\n",
      " [8 3]\n",
      " [4 5]\n",
      " [1 9]]\n"
     ]
    }
   ],
   "source": [
    "a = np.random.randint(1, 10, (2, 6))\n",
    "print(a)\n",
    "# numpy배열.resize(new_shape) 형식은 크기가 변경된 배열을 리턴하지 않는다.\n",
    "print(a.resize(6, 2)) # 원본 배열 자체의 shape를 변경한다.\n",
    "print(a)"
   ]
  },
  {
   "cell_type": "code",
   "execution_count": 50,
   "id": "4aad5d85",
   "metadata": {},
   "outputs": [
    {
     "name": "stdout",
     "output_type": "stream",
     "text": [
      "[[8 1 1 6 1 3]\n",
      " [9 2 5 1 7 4]]\n",
      "[[8 1]\n",
      " [1 6]\n",
      " [1 3]\n",
      " [9 2]\n",
      " [5 1]\n",
      " [7 4]]\n",
      "[[8 1 1 6 1 3]\n",
      " [9 2 5 1 7 4]]\n",
      "[[8 1]\n",
      " [1 6]\n",
      " [1 3]\n",
      " [9 2]\n",
      " [5 1]\n",
      " [7 4]]\n",
      "[[  8   1]\n",
      " [  1   6]\n",
      " [  1 777]\n",
      " [  9   2]\n",
      " [  5   1]\n",
      " [  7   4]]\n",
      "[[8 1 1 6 1 3]\n",
      " [9 2 5 1 7 4]]\n"
     ]
    }
   ],
   "source": [
    "a = np.random.randint(1, 10, (2, 6))\n",
    "print(a)\n",
    "# np.resize(numpy배열, new_shape) 형식은 크기가 변경된 배열을 리턴한다.\n",
    "print(np.resize(a, (6, 2)))\n",
    "print(a)\n",
    "# 원본 배열의 크기를 변경한 결과를 깊은 복사를 해서 리턴한다.; 원본 데이터에 값이 저장되지 않는다.\n",
    "b = np.resize(a, (6, 2))\n",
    "print(b)\n",
    "b[2, 1] = 777\n",
    "print(b)\n",
    "print(a)"
   ]
  },
  {
   "cell_type": "code",
   "execution_count": 55,
   "id": "3b4ba6b9",
   "metadata": {},
   "outputs": [
    {
     "name": "stdout",
     "output_type": "stream",
     "text": [
      "[[2 1 5 4 3 7]\n",
      " [2 8 2 8 5 1]]\n",
      "[[2 1 5 4 3 7 2 8 2 8]\n",
      " [5 1 0 0 0 0 0 0 0 0]]\n",
      "[[2 1 5 4]\n",
      " [3 7 2 8]]\n"
     ]
    }
   ],
   "source": [
    "#reshape() 메소드와 resize() 메소드는 배열의 shape를 변경하는 부분은 같다.\n",
    "#reshape() 메소드는 배열을 구성하는 요소의 갯수를 변경하지 못하는 반면,\n",
    "#resize() 메소드는 배열을 구성하는 요소의 갯수를 줄이거나 늘릴 수 있다.\n",
    "a = np.random.randint(1, 10, (2, 6))\n",
    "print(a)\n",
    "# a.reshape(2, 10) # reshape() 메소드는 원본과 요소의 갯수를 다르게 설정하면 에러가 발생된다.\n",
    "a.resize(2, 10) # 배열 요소의 갯수가 12개에서 20개로 증가하고, 원본 데이터를 제외한 증가된 요소(20 - 12)에 0이 채워진다.\n",
    "print(a)\n",
    "a.resize(2, 4) # 배열 요소의 갯수가 20개에서 8개로 감소하고, 감소된 요소 (20 - 8)는 분실된다.\n",
    "print(a)"
   ]
  },
  {
   "cell_type": "code",
   "execution_count": 58,
   "id": "fa5cd2ce",
   "metadata": {},
   "outputs": [
    {
     "name": "stdout",
     "output_type": "stream",
     "text": [
      "[[8 3 8 9 9 6]\n",
      " [5 3 4 6 7 2]]\n",
      "[[8 3 8 9 9 6 5 3 4 6]\n",
      " [7 2 8 3 8 9 9 6 5 3]]\n",
      "[[8 3 8 9]\n",
      " [9 6 5 3]]\n"
     ]
    }
   ],
   "source": [
    "a = np.random.randint(1, 10, (2, 6))\n",
    "print(a)\n",
    "# 배열 요소의 갯수가 12개에서 20개로 증가하고, 원본 데이터를 제외한 증가된 요소(20 - 12)에 원본 배열의 데이터가 반복해서 채워진다.\n",
    "b = np.resize(a, (2, 10))\n",
    "print(b)\n",
    "c = np.resize(a, (2, 4)) # 배열 요소의 갯수가 20개에서 8개로 감소하고, 감소된 요소 (20 - 8)는 분실된다.\n",
    "print(c)\n"
   ]
  },
  {
   "cell_type": "markdown",
   "id": "8fd0403f",
   "metadata": {},
   "source": [
    "append() 메소드는 axis로 데이터가 추가되는 방향을 지정해서 배열 끝에 데이터(배열)을 추가한다.  \n",
    "***\n",
    "np.append(numpy배열, 추가할 배열[, axis])"
   ]
  },
  {
   "cell_type": "code",
   "execution_count": 61,
   "id": "82ce0187",
   "metadata": {},
   "outputs": [
    {
     "name": "stdout",
     "output_type": "stream",
     "text": [
      "[[4 5 8]\n",
      " [2 2 4]\n",
      " [7 5 7]]\n",
      "[[15 12 17]\n",
      " [17 17 17]\n",
      " [16 15 14]]\n"
     ]
    }
   ],
   "source": [
    "a = np.random.randint(1, 10, (3, 3))\n",
    "print(a)\n",
    "b = np.random.randint(10, 19, (3, 3))\n",
    "print(b)"
   ]
  },
  {
   "cell_type": "code",
   "execution_count": 66,
   "id": "d2441a4d",
   "metadata": {},
   "outputs": [
    {
     "name": "stdout",
     "output_type": "stream",
     "text": [
      "[ 4  5  8  2  2  4  7  5  7 15 12 17 17 17 17 16 15 14]\n",
      "[ 4  5  8  2  2  4  7  5  7 15 12 17 17 17 17 16 15 14]\n",
      "[ 4  5  8  2  2  4  7  5  7 15 12 17 17 17 17 16 15 14]\n"
     ]
    }
   ],
   "source": [
    "# axis를 생략하면 None이 기본값으로 사용되고, 1차원으로 변환되어 결합된다.\n",
    "print(np.append(a, b))\n",
    "result = np.append(a, b)\n",
    "print(result)\n",
    "result = np.append(a, b, axis=None)\n",
    "print(result)"
   ]
  },
  {
   "cell_type": "code",
   "execution_count": 67,
   "id": "a212703a",
   "metadata": {},
   "outputs": [
    {
     "name": "stdout",
     "output_type": "stream",
     "text": [
      "[[ 4  5  8]\n",
      " [ 2  2  4]\n",
      " [ 7  5  7]\n",
      " [15 12 17]\n",
      " [17 17 17]\n",
      " [16 15 14]]\n"
     ]
    }
   ],
   "source": [
    "#axis=0인 경우 열방향(아래쪽)으로 배열을 추가한다.\n",
    "print(np.append(a, b, axis=0))"
   ]
  },
  {
   "cell_type": "code",
   "execution_count": 74,
   "id": "dada89eb",
   "metadata": {},
   "outputs": [
    {
     "name": "stdout",
     "output_type": "stream",
     "text": [
      "[[16 10 10]\n",
      " [18 16 17]\n",
      " [13 17 17]\n",
      " [14 12 10]]\n",
      "----------------------------------------------------------------------------------------------------\n",
      "[[ 4  5  8]\n",
      " [ 2  2  4]\n",
      " [ 7  5  7]\n",
      " [16 10 10]\n",
      " [18 16 17]\n",
      " [13 17 17]\n",
      " [14 12 10]]\n",
      "----------------------------------------------------------------------------------------------------\n",
      "[[16 14 17 13]\n",
      " [16 11 14 16]\n",
      " [13 18 18 16]]\n",
      "----------------------------------------------------------------------------------------------------\n"
     ]
    }
   ],
   "source": [
    "#axis=0인 경우 두 배열이 행의 갯수는 달라도 상관없지만  열의 갯수는 반드시 같아야한다.\n",
    "c = np.random.randint(10, 19, (4, 3)) # a 배열과 행의 갯수는 다르지만 열의 갯수가 같은 배열\n",
    "print(c)\n",
    "print('-'*100)\n",
    "print(np.append(a, c, axis=0))\n",
    "print('-'*100)\n",
    "d = np.random.randint(10, 19, (3, 4)) # a 배열과 행의 갯수는 같지만 열의 갯수가 다른 배열\n",
    "print(d)\n",
    "print('-'*100)\n",
    "#print(np.append(a, d, axis=0)) # a 베열과 d배열의 열의 갯수가 달라 에러가 발생된다."
   ]
  },
  {
   "cell_type": "code",
   "execution_count": 75,
   "id": "567cd848",
   "metadata": {},
   "outputs": [
    {
     "name": "stdout",
     "output_type": "stream",
     "text": [
      "[[ 4  5  8 15 12 17]\n",
      " [ 2  2  4 17 17 17]\n",
      " [ 7  5  7 16 15 14]]\n"
     ]
    }
   ],
   "source": [
    "#axis=1인 경우 행방향(오른쪽)으로 배열을 추가한다.\n",
    "print(np.append(a, b, axis=1))"
   ]
  },
  {
   "cell_type": "code",
   "execution_count": 77,
   "id": "b6f2edf4",
   "metadata": {},
   "outputs": [
    {
     "name": "stdout",
     "output_type": "stream",
     "text": [
      "[[14 13 15]\n",
      " [10 18 15]\n",
      " [13 17 16]\n",
      " [10 14 15]]\n",
      "----------------------------------------------------------------------------------------------------\n",
      "----------------------------------------------------------------------------------------------------\n",
      "[[11 11 12 11]\n",
      " [17 17 13 16]\n",
      " [17 14 17 14]]\n",
      "----------------------------------------------------------------------------------------------------\n",
      "[[ 4  5  8 11 11 12 11]\n",
      " [ 2  2  4 17 17 13 16]\n",
      " [ 7  5  7 17 14 17 14]]\n"
     ]
    }
   ],
   "source": [
    "#axis=1인 경우 두 배열이 열의 갯수는 달라도 상관없지만 행의 갯수는 반드시 같아야한다.\n",
    "c = np.random.randint(10, 19, (4, 3)) # a 배열과 행의 갯수는 다르지만 열의 갯수가 같은 배열\n",
    "print(c)\n",
    "print('-'*100)\n",
    "#print(np.append(a, c, axis=1))  # a 베열과 c배열의 행의 갯수가 달라 에러가 발생된다.\n",
    "print('-'*100)\n",
    "d = np.random.randint(10, 19, (3, 4)) # a 배열과 행의 갯수는 같지만 열의 갯수가 다른 배열\n",
    "print(d)\n",
    "print('-'*100)\n",
    "print(np.append(a, d, axis=1))"
   ]
  },
  {
   "cell_type": "markdown",
   "id": "8c34d98d",
   "metadata": {},
   "source": [
    "insert() 메소드는 axis로 데이터가 삽입되는 방향을 지정해서 지정한 인덱스에 데이터(배열)을 추가한다.\n",
    "***\n",
    "np.insert(numpy배열, 삽입할인덱스, 삽입할 배열[, axis])"
   ]
  },
  {
   "cell_type": "code",
   "execution_count": 78,
   "id": "854d0569",
   "metadata": {},
   "outputs": [
    {
     "name": "stdout",
     "output_type": "stream",
     "text": [
      "[[4 9 4]\n",
      " [1 8 3]\n",
      " [9 1 9]]\n"
     ]
    }
   ],
   "source": [
    "a = np.random.randint(1, 10, (3, 3))\n",
    "print(a)"
   ]
  },
  {
   "cell_type": "code",
   "execution_count": 79,
   "id": "b8a2a78b",
   "metadata": {},
   "outputs": [
    {
     "name": "stdout",
     "output_type": "stream",
     "text": [
      "[  4 999   9   4   1   8   3   9   1   9]\n"
     ]
    }
   ],
   "source": [
    "# axis를 생략하면 None이 기본값으로 사용되고, 1차원으로 변환해서 지정한 인덱스에 삽입한다.\n",
    "print(np.insert(a, 1, 999))\n",
    "print(np.insert(a, 1, 999, axis=None))"
   ]
  },
  {
   "cell_type": "code",
   "execution_count": 80,
   "id": "449ea4b7",
   "metadata": {},
   "outputs": [
    {
     "name": "stdout",
     "output_type": "stream",
     "text": [
      "[[  4   9   4]\n",
      " [999 999 999]\n",
      " [  1   8   3]\n",
      " [  9   1   9]]\n"
     ]
    }
   ],
   "source": [
    "# axis=0을 지정하면 열방향 인덱스에 데이터를 삽입한다.\n",
    "print(np.insert(a, 1, 999, axis=0))"
   ]
  },
  {
   "cell_type": "code",
   "execution_count": 81,
   "id": "a39009b3",
   "metadata": {},
   "outputs": [
    {
     "name": "stdout",
     "output_type": "stream",
     "text": [
      "[[  4 999   9   4]\n",
      " [  1 999   8   3]\n",
      " [  9 999   1   9]]\n"
     ]
    }
   ],
   "source": [
    "# axis=1을 지정하면 행방향 인덱스에 데이터를 삽입한다.\n",
    "print(np.insert(a, 1, 999, axis=1))"
   ]
  },
  {
   "cell_type": "markdown",
   "id": "44d6f2b2",
   "metadata": {},
   "source": [
    "delete() 메소드는 axis로 데이터가 삭제되는 방향을 지정해서 지정한 인덱스에 데이터(배열)을 삭제한다.\n",
    "***\n",
    "np.delete(numpy배열, 삭제할인덱스[, axis])"
   ]
  },
  {
   "cell_type": "code",
   "execution_count": 82,
   "id": "d824f756",
   "metadata": {},
   "outputs": [
    {
     "name": "stdout",
     "output_type": "stream",
     "text": [
      "[[6 4 2]\n",
      " [3 2 9]\n",
      " [3 2 6]]\n"
     ]
    }
   ],
   "source": [
    "a = np.random.randint(1, 10, (3, 3))\n",
    "print(a)"
   ]
  },
  {
   "cell_type": "code",
   "execution_count": 83,
   "id": "e3cbb2cc",
   "metadata": {},
   "outputs": [
    {
     "name": "stdout",
     "output_type": "stream",
     "text": [
      "[6 2 3 2 9 3 2 6]\n",
      "[6 2 3 2 9 3 2 6]\n"
     ]
    }
   ],
   "source": [
    "# axis를 생략하면 None이 기본값으로 사용되고, 1차원으로 변환해서 지정한 인덱스의 데이터를 삭제한다.\n",
    "print(np.delete(a, 1))\n",
    "print(np.delete(a, 1, axis=None))"
   ]
  },
  {
   "cell_type": "code",
   "execution_count": 87,
   "id": "87d77f2f",
   "metadata": {},
   "outputs": [
    {
     "name": "stdout",
     "output_type": "stream",
     "text": [
      "[[6 4 2]\n",
      " [3 2 6]]\n"
     ]
    }
   ],
   "source": [
    "# axis=0을 지정하면 열방향 인덱스의 데이터를 삭제한다.\n",
    "print(np.delete(a, 1, axis=0))"
   ]
  },
  {
   "cell_type": "code",
   "execution_count": 88,
   "id": "c88b4447",
   "metadata": {},
   "outputs": [
    {
     "name": "stdout",
     "output_type": "stream",
     "text": [
      "[[6 2]\n",
      " [3 9]\n",
      " [3 6]]\n"
     ]
    }
   ],
   "source": [
    "# axis=1을 지정하면 행방향 인덱스의 데이터를 삭제한다.\n",
    "print(np.delete(a, 1, axis=1))"
   ]
  },
  {
   "cell_type": "markdown",
   "id": "e492ba81",
   "metadata": {},
   "source": [
    "***\n",
    "배열 결합\n",
    "***\n",
    "concatenate() 메소드는 axis로 결합할 방향을 지정해서 배열을 결합한다.  \n",
    "- np.concatenate((numpy배열1, numpy배열2, .....)[,axis])\n",
    "- np.concatenate([numpy배열1, numpy배열2, .....][,axis])"
   ]
  },
  {
   "cell_type": "code",
   "execution_count": 97,
   "id": "fc11651c",
   "metadata": {},
   "outputs": [
    {
     "name": "stdout",
     "output_type": "stream",
     "text": [
      "[[4 8 8]\n",
      " [7 1 5]]\n",
      "[[10 17 16]\n",
      " [18 17 10]]\n"
     ]
    }
   ],
   "source": [
    "a = np.random.randint(1, 10, (2, 3))\n",
    "print(a)\n",
    "b = np.random.randint(10, 19, (2, 3))\n",
    "print(b)"
   ]
  },
  {
   "cell_type": "code",
   "execution_count": 98,
   "id": "7904e6fe",
   "metadata": {},
   "outputs": [
    {
     "name": "stdout",
     "output_type": "stream",
     "text": [
      "[ 4  8  8  7  1  5 10 17 16 18 17 10]\n"
     ]
    }
   ],
   "source": [
    "# axis=None을 지정하면 1차워으로 변환해서 배열을 결합된다.\n",
    "print(np.concatenate((a, b), axis=None))"
   ]
  },
  {
   "cell_type": "code",
   "execution_count": 101,
   "id": "646926c0",
   "metadata": {},
   "outputs": [
    {
     "name": "stdout",
     "output_type": "stream",
     "text": [
      "[[ 4  8  8]\n",
      " [ 7  1  5]\n",
      " [10 17 16]\n",
      " [18 17 10]]\n",
      "----------------------------------------------------------------------------------------------------\n",
      "[[ 4  8  8]\n",
      " [ 7  1  5]\n",
      " [10 17 16]\n",
      " [18 17 10]]\n"
     ]
    }
   ],
   "source": [
    "# axis를 생략하면 0이 기본값으로 사용되고 열방향(아래쪽)으로 배열을 결합한다.\n",
    "# 결합하려는 배열들의 열의 갯수가 다르면 에러가 발생된다.\n",
    "print(np.concatenate((a, b)))\n",
    "print('-'*100)\n",
    "print(np.concatenate([a, b], axis=0))"
   ]
  },
  {
   "cell_type": "code",
   "execution_count": 102,
   "id": "dd6e16c3",
   "metadata": {},
   "outputs": [
    {
     "name": "stdout",
     "output_type": "stream",
     "text": [
      "[[ 4  8  8 10 17 16]\n",
      " [ 7  1  5 18 17 10]]\n"
     ]
    }
   ],
   "source": [
    "# axis=1을 지정하면 행방향(오른쪽)으로 배열이 결합된다.\n",
    "# 결합하려는 배열들의행의 갯수가 다르면 에러가 발생된다.\n",
    "print(np.concatenate([a, b], axis=1))"
   ]
  },
  {
   "cell_type": "markdown",
   "id": "4d929a00",
   "metadata": {},
   "source": [
    "***\n",
    "vstack() 메소드는 배열을 무조건 열방향(아래쪽, 수직, axis=0)으로 결합한다.  \n",
    "np.concatenate((numpy배열1, numpy배열2, .....),axis=0)와 동일한 기능이 실행된다.\n",
    "***\n",
    "- np.vstack([numpy배열1, numpy배열2, .....])"
   ]
  },
  {
   "cell_type": "code",
   "execution_count": 103,
   "id": "dbb7bbd4",
   "metadata": {},
   "outputs": [
    {
     "name": "stdout",
     "output_type": "stream",
     "text": [
      "[[6 5 7]\n",
      " [7 8 7]]\n",
      "[[17 12 17]\n",
      " [16 13 12]]\n"
     ]
    }
   ],
   "source": [
    "a = np.random.randint(1, 10, (2, 3))\n",
    "print(a)\n",
    "b = np.random.randint(10, 19, (2, 3))\n",
    "print(b)"
   ]
  },
  {
   "cell_type": "code",
   "execution_count": 105,
   "id": "e5c4bced",
   "metadata": {},
   "outputs": [
    {
     "name": "stdout",
     "output_type": "stream",
     "text": [
      "[[ 6  5  7]\n",
      " [ 7  8  7]\n",
      " [17 12 17]\n",
      " [16 13 12]]\n"
     ]
    }
   ],
   "source": [
    "print(np.vstack( (a, b) )) # 결합하려는 배열들의 열의 갯수가 다르면 에러가 발생된다."
   ]
  },
  {
   "cell_type": "markdown",
   "id": "7bdcbe10",
   "metadata": {},
   "source": [
    "***\n",
    "hstack() 메소드는 배열을 무조건 행방향(오른쪽, 수평, axis=1)으로 결합한다.  \n",
    "np.concatenate((numpy배열1, numpy배열2, .....),axis=1)와 동일한 기능이 실행된다.\n",
    "***\n",
    "- np.hstack([numpy배열1, numpy배열2, .....])"
   ]
  },
  {
   "cell_type": "code",
   "execution_count": 107,
   "id": "6144f596",
   "metadata": {},
   "outputs": [
    {
     "name": "stdout",
     "output_type": "stream",
     "text": [
      "[[ 6  5  7 17 12 17]\n",
      " [ 7  8  7 16 13 12]]\n"
     ]
    }
   ],
   "source": [
    "print(np.hstack( (a, b) )) # 결합하려는 배열들의 행의 갯수가 다르면 에러가 발생된다."
   ]
  },
  {
   "cell_type": "markdown",
   "id": "5c970a13",
   "metadata": {},
   "source": [
    "***\n",
    "배열 분리\n",
    "***\n",
    "hsplit() 메소드는 배열을 수평(행)방향으로 분할한다.  \n",
    "- np.hsplit(numpy배열, 분할갯수)"
   ]
  },
  {
   "cell_type": "code",
   "execution_count": 108,
   "id": "b44f1988",
   "metadata": {},
   "outputs": [
    {
     "name": "stdout",
     "output_type": "stream",
     "text": [
      "[[ 1  2  3  4  5  6]\n",
      " [ 7  8  9 10 11 12]\n",
      " [13 14 15 16 17 18]\n",
      " [19 20 21 22 23 24]]\n"
     ]
    }
   ],
   "source": [
    "a = np.arange(1, 25).reshape(4, 6)\n",
    "print(a)"
   ]
  },
  {
   "cell_type": "markdown",
   "id": "42f6d94a",
   "metadata": {},
   "source": [
    "<img src=\"./image/numpyImage09.jpg\">"
   ]
  },
  {
   "cell_type": "code",
   "execution_count": 118,
   "id": "280a85bb",
   "metadata": {},
   "outputs": [
    {
     "name": "stdout",
     "output_type": "stream",
     "text": [
      "<class 'list'>\n",
      "[array([[ 1,  2,  3],\n",
      "       [ 7,  8,  9],\n",
      "       [13, 14, 15],\n",
      "       [19, 20, 21]]), array([[ 4,  5,  6],\n",
      "       [10, 11, 12],\n",
      "       [16, 17, 18],\n",
      "       [22, 23, 24]])]\n",
      "[[[ 1  2  3]\n",
      "  [ 7  8  9]\n",
      "  [13 14 15]\n",
      "  [19 20 21]]\n",
      "\n",
      " [[ 4  5  6]\n",
      "  [10 11 12]\n",
      "  [16 17 18]\n",
      "  [22 23 24]]]\n",
      "3\n"
     ]
    }
   ],
   "source": [
    "result = np.hsplit(a, 2) # 메소드 실행 결과 리턴값은 numpy 배열이 아닌 파이썬 list 형식이다.\n",
    "print(type(result))\n",
    "print(result)\n",
    "print(np.array(result)[0])\n",
    "print(np.array(result)[1])"
   ]
  },
  {
   "cell_type": "markdown",
   "id": "555039a3",
   "metadata": {},
   "source": [
    "<img src=\"./image/numpyImage10.jpg\">"
   ]
  },
  {
   "cell_type": "code",
   "execution_count": 121,
   "id": "0c361c3d",
   "metadata": {},
   "outputs": [
    {
     "name": "stdout",
     "output_type": "stream",
     "text": [
      "[array([[ 1,  2],\n",
      "       [ 7,  8],\n",
      "       [13, 14],\n",
      "       [19, 20]]), array([[ 3,  4],\n",
      "       [ 9, 10],\n",
      "       [15, 16],\n",
      "       [21, 22]]), array([[ 5,  6],\n",
      "       [11, 12],\n",
      "       [17, 18],\n",
      "       [23, 24]])]\n"
     ]
    }
   ],
   "source": [
    "result = np.hsplit(a, 3)\n",
    "print(result)"
   ]
  },
  {
   "cell_type": "code",
   "execution_count": 126,
   "id": "da4b126c",
   "metadata": {},
   "outputs": [
    {
     "name": "stdout",
     "output_type": "stream",
     "text": [
      "[array([[ 1,  2],\n",
      "       [ 7,  8],\n",
      "       [13, 14],\n",
      "       [19, 20]]), array([[ 3,  4],\n",
      "       [ 9, 10],\n",
      "       [15, 16],\n",
      "       [21, 22]]), array([[ 5,  6],\n",
      "       [11, 12],\n",
      "       [17, 18],\n",
      "       [23, 24]])]\n"
     ]
    }
   ],
   "source": [
    "result = np.hsplit(a, 3)\n",
    "print(result)"
   ]
  },
  {
   "cell_type": "markdown",
   "id": "6fb19696",
   "metadata": {},
   "source": [
    "<img src=\"./image/numpyImage11.jpg\">"
   ]
  },
  {
   "cell_type": "code",
   "execution_count": 125,
   "id": "467ccec0",
   "metadata": {},
   "outputs": [
    {
     "name": "stdout",
     "output_type": "stream",
     "text": [
      "[array([[ 1],\n",
      "       [ 7],\n",
      "       [13],\n",
      "       [19]]), array([[ 2,  3],\n",
      "       [ 8,  9],\n",
      "       [14, 15],\n",
      "       [20, 21]]), array([[ 4,  5,  6],\n",
      "       [10, 11, 12],\n",
      "       [16, 17, 18],\n",
      "       [22, 23, 24]])]\n"
     ]
    }
   ],
   "source": [
    "#hsplit() 메소드로 배열을 분리하려면 전체 열의 갯수의 약수의 갯수로 분리가 가능하다.\n",
    "#hsplit() 메소드의 분할 갯수 위치에 분할 기준이 되는 열 인덱스가 저장된 리스트 또는 튜플을 넘겨주면\n",
    "#지정된 열 인덱스를 기준축을 기준으로 분할한다.\n",
    "result = np.hsplit(a, (1, 3))\n",
    "print(result)"
   ]
  },
  {
   "cell_type": "markdown",
   "id": "986be87c",
   "metadata": {},
   "source": [
    "***\n",
    "vsplit() 메소드는 배열을 수직(열)방향으로 분할한다.  \n",
    "- np.vsplit(numpy배열, 분할갯수)"
   ]
  },
  {
   "cell_type": "markdown",
   "id": "7f1d71f2",
   "metadata": {},
   "source": [
    "<img src=\"./image/numpyImage12.jpg\">"
   ]
  },
  {
   "cell_type": "code",
   "execution_count": 127,
   "id": "f59561dc",
   "metadata": {},
   "outputs": [
    {
     "name": "stdout",
     "output_type": "stream",
     "text": [
      "[array([[ 1,  2,  3,  4,  5,  6],\n",
      "       [ 7,  8,  9, 10, 11, 12]]), array([[13, 14, 15, 16, 17, 18],\n",
      "       [19, 20, 21, 22, 23, 24]])]\n"
     ]
    }
   ],
   "source": [
    "result = np.vsplit(a, 2)\n",
    "print(result)"
   ]
  },
  {
   "cell_type": "markdown",
   "id": "af155c66",
   "metadata": {},
   "source": [
    "<img src=\"./image/numpyImage13.jpg\">"
   ]
  },
  {
   "cell_type": "code",
   "execution_count": 128,
   "id": "02e38fb1",
   "metadata": {},
   "outputs": [
    {
     "name": "stdout",
     "output_type": "stream",
     "text": [
      "[array([[1, 2, 3, 4, 5, 6]]), array([[ 7,  8,  9, 10, 11, 12]]), array([[13, 14, 15, 16, 17, 18]]), array([[19, 20, 21, 22, 23, 24]])]\n"
     ]
    }
   ],
   "source": [
    "result = np.vsplit(a, 4)\n",
    "print(result)"
   ]
  },
  {
   "cell_type": "code",
   "execution_count": 129,
   "id": "7c6a3e87",
   "metadata": {},
   "outputs": [
    {
     "name": "stdout",
     "output_type": "stream",
     "text": [
      "[array([[1, 2, 3, 4, 5, 6]]), array([[ 7,  8,  9, 10, 11, 12],\n",
      "       [13, 14, 15, 16, 17, 18]]), array([[19, 20, 21, 22, 23, 24]])]\n"
     ]
    }
   ],
   "source": [
    "result = np.vsplit(a, [1, 3])\n",
    "print(result)"
   ]
  },
  {
   "cell_type": "code",
   "execution_count": null,
   "id": "afb54002",
   "metadata": {},
   "outputs": [],
   "source": []
  },
  {
   "cell_type": "code",
   "execution_count": null,
   "id": "1e8fcd89",
   "metadata": {},
   "outputs": [],
   "source": []
  },
  {
   "cell_type": "code",
   "execution_count": null,
   "id": "f96daef6",
   "metadata": {},
   "outputs": [],
   "source": []
  },
  {
   "cell_type": "code",
   "execution_count": null,
   "id": "6b716808",
   "metadata": {},
   "outputs": [],
   "source": []
  },
  {
   "cell_type": "code",
   "execution_count": null,
   "id": "7501011c",
   "metadata": {},
   "outputs": [],
   "source": []
  },
  {
   "cell_type": "code",
   "execution_count": null,
   "id": "3a4b90ca",
   "metadata": {},
   "outputs": [],
   "source": []
  }
 ],
 "metadata": {
  "kernelspec": {
   "display_name": "Python [conda env:.conda-py3.7] *",
   "language": "python",
   "name": "conda-env-.conda-py3.7-py"
  },
  "language_info": {
   "codemirror_mode": {
    "name": "ipython",
    "version": 3
   },
   "file_extension": ".py",
   "mimetype": "text/x-python",
   "name": "python",
   "nbconvert_exporter": "python",
   "pygments_lexer": "ipython3",
   "version": "3.7.16"
  }
 },
 "nbformat": 4,
 "nbformat_minor": 5
}
