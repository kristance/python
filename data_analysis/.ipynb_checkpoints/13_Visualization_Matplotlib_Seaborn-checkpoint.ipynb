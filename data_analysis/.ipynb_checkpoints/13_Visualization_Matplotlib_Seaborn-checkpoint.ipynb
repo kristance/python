{
 "cells": [
  {
   "cell_type": "code",
   "execution_count": 2,
   "metadata": {},
   "outputs": [
    {
     "ename": "ModuleNotFoundError",
     "evalue": "No module named 'seaborn'",
     "output_type": "error",
     "traceback": [
      "\u001b[1;31m---------------------------------------------------------------------------\u001b[0m",
      "\u001b[1;31mModuleNotFoundError\u001b[0m                       Traceback (most recent call last)",
      "\u001b[1;32m<ipython-input-2-79c8c38ccbfc>\u001b[0m in \u001b[0;36m<module>\u001b[1;34m\u001b[0m\n\u001b[0;32m     12\u001b[0m \u001b[0mplt\u001b[0m\u001b[1;33m.\u001b[0m\u001b[0mrc\u001b[0m\u001b[1;33m(\u001b[0m\u001b[1;34m'font'\u001b[0m\u001b[1;33m,\u001b[0m \u001b[0mfamily\u001b[0m \u001b[1;33m=\u001b[0m \u001b[0mfontprop\u001b[0m\u001b[1;33m)\u001b[0m\u001b[1;33m\u001b[0m\u001b[1;33m\u001b[0m\u001b[0m\n\u001b[0;32m     13\u001b[0m \u001b[0mplt\u001b[0m\u001b[1;33m.\u001b[0m\u001b[0mrc\u001b[0m\u001b[1;33m(\u001b[0m\u001b[1;34m'font'\u001b[0m\u001b[1;33m,\u001b[0m \u001b[0msize\u001b[0m \u001b[1;33m=\u001b[0m \u001b[1;36m16\u001b[0m\u001b[1;33m)\u001b[0m\u001b[1;33m\u001b[0m\u001b[1;33m\u001b[0m\u001b[0m\n\u001b[1;32m---> 14\u001b[1;33m \u001b[1;32mimport\u001b[0m \u001b[0mseaborn\u001b[0m \u001b[1;32mas\u001b[0m \u001b[0msns\u001b[0m\u001b[1;33m\u001b[0m\u001b[1;33m\u001b[0m\u001b[0m\n\u001b[0m\u001b[0;32m     15\u001b[0m \u001b[0mget_ipython\u001b[0m\u001b[1;33m(\u001b[0m\u001b[1;33m)\u001b[0m\u001b[1;33m.\u001b[0m\u001b[0mrun_line_magic\u001b[0m\u001b[1;33m(\u001b[0m\u001b[1;34m'matplotlib'\u001b[0m\u001b[1;33m,\u001b[0m \u001b[1;34m'notebook'\u001b[0m\u001b[1;33m)\u001b[0m\u001b[1;33m\u001b[0m\u001b[1;33m\u001b[0m\u001b[0m\n",
      "\u001b[1;31mModuleNotFoundError\u001b[0m: No module named 'seaborn'"
     ]
    }
   ],
   "source": [
    "import warnings\n",
    "warnings.filterwarnings(\"ignore\")\n",
    "%config Completer.use_jedi = False\n",
    "import numpy as np\n",
    "import pandas as pd\n",
    "import matplotlib.pyplot as plt\n",
    "#plt.rcParams[\"font.size\"] = 10\n",
    "#plt.rcParams[\"font.family\"] = \"NanumGothicCoding\"\n",
    "import matplotlib.font_manager as fm\n",
    "font = 'C:\\\\Windows\\\\Fonts\\\\NanumGothicCoding.ttf'\n",
    "fontprop = fm.FontProperties(fname=font, size=16).get_name()\n",
    "plt.rc('font', family = fontprop)\n",
    "plt.rc('font', size = 16)\n",
    "import seaborn as sns\n",
    "%matplotlib notebook"
   ]
  },
  {
   "cell_type": "code",
   "execution_count": null,
   "metadata": {},
   "outputs": [],
   "source": [
    "anscombe = sns.load_dataset('anscombe')\n",
    "# anscombe"
   ]
  },
  {
   "cell_type": "markdown",
   "metadata": {},
   "source": [
    "matplotlib 사용하기"
   ]
  },
  {
   "cell_type": "code",
   "execution_count": null,
   "metadata": {},
   "outputs": [],
   "source": [
    "# seaborn 라이브러리의 tips 데이터 집합은 어떤 식당에서 팁을 지불한 손님들의 정보를 모아둔 것이다.\n",
    "# tips 데이터 집합은 지불금액, 팁, 성별, 흡연여부, 요일, 전체인원 정보를 담고 있다.\n",
    "tips = sns.load_dataset(\"tips\")\n",
    "print(type(tips))\n",
    "print(tips.head())"
   ]
  },
  {
   "cell_type": "code",
   "execution_count": null,
   "metadata": {},
   "outputs": [],
   "source": [
    "# 히스토그램은 데이터프레임의 열 데이터 분포와 빈도를 살펴보는 용도로 자주 사용하는 그래프이다.\n",
    "fig = plt.figure() # 그래프가 위치할 기본 틀을 만든다.\n",
    "axes1 = fig.add_subplot(1, 1, 1) # 그래프 격자를 그린다.\n",
    "axes1.hist(tips[\"total_bill\"]) # hist() 메소드로 히스토그램을 만들수 있다.\n",
    "axes1.set_title(\"총 지불금액 히스토그램\") # 그래프 제목을 넣는다.\n",
    "axes1.set_xlabel(\"빈도수\") # x축 제목을 넣는다.\n",
    "axes1.set_ylabel(\"지불금액\") # y축 제목을 넣는다."
   ]
  },
  {
   "cell_type": "code",
   "execution_count": null,
   "metadata": {},
   "outputs": [],
   "source": [
    "# 산점도 그래프는 변수 2개를 사용해서 만드는 그래프이며 변수 2개를 사용하기 때문에 통계 용어로 이변량 그래프라 부른다.\n",
    "# total_bill 열에 따른 tip 열의 분포를 나타내는 산점도 그래프\n",
    "# 기본 틀과 그래프 격자를 만들고 scatter() 메소드에 total_bill, tip 열을 전달하면 산점도 그래프가 만들어진다.\n",
    "scatter_plot = plt.figure()\n",
    "axes1 = scatter_plot.add_subplot(1, 1, 1)\n",
    "axes1.scatter(tips[\"total_bill\"], tips[\"tip\"])\n",
    "axes1.set_title(\"총 지불금액에 따른 팁 산점도 그래프\")\n",
    "axes1.set_xlabel(\"지불금액\")\n",
    "axes1.set_ylabel(\"팁\")"
   ]
  },
  {
   "cell_type": "code",
   "execution_count": null,
   "metadata": {
    "scrolled": false
   },
   "outputs": [],
   "source": [
    "# 박스 그래프는 이산형 변수와 연속형 변수를 함께 사용하는 그래프이다.\n",
    "# 이산형 변수란 Female, Male과 같이 명확하게 구분되는 값을 의미하고 연속형 변수란 tip과 같이 명확하게 셀 수 없는 범위의 값을 \n",
    "# 의미한다.\n",
    "# boxplot() 메소드를 사용하면 박스 그래프를 그릴 수 있다.\n",
    "boxplot = plt.figure()\n",
    "axes1 = boxplot.add_subplot(1, 1, 1)\n",
    "\n",
    "# 박스 그래프에 작성에 사용할 데이터는 리스트 형태로 넣어준다.\n",
    "axes1.boxplot(\n",
    "    [tips[tips[\"sex\"] == \"Female\"][\"tip\"], tips[tips[\"sex\"] == \"Male\"][\"tip\"]], \n",
    "    labels = [\"Female\", \"Male\"]\n",
    ")\n",
    "\n",
    "axes1.set_title(\"성별에 따른 팁 박스 그래프\")\n",
    "axes1.set_xlabel(\"성별\")\n",
    "axes1.set_ylabel(\"팁\")"
   ]
  },
  {
   "cell_type": "code",
   "execution_count": null,
   "metadata": {},
   "outputs": [],
   "source": [
    "# 3개 이상의 변수를 사용하는 그래프를 다변량 그래프라 부른다.\n",
    "# 산점도 그래프에 성별을 새 변수로 추가하고 색상으로 구분하면 적절할 것이다. Female, Male과 같은 문자열은 산점도 그래프의 \n",
    "# 색상을 지정하는 값으로 사용할 수 없기 때문에 0, 1과 같은 정수를 사용해야 한다.\n",
    "# 여성(Female)인 경우 0을 반환하고 남성(Male)인 경우 1을 반환하는 함수를 만든다.\n",
    "def record_sex(sex):\n",
    "    if sex == \"Female\":\n",
    "        return 0\n",
    "    else:\n",
    "        return 1"
   ]
  },
  {
   "cell_type": "code",
   "execution_count": null,
   "metadata": {},
   "outputs": [],
   "source": [
    "# record_sex() 함수가 반환하는 값을 데이터프레임에 추가한다.\n",
    "# apply() 메소드를 사용해 sex열에 record_sex() 함수를 브로드캐스팅 한다.\n",
    "# tips[\"sex\"].apply(record_sex)의미는 tips 데이터프레임의 sex 열의 데이터를 record_sex() 함수로 전달해서 일괄적으로 함수를 \n",
    "# 실행한다.\n",
    "tips[\"sex_color\"] = tips[\"sex\"].apply(record_sex)\n",
    "print(tips.head())"
   ]
  },
  {
   "cell_type": "code",
   "execution_count": null,
   "metadata": {},
   "outputs": [],
   "source": [
    "scatter_plot = plt.figure()\n",
    "axes1 = scatter_plot.add_subplot(1, 1, 1)\n",
    "\n",
    "axes1.scatter(\n",
    "    x = tips[\"total_bill\"], # 산점도 그래프의 x축으로 사용할 데이터\n",
    "    y = tips[\"tip\"],        # 산점도 그래프의 y축으로 사용할 데이터\n",
    "    c = tips[\"sex_color\"],  # Female, Male에 따른 데이터를 구별하는 색상\n",
    "    s = tips[\"size\"] * 30,  # 산점도 점의 크기\n",
    "    alpha = 0.5             # 선점도 점의 투명도\n",
    ")\n",
    "\n",
    "axes1.set_title(\"총 지불금액에 따른 팁 산점도 그래프\")\n",
    "axes1.set_xlabel(\"지불금액\")\n",
    "axes1.set_ylabel(\"팁\")"
   ]
  },
  {
   "cell_type": "markdown",
   "metadata": {},
   "source": [
    "seaborn 사용하기  \n",
    "seaborn 라이브러리를 사용하면 matplotlib 보다 좀 더 화려한 그래프를 그릴 수 있다."
   ]
  },
  {
   "cell_type": "code",
   "execution_count": null,
   "metadata": {},
   "outputs": [],
   "source": [
    "tips = sns.load_dataset(\"tips\")\n",
    "print(tips.head())"
   ]
  },
  {
   "cell_type": "code",
   "execution_count": null,
   "metadata": {},
   "outputs": [],
   "source": [
    "# seaborn 라이브러리로 히스토그램을 그리려면 subplots(), distplot() 메소드를 사용한다.\n",
    "# 먼저 subplots() 메소드를 사용해 그래프의 기본 틀을 만들고 distplot() 메소드에 데이터를 전달하면 히스토그램을 그릴 수 있다.\n",
    "ax = plt.subplots()\n",
    "ax = sns.distplot(tips[\"total_bill\"])\n",
    "ax.set_title(\"지불 금액 히스토그램 밀도 그래프\")\n",
    "ax.set_xlabel(\"지불금액\")"
   ]
  },
  {
   "cell_type": "code",
   "execution_count": null,
   "metadata": {
    "scrolled": false
   },
   "outputs": [],
   "source": [
    "# distplot() 메소드를 사용하면 히스토그램과 밀집도 그래프를 같이 그려준다.\n",
    "# 밀집도 그래프는 주어진 데이터를 정규화시켜 넓이가 1이 되도록 그린 그래프를 말하며 밀집도 그래프를 제외하고 싶다면 distplot() \n",
    "# 메소드의 kde 속성을 False로 설정하면 된다.\n",
    "ax = plt.subplots()\n",
    "ax = sns.distplot(tips[\"total_bill\"], kde = False)\n",
    "ax.set_title(\"지불 금액 히스토그램 그래프\")\n",
    "ax.set_xlabel(\"지불금액\")\n",
    "ax.set_ylabel(\"빈도수\")"
   ]
  },
  {
   "cell_type": "code",
   "execution_count": null,
   "metadata": {},
   "outputs": [],
   "source": [
    "# 밀집도 그래프만 나타내려면 distplot() 메소드의 hist 속성을 False로 지정하면 된다.\n",
    "ax = plt.subplots()\n",
    "ax = sns.distplot(tips[\"total_bill\"], hist = False)\n",
    "ax.set_title(\"지불 금액 밀도 그래프\")\n",
    "ax.set_xlabel(\"지불금액\")"
   ]
  },
  {
   "cell_type": "code",
   "execution_count": null,
   "metadata": {},
   "outputs": [],
   "source": [
    "# distplot() 메소드의 rug 속성에 True를 지정하면 그래프의 축에 동일한 길이의 직선을 붙여 데이터 밀집 정도를 표현한 양탄자 \n",
    "# 그래프를 추가로 나타낼 수 있다.\n",
    "ax = plt.subplots()\n",
    "ax = sns.distplot(tips[\"total_bill\"], rug = True)\n",
    "ax.set_title(\"지불 금액 히스토그램 밀도 그래프\")\n",
    "ax.set_xlabel(\"지불금액\")"
   ]
  },
  {
   "cell_type": "code",
   "execution_count": null,
   "metadata": {},
   "outputs": [],
   "source": [
    "# 히스토그램과 비슷하게 생긴 count 그래프는 이산값을 나타내는 그래프로 countplot() 메소드에 tips 데이터프레임의 day 열의 \n",
    "# 데이터를 넣어 count 그래프를 그린다.\n",
    "ax = plt.subplots()\n",
    "ax = sns.countplot(tips[\"day\"]) # ax = sns.countplot(\"day\", data = tips)\n",
    "ax.set_title(\"요일의 개수 그래프\")\n",
    "ax.set_xlabel(\"요일\")\n",
    "ax.set_ylabel(\"빈도수\")"
   ]
  },
  {
   "cell_type": "code",
   "execution_count": null,
   "metadata": {},
   "outputs": [],
   "source": [
    "# seaborn 라이브러리는 matplotlib 라이브러리보다 다양한 방법으로 산점도 그래프를 그릴 수 있다.\n",
    "# 산점도 그래프를 그리려면 seaborn 라이브러리의 regplot() 메소드를 사용한다.\n",
    "# regplot() 메소드를 시용하면 산점도 그래프와 회귀선을 함께 그릴 수 있다.\n",
    "ax = plt.subplots()\n",
    "ax = sns.regplot(tips[\"total_bill\"], tips[\"tip\"])\n",
    "# ax = sns.regplot(x = \"total_bill\", y = \"tip\", data = tips)\n",
    "ax.set_title(\"지불금액과 팁의 산점도 그래프\")\n",
    "ax.set_xlabel(\"지불금액\")\n",
    "ax.set_ylabel(\"팁\")"
   ]
  },
  {
   "cell_type": "code",
   "execution_count": null,
   "metadata": {},
   "outputs": [],
   "source": [
    "ax = plt.subplots()\n",
    "# 만약 산점도 그래프에서 회귀선을 제거하려면 fit_reg 속성을 False로 지정하면 된다.\n",
    "ax = sns.regplot(tips[\"total_bill\"], tips[\"tip\"], fit_reg = False)\n",
    "# ax = sns.regplot(x = \"total_bill\", y = \"tip\", data = tips, fit_reg = False)\n",
    "ax.set_title(\"지불금액과 팁의 산점도 그래프\")\n",
    "ax.set_xlabel(\"지불금액\")\n",
    "ax.set_ylabel(\"팁\")"
   ]
  },
  {
   "cell_type": "code",
   "execution_count": null,
   "metadata": {},
   "outputs": [],
   "source": [
    "# 산점도 그래프와 히스토그램을 한 번에 그리려면 jointplot() 메소드를 사용해서 x, y 속성에 그래프로 표시하려는 열 이름을 \n",
    "# 지정하고 data 속성에 그래프로 표시할 데이터가 저장된 데이터프레임을 지정하면 된다.\n",
    "joint = sns.jointplot(x = \"total_bill\", y = \"tip\", data = tips)\n",
    "# fig.suptitle() 메소드로 그래프의 제목을 설정할 수 있고 fontsize 속성으로 글꼴 크기를 y 속성으로 제목이 표시될 위치를 지정할 \n",
    "# 수 있다.\n",
    "joint.fig.suptitle(\"지불금액과 팁의 산점도 및 히스토그램\", fontsize = 20, y = 0.95)\n",
    "# set_axis_labels() 메소드로 x, y 축의 레이블을 설정할 수 있다.\n",
    "joint.set_axis_labels(xlabel = \"지불금액\", ylabel = \"팁\")"
   ]
  },
  {
   "cell_type": "code",
   "execution_count": null,
   "metadata": {},
   "outputs": [],
   "source": [
    "# 산점도는 점이 겹쳐 보일 경우 점을 구분하기 어렵다는 단점이 있다. 만약 산점도 그래프의 데이터를 구분하기 쉽게 그리고 싶다면 \n",
    "# 육각 그래프를 사용하면 된다.\n",
    "# 육각 그래프는 2차원 표면에 육각형으로 데이터를 쌓아 표현하는 그래프로 jointplot() 메소드를 사용해 그리며 kind 옵션을 hex로 \n",
    "# 지정하면 된다.\n",
    "joint = sns.jointplot(x = \"total_bill\", y = \"tip\", data = tips, kind = \"hex\")\n",
    "joint.fig.suptitle(\"지불금액과 팁의 산점도 및 히스토그램\", fontsize = 20, y = 0.95)\n",
    "joint.set_axis_labels(xlabel = \"지불금액\", ylabel = \"팁\")"
   ]
  },
  {
   "cell_type": "code",
   "execution_count": null,
   "metadata": {},
   "outputs": [],
   "source": [
    "# 이차원 밀집도는 kdeplot() 메소드로 만들 수 있다.\n",
    "# total_bill, tip 열 데이터로 이차원 밀집도 그래프를 그린다. data 속성과 data2 속성에 차트를 구성할 데이터를 지정해야 한다.\n",
    "# kdeplot() 메소드의 shade 속성을 True로 설정하면 그래프에 음영 효과를 줄 수 있다.\n",
    "ax = plt.subplots()\n",
    "ax = sns.kdeplot(data = tips[\"total_bill\"], data2 = tips[\"tip\"], shade = True)\n",
    "ax.set_title(\"지불금액과 빈도수의 이차원 밀집도 그래프\")\n",
    "ax.set_xlabel(\"지불금액\")\n",
    "ax.set_ylabel(\"빈도수\")"
   ]
  },
  {
   "cell_type": "code",
   "execution_count": null,
   "metadata": {},
   "outputs": [],
   "source": [
    "# bar 그래프는 batplot() 메소드로 만들 수 있다.\n",
    "# bar 그래프는 지정한 데이터의 평균을 계산해서 작성된다.\n",
    "ax = plt.subplots()\n",
    "ax = sns.barplot(x = \"time\", y = \"total_bill\", data = tips)\n",
    "ax.set_title(\"시간에 따른 지불금액 평균의 막대 그래프\")\n",
    "ax.set_xlabel(\"시간\")\n",
    "ax.set_ylabel(\"지불금액\")"
   ]
  },
  {
   "cell_type": "code",
   "execution_count": null,
   "metadata": {},
   "outputs": [],
   "source": [
    "# 박스 그래프는 boxplot() 메소드로 만들 수 있다.\n",
    "# 박스 그래프는 지정한 데이터의 최소값, 1분위수, 중간값, 3분위수, 최대값, 이상치 등 다양한 통계량을 한 번에 표현한다.\n",
    "ax = plt.subplots()\n",
    "ax = sns.boxplot(x = \"time\", y = \"total_bill\", data = tips)\n",
    "ax.set_title(\"시간에 따른 지불금액의 박스 그래프\")\n",
    "ax.set_xlabel(\"시간\")\n",
    "ax.set_ylabel(\"지불금액\")"
   ]
  },
  {
   "cell_type": "code",
   "execution_count": null,
   "metadata": {},
   "outputs": [],
   "source": [
    "# 박스 그래프는 다양한 통계 수치를 확인하기 위해 자주 사용하는 그래프지만 데이터 분산이 모호하게 표현된다.\n",
    "# 이런 경우 박스 그래프에 커널 밀도를 추정한 바이올린 그래프를 사용하면 된다. 바이올린 그래프는 violinplot() 메소드를 사용해서\n",
    "# 그릴 수 있다.\n",
    "ax = plt.subplots()\n",
    "ax = sns.violinplot(x = \"time\", y = \"total_bill\", data = tips)\n",
    "ax.set_title(\"시간에 따른 지불금액의 바이올린 그래프\")\n",
    "ax.set_xlabel(\"시간\")\n",
    "ax.set_ylabel(\"지불금액\")"
   ]
  },
  {
   "cell_type": "code",
   "execution_count": null,
   "metadata": {},
   "outputs": [],
   "source": [
    "# 관계 그래프는 지금까지 그려본 그래프를 종합한 그래프라고 생각하면 된다.\n",
    "# 관계 그래프는 pairplot() 메소드에 데이터프레임을 넣어주는 방법으로 간단하게 그릴 수 있다.\n",
    "sns.pairplot(tips)"
   ]
  },
  {
   "cell_type": "code",
   "execution_count": null,
   "metadata": {},
   "outputs": [],
   "source": [
    "# 관계 그래프는 중복된 정보가 표현된다는 단점이 있다. 즉, 관계 그래프의 좌측 상단에서 우측하단 대각선 위쪽 방향은 나머지 절반과\n",
    "# 같다.\n",
    "# 이런 경우 PairGrid 클래스를 시용해서 중복된 그래프가 그려지는 위치를 직접 지정하여 원하는 그래프로 교체하면 된다.\n",
    "# map_upper() 메소드는 대각선을 기준으로 왼쪽에 그릴 그래프를 지정하고 map_lower() 메소드는 대각선을 기준으로 아래쪽에 그릴 \n",
    "# 그래프를 지정하고 map_diag() 메소드는 대각선을 중심으로 그래프를 그린다.\n",
    "pair_grid = sns.PairGrid(tips)\n",
    "pair_grid.map_upper(sns.regplot) # 산점도\n",
    "pair_grid.map_lower(sns.kdeplot) # 산점도\n",
    "pair_grid.map_diag(sns.distplot, rug = True) # 히스토그램, 밀집도"
   ]
  },
  {
   "cell_type": "markdown",
   "metadata": {},
   "source": [
    "seaborn 라이브러리로 다변량 그래프 그리기"
   ]
  },
  {
   "cell_type": "code",
   "execution_count": null,
   "metadata": {},
   "outputs": [],
   "source": [
    "# seaborn 라이브러리로 바이올린 그래프 그리기 - 색상 추가\n",
    "# 바이올린 그래프에 색상을 추가하는 방법은 violinplot() 메소드에 hue 속성에 색상으로 사용할 열 이름을 지정한다.\n",
    "ax1 = plt.subplots()\n",
    "ax1 = sns.violinplot(x = \"time\", y = \"total_bill\", hue = \"sex\", data = tips)\n",
    "ax2 = plt.subplots()\n",
    "ax2 = sns.violinplot(x = \"time\", y = \"total_bill\", hue = \"sex\", data = tips, split = True)"
   ]
  },
  {
   "cell_type": "code",
   "execution_count": null,
   "metadata": {},
   "outputs": [],
   "source": [
    "# 산점도, 관계 그래프 그리기 - 색상 추가\n",
    "sns.lmplot(x = \"total_bill\", y = \"tip\", data = tips, hue = \"sex\", fit_reg = False)\n",
    "sns.pairplot(tips, hue = \"sex\")"
   ]
  },
  {
   "cell_type": "code",
   "execution_count": null,
   "metadata": {},
   "outputs": [],
   "source": [
    "# 산점도 그래프의 크기와 모양 조절하기\n",
    "# 산점도 그래프의 점 크기를 조정하려면 scatter_kws 속성에 딕셔너리 형태의 속성값을 전달하면 된다.\n",
    "sns.lmplot(x = \"total_bill\", y = \"tip\", data = tips, hue = \"sex\", fit_reg = False, scatter_kws = {\"s\": 30})\n",
    "# 산점도 그래프의 점에 다른 기호를 표시하고 싶다면 markers 속성에 표현하고자 하는 기호를 리스트에 담아서 전달하면 된다.\n",
    "sns.lmplot(x = \"total_bill\", y = \"tip\", data = tips, hue = \"sex\", fit_reg = False, scatter_kws = {\"s\": 30}, markers = [\"s\", \"^\"])"
   ]
  },
  {
   "cell_type": "code",
   "execution_count": null,
   "metadata": {
    "scrolled": false
   },
   "outputs": [],
   "source": [
    "# lmplot() 메소드로 앤스콤 4분할 그래프 그린다.\n",
    "# x, y 속성에 앤스콤 데이터 집합의 x, y 열을 전달하고 data 속성에는 anscombe 데이터프레임을 전달하고 fit_reg 속성에는 False \n",
    "# 속성을 지정해 회귀선을 표시하지 않는다. => 4개의 그룹이 한꺼번에 산점도로 그려진다.\n",
    "sns.lmplot(x = \"x\", y = \"y\", data = anscombe, fit_reg = False, hue = \"dataset\")\n",
    "# col 속성에 그룹 이름을 지정하고 col_wrap 속성에 열의 개수를 지정하면 4개의 그룹별로 산점도 그래프를 그릴 수 있다.\n",
    "sns.lmplot(x = \"x\", y = \"y\", data = anscombe, fit_reg = False, col = \"dataset\", col_wrap = 2)"
   ]
  },
  {
   "cell_type": "code",
   "execution_count": null,
   "metadata": {},
   "outputs": [],
   "source": [
    "# FacetGrid 클래스를 사용해서 간편하게 그래프를 그릴 수 있다.\n",
    "# FacetGrid 클래스로 차트를 구성할 데이터와 차트 작성의 기준이 되는 열을 넘겨 차트가 출력될 영역을 만든 후 map() 메소드를 \n",
    "# 이용해서 차트 종류, 차트를 만들 데이터를 넘겨주면 된다.\n",
    "facet = sns.FacetGrid(tips, col = \"time\")\n",
    "facet = facet.map(sns.distplot, \"total_bill\", rug = True)"
   ]
  },
  {
   "cell_type": "code",
   "execution_count": null,
   "metadata": {},
   "outputs": [],
   "source": [
    "# day 열로 그룹을 구분해 산점도를 그리고 범례를 표시한다.\n",
    "facet = sns.FacetGrid(tips, col = \"day\", hue = \"sex\")\n",
    "facet = facet.map(plt.scatter, \"total_bill\", \"tip\")\n",
    "facet = facet.add_legend() # 범례 추가, 색상으로 사용된 열이 범례로 추가된다."
   ]
  },
  {
   "cell_type": "code",
   "execution_count": null,
   "metadata": {},
   "outputs": [],
   "source": [
    "# time, smoker 열로 그룹을 구분해 산점도를 그린다.\n",
    "# time 열은 Dinner/Lunch, smoker 열은 Yes/No 각각 2개의 값을 가지고 있으므로 2행 2열의 격자가 만들어지고 산점도가 출력된다.\n",
    "facet = sns.FacetGrid(tips, col = \"time\", row = \"smoker\", hue = \"sex\")\n",
    "facet = facet.map(plt.scatter, \"total_bill\", \"tip\")\n",
    "facet = facet.add_legend()"
   ]
  },
  {
   "cell_type": "markdown",
   "metadata": {},
   "source": [
    "데이터프레임과 시리즈로 그래프 그리기"
   ]
  },
  {
   "cell_type": "code",
   "execution_count": null,
   "metadata": {},
   "outputs": [],
   "source": [
    "# hist() 메소드를 사용해 해당 시리즈의 값을 이용하여 히스토그램을 그릴 수 있다.\n",
    "fig, ax = plt.subplots()\n",
    "ax = tips[\"total_bill\"].plot.hist()"
   ]
  },
  {
   "cell_type": "code",
   "execution_count": null,
   "metadata": {
    "scrolled": false
   },
   "outputs": [],
   "source": [
    "# 두 개 이상의 시리즈에 대한 히스토그램을 만들려면 시리즈를 리스트로 묶어서 전달하면 된다.\n",
    "fig, ax = plt.subplots()\n",
    "ax = tips[[\"total_bill\", \"tip\"]].plot.hist(alpha = 0.5, bins = 20, ax = ax)"
   ]
  },
  {
   "cell_type": "code",
   "execution_count": null,
   "metadata": {
    "scrolled": false
   },
   "outputs": [],
   "source": [
    "# 밀집도, 산점도, 육각 그래프, 박스 그래프는 각각 kde, scatter, hexbin. box 메소드를 사용해서 그릴 수 있다.\n",
    "fig, ax = plt.subplots()\n",
    "ax = tips[\"tip\"].plot.kde()\n",
    "ax = tips.plot.scatter(x = \"total_bill\", y = \"tip\")\n",
    "ax = tips.plot.hexbin(x = \"total_bill\", y = \"tip\", gridsize = 15) # gridsize 옵션으로 육각형 크기를 조정한다.\n",
    "ax = tips.plot.box()"
   ]
  },
  {
   "cell_type": "markdown",
   "metadata": {},
   "source": [
    "seaborn 라이브러리로 그래프 스타일 지정하기"
   ]
  },
  {
   "cell_type": "code",
   "execution_count": null,
   "metadata": {},
   "outputs": [],
   "source": [
    "# seaborm 라이브러리 스타일은 darkgrid, whitegrid, dark, white, ticks로 5종류가 있다.\n",
    "sns.set_style(\"ticks\")\n",
    "fig, ax = plt.subplots()\n",
    "ax = sns.violinplot(x = \"time\", y = \"total_bill\", hue = \"sex\", data = tips, split = True)"
   ]
  },
  {
   "cell_type": "code",
   "execution_count": null,
   "metadata": {},
   "outputs": [],
   "source": [
    "fig, ax = plt.subplots()\n",
    "seaborn_styles = [\"darkgrid\", \"whitegrid\", \"dark\", \"white\", \"ticks\"]\n",
    "# enumerate()은 열거형을 의미하며 인수로 지정된 데이터의 (인덱스, 데이터)가 쌍으로 구성된 튜플을 리턴한다.\n",
    "for idx, style in enumerate(seaborn_styles):\n",
    "    print(idx, style)\n",
    "    plot_position = idx + 1\n",
    "    sns.axes_style(style)\n",
    "    ax = fig.add_subplot(2, 3, plot_position)\n",
    "    violin = sns.violinplot(x = \"time\", y = \"total_bill\", data = tips, ax = ax)\n",
    "    violin.set_title(style)\n",
    "fig.tight_layout()"
   ]
  },
  {
   "cell_type": "code",
   "execution_count": null,
   "metadata": {},
   "outputs": [],
   "source": []
  },
  {
   "cell_type": "code",
   "execution_count": null,
   "metadata": {},
   "outputs": [],
   "source": []
  }
 ],
 "metadata": {
  "kernelspec": {
   "display_name": "Python [conda env:.conda-py3.6]",
   "language": "python",
   "name": "conda-env-.conda-py3.6-py"
  },
  "language_info": {
   "codemirror_mode": {
    "name": "ipython",
    "version": 3
   },
   "file_extension": ".py",
   "mimetype": "text/x-python",
   "name": "python",
   "nbconvert_exporter": "python",
   "pygments_lexer": "ipython3",
   "version": "3.6.13"
  }
 },
 "nbformat": 4,
 "nbformat_minor": 4
}
