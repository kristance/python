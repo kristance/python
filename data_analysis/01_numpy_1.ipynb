{
 "cells": [
  {
   "cell_type": "code",
   "execution_count": 1,
   "id": "cbf8d6c0",
   "metadata": {},
   "outputs": [],
   "source": [
    "%config Completer.use_jedi = False\n",
    "import warnings\n",
    "warnings.filterwarnings(action=\"ignore\")"
   ]
  },
  {
   "cell_type": "markdown",
   "id": "bd2c29fe",
   "metadata": {},
   "source": [
    "***\n",
    "numpy의 특징\n",
    "***\n",
    "파이썬 기반 데이터 분석 환경에서 numpy는 행렬 연산을 위한 핵심 라이브러리이다.  \n",
    "numpy는 대규모, 다차원 배열과 행렬 연산에 필요한 다양한 함수 및 메소드를 제공하고 메모리 버퍼에  \n",
    "데이터를 저장하고 처맇나느 효율적인 인터페이스를 제공한다.  \n",
    "파이썬의 리스트 객체를 개선한 numpy의 ndarray 객체를 사용하면 더 많은 데이터를 더 빠르게 처리할 수 있다.  \n",
    "***\n",
    "1. 강력한 n차원 배열 객체  \n",
    "2. 정교한 브로드캐스팅(다대일 연산) 기능  \n",
    "3. C/C++ 및 fortran 코드 통합 도구  \n",
    "4. 유연한 선형대수, 푸리에 변환 및 난수 기능  \n",
    "5. 범용적 처리에 사용 가능한 다차원 컨테이너  \n",
    "\n"
   ]
  },
  {
   "cell_type": "code",
   "execution_count": 2,
   "id": "c028040a",
   "metadata": {},
   "outputs": [
    {
     "name": "stdout",
     "output_type": "stream",
     "text": [
      "1.21.5\n"
     ]
    }
   ],
   "source": [
    "import numpy as np\n",
    "print(np.__version__) # __version__: 설치된 라이브러리의 버전을 얻어온다."
   ]
  },
  {
   "cell_type": "markdown",
   "id": "b0d0dc97",
   "metadata": {},
   "source": [
    "***\n",
    "numpy 데이터 타입\n",
    "***\n",
    "numpy는 다음과 같은 데이터 타입을 지원한다.  \n",
    "-> numpy 배열을 만들때 dtype 속성으로 데이터 타입을 지정할 수 있다.  \n",
    "***\n",
    "np.ini  : 정수(고정 소수점) 타입  \n",
    "np.float  : 실수(부동 소수점) 타입  \n",
    "np.bool  : 불리언(논리값) 타입  \n",
    "np.complex  : 복소수 타입  \n",
    "np.object  : 파이썬 객체 타입  \n",
    "np.string_  : 스트링 타입  \n",
    "np.unicode  :  유니코드 타입"
   ]
  },
  {
   "cell_type": "markdown",
   "id": "c32abb61",
   "metadata": {},
   "source": [
    "numpy는 다차원 배열을 지원하고 numpy 배열 구조는 shape으로 표현한다.  \n",
    "shape는 배열의 구조를 튜플 자료형을 사용해서 정의한다.\n",
    "예를 들면, 28 * 28 컬러 사진은 폭이 28픽셀, 높이가 28픽셀, 각 픽셀은 3개의 채널(RGB)로 구성된다.  \n",
    "따라서, 컬러 사진의 데이터 구조는 shape(28, 28, 3)인 3차원 배열이 된다.\n",
    "다차원 배열은 입체적인 구조를 가지며 데이터 차원은 여러 갈래의 데이터 방향(axis)을 가진다.  \n",
    "3차원 배열의 데이터 방향은 // 면 -> axis=0 // 행 -> axis=1 // 열 -> axis=2 //로 지정한다. \n",
    "\n",
    "\n",
    "<img src=\"./image/numpyImage01.jpg\" witdh=\"600\">"
   ]
  },
  {
   "cell_type": "code",
   "execution_count": 3,
   "id": "cbf72741",
   "metadata": {},
   "outputs": [],
   "source": [
    "#numpy 배열 객체 정보 출력용으로 사용할 함수 선언 \n",
    "def pprint(arr):\n",
    "    print('type -> {}'.format( type(arr) ))\n",
    "    print('shape -> {}, dimension -> {}, dtype -> {}'.format( arr.shape, arr.ndim, arr.dtype ))\n",
    "    print('vvv numpy Data vvv\\n ', arr, sep='')"
   ]
  },
  {
   "cell_type": "markdown",
   "id": "ec0e3ba7",
   "metadata": {},
   "source": [
    "파이썬의 리스트 객체로 사용로 numpy 배열을 생성할 수 있다."
   ]
  },
  {
   "cell_type": "code",
   "execution_count": 4,
   "id": "8757b6e3",
   "metadata": {},
   "outputs": [
    {
     "name": "stdout",
     "output_type": "stream",
     "text": [
      "[1, 2, 3]\n",
      "<class 'list'>\n",
      "****************************************************************************************************\n",
      "type -> <class 'numpy.ndarray'>\n",
      "shape -> (3,), dimension -> 1, dtype -> int32\n",
      "vvv numpy Data vvv\n",
      " [1 2 3]\n",
      "****************************************************************************************************\n",
      "type -> <class 'numpy.ndarray'>\n",
      "shape -> (3,), dimension -> 1, dtype -> int32\n",
      "vvv numpy Data vvv\n",
      " [1 2 3]\n",
      "****************************************************************************************************\n",
      "type -> <class 'numpy.ndarray'>\n",
      "shape -> (3,), dimension -> 1, dtype -> int32\n",
      "vvv numpy Data vvv\n",
      " [1 2 3]\n",
      "****************************************************************************************************\n",
      "type -> <class 'numpy.ndarray'>\n",
      "shape -> (3,), dimension -> 1, dtype -> int16\n",
      "vvv numpy Data vvv\n",
      " [1 2 3]\n"
     ]
    }
   ],
   "source": [
    "# 파이썬 1차원 list로 numpy 배열만들기\n",
    "arr = [1, 2, 3]\n",
    "print(arr)\n",
    "print(type(arr))\n",
    "print('*' * 100)\n",
    "\n",
    "#numpy의 array() 메소드는 인수로 리스트 객체와 데이터 타입을 넘겨받아 numpy 배열을 만든다.\n",
    "#데이터 타입은 생략 가능하고, 기본값은 정수는 np.int(np.int32), 실수는 np.float(np.float64)이다.\n",
    "a = np.array(arr)\n",
    "pprint(a)\n",
    "print('*' * 100)\n",
    "b = np.array(arr, dtype=np.int)\n",
    "pprint(b)\n",
    "print('*' * 100)\n",
    "c = np.array(arr, dtype=np.int32)\n",
    "pprint(c)\n",
    "#정수형 데이터의 dtype은 np.int8, np.int16, np.int32(np.int), np.int64를 사용할 수 있다.\n",
    "print('*' * 100)\n",
    "d = np.array(arr, dtype=np.int16)\n",
    "pprint(d)"
   ]
  },
  {
   "cell_type": "code",
   "execution_count": 5,
   "id": "55b2f472",
   "metadata": {},
   "outputs": [
    {
     "name": "stdout",
     "output_type": "stream",
     "text": [
      "[1, 2.0, 3]\n",
      "<class 'list'>\n",
      "****************************************************************************************************\n",
      "type -> <class 'numpy.ndarray'>\n",
      "shape -> (3,), dimension -> 1, dtype -> float64\n",
      "vvv numpy Data vvv\n",
      " [1. 2. 3.]\n",
      "****************************************************************************************************\n",
      "type -> <class 'numpy.ndarray'>\n",
      "shape -> (3,), dimension -> 1, dtype -> float64\n",
      "vvv numpy Data vvv\n",
      " [1. 2. 3.]\n",
      "****************************************************************************************************\n",
      "type -> <class 'numpy.ndarray'>\n",
      "shape -> (3,), dimension -> 1, dtype -> float32\n",
      "vvv numpy Data vvv\n",
      " [1. 2. 3.]\n",
      "****************************************************************************************************\n",
      "type -> <class 'numpy.ndarray'>\n",
      "shape -> (3,), dimension -> 1, dtype -> float32\n",
      "vvv numpy Data vvv\n",
      " [1. 2. 3.]\n"
     ]
    }
   ],
   "source": [
    "# 파이썬 1차원 list로 numpy 배열만들기 #numpy는 요소하나를 ','가 아니라 공백으로 구분\n",
    "arr = [1, 2., 3]\n",
    "print(arr)\n",
    "print(type(arr))\n",
    "print('*' * 100)\n",
    "\n",
    "a = np.array(arr)\n",
    "pprint(a)\n",
    "print('*' * 100)\n",
    "b = np.array(arr, dtype=np.float)\n",
    "pprint(b)\n",
    "print('*' * 100)\n",
    "c = np.array(arr, dtype=np.float32)\n",
    "pprint(c)\n",
    "#실수형 데이터의 dtype은 np.float16, np.float32, np.float64(np.float)를 사용할 수 있다.\n",
    "print('*' * 100)\n",
    "d = np.array(arr, dtype=np.float32)\n",
    "pprint(d)"
   ]
  },
  {
   "cell_type": "code",
   "execution_count": 6,
   "id": "ffa4ac5c",
   "metadata": {},
   "outputs": [
    {
     "name": "stdout",
     "output_type": "stream",
     "text": [
      "[[1, 2, 3], [4, 5, 6]]\n",
      "<class 'list'>\n",
      "****************************************************************************************************\n",
      "type -> <class 'numpy.ndarray'>\n",
      "shape -> (2, 3), dimension -> 2, dtype -> float64\n",
      "vvv numpy Data vvv\n",
      " [[1. 2. 3.]\n",
      " [4. 5. 6.]]\n",
      "****************************************************************************************************\n"
     ]
    }
   ],
   "source": [
    "#파이썬 2차원 리스트로 numpy 배열 만들기\n",
    "arr = [[1, 2, 3], [4, 5, 6]]\n",
    "print(arr)\n",
    "print(type(arr))\n",
    "print('*' * 100)\n",
    "a = np.array(arr, dtype=float)\n",
    "pprint(a)\n",
    "print('*' * 100)"
   ]
  },
  {
   "cell_type": "code",
   "execution_count": 7,
   "id": "dc17580c",
   "metadata": {},
   "outputs": [
    {
     "name": "stdout",
     "output_type": "stream",
     "text": [
      "[[[1, 2, 3], [4, 5, 6]], [[7, 8, 9], [10, 11, 12]]]\n",
      "<class 'list'>\n",
      "****************************************************************************************************\n",
      "type -> <class 'numpy.ndarray'>\n",
      "shape -> (2, 2, 3), dimension -> 3, dtype -> int32\n",
      "vvv numpy Data vvv\n",
      " [[[ 1  2  3]\n",
      "  [ 4  5  6]]\n",
      "\n",
      " [[ 7  8  9]\n",
      "  [10 11 12]]]\n",
      "****************************************************************************************************\n"
     ]
    }
   ],
   "source": [
    "#파이썬 3차원 리스트로 numpy 배열 만들기\n",
    "arr = [[[1, 2, 3], [4, 5, 6]], [[7, 8, 9], [10, 11, 12]]]\n",
    "print(arr)\n",
    "print(type(arr))\n",
    "print('*' * 100)\n",
    "a = np.array(arr)\n",
    "pprint(a)\n",
    "print('*' * 100)"
   ]
  },
  {
   "cell_type": "markdown",
   "id": "9bd9a6f5",
   "metadata": {},
   "source": [
    "numpy는 원하는 shape으로 배열을 생성하고 각 요소들을 특정 값으로 초기화시키는 메소드를 제공한다."
   ]
  },
  {
   "cell_type": "code",
   "execution_count": 8,
   "id": "646f3889",
   "metadata": {},
   "outputs": [
    {
     "name": "stdout",
     "output_type": "stream",
     "text": [
      "type -> <class 'numpy.ndarray'>\n",
      "shape -> (3, 4), dimension -> 2, dtype -> float64\n",
      "vvv numpy Data vvv\n",
      " [[0. 0. 0. 0.]\n",
      " [0. 0. 0. 0.]\n",
      " [0. 0. 0. 0.]]\n",
      "****************************************************************************************************\n",
      "type -> <class 'numpy.ndarray'>\n",
      "shape -> (3, 4), dimension -> 2, dtype -> int32\n",
      "vvv numpy Data vvv\n",
      " [[0 0 0 0]\n",
      " [0 0 0 0]\n",
      " [0 0 0 0]]\n",
      "****************************************************************************************************\n",
      "type -> <class 'numpy.ndarray'>\n",
      "shape -> (3, 4), dimension -> 2, dtype -> int32\n",
      "vvv numpy Data vvv\n",
      " [[0 0 0 0]\n",
      " [0 0 0 0]\n",
      " [0 0 0 0]]\n",
      "****************************************************************************************************\n"
     ]
    }
   ],
   "source": [
    "# zeros() 메소드는 지정된 shape 만큼의 배열을 생성하고 모든 요소를 0으로 초기화한다. ->  0행렬\n",
    "# zeros(shape [, dtype, order]) # dtype, order는 생략가능하다.\n",
    "# order -> 2차원 이상의 배열에서 데이터가 채워지는 방식을 지정한다.\n",
    "# 행 우선 방식 -> 대부분의 프로그래밍 언어에서 채택, C/C++, java, C#, python\n",
    "# 열 우선 방식 -> fortran\n",
    "a = np.zeros(shape= (3, 4)) #dtype 생략시 np.float가 기본값으로 사용된다.\n",
    "pprint(a)\n",
    "print('*' * 100)\n",
    "b = np.zeros(shape= (3, 4), dtype=np.int) #order를 생략하면 행 우선 방식을 사용한다.\n",
    "pprint(b)\n",
    "print('*' * 100)\n",
    "c = np.zeros(shape= (3, 4), dtype=np.int, order='f') # order='f' 속성을 지정하면 열 우선 방식을 사용한다.\n",
    "pprint(c)\n",
    "print('*' * 100)"
   ]
  },
  {
   "cell_type": "code",
   "execution_count": 9,
   "id": "5ff75002",
   "metadata": {},
   "outputs": [
    {
     "name": "stdout",
     "output_type": "stream",
     "text": [
      "type -> <class 'numpy.ndarray'>\n",
      "shape -> (3, 4), dimension -> 2, dtype -> float64\n",
      "vvv numpy Data vvv\n",
      " [[1. 1. 1. 1.]\n",
      " [1. 1. 1. 1.]\n",
      " [1. 1. 1. 1.]]\n",
      "****************************************************************************************************\n"
     ]
    }
   ],
   "source": [
    "# ones() 메소드는 지정된 shape 만큼의 배열을 생성하고 모든 요소를 1으로 초기화한다.\n",
    "# ones(shape [, dtype, order]) \n",
    "a = np.ones(shape= (3, 4)) \n",
    "pprint(a)\n",
    "print('*' * 100)"
   ]
  },
  {
   "cell_type": "code",
   "execution_count": 10,
   "id": "b1130092",
   "metadata": {},
   "outputs": [
    {
     "name": "stdout",
     "output_type": "stream",
     "text": [
      "type -> <class 'numpy.ndarray'>\n",
      "shape -> (3, 4), dimension -> 2, dtype -> int32\n",
      "vvv numpy Data vvv\n",
      " [[7 7 7 7]\n",
      " [7 7 7 7]\n",
      " [7 7 7 7]]\n",
      "****************************************************************************************************\n"
     ]
    }
   ],
   "source": [
    "# full() 메소드는 지정된 shape 만큼의 배열을 생성하고 모든 요소를 특정값으로 초기화한다.\n",
    "# full(shape, fill_value [, dtype, order]) \n",
    "a = np.full(shape= (3, 4), fill_value=7 ) \n",
    "pprint(a)\n",
    "print('*' * 100)"
   ]
  },
  {
   "cell_type": "code",
   "execution_count": 11,
   "id": "c895c7f6",
   "metadata": {},
   "outputs": [
    {
     "name": "stdout",
     "output_type": "stream",
     "text": [
      "type -> <class 'numpy.ndarray'>\n",
      "shape -> (5, 5), dimension -> 2, dtype -> float64\n",
      "vvv numpy Data vvv\n",
      " [[1. 0. 0. 0. 0.]\n",
      " [0. 1. 0. 0. 0.]\n",
      " [0. 0. 1. 0. 0.]\n",
      " [0. 0. 0. 1. 0.]\n",
      " [0. 0. 0. 0. 1.]]\n",
      "****************************************************************************************************\n"
     ]
    }
   ],
   "source": [
    "# eye() 메소드는 지정된 shape 만큼의 크기를 가지는 단위행렬(주 대각 요소만 1이고 나머지 요소는 0인 행렬)를 만든다.\n",
    "# eye(n[, dtype]) \n",
    "a = np.eye(5) \n",
    "pprint(a)\n",
    "print('*' * 100)"
   ]
  },
  {
   "cell_type": "code",
   "execution_count": 12,
   "id": "eb96b5d6",
   "metadata": {},
   "outputs": [
    {
     "name": "stdout",
     "output_type": "stream",
     "text": [
      "type -> <class 'numpy.ndarray'>\n",
      "shape -> (3, 4), dimension -> 2, dtype -> float64\n",
      "vvv numpy Data vvv\n",
      " [[1. 1. 1. 1.]\n",
      " [1. 1. 1. 1.]\n",
      " [1. 1. 1. 1.]]\n",
      "****************************************************************************************************\n"
     ]
    }
   ],
   "source": [
    "#  empty() 메소드는 지정된 shape 만큼의 배열을 생성하고 초기화시키지 않는다. -> 쓰레기가 저장된다.\n",
    "# empty (shape [, dtype, order]) \n",
    "a = np.empty(shape=(3, 4)) \n",
    "pprint(a)\n",
    "print('*' * 100)"
   ]
  },
  {
   "cell_type": "markdown",
   "id": "fda4933f",
   "metadata": {},
   "source": [
    "numpy는 인수로 지정한 배열과 shape이 같은 배열을 만드는 *_like 메소드를 제공한다.  \n",
    "zero_like(), ones_like(), full_like(), empty_like()"
   ]
  },
  {
   "cell_type": "code",
   "execution_count": 13,
   "id": "d8c9390c",
   "metadata": {},
   "outputs": [
    {
     "name": "stdout",
     "output_type": "stream",
     "text": [
      "[[1 2 3]\n",
      " [4 5 6]]\n",
      "****************************************************************************************************\n",
      "[[0 0 0]\n",
      " [0 0 0]]\n",
      "****************************************************************************************************\n",
      "[[1 1 1]\n",
      " [1 1 1]]\n",
      "****************************************************************************************************\n",
      "[[7 7 7]\n",
      " [7 7 7]]\n",
      "****************************************************************************************************\n",
      "[[         0 1072693248          0]\n",
      " [1073741824          0 1074266112]]\n",
      "****************************************************************************************************\n"
     ]
    }
   ],
   "source": [
    "a = np.array([[1, 2, 3], [4, 5, 6]])\n",
    "print(a)\n",
    "print('*' * 100)\n",
    "b = np.zeros_like(a)\n",
    "print(b)\n",
    "print('*' * 100)\n",
    "c = np.ones_like(a)\n",
    "print(c)\n",
    "print('*' * 100)\n",
    "d = np.full_like(a, fill_value=7)\n",
    "print(d)\n",
    "print('*' * 100)\n",
    "e = np.empty_like(a)\n",
    "print(e)\n",
    "print('*' * 100)"
   ]
  },
  {
   "cell_type": "code",
   "execution_count": 14,
   "id": "84688a67",
   "metadata": {},
   "outputs": [],
   "source": [
    "import matplotlib.pyplot as plt"
   ]
  },
  {
   "cell_type": "markdown",
   "id": "71b9ae9b",
   "metadata": {},
   "source": [
    "데이터 생성 메소드"
   ]
  },
  {
   "cell_type": "code",
   "execution_count": 15,
   "id": "0e9ce4f8",
   "metadata": {},
   "outputs": [
    {
     "name": "stdout",
     "output_type": "stream",
     "text": [
      "type -> <class 'numpy.ndarray'>\n",
      "shape -> (5,), dimension -> 1, dtype -> float64\n",
      "vvv numpy Data vvv\n",
      " [0.   0.25 0.5  0.75 1.  ]\n"
     ]
    },
    {
     "data": {
      "image/png": "[encoded data removed]",
      "text/plain": [
       "<Figure size 400x200 with 1 Axes>"
      ]
     },
     "metadata": {},
     "output_type": "display_data"
    }
   ],
   "source": [
    "# linspace() 메소드는 start부터 stop 사이의 범위에서 num개를 균일한 간격으로 데이터를 생성하고 배열을 만든다.\n",
    "# linspace(start, stop, num)\n",
    "a = np.linspace(0, 1, 5)\n",
    "pprint(a)\n",
    "\n",
    "plt.figure(figsize=(4, 2))\n",
    "plt.plot(a)\n",
    "plt.show()"
   ]
  },
  {
   "cell_type": "code",
   "execution_count": 16,
   "id": "b523a84c",
   "metadata": {},
   "outputs": [
    {
     "name": "stdout",
     "output_type": "stream",
     "text": [
      "type -> <class 'numpy.ndarray'>\n",
      "shape -> (5,), dimension -> 1, dtype -> int32\n",
      "vvv numpy Data vvv\n",
      " [0 2 4 6 8]\n"
     ]
    },
    {
     "data": {
      "image/png": "[encoded data removed]",
      "text/plain": [
       "<Figure size 400x200 with 1 Axes>"
      ]
     },
     "metadata": {},
     "output_type": "display_data"
    }
   ],
   "source": [
    "#arange() 메소드는 start 부터 stop이 되기 전까지 step 간격으로 데이터를 생성하고 배열을 만든다.\n",
    "#arange([start, ]stop [, step, dtype])\n",
    "#linspace() 메소드는 요소의 갯수를 지정해서 배열을 만들지만,\n",
    "#arange() 메소드느 요소의 갯수가 아닌 데이터의 간격을 기준으로 배열을 만든다.\n",
    "#start를 생략하면 0, step을 생략하면 1이 기본값으로 사용된다.\n",
    "#arange(10), arange(0, 10), arange(0, 10, 1)은 모두 같은 기능이 실행된다.\n",
    "a = np.arange(0, 10, 2)\n",
    "pprint(a)\n",
    "\n",
    "plt.figure(figsize=(4, 2))\n",
    "plt.plot(a)\n",
    "plt.show()"
   ]
  },
  {
   "cell_type": "code",
   "execution_count": 17,
   "id": "36dc649d",
   "metadata": {},
   "outputs": [
    {
     "name": "stdout",
     "output_type": "stream",
     "text": [
      "type -> <class 'numpy.ndarray'>\n",
      "shape -> (100,), dimension -> 1, dtype -> float64\n",
      "vvv numpy Data vvv\n",
      " [   2.            2.13008218    2.26862504    2.41617889    2.5733298\n",
      "    2.74070197    2.91896021    3.10881256    3.31101312    3.52636502\n",
      "    3.75572364    4.            4.26016436    4.53725009    4.83235778\n",
      "    5.14665959    5.48140394    5.83792042    6.21762513    6.62202624\n",
      "    7.05273004    7.51144729    8.            8.52032872    9.07450018\n",
      "    9.66471556   10.29331918   10.96280788   11.67584085   12.43525025\n",
      "   13.24405248   14.10546008   15.02289457   16.           17.04065743\n",
      "   18.14900036   19.32943111   20.58663837   21.92561576   23.35168169\n",
      "   24.87050051   26.48810496   28.21092016   30.04578914   32.\n",
      "   34.08131486   36.29800071   38.65886222   41.17327674   43.85123151\n",
      "   46.70336338   49.74100102   52.97620991   56.42184032   60.09157828\n",
      "   64.           68.16262972   72.59600142   77.31772444   82.34655347\n",
      "   87.70246302   93.40672676   99.48200203  105.95241983  112.84368064\n",
      "  120.18315656  128.          136.32525945  145.19200284  154.63544888\n",
      "  164.69310695  175.40492604  186.81345353  198.96400407  211.90483965\n",
      "  225.68736128  240.36631313  256.          272.6505189   290.38400568\n",
      "  309.27089777  329.38621389  350.80985209  373.62690705  397.92800813\n",
      "  423.8096793   451.37472256  480.73262626  512.          545.30103779\n",
      "  580.76801136  618.54179554  658.77242778  701.61970418  747.25381411\n",
      "  795.85601627  847.6193586   902.74944512  961.46525252 1024.        ]\n"
     ]
    },
    {
     "data": {
      "image/png": "[encoded data removed]",
      "text/plain": [
       "<Figure size 500x500 with 1 Axes>"
      ]
     },
     "metadata": {},
     "output_type": "display_data"
    }
   ],
   "source": [
    "# logspace() 메소드는 로그 스케일로 start부터 end 사이의 범위에서 num개를 균일한 간격으로\n",
    "# 데이터를 생성하고 배열을 만든다.\n",
    "# logspace(start, end, num[, base]) #base를 생략하면 10이 기본값으로 사용된다.\n",
    "a = np.logspace(1, 10, 100, base=2)\n",
    "pprint(a)\n",
    "\n",
    "plt.figure(figsize=(5, 5))\n",
    "plt.plot(a, '1')\n",
    "plt.show()"
   ]
  },
  {
   "cell_type": "markdown",
   "id": "b19dfd5e",
   "metadata": {},
   "source": [
    "***\n",
    "난수 기반 배열 생성\n",
    "***\n",
    "numpy는 난수 발생 및 배열을 생성하는 random이라는 모듈을 제공한다.\n"
   ]
  },
  {
   "cell_type": "code",
   "execution_count": 18,
   "id": "d1a4580e",
   "metadata": {},
   "outputs": [
    {
     "name": "stdout",
     "output_type": "stream",
     "text": [
      "type -> <class 'numpy.ndarray'>\n",
      "shape -> (10,), dimension -> 1, dtype -> float64\n",
      "vvv numpy Data vvv\n",
      " [-2.67929012  0.48126571  0.33682904 -0.25623246  0.72874483 -0.70512241\n",
      " -1.46298778 -1.82545428  0.82476116  0.6520029 ]\n"
     ]
    },
    {
     "data": {
      "image/png": "[encoded data removed]",
      "text/plain": [
       "<Figure size 400x400 with 1 Axes>"
      ]
     },
     "metadata": {},
     "output_type": "display_data"
    }
   ],
   "source": [
    "#normal() 메소드는 정규 분포를 따르는 난수 데이터를 생성하고 배열을 만든다.\n",
    "# normal(평균, 표준편차, 난수의 갯수)\n",
    "#평균이 0이고, 표준편차가 1인(표준 정규분포) 정규 분포를 따르는 난수를 발생시킨다.\n",
    "a = np.random.normal(0, 1, 10)\n",
    "pprint(a)\n",
    "\n",
    "plt.figure(figsize=(4, 4))\n",
    "plt.hist(a)\n",
    "plt.show()"
   ]
  },
  {
   "cell_type": "code",
   "execution_count": 19,
   "id": "d8eca809",
   "metadata": {},
   "outputs": [
    {
     "name": "stdout",
     "output_type": "stream",
     "text": [
      "type -> <class 'numpy.ndarray'>\n",
      "shape -> (100000,), dimension -> 1, dtype -> float64\n",
      "vvv numpy Data vvv\n",
      " [ 2.08214275  3.11367697  3.4952264  ...  6.0232639   0.61869775\n",
      " -0.42934946]\n"
     ]
    },
    {
     "data": {
      "image/png": "[encoded data removed]",
      "text/plain": [
       "<Figure size 1000x400 with 1 Axes>"
      ]
     },
     "metadata": {},
     "output_type": "display_data"
    }
   ],
   "source": [
    "#평균이 3이고, 표준편차가 2.5\n",
    "a = np.random.normal(3, 2.5, 100000)\n",
    "pprint(a)\n",
    "\n",
    "plt.figure(figsize=(10, 4))\n",
    "plt.hist(a, bins=100) # bins 옵션으로 히스토그램 막대(구간)의 갯수를 지정할 수 있다.\n",
    "plt.show()"
   ]
  },
  {
   "cell_type": "code",
   "execution_count": 20,
   "id": "948bf74e",
   "metadata": {},
   "outputs": [
    {
     "name": "stdout",
     "output_type": "stream",
     "text": [
      "type -> <class 'numpy.ndarray'>\n",
      "shape -> (10,), dimension -> 1, dtype -> float64\n",
      "vvv numpy Data vvv\n",
      " [-0.60202188 -0.29333847  0.05867826 -0.30579848 -1.38087375 -0.22266765\n",
      " -0.49425573 -0.44010956  0.19024959  2.54138152]\n"
     ]
    },
    {
     "data": {
      "image/png": "[encoded data removed]",
      "text/plain": [
       "<Figure size 400x400 with 1 Axes>"
      ]
     },
     "metadata": {},
     "output_type": "display_data"
    }
   ],
   "source": [
    "#randn() 메소드는 표준 정규 분포(평균이 0, 표준편차가 1)를 따르는 난수 데이터를 생성하고 배열을 만든다.\n",
    "# normal(난수의 갯수)\n",
    "a = np.random.randn(10)\n",
    "pprint(a)\n",
    "\n",
    "plt.figure(figsize=(4, 4))\n",
    "plt.hist(a)\n",
    "plt.show()"
   ]
  },
  {
   "cell_type": "code",
   "execution_count": 21,
   "id": "998fa645",
   "metadata": {},
   "outputs": [
    {
     "name": "stdout",
     "output_type": "stream",
     "text": [
      "type -> <class 'numpy.ndarray'>\n",
      "shape -> (10000,), dimension -> 1, dtype -> float64\n",
      "vvv numpy Data vvv\n",
      " [-1.30895482  2.28637591  0.46175358 ... -2.16900689  0.46823017\n",
      "  0.06494611]\n"
     ]
    },
    {
     "data": {
      "image/png": "[encoded data removed]",
      "text/plain": [
       "<Figure size 1000x400 with 1 Axes>"
      ]
     },
     "metadata": {},
     "output_type": "display_data"
    }
   ],
   "source": [
    "a = np.random.randn(10000)\n",
    "pprint(a)\n",
    "\n",
    "plt.figure(figsize=(10, 4))\n",
    "plt.hist(a, bins=100)\n",
    "plt.show()"
   ]
  },
  {
   "cell_type": "code",
   "execution_count": 22,
   "id": "55d372c2",
   "metadata": {},
   "outputs": [
    {
     "name": "stdout",
     "output_type": "stream",
     "text": [
      "type -> <class 'numpy.ndarray'>\n",
      "shape -> (10,), dimension -> 1, dtype -> float64\n",
      "vvv numpy Data vvv\n",
      " [0.246245   0.74728931 0.5316634  0.72334973 0.45142494 0.66250448\n",
      " 0.70253376 0.18874659 0.30162696 0.51440998]\n"
     ]
    },
    {
     "data": {
      "image/png": "[encoded data removed]",
      "text/plain": [
       "<Figure size 400x400 with 1 Axes>"
      ]
     },
     "metadata": {},
     "output_type": "display_data"
    }
   ],
   "source": [
    "#rand() 메소드는 0 - 1 사이의 균등 분포를 따르는 난수 데이터(실수)를 생성하고 배열을 만든다.\n",
    "# rand(난수의 갯수)\n",
    "a = np.random.rand(10)\n",
    "pprint(a)\n",
    "\n",
    "plt.figure(figsize=(4, 4))\n",
    "plt.hist(a)\n",
    "plt.show()"
   ]
  },
  {
   "cell_type": "code",
   "execution_count": 23,
   "id": "a1ec3a03",
   "metadata": {},
   "outputs": [
    {
     "name": "stdout",
     "output_type": "stream",
     "text": [
      "type -> <class 'numpy.ndarray'>\n",
      "shape -> (1000,), dimension -> 1, dtype -> float64\n",
      "vvv numpy Data vvv\n",
      " [5.48843523e-01 6.80333711e-01 9.80861668e-01 9.22204143e-01\n",
      " 2.95717248e-01 1.93302883e-01 7.31259540e-01 1.35342839e-01\n",
      " 1.46559731e-02 1.10820037e-01 8.56871752e-01 4.24809758e-01\n",
      " 1.55956344e-01 3.07050416e-01 6.10031940e-01 4.35678411e-01\n",
      " 9.28207498e-01 3.55259633e-01 6.18767434e-01 7.73201436e-01\n",
      " 3.90636896e-01 7.55499776e-01 9.55825952e-01 9.52956241e-01\n",
      " 3.73799251e-01 5.63084260e-01 4.78013517e-01 8.06335250e-01\n",
      " 1.65908343e-01 1.33910952e-01 3.74514954e-01 2.75320573e-01\n",
      " 6.67346500e-01 8.00986558e-02 4.10520411e-01 4.16734951e-01\n",
      " 8.72706461e-01 9.45778339e-01 4.13343877e-01 8.35403504e-01\n",
      " 5.62876069e-01 8.42551858e-01 5.10886426e-01 3.96671872e-01\n",
      " 1.29086218e-01 3.03730546e-01 2.83942120e-01 6.04521379e-01\n",
      " 3.52864581e-01 9.58632461e-01 4.04006548e-01 6.74516158e-01\n",
      " 8.66575428e-01 7.83211715e-01 3.31838464e-01 5.77485852e-01\n",
      " 4.69390607e-01 9.66584581e-01 6.33016719e-01 6.30721012e-01\n",
      " 2.78271086e-01 5.82681794e-01 2.94699967e-01 8.54239821e-02\n",
      " 6.22871646e-01 1.58898739e-01 2.05394095e-01 1.61437210e-01\n",
      " 7.70893143e-01 4.36894403e-01 7.05922199e-01 5.11158059e-01\n",
      " 2.58116753e-01 7.87078304e-02 7.38495358e-02 1.11920812e-01\n",
      " 9.57420724e-01 3.53688929e-01 1.16930305e-01 8.07100896e-01\n",
      " 7.39107212e-01 2.36440239e-01 4.44564173e-01 2.67037746e-01\n",
      " 6.01441475e-01 8.75352540e-01 7.85951298e-02 8.85261827e-01\n",
      " 6.58200500e-01 9.06860496e-01 9.48108396e-01 4.14363283e-01\n",
      " 4.70406139e-01 6.99365310e-01 7.74353433e-01 3.53742791e-01\n",
      " 6.74583176e-01 3.62679444e-01 6.31320943e-01 4.30898133e-01\n",
      " 1.65330423e-01 5.47161844e-01 6.06690885e-01 5.31660081e-03\n",
      " 5.85891233e-01 5.50255821e-02 3.65704183e-01 6.52856245e-01\n",
      " 2.71483109e-02 6.87294336e-01 6.73060613e-02 4.17449945e-01\n",
      " 1.93404629e-01 1.34372987e-01 1.77271397e-01 5.87371126e-01\n",
      " 5.65949215e-01 2.69924537e-01 2.94148007e-01 7.56562592e-01\n",
      " 3.31852801e-01 4.65438166e-01 8.91424795e-01 1.91920205e-01\n",
      " 6.47051665e-01 8.66023880e-01 9.88720236e-02 5.88219565e-01\n",
      " 5.39816267e-01 1.89458637e-01 5.37493950e-01 8.28122794e-01\n",
      " 3.96290306e-01 6.93536720e-01 3.35984426e-01 6.05367816e-02\n",
      " 1.97314210e-01 3.12832769e-01 4.52530352e-01 4.43670233e-02\n",
      " 6.48938493e-01 4.28403343e-02 6.94462244e-01 6.58120498e-01\n",
      " 2.01760613e-01 9.90980834e-01 1.50518494e-01 1.87830284e-01\n",
      " 8.28406144e-01 8.84779657e-01 5.55445479e-01 8.75701087e-01\n",
      " 8.51412592e-01 8.29787575e-01 8.76502489e-01 8.17548595e-01\n",
      " 2.93675266e-03 7.37550165e-01 9.79034715e-01 7.99094344e-01\n",
      " 2.65048082e-01 1.01820011e-01 4.83286443e-01 1.91931119e-01\n",
      " 7.15959028e-01 5.66565628e-01 1.41316134e-02 6.12556064e-01\n",
      " 6.49598668e-02 7.62109349e-01 6.06956458e-01 4.23012804e-01\n",
      " 7.78851223e-01 7.52724737e-01 7.18169368e-01 3.77289612e-01\n",
      " 6.65482731e-01 6.00335800e-02 8.52849070e-01 5.62606886e-01\n",
      " 4.30555162e-01 6.67010875e-01 2.55082189e-01 8.13418479e-01\n",
      " 7.70258771e-01 1.16422940e-01 4.66080184e-01 9.62066306e-02\n",
      " 4.33821254e-01 7.84825938e-01 3.55347484e-01 5.09550732e-02\n",
      " 8.80533481e-01 9.53993596e-01 3.37122657e-01 9.88879925e-01\n",
      " 5.76477206e-01 1.56243290e-01 8.18671392e-01 1.48147726e-01\n",
      " 8.13074198e-01 2.75503702e-01 2.74739403e-01 2.57112777e-02\n",
      " 1.35962307e-01 5.60529748e-02 3.85982332e-01 6.86666600e-01\n",
      " 8.95928087e-01 1.66729298e-01 3.48809707e-01 2.58088633e-03\n",
      " 1.83560931e-01 8.14441304e-01 9.19118581e-02 6.78903942e-01\n",
      " 2.71748670e-01 3.30715528e-01 4.49251976e-01 6.97327014e-01\n",
      " 6.89795657e-02 2.79101235e-01 7.98821245e-01 2.89564366e-01\n",
      " 5.37508757e-01 9.89160276e-01 3.82835453e-01 8.40254495e-01\n",
      " 3.32974191e-01 4.19714114e-01 5.72955643e-03 5.68331980e-01\n",
      " 2.09893373e-01 9.24547336e-01 1.22490363e-01 4.04111274e-01\n",
      " 7.21422178e-01 8.86576161e-01 2.00965388e-01 3.49966887e-01\n",
      " 4.05429563e-01 6.15083496e-01 8.84973507e-01 8.61231654e-01\n",
      " 1.56413238e-01 1.81465876e-01 5.04032932e-01 2.22715322e-02\n",
      " 1.48700007e-01 5.05489702e-01 6.63291290e-01 3.62628648e-01\n",
      " 7.30527880e-01 6.85671021e-02 9.47601275e-01 6.99056717e-01\n",
      " 5.54385902e-01 6.75407794e-01 7.50686516e-02 4.07624053e-01\n",
      " 2.71002485e-01 5.27654301e-01 4.34013994e-02 4.58582420e-01\n",
      " 7.16489261e-01 2.03686627e-01 4.52211347e-01 4.12183888e-01\n",
      " 9.90588765e-01 9.05427233e-01 5.86569229e-01 9.81597143e-01\n",
      " 4.20310913e-01 8.90230770e-01 2.87598777e-01 2.83941966e-01\n",
      " 4.34835998e-01 6.98724024e-01 6.49102325e-01 2.15087030e-01\n",
      " 9.49776097e-01 5.87036894e-01 3.85839823e-01 9.93750064e-01\n",
      " 9.20729854e-01 2.01346466e-01 5.94934890e-01 1.57997069e-01\n",
      " 9.49949881e-01 7.60530628e-01 2.15832252e-02 3.23842788e-01\n",
      " 8.30057675e-01 4.67737996e-01 4.67606196e-01 1.37133919e-01\n",
      " 1.64285493e-02 4.07034159e-02 5.68354674e-01 1.08509153e-01\n",
      " 2.04521204e-01 2.55764895e-01 8.92119053e-01 5.81326308e-02\n",
      " 7.65669751e-01 9.88980225e-01 9.99634058e-01 3.29959747e-01\n",
      " 8.41361003e-01 7.43435949e-01 2.60257514e-01 2.37338295e-01\n",
      " 7.80994808e-01 3.54965500e-01 8.18160427e-01 7.09183907e-01\n",
      " 3.32023405e-01 7.16553415e-01 1.70419918e-01 5.74947693e-01\n",
      " 9.32373117e-01 1.49359559e-01 1.40946831e-01 9.34295139e-01\n",
      " 8.50397398e-01 1.98298228e-02 6.20801382e-03 8.72751884e-01\n",
      " 9.73642727e-01 2.59640105e-01 3.61481062e-01 1.56618662e-01\n",
      " 9.31301186e-01 6.08522486e-01 4.34425592e-01 7.09129424e-01\n",
      " 8.04843764e-01 8.03322681e-01 3.56412426e-01 9.35101168e-01\n",
      " 9.49168893e-01 6.00604717e-01 6.29668674e-01 9.36017749e-01\n",
      " 9.90623400e-01 7.68697639e-01 5.35271326e-01 2.62518151e-01\n",
      " 2.02640423e-01 4.17612752e-01 2.48327165e-01 7.23875980e-01\n",
      " 4.60571984e-01 7.83810258e-02 4.19683655e-01 4.08113135e-01\n",
      " 2.19160116e-01 2.71687598e-01 8.39748583e-01 5.26937629e-01\n",
      " 9.35370543e-01 5.73352054e-01 4.95216577e-01 7.63389491e-01\n",
      " 3.33945349e-01 6.61691142e-01 9.92723910e-01 4.61246968e-01\n",
      " 7.62602578e-01 8.27082877e-01 7.09583009e-01 2.61361695e-01\n",
      " 5.44764550e-01 5.16283693e-02 7.38458312e-02 1.31410993e-01\n",
      " 7.56735900e-02 4.48066120e-01 5.74549098e-01 9.23773377e-01\n",
      " 6.97883424e-01 1.81089341e-02 9.98622567e-01 7.04852136e-01\n",
      " 2.19748236e-01 5.26216263e-01 3.13214518e-01 9.18918301e-01\n",
      " 8.53880036e-01 2.38915395e-01 6.08182908e-01 7.72873145e-01\n",
      " 6.44821731e-02 8.20388244e-01 7.73589553e-01 5.94696544e-01\n",
      " 1.76467104e-01 4.46547994e-01 1.77903116e-01 9.46546196e-02\n",
      " 1.18560766e-01 6.85421895e-01 4.95733957e-01 9.46222447e-01\n",
      " 7.61125579e-01 8.28075493e-01 4.98993561e-02 8.46801556e-01\n",
      " 3.85671094e-01 6.98051462e-02 4.41711423e-01 4.14522875e-01\n",
      " 9.20501175e-01 3.83140074e-01 2.21566638e-01 6.62568206e-01\n",
      " 3.45937363e-01 6.93574773e-01 7.28661810e-01 3.26441813e-01\n",
      " 3.14895403e-01 7.48281639e-01 6.15819828e-02 1.10055557e-01\n",
      " 7.38453214e-01 1.50946241e-01 6.29868481e-01 2.80425051e-01\n",
      " 4.05900550e-01 3.67867796e-01 1.41818150e-01 5.32649829e-01\n",
      " 9.73877675e-01 1.12923176e-01 4.03465839e-02 5.28148808e-01\n",
      " 7.07867050e-01 8.50955441e-02 8.80327375e-01 5.83358964e-01\n",
      " 9.23553220e-01 9.24980159e-02 5.14946942e-01 1.65639426e-02\n",
      " 1.67491867e-01 3.17237516e-01 5.77156451e-01 7.47064858e-01\n",
      " 4.49735196e-01 1.91264025e-01 6.09357980e-01 7.14923121e-01\n",
      " 5.14054623e-01 9.71332642e-01 8.67127952e-01 2.38905679e-01\n",
      " 2.57146464e-01 9.20222542e-01 4.69950232e-01 7.88582936e-01\n",
      " 9.79805319e-02 6.05996485e-01 9.69287134e-01 8.11661468e-01\n",
      " 3.29561525e-01 2.20836537e-01 6.95780714e-01 4.79677614e-01\n",
      " 3.31268284e-01 8.97493549e-01 9.03880404e-01 1.42656340e-01\n",
      " 5.01183634e-01 3.21468852e-01 5.77647006e-02 5.09929535e-01\n",
      " 8.66111470e-01 3.63702786e-01 3.40847616e-01 3.49279315e-01\n",
      " 9.67537206e-01 9.81864796e-01 1.22457319e-02 7.48384610e-01\n",
      " 4.90507878e-01 5.80195563e-01 9.65436655e-02 5.25709544e-01\n",
      " 6.85207875e-01 6.13633312e-01 7.34344965e-01 5.98011014e-01\n",
      " 2.00155916e-01 1.43452274e-01 9.87127962e-01 7.84860973e-01\n",
      " 7.80647859e-01 7.44869424e-02 9.34137769e-01 2.05707925e-01\n",
      " 2.84040492e-01 9.67111872e-01 3.71414285e-01 5.65863704e-01\n",
      " 5.33083701e-01 9.66019799e-01 9.38424276e-01 6.16941083e-01\n",
      " 9.32242468e-01 3.52414262e-01 9.54153388e-01 2.30323259e-01\n",
      " 9.87384970e-01 6.82102285e-01 6.62831516e-01 7.23050367e-01\n",
      " 1.67143232e-01 1.59352523e-01 4.67506198e-01 4.14330955e-01\n",
      " 9.31403994e-01 6.88645392e-01 5.45668383e-01 8.00189097e-01\n",
      " 1.37527582e-01 1.37454696e-01 4.51516057e-01 3.19407890e-02\n",
      " 6.00491496e-01 1.47544025e-02 3.96944755e-01 1.06951223e-01\n",
      " 3.07887337e-01 9.93801106e-01 8.66157313e-01 6.58793940e-01\n",
      " 7.93632858e-01 7.32616939e-01 8.06730222e-01 2.59856237e-01\n",
      " 9.40338829e-01 7.77356719e-01 1.56433804e-01 6.55848452e-01\n",
      " 5.68437934e-01 1.14549440e-01 7.18927427e-02 4.12273083e-01\n",
      " 4.76051137e-02 6.97760932e-01 4.74139932e-01 1.66594512e-01\n",
      " 8.71780256e-01 2.50868283e-01 8.42473063e-01 9.84552332e-01\n",
      " 5.98506642e-01 2.33663372e-01 9.61948352e-01 6.43232681e-01\n",
      " 5.00450808e-01 4.44270987e-01 6.65168839e-01 1.75418090e-01\n",
      " 7.68878590e-01 4.34516781e-01 5.87217249e-01 2.93384599e-01\n",
      " 3.78334337e-01 6.92088012e-01 5.32028213e-01 7.10733266e-01\n",
      " 7.78785105e-01 4.43053992e-03 4.37054425e-01 6.50845032e-04\n",
      " 9.25660383e-01 6.94137137e-01 4.13109685e-01 3.25158847e-03\n",
      " 9.38824217e-01 6.15477768e-01 3.18396840e-01 7.16015669e-01\n",
      " 2.60733888e-01 6.43242100e-01 3.67954551e-01 5.84502858e-01\n",
      " 2.24899487e-02 1.10658914e-01 6.86984413e-01 7.40892289e-01\n",
      " 2.04432058e-02 4.23872857e-01 5.09428859e-01 1.45568669e-01\n",
      " 9.54619533e-01 4.15450400e-01 8.62875814e-03 1.97652084e-02\n",
      " 3.89829063e-01 4.49656762e-01 6.01200486e-02 1.69990206e-01\n",
      " 3.60607152e-02 3.16005369e-01 5.37740996e-01 3.50489207e-01\n",
      " 3.16310939e-01 4.68834126e-01 5.97615323e-01 6.56079018e-01\n",
      " 9.28088404e-01 7.08420164e-01 5.43521000e-01 9.88711485e-01\n",
      " 7.45062007e-01 3.10725925e-01 5.09006083e-04 7.58091503e-01\n",
      " 8.81112068e-01 1.90076580e-01 9.09997931e-01 1.91687326e-01\n",
      " 7.80305718e-01 5.54673690e-01 2.67547107e-01 1.59063989e-01\n",
      " 5.76980912e-01 5.06419913e-01 2.83591657e-01 9.27856122e-01\n",
      " 9.70221751e-01 7.02148317e-01 2.70074677e-01 5.85522913e-01\n",
      " 5.77455293e-01 7.20071708e-03 9.83474413e-01 9.36826914e-01\n",
      " 8.67386734e-01 5.31709653e-01 5.92806339e-01 2.37097543e-01\n",
      " 6.26011683e-01 2.27530243e-01 8.79416434e-01 8.91965669e-01\n",
      " 3.97847877e-01 2.11151253e-01 2.42147150e-02 5.18767705e-01\n",
      " 3.24048120e-01 4.27259667e-01 4.11935901e-01 7.69342543e-01\n",
      " 3.79657767e-01 7.93208001e-01 9.35595123e-01 9.75986216e-01\n",
      " 4.53135014e-01 4.03621754e-01 3.40754380e-01 5.75053595e-01\n",
      " 9.85577573e-02 7.01468426e-01 9.18805991e-01 2.30944713e-01\n",
      " 6.18424582e-01 1.37503029e-01 4.78198782e-01 8.18134748e-01\n",
      " 2.22459168e-01 2.52899530e-01 3.53268049e-01 8.10375256e-01\n",
      " 8.51141964e-01 9.72132765e-01 5.20942197e-02 9.53737922e-01\n",
      " 5.89523913e-01 3.83181803e-01 2.44374602e-02 2.28179151e-01\n",
      " 4.42087439e-01 1.35500572e-01 9.43235165e-01 6.01441046e-01\n",
      " 7.92292130e-01 2.17505845e-01 1.57489935e-01 9.66595265e-01\n",
      " 7.63700078e-01 8.69225964e-02 5.09163686e-01 1.77205472e-01\n",
      " 1.85811277e-01 1.25609985e-01 5.41938647e-01 5.22944022e-01\n",
      " 3.70366428e-01 4.49484937e-01 9.98866798e-01 6.89788468e-01\n",
      " 7.50824388e-01 2.86218858e-01 5.22869474e-01 3.39244531e-01\n",
      " 8.37660329e-01 5.66152459e-01 6.55587420e-01 2.94937790e-01\n",
      " 8.18144057e-01 3.33317823e-01 4.76024446e-01 2.54450020e-02\n",
      " 7.45847797e-01 2.75580397e-01 1.58610855e-01 2.39615620e-01\n",
      " 2.41744061e-01 6.42962774e-01 1.60961209e-01 8.29166776e-01\n",
      " 1.57240584e-01 4.65823163e-02 6.38368734e-01 5.61481238e-01\n",
      " 7.89621432e-01 3.59194587e-01 7.87222695e-02 9.82379765e-01\n",
      " 3.28533528e-02 5.28742551e-01 2.22592541e-01 1.74227879e-01\n",
      " 3.70685581e-01 2.04770778e-02 9.01094626e-01 3.75761915e-01\n",
      " 5.07986601e-01 4.29427655e-01 7.82375929e-03 4.34279272e-01\n",
      " 6.84864387e-01 3.84128125e-01 8.91079988e-01 8.78394232e-01\n",
      " 5.77716270e-01 6.31879198e-01 6.18161029e-01 7.08957311e-01\n",
      " 2.55949196e-01 2.19449493e-01 8.24963322e-01 2.50436849e-01\n",
      " 8.78855921e-01 1.11930206e-01 3.59522815e-01 4.60924544e-02\n",
      " 6.94244400e-01 2.76226431e-01 8.00843415e-01 7.33377747e-01\n",
      " 2.23317716e-01 5.56950922e-01 7.93690011e-02 3.74477901e-01\n",
      " 2.16164311e-01 4.03416564e-01 3.58610135e-02 6.46712476e-01\n",
      " 3.63843961e-01 7.15013256e-02 8.95709264e-01 4.66572677e-01\n",
      " 3.95541941e-01 1.87667821e-01 2.15290914e-01 5.40259796e-01\n",
      " 5.17646968e-01 5.30645340e-01 4.61233287e-01 9.22739080e-01\n",
      " 2.20606458e-01 5.70637382e-01 4.42818268e-01 3.50745903e-02\n",
      " 9.47660297e-01 1.21188347e-01 2.95489368e-01 5.51401562e-01\n",
      " 8.11664245e-02 4.27836671e-01 1.63785949e-01 8.76907445e-01\n",
      " 4.93414781e-01 6.27260899e-01 6.87600566e-01 6.77698949e-01\n",
      " 4.37299716e-01 6.92710308e-01 4.57636913e-01 9.36701804e-01\n",
      " 4.24119728e-01 2.20262123e-01 9.53875640e-01 3.62869719e-01\n",
      " 6.94318226e-01 2.96171459e-02 2.27350187e-01 9.72910338e-01\n",
      " 8.16109250e-01 2.95369901e-01 2.36529859e-02 1.26786352e-01\n",
      " 9.37750121e-01 3.60140969e-01 7.16991690e-01 9.26330275e-01\n",
      " 2.80897014e-01 3.22408615e-01 1.08531891e-01 8.58719955e-01\n",
      " 7.60350871e-01 7.66037299e-01 7.81642177e-01 7.21216889e-02\n",
      " 4.30101350e-02 3.93611632e-01 3.50447579e-01 9.18961544e-01\n",
      " 7.41918901e-01 8.71743210e-01 5.36023445e-01 8.89821295e-01\n",
      " 7.26649328e-01 7.91911224e-01 4.31576676e-01 6.26048838e-01\n",
      " 8.20732090e-01 2.07567119e-01 5.43634967e-01 9.55231991e-01\n",
      " 6.64196017e-01 9.40033632e-01 7.10886679e-01 6.12484470e-01\n",
      " 1.82174371e-01 9.87048965e-01 8.53153110e-01 7.00217820e-01\n",
      " 9.45092695e-01 9.19929557e-01 2.21029716e-01 9.22328735e-01\n",
      " 6.42053964e-01 2.61918618e-01 4.08687428e-01 4.41065076e-03\n",
      " 5.85118022e-01 6.72423791e-01 8.44866261e-02 5.03042034e-01\n",
      " 8.13938470e-01 6.58066860e-01 3.84489509e-01 2.98134103e-01\n",
      " 4.84059748e-01 3.59658186e-01 9.59479734e-01 9.26458217e-01\n",
      " 4.77906985e-01 5.96376912e-01 4.51980522e-01 8.04127629e-01\n",
      " 8.45994199e-01 8.90760825e-01 9.89367930e-01 4.73382800e-01\n",
      " 2.27482140e-01 4.97314964e-01 5.25542898e-01 7.74699841e-01\n",
      " 6.91283103e-01 7.89244902e-01 4.29380908e-01 9.48148816e-01\n",
      " 8.47001250e-01 1.91432484e-01 8.25776447e-01 3.60023742e-01\n",
      " 9.40519423e-01 2.68069385e-01 7.71861893e-01 7.16194302e-01\n",
      " 2.16869266e-01 5.67745478e-01 5.92056523e-01 2.23139951e-02\n",
      " 5.51739999e-01 2.76472882e-01 5.76582593e-01 8.25832520e-02\n",
      " 7.51597824e-01 7.69411331e-01 6.86224699e-01 7.34023109e-01\n",
      " 1.17094349e-01 1.78209367e-01 4.46925986e-01 5.70277216e-01\n",
      " 3.95300205e-01 8.34328714e-01 8.89702461e-01 8.60756877e-01\n",
      " 7.57270679e-01 2.28050288e-01 3.97666666e-01 8.15939789e-01\n",
      " 5.98424250e-01 2.87301642e-01 8.83936799e-01 3.40604784e-01\n",
      " 1.11813797e-01 1.18800127e-01 8.15736410e-01 2.93568372e-02\n",
      " 9.83733708e-01 8.24626350e-01 2.76223558e-01 4.46003812e-02\n",
      " 7.93125360e-02 1.26338931e-01 6.98383526e-01 4.32637785e-01\n",
      " 3.90349462e-01 5.48419196e-01 5.02586119e-01 4.57455073e-01\n",
      " 6.41680821e-01 7.35530002e-01 7.59380394e-01 2.72571844e-01\n",
      " 4.12630424e-01 6.49673840e-01 7.68851504e-01 1.87989081e-02\n",
      " 5.52349954e-01 3.51870628e-01 8.12560011e-01 8.06509818e-01\n",
      " 4.08302303e-01 8.25846983e-01 8.01466521e-01 1.03931687e-05\n",
      " 1.52029325e-01 8.59572080e-01 4.93724341e-01 2.70989402e-01\n",
      " 6.08036829e-01 8.06057539e-01 3.37372531e-01 2.70368255e-02\n",
      " 6.81752382e-01 6.72375166e-01 3.86802871e-01 6.79273968e-01\n",
      " 9.36211369e-01 6.55935820e-01 2.86634484e-01 1.63259812e-01\n",
      " 5.92291237e-01 8.55331719e-01 8.05573632e-01 2.29577621e-01\n",
      " 5.50752856e-01 4.29265985e-01 7.70120965e-01 6.67704348e-01\n",
      " 9.16590004e-01 5.75267878e-03 4.95691783e-01 5.93270488e-02\n",
      " 2.63125504e-01 1.37852663e-01 6.45855111e-01 5.55310147e-01\n",
      " 7.57031090e-01 3.80946186e-01 6.01167914e-01 4.26817830e-01\n",
      " 7.07133836e-01 5.52589228e-01 8.00187669e-01 5.54914204e-01\n",
      " 9.75984566e-01 9.91804704e-01 4.55010305e-01 6.02132600e-01]\n"
     ]
    },
    {
     "data": {
      "image/png": "[encoded data removed]",
      "text/plain": [
       "<Figure size 1000x400 with 1 Axes>"
      ]
     },
     "metadata": {},
     "output_type": "display_data"
    }
   ],
   "source": [
    "a = np.random.rand(1000)\n",
    "pprint(a)\n",
    "\n",
    "plt.figure(figsize=(10, 4))\n",
    "plt.hist(a, bins=100)\n",
    "plt.show()"
   ]
  },
  {
   "cell_type": "code",
   "execution_count": 24,
   "id": "f34f3cab",
   "metadata": {},
   "outputs": [
    {
     "name": "stdout",
     "output_type": "stream",
     "text": [
      "type -> <class 'numpy.ndarray'>\n",
      "shape -> (6,), dimension -> 1, dtype -> int32\n",
      "vvv numpy Data vvv\n",
      " [12 22  4  3 28 18]\n"
     ]
    },
    {
     "data": {
      "image/png": "[encoded data removed]",
      "text/plain": [
       "<Figure size 400x400 with 1 Axes>"
      ]
     },
     "metadata": {},
     "output_type": "display_data"
    }
   ],
   "source": [
    "#randint() 메소드는 low - high 사이의 균등 분포를 따르는 난수 데이터(정수)를 생성하고 배열을 만든다.\n",
    "# randint(low, high, 난수의 갯수)\n",
    "a = np.random.randint(1, 46, 6)\n",
    "pprint(a)\n",
    "\n",
    "plt.figure(figsize=(4, 4))\n",
    "plt.hist(a)\n",
    "plt.show()"
   ]
  },
  {
   "cell_type": "code",
   "execution_count": 25,
   "id": "544d4fb9",
   "metadata": {
    "scrolled": true
   },
   "outputs": [
    {
     "name": "stdout",
     "output_type": "stream",
     "text": [
      "type -> <class 'numpy.ndarray'>\n",
      "shape -> (1000,), dimension -> 1, dtype -> int32\n",
      "vvv numpy Data vvv\n",
      " [  88   57   43   73  -11   76   48   81   10    1   76   76  -51  -27\n",
      "   65  -95  -36  -15   96  -13  -45  -64  -70  -28  -16   90   49   56\n",
      "  -96   65  -59  -49   66   58  -46    4  -70  -54   13  -76  -35  -47\n",
      "  -72   27   17   12   77   16    1  -89   -7   17  -79   76   24   59\n",
      "   33  -29   50  -37   43  -56   15  -39  -77  -88   46  -67   50  -23\n",
      "  -64    1   72  -13  -90   89   -6  -18  -72   72  -59  -79  -53   89\n",
      "   82   16  -93   48   61  -42   88  -20   59   20  -30    6  -35  -74\n",
      "  -46  -59  -17  -65  -42    3    7  -86   34    0  -60   26   94   46\n",
      "  -17   54   97   41  -80   66  -88   50   57  -89  -89   19   94   83\n",
      "    7  -72  -20   10  -15   60   -2   56  -66  -49   54   26    0   -6\n",
      "  -38  -60   32  -69  -77   -5   57   -3   62   47   52  -62  -57   66\n",
      "   33  -18  -62   60  -85 -100   72   98    5   -5  -31  -51   48   67\n",
      "  -86  -93  -75   -2   -9  -53   60   -9   33   99  -27  -99  -78  -27\n",
      "   92   56   -1   23   78   81  -71   79  -13   79   11   24   54    5\n",
      "  -29  -59    5 -100    8   76  -96  -12   19   24  -20   -4   89  -12\n",
      "   81  -69  -13  -81  -80  -52    3   65   89  -57  -87  -12   81   -3\n",
      "  -60   71  -87   74   28  -99   68   85  -61    1  -10   76  -17    1\n",
      "  -68  -16   39   34   97  -97   83   24   79  -73  -77   24   27  -52\n",
      "   29   76  -39  -36   29  -54   36   80  -55  -23   50  -76  -53   -7\n",
      "   60  -16   50   58   25   89  -63  -54   48   23  -37   95    5  -24\n",
      "   82   -1   20  -99   51  -31  -74  -47  -22  -92   -8   92  -15   51\n",
      "   83  -13   58  -91   94   61  -21  -34    0  -91   17  -36   49  -22\n",
      "   34   91   -2  -76  -58   77  -18    0   -6   14   25   22   80   63\n",
      "   51   17  -39   42   43  -42   34  -21    2  -97   90  -62    2   81\n",
      "   79   20    3  -39  -33  -20   34   92  -21   -5  -22   41   64    6\n",
      "   65   25  -47    0   70   54   50   77  -70   93    1   -5  -82   -7\n",
      "   -4  -99  -41  -86   47   11   98  -32   74   77  -65   38  -10   22\n",
      "  -19   52   -8  -93   92   42  -59   74   25   70   11  -48  -27   19\n",
      "   42  -56   31   97   37   11  -42   12   51  -17   27   87  -43   80\n",
      "  -96  -78  -43   22   68   80   45   -3   68   37  -71   97    4  -12\n",
      "   96  -86   14  -91   48   -4   68   75   20  -63  -50  -20   90  -86\n",
      "   74  -40    9   64  -35   84  -34   74   18   64   11   14  -62   99\n",
      "  -71  -71   22   -3   60  -69  -44   41    4  -62   -4  -94   38   71\n",
      "   -3   49   50  -53   48  -57   82  -38   56   13   60  -60   -3   74\n",
      "  -84   81   -9   86   80   57   30    4    2   81   -7   -2   53  -20\n",
      "   79  -84  -14   26  -44   37   16  -72  -96  -80  -30   86   79   -4\n",
      "  -49   62   81  -69  -22  -34   35   43   85   32  -97    3    7   16\n",
      "   87  -47  -93   85  -50  -58   63  -53  -38   25  -56  -90   -1  -88\n",
      "  -56   25  -83  -22  -51  -44  -54  -32   77    9   51  -56  -31   70\n",
      "   66  -51   72  -51  -25  -23   36  -15   -9   76   71  -75  -51   46\n",
      "   45  -32  -63  -56   67   73  -99  -13  -45   27  -91   26    9   58\n",
      "   -7  -95   96   87  -51  -24   -8   43   33   -3   97   23  -13   20\n",
      "  -46  -68   68   16   11  -18  -67   91  -60  -54  -25  -20   94  -57\n",
      "  -20    1   -3   56  -66  -49   82   -9  -52   59   16   33  -43   92\n",
      "  -58   98  -44    8  -96  -49  -93  -62  -24  -94  -60   72   17   48\n",
      "  -51    9 -100  -18   44   77   -6   12   73   94   19   26    2    9\n",
      "   10  -66    3  -11   -5   20  -35   18   12  -50   10  -91  -31   54\n",
      "  -54  -28    9   56   85   83  -99  -71   26  -34   35  -17   23   40\n",
      "  -94  -95   65  -21    4   23   22    1   37  -81  -60  -58   55  -50\n",
      "  -38  -25  -73   80   85   -3  -35   -2  -92   -1   -1   58   59  -28\n",
      "   77  -32   40   35   41    4   99  -50  -51  -85   23   72   89   60\n",
      "  -20   41  -58  -56   61   52  -16   93   67  -36  -77   87  -95   42\n",
      "  -72  -10  -50   20  -73    6   37  -87  -80  -97   84   60   61   49\n",
      "   80   86  -45  -59  -30  -28   32   -9    3  -91   18  -95  -79   50\n",
      "  -69  -90   27  -59  -30    5   56  -22  -67  -62   19    1    1   40\n",
      "   98  -11  -38  -49  -53   46   45  -60  -16  -59   63   -6  -77  -77\n",
      "    3   91   77   31   17  -75  -98   58  -84   12  -11   73   68  -47\n",
      "   61  -50  -59   90  -70  -89   22   54   -5  -28  -88  -14   15   97\n",
      "  -85  -11  -44   -2   -8   13  -98  -31   84  -61    5   86  -67   33\n",
      "   35  -85   44   15   70  -22   60  -87   15   31   64  -66   -4  -28\n",
      "  -38   62   66  -16   41   94   24   38  -68    1  -26   50  -16  -90\n",
      "   23  -11  -93  -42  -69   -8   93   -4  -26   -4   29  -65   46   51\n",
      "   27   -5   47  -63   51   79  -71  -32  -71   69  -76  -16  -55   55\n",
      "  -67  -15  -33  -17   56   95  -89   19   33   60   44    8   82    8\n",
      "   96   28  -51   79  -31  -46   53   -4  -19  -79   79  -23  -20  -85\n",
      "    5   78  -12   65   58   -2  -77  -47   91   51   85  -11   92   68\n",
      "  -28  -50   64   18   33 -100  -82  -76   12  -86   64   22  -35   58\n",
      "  -63   60    5  -99   84  -55   10  -44   18  -66   32   27  -54   30\n",
      "   39   81  -24  -83  -65    7  -49   -4   61   14  -64  -57   54  -59\n",
      "  -54  -68  -20  -83  -73  -76  -42  -74  -68  -31  -53  -18   53   49\n",
      "  -35  -35   97   47   44  -33  -65  -13   52   36  -99   87  -67   12\n",
      "  -23  -41  -41  -51   75   72]\n"
     ]
    },
    {
     "data": {
      "image/png": "[encoded data removed]",
      "text/plain": [
       "<Figure size 1000x700 with 1 Axes>"
      ]
     },
     "metadata": {},
     "output_type": "display_data"
    }
   ],
   "source": [
    "a = np.random.randint(-100, 100, 1000)\n",
    "pprint(a)\n",
    "\n",
    "plt.figure(figsize=(10, 7))\n",
    "plt.hist(a, bins=100)\n",
    "plt.show()"
   ]
  },
  {
   "cell_type": "code",
   "execution_count": 26,
   "id": "cee2f376",
   "metadata": {},
   "outputs": [
    {
     "name": "stdout",
     "output_type": "stream",
     "text": [
      "type -> <class 'numpy.ndarray'>\n",
      "shape -> (10,), dimension -> 1, dtype -> float64\n",
      "vvv numpy Data vvv\n",
      " [0.04940816 0.88969432 0.77596137 0.16130762 0.52028318 0.46912693\n",
      " 0.53091816 0.73793721 0.67628463 0.89998844]\n"
     ]
    },
    {
     "data": {
      "image/png": "[encoded data removed]",
      "text/plain": [
       "<Figure size 400x400 with 1 Axes>"
      ]
     },
     "metadata": {},
     "output_type": "display_data"
    }
   ],
   "source": [
    "#random() 메소드는 0 - 1 사이의 균등 분포를 따르는 난수 데이터(실수)를 생성하고 배열을 만든다.\n",
    "# random(난수의 갯수)\n",
    "a = np.random.random(10)\n",
    "pprint(a)\n",
    "\n",
    "plt.figure(figsize=(4, 4))\n",
    "plt.hist(a)\n",
    "plt.show()"
   ]
  },
  {
   "cell_type": "code",
   "execution_count": 27,
   "id": "d7a99b21",
   "metadata": {},
   "outputs": [
    {
     "name": "stdout",
     "output_type": "stream",
     "text": [
      "type -> <class 'numpy.ndarray'>\n",
      "shape -> (1000,), dimension -> 1, dtype -> float64\n",
      "vvv numpy Data vvv\n",
      " [3.13392516e-01 8.06544015e-01 6.05536598e-01 1.15045596e-01\n",
      " 1.14643212e-01 6.24917328e-01 5.87612094e-01 1.21864803e-01\n",
      " 8.20891805e-01 1.12675392e-01 1.78753353e-01 2.43238982e-01\n",
      " 8.53008096e-01 7.22372039e-01 1.56093422e-02 6.12899669e-01\n",
      " 4.36249745e-01 1.74923488e-01 3.75236288e-01 2.51066612e-01\n",
      " 6.75681900e-01 5.05856395e-01 8.55385216e-01 7.69097072e-01\n",
      " 7.70373977e-01 9.10432167e-01 2.71896013e-01 3.74102561e-01\n",
      " 8.03311058e-01 2.13588667e-01 3.55230075e-02 4.84848196e-02\n",
      " 8.66867173e-01 9.26005212e-01 1.08972993e-01 2.44373958e-02\n",
      " 7.80762071e-01 9.30846915e-01 8.40926806e-01 5.62060719e-01\n",
      " 5.55223530e-01 3.47917334e-01 7.28194367e-01 1.98024528e-02\n",
      " 7.85241524e-01 5.20477683e-01 9.47388219e-01 4.11221195e-01\n",
      " 8.56282836e-03 5.49706239e-01 9.65330669e-02 6.95796528e-01\n",
      " 3.09054952e-01 8.81153851e-01 9.28696302e-01 1.87058738e-01\n",
      " 2.64337761e-01 2.55242103e-01 5.64112603e-01 3.35296707e-01\n",
      " 2.80298625e-01 4.42439118e-01 7.72466526e-02 5.42978791e-01\n",
      " 9.05519454e-01 3.10600153e-01 1.28654183e-01 1.58185188e-01\n",
      " 2.15562002e-01 9.18367665e-01 4.46640498e-01 7.54335470e-01\n",
      " 5.34424773e-01 1.27202176e-01 4.05372049e-01 9.70791760e-01\n",
      " 9.10957566e-01 8.29736392e-01 8.85168683e-01 9.88145413e-01\n",
      " 8.35615965e-02 3.31441385e-01 9.57521321e-01 6.95736437e-02\n",
      " 2.91914188e-01 2.42817953e-01 8.24789319e-01 8.98181893e-01\n",
      " 8.30328080e-01 4.36959290e-01 6.04003073e-01 2.30597892e-01\n",
      " 1.98409908e-01 5.21860871e-01 1.90530545e-01 9.02924117e-01\n",
      " 5.52476184e-02 6.19233036e-01 3.98303966e-01 4.54972151e-01\n",
      " 2.24112805e-01 6.94932411e-03 9.19114104e-01 4.64990820e-01\n",
      " 9.86488745e-01 5.60906605e-01 2.58370979e-01 2.05635754e-01\n",
      " 3.99218855e-01 9.71240575e-01 1.72701874e-02 2.71518880e-01\n",
      " 4.97430695e-01 1.78452410e-01 8.13781151e-01 4.37840232e-01\n",
      " 9.84896403e-01 2.74620728e-01 4.61647268e-01 5.73762752e-01\n",
      " 7.86204528e-01 7.85982916e-01 8.22011177e-01 1.52304655e-01\n",
      " 1.47322147e-02 7.45514840e-01 9.72675624e-01 7.22359158e-01\n",
      " 1.13063983e-01 7.95706238e-01 9.89100702e-03 7.25865931e-01\n",
      " 3.45517100e-01 3.77018066e-01 3.24703230e-01 1.96223629e-01\n",
      " 8.87847392e-02 8.56215996e-01 5.10359888e-01 3.44116118e-01\n",
      " 3.68890361e-01 1.04982143e-01 2.57461855e-01 1.75136024e-01\n",
      " 8.78701774e-01 6.97253611e-01 8.87995008e-01 2.78207472e-01\n",
      " 1.71143953e-01 3.00953406e-01 1.45091827e-01 3.68829276e-01\n",
      " 4.27950548e-01 1.17649593e-01 4.59077712e-01 4.94770821e-01\n",
      " 9.72590069e-01 8.24003624e-02 4.87201808e-01 1.55767784e-01\n",
      " 9.56774499e-01 7.04609970e-01 9.81577786e-02 3.36726454e-01\n",
      " 1.29851487e-02 4.24037844e-01 9.82010774e-01 5.24147500e-01\n",
      " 6.55940989e-01 5.68179942e-01 6.90860652e-01 2.17934548e-01\n",
      " 7.98274642e-01 1.16474896e-01 9.64811889e-01 4.17553219e-01\n",
      " 7.00791648e-01 2.79741007e-01 6.29178003e-01 9.94330342e-01\n",
      " 3.49365763e-01 7.62383879e-01 4.82845811e-01 3.63212848e-01\n",
      " 5.74202460e-01 9.92810353e-01 7.18106124e-01 8.15772658e-01\n",
      " 3.80180019e-01 9.85051194e-01 9.23641504e-01 8.78816289e-01\n",
      " 1.71082528e-01 1.42582314e-01 7.78020883e-01 7.30832449e-01\n",
      " 8.00925500e-01 7.35474625e-01 8.13384761e-01 8.80852428e-01\n",
      " 2.94418201e-01 8.61692105e-01 7.32833850e-01 4.45177077e-01\n",
      " 7.46830176e-01 9.55809468e-02 4.47135377e-01 3.37537748e-01\n",
      " 8.67797751e-01 9.28229594e-01 9.32954463e-01 7.34291690e-01\n",
      " 7.02514369e-03 2.09226555e-01 5.43892318e-02 6.86927152e-01\n",
      " 2.27539391e-02 3.55213148e-01 9.11160090e-01 1.46395901e-01\n",
      " 1.50387217e-01 7.11887896e-01 5.07610015e-01 1.39183114e-01\n",
      " 5.02474841e-01 1.45975309e-01 6.54323950e-01 4.59363323e-01\n",
      " 9.27481785e-02 8.09171314e-01 9.31425036e-02 7.85620155e-01\n",
      " 6.63378794e-01 9.46361628e-01 4.30934963e-01 7.38917252e-01\n",
      " 2.74227735e-01 4.16529356e-01 2.22095313e-01 8.39521512e-01\n",
      " 7.69799834e-01 2.37337575e-01 8.58959315e-01 4.20462497e-02\n",
      " 4.21090649e-01 5.50296759e-01 5.60747120e-01 6.49849299e-01\n",
      " 9.90252871e-01 5.09716613e-01 8.43115899e-01 8.44099007e-01\n",
      " 3.77193338e-01 8.84590237e-01 3.37333724e-01 8.57321590e-01\n",
      " 9.25554849e-01 5.82669458e-01 3.19180313e-01 3.47684109e-01\n",
      " 2.75741330e-01 3.37879018e-01 4.06977925e-01 7.39463232e-01\n",
      " 2.00749409e-01 7.82287942e-01 3.99742309e-01 8.62538395e-01\n",
      " 7.13023433e-02 1.86906998e-01 8.52134286e-01 2.41246790e-01\n",
      " 9.72737244e-01 9.84940156e-01 9.01233000e-01 8.94308244e-01\n",
      " 7.94560636e-01 3.47579332e-02 1.05162585e-01 9.64918433e-01\n",
      " 7.50234937e-03 3.34514492e-01 7.37970666e-01 8.51732869e-02\n",
      " 1.58079246e-01 3.14483502e-01 2.06756080e-01 7.42404148e-01\n",
      " 5.24566425e-01 6.54490995e-01 3.40023026e-01 7.02535073e-01\n",
      " 2.47310139e-01 5.52303178e-01 1.14045537e-01 5.85694267e-01\n",
      " 1.48999011e-03 8.80648038e-02 3.95842809e-01 4.96216934e-01\n",
      " 2.95154033e-01 8.04971987e-01 8.02350641e-01 1.06657782e-01\n",
      " 6.86095710e-01 2.02578926e-01 7.33705013e-01 6.39172598e-01\n",
      " 6.21981019e-01 8.89040845e-01 8.41034393e-01 3.22696206e-01\n",
      " 5.65646779e-01 1.70937072e-01 9.15777018e-01 1.82288234e-01\n",
      " 7.87859790e-01 8.72066299e-01 1.65659190e-01 8.86177817e-01\n",
      " 7.36413130e-01 4.77518451e-01 9.74450211e-01 8.04539117e-01\n",
      " 5.69609306e-01 2.93791667e-01 7.88367634e-01 2.57070657e-01\n",
      " 6.64385455e-01 9.20085937e-02 2.25067721e-01 4.90878539e-02\n",
      " 9.03560276e-01 8.61025033e-01 2.11913963e-01 3.18013865e-01\n",
      " 8.48582341e-01 1.30337765e-01 1.47668498e-01 3.34857344e-01\n",
      " 3.94786871e-01 8.08711877e-01 7.83822685e-01 9.56590166e-01\n",
      " 9.92532207e-01 6.52325142e-01 2.42058718e-01 3.47040744e-01\n",
      " 7.22816100e-01 5.68722302e-01 2.55991751e-01 8.02500046e-01\n",
      " 9.08942737e-01 1.17699874e-02 6.76763607e-01 5.47065572e-02\n",
      " 5.01541123e-01 8.43037435e-01 3.64288446e-01 3.37403557e-01\n",
      " 3.46093407e-01 5.69492483e-01 9.34877946e-01 4.22759143e-01\n",
      " 5.16261216e-01 1.54302977e-01 3.63112369e-01 7.98039892e-01\n",
      " 8.19693097e-01 5.97687467e-01 2.00569146e-01 3.26132539e-01\n",
      " 2.65540578e-01 7.99314571e-01 2.02693701e-01 2.88077119e-01\n",
      " 5.05748913e-01 7.50980725e-01 2.16069450e-01 3.69600715e-01\n",
      " 4.25772371e-01 1.15227806e-02 7.93743468e-01 7.67074770e-01\n",
      " 1.25449339e-01 1.78789910e-01 6.87492084e-01 9.60285320e-01\n",
      " 8.01464879e-01 2.73773227e-01 4.58782363e-01 5.47608809e-01\n",
      " 9.40655784e-01 9.98666887e-01 6.32019957e-02 2.07214087e-01\n",
      " 7.26241495e-01 9.16068244e-01 9.03017563e-02 6.12656518e-01\n",
      " 3.36481802e-01 3.47388748e-01 3.03024907e-01 9.75019969e-01\n",
      " 9.60071668e-01 6.64812067e-01 2.50270308e-01 4.23903355e-01\n",
      " 3.19509332e-01 5.27691759e-01 6.24653568e-01 9.72256384e-01\n",
      " 9.25291142e-01 4.34027141e-01 9.78604134e-01 2.06391027e-01\n",
      " 6.79124921e-01 8.83816027e-01 6.02344566e-01 7.13665728e-01\n",
      " 1.88534354e-02 4.27896812e-01 8.74907945e-01 1.45595701e-01\n",
      " 3.75656052e-01 9.33275541e-01 2.84577064e-01 6.77013008e-01\n",
      " 8.93092900e-01 3.31290953e-01 8.00101889e-01 5.12445119e-01\n",
      " 2.00140788e-01 6.53774609e-03 4.00893557e-01 2.19392027e-01\n",
      " 1.20545439e-01 6.04090509e-01 1.87651737e-01 3.64480858e-01\n",
      " 9.17202644e-01 5.89551315e-01 3.09837185e-01 8.17185423e-01\n",
      " 3.03094544e-01 8.16281207e-01 3.20334916e-04 7.42965599e-01\n",
      " 7.24588937e-01 5.91966194e-01 3.94709770e-02 6.82597505e-01\n",
      " 8.08592678e-01 5.90629382e-01 3.52249147e-01 4.97129892e-02\n",
      " 5.26897339e-02 6.91114075e-01 7.35905587e-01 9.39579290e-01\n",
      " 2.77397998e-01 2.42119175e-01 8.97861370e-01 4.70148948e-01\n",
      " 7.03608498e-01 1.68943834e-01 3.05870900e-01 4.21759852e-01\n",
      " 1.03151610e-02 6.30133038e-01 3.26202979e-01 3.32151826e-01\n",
      " 8.60409322e-02 5.36825910e-01 7.72306269e-01 3.70372303e-01\n",
      " 8.98062542e-01 7.78505939e-01 8.89003823e-01 4.89348967e-01\n",
      " 7.25867366e-01 6.72727539e-02 9.43146901e-01 1.28239206e-01\n",
      " 9.65063752e-01 5.15135429e-01 1.90269768e-01 8.32319444e-01\n",
      " 7.92251777e-01 2.95750425e-01 1.60893031e-01 9.27232557e-01\n",
      " 6.13474088e-01 8.04492512e-01 8.49379050e-01 7.50064060e-01\n",
      " 9.39713714e-01 2.34744059e-01 2.54270246e-01 5.24646208e-01\n",
      " 4.50999835e-01 8.89250927e-01 5.49086907e-03 4.91693698e-01\n",
      " 4.38144109e-01 6.55447321e-01 2.52639868e-01 7.00531435e-01\n",
      " 2.66867189e-01 5.69627063e-01 7.59885005e-01 6.55154829e-01\n",
      " 1.18662545e-01 7.55011734e-01 2.39737825e-01 9.18485329e-01\n",
      " 3.35901899e-01 1.07065505e-01 8.15277139e-01 8.00928353e-01\n",
      " 6.23846738e-02 1.18666985e-01 8.10762056e-01 6.42395577e-01\n",
      " 4.98341212e-01 3.72354275e-01 3.36432575e-01 2.04835825e-01\n",
      " 2.88598380e-01 6.75694160e-01 7.03278764e-01 7.22889426e-01\n",
      " 8.33959046e-01 2.62973130e-01 3.61782428e-01 4.07827219e-01\n",
      " 6.18800025e-01 3.23377626e-01 2.45305355e-01 6.92279586e-02\n",
      " 7.27826682e-01 8.82816758e-01 3.36550619e-01 1.46891226e-01\n",
      " 9.65834342e-01 7.19870305e-01 7.56438652e-01 8.88165253e-01\n",
      " 7.98232861e-01 5.12653127e-01 8.55078120e-01 9.18743126e-01\n",
      " 6.55692460e-01 3.25512820e-01 6.97941028e-01 9.43961008e-02\n",
      " 9.36316442e-01 1.71060584e-01 7.15878631e-01 7.48756665e-01\n",
      " 3.25974778e-01 9.42355445e-01 8.60846933e-01 6.75474562e-01\n",
      " 6.28490504e-01 2.64980548e-01 2.13832993e-01 7.96179216e-01\n",
      " 5.86333833e-01 1.65931293e-02 3.13401761e-01 4.83402911e-01\n",
      " 6.17064166e-01 3.06152485e-01 5.98435638e-01 9.34132337e-01\n",
      " 9.93663389e-01 3.83557523e-01 5.12494120e-01 5.12162134e-01\n",
      " 7.40067830e-01 6.27381880e-02 5.82988785e-01 1.91533153e-01\n",
      " 7.97456834e-02 7.96437250e-01 4.93498415e-01 5.75803015e-01\n",
      " 9.51327389e-01 3.91798110e-01 3.20873493e-01 6.05047165e-01\n",
      " 8.14274546e-02 1.03421268e-02 3.53293879e-02 1.08777155e-01\n",
      " 4.27316810e-02 8.79610269e-01 9.58464688e-01 7.76257869e-01\n",
      " 6.11751483e-01 4.51351805e-01 7.40961758e-01 2.34214204e-01\n",
      " 8.60202507e-01 6.04555860e-01 7.66714859e-01 5.60671693e-01\n",
      " 8.93662714e-01 7.06067129e-01 1.45649587e-01 8.39386607e-01\n",
      " 7.51952947e-01 2.41548397e-01 8.55938570e-01 1.73341850e-01\n",
      " 7.14427379e-01 2.00653600e-01 2.38310666e-02 5.24543932e-01\n",
      " 7.46405345e-01 6.71407454e-01 7.80007178e-02 3.63210115e-02\n",
      " 9.18156473e-01 4.06181377e-01 6.33949260e-01 4.27988158e-01\n",
      " 5.01718571e-01 6.50521908e-01 5.42241765e-01 9.61126787e-01\n",
      " 7.00905990e-01 4.30542798e-01 4.21357086e-01 4.96209614e-03\n",
      " 3.24912280e-01 2.14146695e-01 1.50834162e-01 4.92306060e-01\n",
      " 7.88192577e-01 5.26886637e-01 9.14704658e-01 2.68217487e-02\n",
      " 9.74448871e-01 5.94583557e-01 8.61960313e-01 5.44470665e-01\n",
      " 7.55048585e-01 6.54516037e-01 4.90216498e-01 7.34218929e-02\n",
      " 6.92452649e-01 7.20137415e-01 3.04823005e-02 4.04034629e-01\n",
      " 6.20341236e-01 1.32376271e-04 7.13950559e-01 3.82613845e-01\n",
      " 8.46762066e-01 6.46003449e-01 8.97719692e-01 2.92809608e-01\n",
      " 6.70566188e-01 5.52340689e-02 6.29307186e-01 2.43253373e-01\n",
      " 1.62474859e-01 3.60580100e-01 6.22988592e-01 1.50997658e-01\n",
      " 3.57617572e-01 9.17492457e-01 8.96908739e-01 3.37487053e-01\n",
      " 2.25726021e-01 9.24482802e-01 7.50361046e-02 1.91115490e-01\n",
      " 2.70323692e-01 6.72111372e-02 9.74151045e-02 8.97085131e-01\n",
      " 3.86075129e-01 1.84320908e-01 7.10673917e-01 8.27566935e-01\n",
      " 3.67502160e-01 9.94463657e-01 2.41833348e-01 1.47437698e-03\n",
      " 3.20791483e-01 8.14204069e-01 9.25164440e-01 6.39796935e-01\n",
      " 4.93612095e-01 9.20074404e-01 4.84120369e-01 5.15622098e-01\n",
      " 4.00248074e-01 9.84818557e-01 3.51626615e-01 4.61589885e-02\n",
      " 8.95090678e-01 4.32394667e-01 8.14788164e-01 3.19876614e-01\n",
      " 1.76702482e-01 3.56666120e-01 3.79845426e-02 3.87245971e-01\n",
      " 1.80929422e-01 6.51325273e-01 1.82728059e-02 7.43368297e-01\n",
      " 6.83372658e-01 7.85355872e-01 1.61010125e-02 6.00299861e-01\n",
      " 4.70948402e-01 7.12359219e-01 7.61530651e-01 5.96490348e-01\n",
      " 8.97965963e-01 8.83428915e-01 5.15393739e-01 9.44407328e-01\n",
      " 1.67445450e-01 1.71251651e-01 4.56024204e-01 1.07627750e-01\n",
      " 4.97082217e-01 3.15024034e-01 9.53473478e-01 3.48435855e-01\n",
      " 3.38381104e-01 1.97804107e-01 8.99118974e-01 2.88043663e-01\n",
      " 7.45586755e-01 9.40276643e-01 9.91859758e-01 9.15607448e-01\n",
      " 2.57812074e-01 6.69514768e-01 9.71301377e-02 6.11271207e-01\n",
      " 9.85348441e-01 1.31916004e-01 3.71559505e-01 3.31774102e-01\n",
      " 5.30397810e-01 3.41461151e-01 6.01069611e-01 7.91180388e-01\n",
      " 7.36074065e-01 1.41267295e-01 9.19768520e-01 1.40017326e-02\n",
      " 2.35417354e-01 8.17539801e-01 9.67107283e-01 9.04058277e-01\n",
      " 1.41135895e-01 3.85137514e-01 8.26330537e-01 1.46456948e-02\n",
      " 7.07655787e-02 2.24186445e-01 7.46973328e-02 1.22071690e-01\n",
      " 3.91004335e-01 3.75323450e-01 8.08570213e-02 4.93246070e-01\n",
      " 5.77937137e-01 3.57400833e-01 6.21164782e-02 3.33017574e-01\n",
      " 8.00524072e-01 2.03028952e-01 8.25789602e-01 6.47399324e-01\n",
      " 2.38627701e-01 9.84248872e-01 4.95842521e-01 9.46583514e-01\n",
      " 5.23011103e-01 6.66331506e-02 5.96734582e-01 6.44339047e-01\n",
      " 6.88308376e-01 5.22982711e-01 9.92737944e-01 8.33326316e-01\n",
      " 7.97917383e-01 6.81481403e-01 7.97157927e-01 2.40368709e-01\n",
      " 9.78046101e-01 2.88094673e-01 8.14976708e-01 8.35920539e-01\n",
      " 5.03850362e-01 4.83250800e-02 1.80194915e-01 8.64958342e-02\n",
      " 1.29352487e-01 2.01771933e-01 2.54101938e-01 3.84257533e-01\n",
      " 7.14500840e-01 6.47906102e-01 4.88420525e-01 5.21307601e-01\n",
      " 9.48163586e-01 9.79949925e-01 1.97377371e-01 2.87242842e-01\n",
      " 1.39104590e-01 4.08782829e-01 5.32818682e-02 2.00879623e-01\n",
      " 5.49642308e-01 8.20892457e-01 7.40155287e-01 7.39268160e-01\n",
      " 9.16775760e-01 9.60097713e-01 7.87062533e-01 1.14226116e-01\n",
      " 6.45518373e-01 6.91741522e-01 2.21519334e-01 1.36358745e-01\n",
      " 6.54127856e-01 1.95313136e-01 3.17644615e-01 6.78785699e-01\n",
      " 3.49037368e-01 4.95163477e-01 6.38890506e-01 3.97184406e-02\n",
      " 1.84388659e-01 9.94317937e-01 8.03920613e-01 4.69707975e-01\n",
      " 3.89214822e-01 2.37265008e-01 7.30263396e-01 5.07787433e-01\n",
      " 8.96408168e-01 8.50978020e-01 5.88096969e-01 6.02530308e-01\n",
      " 6.42931571e-01 8.98299852e-01 2.65045158e-01 7.07159497e-01\n",
      " 8.24149587e-02 1.68664159e-01 9.71941036e-01 3.97629621e-01\n",
      " 5.90984324e-01 1.96047068e-01 2.96900935e-01 2.71082566e-01\n",
      " 8.32196713e-01 8.43869026e-01 5.47626570e-01 7.19248093e-01\n",
      " 1.74078220e-01 4.11144631e-01 4.93349597e-01 2.62662508e-01\n",
      " 6.39612614e-01 9.84796385e-01 8.84023882e-02 3.64359743e-01\n",
      " 5.76314397e-01 4.40638994e-03 8.01376906e-02 5.73564164e-01\n",
      " 9.66961076e-01 6.91392691e-01 3.23459171e-01 3.32264923e-01\n",
      " 1.01510358e-01 8.11790701e-01 5.99887797e-01 6.77776472e-01\n",
      " 8.39003925e-01 4.10216077e-01 8.91296105e-01 2.52395274e-01\n",
      " 2.93872028e-01 6.44355444e-01 7.40884871e-01 9.01755033e-01\n",
      " 9.33128140e-01 2.97546975e-01 6.84278355e-01 2.77287804e-01\n",
      " 9.42353380e-01 2.91433844e-01 6.24404282e-01 4.11096522e-01\n",
      " 6.35196574e-01 7.23777538e-01 9.79008167e-01 9.90319492e-01\n",
      " 3.21863038e-01 5.65952473e-01 9.77401159e-01 4.12788198e-01\n",
      " 7.98755863e-01 6.29236826e-01 6.41813885e-01 5.52451442e-01\n",
      " 9.47169497e-02 3.96248229e-01 8.00497225e-01 1.12153337e-01\n",
      " 1.07164680e-01 8.95329905e-01 4.02787730e-01 4.62907135e-01\n",
      " 1.36496101e-01 8.01133124e-01 8.99788725e-01 3.55321081e-01\n",
      " 2.99898545e-01 4.65646611e-01 6.51599934e-01 5.56522335e-01\n",
      " 4.60488533e-01 1.34052644e-01 4.59957929e-01 3.89935184e-02\n",
      " 7.11851364e-01 7.55779889e-01 1.78023367e-01 3.11242587e-01\n",
      " 1.57971957e-01 6.35352900e-01 4.47081727e-01 6.59450582e-01\n",
      " 3.80774609e-01 8.16836278e-01 9.12014827e-01 1.30740167e-01\n",
      " 7.67715634e-01 8.64662347e-01 5.33484602e-01 8.06701155e-01\n",
      " 7.84913561e-01 9.28597409e-01 7.14176449e-01 6.83621148e-01\n",
      " 6.94235537e-01 2.54533755e-01 3.36025573e-01 8.79379170e-01\n",
      " 1.69885781e-01 2.03856370e-01 7.71447209e-01 3.52639622e-01\n",
      " 5.70915263e-01 4.03909006e-01 4.29896427e-01 3.79859558e-02\n",
      " 9.79617133e-01 8.75512437e-01 9.45903116e-01 4.76259273e-01\n",
      " 6.65020276e-01 6.54617188e-01 7.29657258e-02 3.47422654e-01\n",
      " 8.17890402e-01 9.58601157e-01 5.62059191e-01 9.18079097e-01\n",
      " 2.69705313e-02 7.54863813e-02 6.36585222e-02 5.06158620e-01\n",
      " 4.57922097e-01 9.31484414e-02 8.32939819e-01 6.71635426e-01\n",
      " 3.63782455e-01 1.46301552e-01 1.90742503e-01 3.21600782e-01\n",
      " 4.06275837e-01 9.87633035e-01 4.81606581e-01 2.16288704e-01]\n"
     ]
    },
    {
     "data": {
      "image/png": "[encoded data removed]",
      "text/plain": [
       "<Figure size 1000x400 with 1 Axes>"
      ]
     },
     "metadata": {},
     "output_type": "display_data"
    }
   ],
   "source": [
    "a = np.random.random(1000)\n",
    "pprint(a)\n",
    "\n",
    "plt.figure(figsize=(10, 4))\n",
    "plt.hist(a, bins=100)\n",
    "plt.show()"
   ]
  },
  {
   "cell_type": "markdown",
   "id": "0877732f",
   "metadata": {},
   "source": [
    "***\n",
    "약속된 난수\n",
    "***\n",
    "난수 발생 메소드는 특정 시작 숫자로부터 난수처럼 보이는 수열을 만드는 알고리즘의 결과이다.  \n",
    "따라서 시작점을 설정하면 난수 발생을 재연할 수 있다. -> 매번 같은 배열의 난수가 발생되게 할 수 있다.  "
   ]
  },
  {
   "cell_type": "code",
   "execution_count": 28,
   "id": "432a7215",
   "metadata": {},
   "outputs": [
    {
     "name": "stdout",
     "output_type": "stream",
     "text": [
      "[-0.41675785 -0.05626683 -2.1361961   1.64027081 -1.79343559]\n",
      "[-0.84174737  0.50288142 -1.24528809 -1.05795222 -0.90900761]\n",
      "[0.62113383 0.52914209 0.13457995 0.51357812 0.18443987]\n",
      "[8 7 2 4 6]\n",
      "[0.96963241 0.29701836 0.28786882 0.11619332 0.18172704]\n"
     ]
    }
   ],
   "source": [
    "# seed() 메소드는 매번 같은 배열의 난수를 얻을 수 있게 시작 숫자를 고정한다.\n",
    "np.random.seed(2)\n",
    "print(np.random.normal(0, 1, 5)) #평균과 표준편차를 지정한 정규분포를 따르는 난수\n",
    "print(np.random.randn(5)) # 표준 정규 분포(평균 0, 표준편차 1)를 따르는 난수\n",
    "print(np.random.rand(5)) # 0 - 1사이의 균등 분포를 따르는 난수\n",
    "print(np.random.randint(1, 10, 5)) # 두 정수 사이의 균등 분포를 따르는 난수\n",
    "print(np.random.random(5)) # 0 - 1 사이의 균등 분포를 따르는 난수"
   ]
  },
  {
   "cell_type": "code",
   "execution_count": 29,
   "id": "4b4aa7f3",
   "metadata": {},
   "outputs": [
    {
     "name": "stdout",
     "output_type": "stream",
     "text": [
      "[0.49428977 0.56576513 0.22183517 0.76749117 0.57730807]\n",
      "[0.16782331 0.36747137 0.46867358 0.65426618 0.79308974]\n",
      "----------------------------------------------------------------------------------------------------\n",
      "[[0.66306179 0.61302969 0.990852   0.1194848  0.14856478]\n",
      " [0.85228103 0.50952588 0.21726993 0.99326629 0.31529748]]\n",
      "[[0.25873317 0.80917529 0.35367538 0.46784249 0.27417326]\n",
      " [0.79820039 0.81413841 0.94809042 0.82288464 0.51513912]]\n"
     ]
    }
   ],
   "source": [
    "#rand() 메소드와 random() 메소드는 1차원 난수를 발생시킬 때는 똑같이 사용된다.\n",
    "print(np.random.rand(5))\n",
    "print(np.random.random(5))\n",
    "print('-' * 100)\n",
    "#다차원 난수를 발생시켜야 할 경우 rand() 메소드는 shape만 적어주면 되지만,\n",
    "#random() 메소드는 shape를 튜플로 만들어 적어줘야한다.\n",
    "print(np.random.rand(2, 5))\n",
    "print(np.random.random((2, 5)))"
   ]
  },
  {
   "cell_type": "markdown",
   "id": "a10c49b7",
   "metadata": {},
   "source": [
    "***\n",
    "numpy 배열 상태 검사\n",
    "***\n",
    "numpy는 배열의 상태를 검사하는 다음과 같은 방법을 제공한다."
   ]
  },
  {
   "cell_type": "code",
   "execution_count": 47,
   "id": "05a719a5",
   "metadata": {},
   "outputs": [
    {
     "name": "stdout",
     "output_type": "stream",
     "text": [
      "type -> <class 'numpy.ndarray'>\n",
      "shape -> (2, 3, 4), dimension -> 3, dtype -> float64\n",
      "vvv numpy Data vvv\n",
      " [[[0.21293324 0.36202741 0.87830029 0.36332589]\n",
      "  [0.50320692 0.76748826 0.91447557 0.82636801]\n",
      "  [0.41174644 0.63084266 0.3419116  0.38169294]]\n",
      "\n",
      " [[0.96245957 0.64701423 0.95784567 0.80345213]\n",
      "  [0.22938596 0.87920203 0.59249636 0.78617224]\n",
      "  [0.53214444 0.96829057 0.57495353 0.47684341]]]\n"
     ]
    }
   ],
   "source": [
    "arr = np.random.random((2, 3, 4))\n",
    "pprint(arr)"
   ]
  },
  {
   "cell_type": "code",
   "execution_count": 31,
   "id": "4ffce93f",
   "metadata": {},
   "outputs": [
    {
     "name": "stdout",
     "output_type": "stream",
     "text": [
      "배열의 타입 -> <class 'numpy.ndarray'>\n"
     ]
    }
   ],
   "source": [
    "#파이썬의 type() 함수를 사용하면 numpy 배열의 데이터 타입을 확인할 수 있다.\n",
    "print('배열의 타입 -> {}'.format(type(arr)))"
   ]
  },
  {
   "cell_type": "code",
   "execution_count": 40,
   "id": "34056b63",
   "metadata": {},
   "outputs": [
    {
     "name": "stdout",
     "output_type": "stream",
     "text": [
      "배열의 shape -> (2, 3, 4)\n"
     ]
    }
   ],
   "source": [
    "#shape속성으로 numpy 배열의 shape를 확인할 수 있다.\n",
    "print('배열의 shape -> {}'.format(arr.shape))"
   ]
  },
  {
   "cell_type": "code",
   "execution_count": 39,
   "id": "3f2eb3d0",
   "metadata": {},
   "outputs": [
    {
     "name": "stdout",
     "output_type": "stream",
     "text": [
      "배열의 길이(면) -> 2\n",
      "배열의 길이(행) -> 3\n",
      "배열의 길이(열) -> 4\n",
      "----------------------------------------------------------------------------------------------------\n",
      "배열의 길이(면) -> 2\n",
      "배열의 길이(행) -> 3\n",
      "배열의 길이(열) -> 4\n"
     ]
    }
   ],
   "source": [
    "# 파이썬의 len() 함수를 인덱싱과 적절히 섞어 사용하면 다양한 배열의 길이를 확인할 수 있다.\n",
    "print('배열의 길이(면) -> {}'.format(len(arr)))\n",
    "print('배열의 길이(행) -> {}'.format(len(arr[0])))\n",
    "print('배열의 길이(열) -> {}'.format(len(arr[0][0])))\n",
    "print('-' * 100)\n",
    "# shape 속성과 인덱싱과 적절히 섞어 사용하면 다양한 배열의 길이를 확인할 수 있다.\n",
    "print('배열의 길이(면) -> {}'.format(arr.shape[0]))\n",
    "print('배열의 길이(행) -> {}'.format(arr.shape[1]))\n",
    "print('배열의 길이(열) -> {}'.format(arr.shape[2]))"
   ]
  },
  {
   "cell_type": "code",
   "execution_count": 41,
   "id": "852d3fba",
   "metadata": {},
   "outputs": [
    {
     "name": "stdout",
     "output_type": "stream",
     "text": [
      "배열의 차원 -> 3\n"
     ]
    }
   ],
   "source": [
    "#ndim속성으로 numpy 배열의 차원 확인할 수 있다.\n",
    "print('배열의 차원 -> {}'.format(arr.ndim))"
   ]
  },
  {
   "cell_type": "code",
   "execution_count": 42,
   "id": "8521779c",
   "metadata": {},
   "outputs": [
    {
     "name": "stdout",
     "output_type": "stream",
     "text": [
      "배열의 요소갯수 -> 24\n"
     ]
    }
   ],
   "source": [
    "#size속성으로 numpy 배열의 요소의 갯수를 확인할 수 있다.\n",
    "print('배열의 요소 갯수 -> {}'.format(arr.size))"
   ]
  },
  {
   "cell_type": "code",
   "execution_count": 44,
   "id": "f380b31f",
   "metadata": {},
   "outputs": [
    {
     "name": "stdout",
     "output_type": "stream",
     "text": [
      "배열의 데이터 타입 -> float64\n",
      "배열의 데이터 타입 -> float64\n"
     ]
    }
   ],
   "source": [
    "#dtype속성으로 numpy 배열의 데이터 타입을 확인할 수 있다.\n",
    "print('배열의 데이터 타입 -> {}'.format(arr.dtype))\n",
    "print('배열의 데이터 타입 -> {}'.format(arr.dtype.name))"
   ]
  },
  {
   "cell_type": "code",
   "execution_count": 48,
   "id": "b5254071",
   "metadata": {},
   "outputs": [
    {
     "name": "stdout",
     "output_type": "stream",
     "text": [
      "type -> <class 'numpy.ndarray'>\n",
      "shape -> (2, 3, 4), dimension -> 3, dtype -> float64\n",
      "vvv numpy Data vvv\n",
      " [[[0.21293324 0.36202741 0.87830029 0.36332589]\n",
      "  [0.50320692 0.76748826 0.91447557 0.82636801]\n",
      "  [0.41174644 0.63084266 0.3419116  0.38169294]]\n",
      "\n",
      " [[0.96245957 0.64701423 0.95784567 0.80345213]\n",
      "  [0.22938596 0.87920203 0.59249636 0.78617224]\n",
      "  [0.53214444 0.96829057 0.57495353 0.47684341]]]\n",
      "----------------------------------------------------------------------------------------------------\n",
      "type -> <class 'numpy.ndarray'>\n",
      "shape -> (2, 3, 4), dimension -> 3, dtype -> int32\n",
      "vvv numpy Data vvv\n",
      " [[[0 0 0 0]\n",
      "  [0 0 0 0]\n",
      "  [0 0 0 0]]\n",
      "\n",
      " [[0 0 0 0]\n",
      "  [0 0 0 0]\n",
      "  [0 0 0 0]]]\n"
     ]
    }
   ],
   "source": [
    "#astype() 메소드로 numpy 배열의 데이터 타입을 변경할 수 있다.\n",
    "pprint(arr)\n",
    "print('-' * 100)\n",
    "arr = arr.astype(np.int)\n",
    "pprint(arr)"
   ]
  },
  {
   "cell_type": "code",
   "execution_count": null,
   "id": "d44a1eb4",
   "metadata": {},
   "outputs": [],
   "source": []
  },
  {
   "cell_type": "code",
   "execution_count": null,
   "id": "77c2a94c",
   "metadata": {},
   "outputs": [],
   "source": []
  },
  {
   "cell_type": "code",
   "execution_count": null,
   "id": "5b47c7bd",
   "metadata": {},
   "outputs": [],
   "source": []
  },
  {
   "cell_type": "code",
   "execution_count": null,
   "id": "b514effa",
   "metadata": {},
   "outputs": [],
   "source": []
  }
 ],
 "metadata": {
  "kernelspec": {
   "display_name": "Python [conda env:.conda-py3.7] *",
   "language": "python",
   "name": "conda-env-.conda-py3.7-py"
  },
  "language_info": {
   "codemirror_mode": {
    "name": "ipython",
    "version": 3
   },
   "file_extension": ".py",
   "mimetype": "text/x-python",
   "name": "python",
   "nbconvert_exporter": "python",
   "pygments_lexer": "ipython3",
   "version": "3.7.16"
  }
 },
 "nbformat": 4,
 "nbformat_minor": 5
}
