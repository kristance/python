{
 "cells": [
  {
   "cell_type": "code",
   "execution_count": 1,
   "metadata": {},
   "outputs": [],
   "source": [
    "%config Completer.use_jedi = False\n",
    "import warnings\n",
    "warnings.filterwarnings(action=\"ignore\")"
   ]
  },
  {
   "cell_type": "code",
   "execution_count": 2,
   "metadata": {},
   "outputs": [],
   "source": [
    "# seleniumwire가 import가 안되면 python -m pip install --upgrade pip를 실행하고 다시 설치한다.\n",
    "from seleniumwire import webdriver\n",
    "import json\n",
    "import time\n",
    "from selenium.webdriver.chrome.options import Options\n",
    "from selenium.webdriver.common.by import By"
   ]
  },
  {
   "cell_type": "markdown",
   "metadata": {},
   "source": [
    "seleniumwire를 이용한 스타벅스 시도코드 크롤링"
   ]
  },
  {
   "cell_type": "code",
   "execution_count": 3,
   "metadata": {},
   "outputs": [
    {
     "name": "stderr",
     "output_type": "stream",
     "text": [
      "The chromedriver version (123.0.6312.122) detected in PATH at C:\\Users\\tj\\Desktop\\python\\seleniumV4Crawling\\chromedriver.exe might not be compatible with the detected chrome version (124.0.6367.61); currently, chromedriver 124.0.6367.60 is recommended for chrome 124.*, so it is advised to delete the driver in PATH and retry\n"
     ]
    },
    {
     "name": "stdout",
     "output_type": "stream",
     "text": [
      "{'서울': '01', '경기': '08', '광주': '02', '대구': '03', '대전': '04', '부산': '05', '울산': '06', '인천': '07', '강원': '09', '경남': '10', '경북': '11', '전남': '12', '전북': '13', '충남': '14', '충북': '15', '제주': '16', '세종': '17'}\n"
     ]
    }
   ],
   "source": [
    "options = Options()\n",
    "options.add_argument('--window-size= 1024, 1680')\n",
    "driver = webdriver.Chrome(options = options)\n",
    "driver.implicitly_wait(5)\n",
    "#get() 메소드로 XHR/Fetch 요청이 들어가는 웹페이지를 요청한다.\n",
    "driver.get('https://www.starbucks.co.kr:7643/store/store_map.do?disp=locale')\n",
    "\n",
    "#wait_for_request() 메소드로 XHR/Fetch 요청이 들어가는 웹페이지가 응답하는 결과를 받는다.\n",
    "request = driver.wait_for_request('https://www.starbucks.co.kr:7643/store/getSidoList.do', timeout=10)\n",
    "#print(request.url)\n",
    "#print(request.response.status_code)\n",
    "#print(request.response.headers)\n",
    "#print(request.response.headers['content-type'])\n",
    "#print('body')\n",
    "#print(request.response.body.decode('utf-8'))\n",
    "#print(type(request.response.body.decode('utf-8')))\n",
    "\n",
    "starbucks = json.loads(request.response.body.decode('utf-8'))\n",
    "#print(type(starbucks))\n",
    "#print(starbucks)\n",
    "\n",
    "sido_list = {}\n",
    "for star in starbucks['list']:\n",
    "    sido_list[star.get('sido_nm')] = star['sido_cd']\n",
    "#------- for star\n",
    "print(sido_list)"
   ]
  },
  {
   "cell_type": "markdown",
   "metadata": {},
   "source": [
    "seleniumwire를 이용한 스타벅스 구군코드 크롤링"
   ]
  },
  {
   "cell_type": "code",
   "execution_count": 4,
   "metadata": {},
   "outputs": [],
   "source": [
    "# 서울 : //*[@id=\"container\"]/div/form/fieldset/div/section/article[1]/article/article[2]/div[1]/div[2]/ul/li[1]/a  \n",
    "# 경기 : //*[@id=\"container\"]/div/form/fieldset/div/section/article[1]/article/article[2]/div[1]/div[2]/ul/li[2]/a  \n",
    "# 광주 : //*[@id=\"container\"]/div/form/fieldset/div/section/article[1]/article/article[2]/div[1]/div[2]/ul/li[3]/a  \n",
    "# 대구 : //*[@id=\"container\"]/div/form/fieldset/div/section/article[1]/article/article[2]/div[1]/div[2]/ul/li[4]/a  \n",
    "#...   \n",
    "# 세종 : //*[@id=\"container\"]/div/form/fieldset/div/section/article[1]/article/article[2]/div[1]/div[2]/ul/li[17]/a  "
   ]
  },
  {
   "cell_type": "code",
   "execution_count": 5,
   "metadata": {
    "scrolled": true
   },
   "outputs": [
    {
     "name": "stderr",
     "output_type": "stream",
     "text": [
      "The chromedriver version (123.0.6312.122) detected in PATH at C:\\Users\\tj\\Desktop\\python\\seleniumV4Crawling\\chromedriver.exe might not be compatible with the detected chrome version (124.0.6367.61); currently, chromedriver 124.0.6367.60 is recommended for chrome 124.*, so it is advised to delete the driver in PATH and retry\n"
     ]
    },
    {
     "name": "stdout",
     "output_type": "stream",
     "text": [
      "시도 입력 ??? -> 제주\n",
      "{'서귀포시': 2, '제주시': 3}\n",
      "구군 -> 제주시\n",
      "  1. 제주평화로DT: 제주특별자치도 제주시 노형로 37 (해안동): <33.46329278001417,126.45099791468475>\n",
      "  2. 더제주송당파크R: 제주특별자치도 제주시 구좌읍 비자림로 1189 : <33.4362649647325,126.731232423627>\n",
      "  3. 제주공항DT: 제주특별자치도 제주시 월성로 42 (용담이동): <33.5005664,126.5054842>\n",
      "  4. 제주일도DT: 제주특별자치도 제주시 동광로 130 (일도이동): <33.5073284,126.5408980>\n",
      "  5. 제주서해안로DT: 제주특별자치도 제주시 서해안로 624 (용담삼동): <33.5167857,126.5035553>\n",
      "  6. 제주한라수목원DT: 제주특별자치도 제주시 수목원서길 3-5 (노형동): <33.4690200090396,126.484585553868>\n",
      "  7. 제주노형DT: 제주특별자치도 제주시 월랑로 68 (노형동): <33.4908499861488,126.474278374413>\n",
      "  8. 제주노형로: 제주특별자치도 제주시 노형로 376 (노형동): <33.4834410103164,126.476159449097>\n",
      "  9. 제주세화DT: 제주특별자치도 제주시 구좌읍 일주동로 3121 : <33.522979308914,126.8534175496>\n",
      " 10. 신제주이마트: 제주특별자치도 제주시 1100로 3348, 신제주이마트 1층 (노형동): <33.484959,126.480478>\n",
      " 11. 제주용담DT: 제주특별자치도 제주시 서해안로 380 (용담삼동) 화이트하우스: <33.512345,126.484564>\n",
      " 12. 제주노형: 제주특별자치도 제주시 도령로 27 (노형동): <33.4878111,126.4818612>\n",
      " 13. 제주칠성: 제주특별자치도 제주시 관덕로 55 (일도일동): <33.513349,126.5252435>\n",
      " 14. 제주애월DT: 제주특별자치도 제주시 애월읍 애월해안로 376 : <33.47278,126.348739>\n",
      " 15. 제주함덕: 제주특별자치도 제주시 조천읍 조함해안로 522 : <33.542511,126.668567>\n",
      " 16. 제주시청: 제주특별자치도 제주시 중앙로 215 (이도이동): <33.500516,126.529711>\n",
      " 17. 제주삼화DT: 제주특별자치도 제주시 연삼로 884 (도련일동): <33.5117687,126.5804734>\n",
      " 18. 제주외도DT: 제주특별자치도 제주시 일주서로 7300 (외도일동): <33.492554,126.427169>\n",
      " 19. 제주협재: 제주특별자치도 제주시 한림읍 한림로 337 : <33.393839,126.24049>\n",
      " 20. 제주도남DT: 제주특별자치도 제주시 연북로 394 (도남동): <33.480565,126.523646>\n",
      "{'제주평화로DT': ['제주특별자치도 제주시 노형로 37 (해안동)', '33.46329278001417', '126.45099791468475'], '더제주송당파크R': ['제주특별자치도 제주시 구좌읍 비자림로 1189 ', '33.4362649647325', '126.731232423627'], '제주공항DT': ['제주특별자치도 제주시 월성로 42 (용담이동)', '33.5005664', '126.5054842'], '제주일도DT': ['제주특별자치도 제주시 동광로 130 (일도이동)', '33.5073284', '126.5408980'], '제주서해안로DT': ['제주특별자치도 제주시 서해안로 624 (용담삼동)', '33.5167857', '126.5035553'], '제주한라수목원DT': ['제주특별자치도 제주시 수목원서길 3-5 (노형동)', '33.4690200090396', '126.484585553868'], '제주노형DT': ['제주특별자치도 제주시 월랑로 68 (노형동)', '33.4908499861488', '126.474278374413'], '제주노형로': ['제주특별자치도 제주시 노형로 376 (노형동)', '33.4834410103164', '126.476159449097'], '제주세화DT': ['제주특별자치도 제주시 구좌읍 일주동로 3121 ', '33.522979308914', '126.8534175496'], '신제주이마트': ['제주특별자치도 제주시 1100로 3348, 신제주이마트 1층 (노형동)', '33.484959', '126.480478'], '제주용담DT': ['제주특별자치도 제주시 서해안로 380 (용담삼동) 화이트하우스', '33.512345', '126.484564'], '제주노형': ['제주특별자치도 제주시 도령로 27 (노형동)', '33.4878111', '126.4818612'], '제주칠성': ['제주특별자치도 제주시 관덕로 55 (일도일동)', '33.513349', '126.5252435'], '제주애월DT': ['제주특별자치도 제주시 애월읍 애월해안로 376 ', '33.47278', '126.348739'], '제주함덕': ['제주특별자치도 제주시 조천읍 조함해안로 522 ', '33.542511', '126.668567'], '제주시청': ['제주특별자치도 제주시 중앙로 215 (이도이동)', '33.500516', '126.529711'], '제주삼화DT': ['제주특별자치도 제주시 연삼로 884 (도련일동)', '33.5117687', '126.5804734'], '제주외도DT': ['제주특별자치도 제주시 일주서로 7300 (외도일동)', '33.492554', '126.427169'], '제주협재': ['제주특별자치도 제주시 한림읍 한림로 337 ', '33.393839', '126.24049'], '제주도남DT': ['제주특별자치도 제주시 연북로 394 (도남동)', '33.480565', '126.523646']}\n"
     ]
    }
   ],
   "source": [
    "options = Options()\n",
    "options.add_argument('--window-size= 1920, 1680')\n",
    "driver = webdriver.Chrome(options = options)\n",
    "driver.implicitly_wait(5)\n",
    "driver.get('https://www.starbucks.co.kr:7643/store/store_map.do?disp=locale')\n",
    "\n",
    "\n",
    "sido_list = {\n",
    "    \n",
    "    '서울': '01', '경기': '02', '광주': '03', '대구': '04', '대전': '05', '부산': '06', '울산': '07', '인천': '08', '강원': '09',\n",
    "    '경남': '10', '경북': '11', '전남': '12', '전북': '13', '충남': '14', '충북': '15', '제주': '16', '세종': '17'\n",
    "\n",
    "}\n",
    "sido = input('시도 입력 ??? -> ')\n",
    "\n",
    "\n",
    "driver.find_element(By.XPATH, \n",
    "                    '//*[@id=\"container\"]/div/form/fieldset/div/section/article[1]/article/article[2]/div[1]/div[2]/ul/li['\n",
    "                        + str(int(sido_list[sido])) +']/a'\n",
    "                    ).click()\n",
    "time.sleep(1)\n",
    "request = driver.wait_for_request('https://www.starbucks.co.kr:7643/store/getGugunList.do', timeout=10)\n",
    "starbucks = json.loads(request.response.body.decode('utf-8'))\n",
    "#print(starbucks)\n",
    "\n",
    "gugun_list = {}\n",
    "for i, star in zip(range(2, (len(starbucks['list']) + 2) ), starbucks['list']):\n",
    "    #print(i, star['gugun_nm'])\n",
    "    gugun_list[star['gugun_nm']] = i\n",
    "#------- for star\n",
    "print(gugun_list)\n",
    "\n",
    "gugun= input('구군 -> ')\n",
    "#driver.find_element(By.XPATH, \n",
    "#                    '/html/body/div[4]/div[7]/div/form/fieldset/div/section/article[1]/article/article[2]/div[2]/div[3]/div/div/div[1]/ul/li['+\n",
    "#                        str(gugun_list[gugun]) +']/a'        \n",
    "#                    ).click()\n",
    "driver.find_element(By.CSS_SELECTOR, \n",
    "                    '#mCSB_2_container > ul > li:nth-child('+ str(gugun_list[gugun]) +') > a' \n",
    "                    ).click()\n",
    "time.sleep(1)\n",
    "request = driver.wait_for_request('https://www.starbucks.co.kr:7643/store/getStore.do', timeout=10)\n",
    "starbucks = json.loads(request.response.body.decode('utf-8'))\n",
    "store_list = {}\n",
    "for i, star in zip( range (1, len(starbucks['list']) +1 ), starbucks['list'] ):\n",
    "    print('{:3d}. {}: {}: <{},{}>'.format(i, star['s_name'], star['doro_address'], star['lat'], star['lot']))\n",
    "    store_list[star['s_name']] = [star['doro_address'], star['lat'], star['lot']]\n",
    "print(store_list)"
   ]
  },
  {
   "cell_type": "markdown",
   "metadata": {},
   "source": [
    "seleniumwire를 이용한 스타벅스 지역별 매장 정보 크롤링"
   ]
  },
  {
   "cell_type": "code",
   "execution_count": 6,
   "metadata": {},
   "outputs": [],
   "source": [
    "#강남구 -> /html/body/div[4]/div[7]/div/form/fieldset/div/section/article[1]/article/article[2]/div[2]/div[3]/div/div/div[1]/ul/li[2]/a\n",
    "#강동구 -> /html/body/div[4]/div[7]/div/form/fieldset/div/section/article[1]/article/article[2]/div[2]/div[3]/div/div/div[1]/ul/li[3]/a\n",
    "#강북구 -> /html/body/div[4]/div[7]/div/form/fieldset/div/section/article[1]/article/article[2]/div[2]/div[3]/div/div/div[1]/ul/li[4]/a\n"
   ]
  },
  {
   "cell_type": "code",
   "execution_count": null,
   "metadata": {},
   "outputs": [],
   "source": []
  },
  {
   "cell_type": "code",
   "execution_count": null,
   "metadata": {},
   "outputs": [],
   "source": []
  },
  {
   "cell_type": "code",
   "execution_count": null,
   "metadata": {},
   "outputs": [],
   "source": []
  },
  {
   "cell_type": "code",
   "execution_count": null,
   "metadata": {},
   "outputs": [],
   "source": []
  },
  {
   "cell_type": "code",
   "execution_count": null,
   "metadata": {},
   "outputs": [],
   "source": []
  },
  {
   "cell_type": "code",
   "execution_count": null,
   "metadata": {},
   "outputs": [],
   "source": []
  },
  {
   "cell_type": "code",
   "execution_count": null,
   "metadata": {},
   "outputs": [],
   "source": []
  },
  {
   "cell_type": "code",
   "execution_count": null,
   "metadata": {},
   "outputs": [],
   "source": []
  }
 ],
 "metadata": {
  "kernelspec": {
   "display_name": "py3.7",
   "language": "python",
   "name": "python3"
  },
  "language_info": {
   "codemirror_mode": {
    "name": "ipython",
    "version": 3
   },
   "file_extension": ".py",
   "mimetype": "text/x-python",
   "name": "python",
   "nbconvert_exporter": "python",
   "pygments_lexer": "ipython3",
   "version": "3.7.1"
  }
 },
 "nbformat": 4,
 "nbformat_minor": 2
}
