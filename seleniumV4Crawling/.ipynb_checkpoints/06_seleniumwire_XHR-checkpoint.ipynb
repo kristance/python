{
 "cells": [
  {
   "cell_type": "code",
   "execution_count": 2,
   "metadata": {},
   "outputs": [],
   "source": [
    "%config Completer.use_jedi = False\n",
    "import warnings\n",
    "warnings.filterwarnings(action=\"ignore\")"
   ]
  },
  {
   "cell_type": "code",
   "execution_count": 3,
   "metadata": {},
   "outputs": [],
   "source": [
    "# seleniumwire가 import가 안되면 python -m pip install --upgrade pip를 실행하고 다시 설치한다.\n",
    "from seleniumwire import webdriver\n",
    "import json\n",
    "import time\n",
    "from selenium.webdriver.edge.options import Options\n",
    "from selenium.webdriver.common.by import By"
   ]
  },
  {
   "cell_type": "markdown",
   "metadata": {},
   "source": [
    "seleniumwire를 이용한 스타벅스 시도코드 크롤링"
   ]
  },
  {
   "cell_type": "code",
   "execution_count": 4,
   "metadata": {},
   "outputs": [
    {
     "name": "stderr",
     "output_type": "stream",
     "text": [
      "The msedgedriver version (124.0.2477.0) detected in PATH at C:\\Users\\tj\\Desktop\\python\\seleniumV4Crawling\\msedgedriver.exe might not be compatible with the detected edge version (124.0.2478.51); currently, msedgedriver 124.0.2478.51 is recommended for edge 124.*, so it is advised to delete the driver in PATH and retry\n"
     ]
    },
    {
     "name": "stdout",
     "output_type": "stream",
     "text": [
      "{'서울': '01', '경기': '08', '광주': '02', '대구': '03', '대전': '04', '부산': '05', '울산': '06', '인천': '07', '강원': '09', '경남': '10', '경북': '11', '전남': '12', '전북': '13', '충남': '14', '충북': '15', '제주': '16', '세종': '17'}\n"
     ]
    }
   ],
   "source": [
    "options = Options()\n",
    "options.add_argument('--window-size= 1024, 1680')\n",
    "options.add_argument('headless')\n",
    "driver = webdriver.Edge(options = options)\n",
    "driver.implicitly_wait(5)\n",
    "#get() 메소드로 XHR/Fetch 요청이 들어가는 웹페이지를 요청한다.\n",
    "driver.get('https://www.starbucks.co.kr:7643/store/store_map.do?disp=locale')\n",
    "\n",
    "#wait_for_request() 메소드로 XHR/Fetch 요청이 들어가는 웹페이지가 응답하는 결과를 받는다.\n",
    "request = driver.wait_for_request('https://www.starbucks.co.kr:7643/store/getSidoList.do', timeout=10)\n",
    "#print(request.url)\n",
    "#print(request.response.status_code)\n",
    "#print(request.response.headers)\n",
    "#print(request.response.headers['content-type'])\n",
    "#print('body')\n",
    "#print(request.response.body.decode('utf-8'))\n",
    "#print(type(request.response.body.decode('utf-8')))\n",
    "\n",
    "starbucks = json.loads(request.response.body.decode('utf-8'))\n",
    "#print(type(starbucks))\n",
    "#print(starbucks)\n",
    "\n",
    "sido_list = {}\n",
    "for star in starbucks['list']:\n",
    "    sido_list[star.get('sido_nm')] = star['sido_cd']\n",
    "#------- for star\n",
    "print(sido_list)"
   ]
  },
  {
   "cell_type": "markdown",
   "metadata": {},
   "source": [
    "seleniumwire를 이용한 스타벅스 구군코드 크롤링"
   ]
  },
  {
   "cell_type": "code",
   "execution_count": 5,
   "metadata": {},
   "outputs": [],
   "source": [
    "# 서울 : //*[@id=\"container\"]/div/form/fieldset/div/section/article[1]/article/article[2]/div[1]/div[2]/ul/li[1]/a  \n",
    "# 경기 : //*[@id=\"container\"]/div/form/fieldset/div/section/article[1]/article/article[2]/div[1]/div[2]/ul/li[2]/a  \n",
    "# 광주 : //*[@id=\"container\"]/div/form/fieldset/div/section/article[1]/article/article[2]/div[1]/div[2]/ul/li[3]/a  \n",
    "# 대구 : //*[@id=\"container\"]/div/form/fieldset/div/section/article[1]/article/article[2]/div[1]/div[2]/ul/li[4]/a  \n",
    "#...   \n",
    "# 세종 : //*[@id=\"container\"]/div/form/fieldset/div/section/article[1]/article/article[2]/div[1]/div[2]/ul/li[17]/a  "
   ]
  },
  {
   "cell_type": "code",
   "execution_count": null,
   "metadata": {},
   "outputs": [],
   "source": [
    "options = Options()\n",
    "options.add_argument('--window-size= 1024, 1680')\n",
    "driver = webdriver.Edge(options = options)\n",
    "driver.implicitly_wait(5)\n",
    "driver.get('https://www.starbucks.co.kr:7643/store/store_map.do?disp=locale')\n",
    "\n",
    "\n",
    "sido_list = {\n",
    "    \n",
    "    '서울': '01', '경기': '02', '광주': '03', '대구': '04', '대전': '05', '부산': '06', '울산': '07', '인천': '08', '강원': '09',\n",
    "    '경남': '10', '경북': '11', '전남': '12', '전북': '13', '충남': '14', '충북': '15', '제주': '16', '세종': '17'\n",
    "\n",
    "}\n",
    "sido = input('시도 입력 ??? -> ')\n",
    "\n",
    "\n",
    "driver.find_element(By.XPATH, \n",
    "                    '//*[@id=\"container\"]/div/form/fieldset/div/section/article[1]/article/article[2]/div[1]/div[2]/ul/li['\n",
    "                        + str(int(sido_list[sido])) +']/a'\n",
    "                    ).click()\n",
    "time.sleep(1)\n",
    "request = driver.wait_for_request('https://www.starbucks.co.kr:7643/store/getGugunList.do', timeout=10)\n",
    "starbucks = json.loads(request.response.body.decode('utf-8'))\n",
    "print(starbucks)\n",
    "\n",
    "gugun_list = {}\n",
    "for star in starbucks['list']:\n",
    "    gugun_list[star.get('gugun_nm')] = star['gugun_cd']\n",
    "#------- for star\n",
    "print(gugun_list)"
   ]
  },
  {
   "cell_type": "code",
   "execution_count": null,
   "metadata": {},
   "outputs": [],
   "source": []
  },
  {
   "cell_type": "code",
   "execution_count": null,
   "metadata": {},
   "outputs": [],
   "source": []
  }
 ],
 "metadata": {
  "kernelspec": {
   "display_name": "Python 3 (ipykernel)",
   "language": "python",
   "name": "python3"
  },
  "language_info": {
   "codemirror_mode": {
    "name": "ipython",
    "version": 3
   },
   "file_extension": ".py",
   "mimetype": "text/x-python",
   "name": "python",
   "nbconvert_exporter": "python",
   "pygments_lexer": "ipython3",
   "version": "3.7.16"
  }
 },
 "nbformat": 4,
 "nbformat_minor": 2
}
