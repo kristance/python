{
 "cells": [
  {
   "cell_type": "code",
   "execution_count": 1,
   "id": "ff05f6dd",
   "metadata": {},
   "outputs": [],
   "source": [
    "%config Completer.use_jedi = False\n",
    "import warnings\n",
    "warnings.filterwarnings(action=\"ignore\")"
   ]
  },
  {
   "cell_type": "code",
   "execution_count": 5,
   "id": "98ccff57",
   "metadata": {},
   "outputs": [],
   "source": [
    "from bs4 import BeautifulSoup\n",
    "from selenium import webdriver\n",
    "from selenium.webdriver.edge.options import Options\n",
    "from selenium.webdriver.common.by import By #selenium 4버전의 'By'를 사용하기 위해 import 한다.\n",
    "import time"
   ]
  },
  {
   "cell_type": "markdown",
   "id": "f668ac8a",
   "metadata": {},
   "source": [
    "from selenium.webdriver.common.by import By를 실행하고 사용한다.  \n",
    "selenium 3버전 -> selenium 4버전  \n",
    "find_element_by_class_name('') -> find_element(By.CLASS_NAME, '')  \n",
    "find_element_by_id('')  -> find_element(By.ID, '')  \n",
    "find_element_by_name('')   -> find_element(By.NAME, '')  \n",
    "find_element_by_link_text('')   -> find_element(By.LINK_TEXT, '')  \n",
    "find_element_by_partial_link_text('')   -> find_element(By.PARTIAL_LINK_TEXT, '')  \n",
    "find_element_by_tag_name('')   -> find_element(By.TAG_NAME, '')  \n",
    "find_element_by_css_selector('')   -> find_element(By.CSS_SELECTOR, '')   \n",
    "find_element_by_xpath('')   -> find_element(By.XPATH, '')  \n"
   ]
  },
  {
   "cell_type": "code",
   "execution_count": 9,
   "id": "18f94698",
   "metadata": {},
   "outputs": [
    {
     "name": "stderr",
     "output_type": "stream",
     "text": [
      "The msedgedriver version (124.0.2477.0) detected in PATH at c:\\Users\\tj\\Desktop\\python\\seleniumV4Crawling\\msedgedriver.exe might not be compatible with the detected edge version (124.0.2478.51); currently, msedgedriver 124.0.2478.51 is recommended for edge 124.*, so it is advised to delete the driver in PATH and retry\n"
     ]
    },
    {
     "name": "stdout",
     "output_type": "stream",
     "text": [
      "15\n",
      " 3, 🎉100화 축하!!🥳작가님 100화 진심으로 축하드립니다!!\n",
      "연재도 중요하지만 건강이 우선입니다 아셨죠?100화 연재 해주셔서 감사하고 축하드려요!!🥳🥳\n",
      "\n",
      "\n",
      "****************************************************************************************************\n",
      "47\n",
      "['축하드려요']\n",
      "['100화 축하드립니다!!! 리코팀 & 작가님']\n",
      "['탈모 축하 드려요']\n",
      "['어시분들도 고생 많으셨습니다\\U0001faf6\\U0001faf6💕']\n",
      "['100화까지 잘 오셨습니다200화까지도 모두 화이팅!!']\n",
      "['탈모(?)']\n",
      "['리코팀 축하드립니다!!!!!']\n",
      "['200화 가즈아....']\n",
      "['이렇게만 쭉갑시다!']\n",
      "['탈모 ㅊㅋ']\n",
      "['축하드려요!!!!!!!!!!!!!']\n",
      "['고생하셨어요 작가님!!! 진짜 제 인생 웹툰이고 이거 본 이후로 딴 웹툰은 못 볼 정도에요... 더 수고해주세요!!!']\n",
      "['작가님들 사랑해!!']\n",
      "['츅츅']\n",
      "['축하']\n",
      "['ㅋ 겁나빠네']\n",
      "['물론 독자들의 건강입니다']\n",
      "['독자들이 건강할려면 연2회는 연재해주셔야...']\n",
      "['리코팀 앞으로도 화이팅!']\n",
      "['축하드려요']\n",
      "['건강도중요하지만 연재가우선입니다']\n",
      "['연재 제대로 가시게요']\n",
      "['건강도 중요하지만 연재가 우선입니다']\n",
      "['100화 축하해요']\n",
      "['감사합니다  조금피곤하네요 열심히 노력하겠습니다', '', '', '', '', '', '', '', '', '', '', '라고 속았징? 넘잼있엉 잘볼게요']\n",
      "['축하드려요!!🥳🥳🎉🎉']\n",
      "['우와~~']\n",
      "['100화 축하드리고 앞으로도 오래 건강하게 연재해주세요!']\n",
      "['100화 축하드려요!!!!!']\n",
      "['100화 축하드려요~~  1000화 될 그날까지!!']\n",
      "['좋아요 실시간 ㄷㄷ']\n",
      "['이런 댓글에까지 싫어요 누르는 애들은 무슨 심보인가..']\n",
      "['감~~~축']\n",
      "['100화 축하드립니다!!!']\n",
      "['100화 축하드려요!! :)']\n",
      "['100화 축하드립니당!!!!!!!']\n",
      "['부모님건강좀챙겨..']\n",
      "['경축!']\n",
      "['100축']\n",
      "['100화 축하드립니다!']\n",
      "['100화!! 몸 가꾸시면서 연재해주세요!! 축하드려요오🎉']\n",
      "['1️⃣0️⃣0️⃣화 축하합니다~🎉1️⃣0️⃣0️⃣화 축하합니다~🥳', '사랑하는 화산귀환 🌋 🔄~', '1️⃣0️⃣0️⃣화 축하합니다~!!🎂']\n",
      "['리코팀 축하드립니다!!!']\n",
      "['축축축축축×20']\n",
      "['고충광고충광고충광고충광고충광고충광고충광고충광고충광고충광고충광고충광고충광고충광고충광고충광고충광고충광고충광고충광고충광고충광고충광고충광고충광고충광고충광고충광고충광고충광고충광고충광고충광고충광고충광고충광고충광고충광고충광고충광고충광고충광고충광고충광고충광고충광고충광고충광고충광고충광고충광고충광고충광고충광고충광고충광고충광고충광고충광고충광고충광고충광고충광고충광고충광고충광고충광고충광고충광고충광고충']\n",
      "['이야 1화때 부터 쭉 봤는데 벌써 100화야 세월이 빠르네 리코팀 너무 사랑해요오오 앞으로도 잘 부탁드립니당']\n",
      "['순서가 바뀐듯 연재랑 건강이랑 바꾸셔야해요']\n"
     ]
    }
   ],
   "source": [
    "option = Options()\n",
    "option.add_argument(\"--window-size=1680,1024\") #가상 크롬의 창 크기를 지정한다.\n",
    "#option.add_argument(\"headless\")\n",
    "driver = webdriver.Edge( options=option)\n",
    "driver.implicitly_wait(5) \n",
    "driver.get(\"https://comic.naver.com/webtoon/detail?titleId=769209&no=101&week=wed\")\n",
    "html = driver.page_source\n",
    "soup = BeautifulSoup(html, \"html.parser\")\n",
    "reviews = soup.select('span.u_cbox_contents')\n",
    "print(len(reviews))\n",
    "#print(reviews)\n",
    "print(\"{:2d}, {}\".format(3, reviews[2].text))\n",
    "print(\"*\" * 100)\n",
    "\n",
    "#답글 하이퍼링크를 선택한 후 클릭해서 답글을 연다.\n",
    "#find_element_by_xpath('element_xpath') -> find_element(By.XPATH, 'element_xpath')\n",
    "#driver.find_element_by_xpath( # selenium 3버전\n",
    "#    '//*[@id=\"cbox_module_wai_u_cbox_content_wrap_tabpanel\"]/ul/li[3]/div[1]/div/div[4]/a' #3번째 Best댓글의 하이퍼링크\n",
    "#).click()\n",
    "driver.find_element(By.XPATH, #selenium 4버전\n",
    "            '//*[@id=\"cbox_module_wai_u_cbox_content_wrap_tabpanel\"]/ul/li[3]/div[1]/div/div[4]/a'\n",
    "            ).click()\n",
    "time.sleep(0.2)\n",
    "\n",
    "# 더보기 하이퍼링크가 더이상나오지 않을때까지 반복하며 답글의 더보기 하이퍼링크를 클릭해서 답글을 표시한다.\n",
    "while True :\n",
    "    try:\n",
    "        #driver.find_element_by_xpath( # selenium 3버전\n",
    "        #'//*[@id=\"cbox_module_wai_u_cbox_content_wrap_tabpanel\"]/ul/li[3]/div[2]/div[2]/a' #3번째 Best댓글의 더보기 하이퍼링크\n",
    "        #).click()\n",
    "        driver.find_element(By.XPATH, #selenium 4버전\n",
    "                        '//*[@id=\"cbox_module_wai_u_cbox_content_wrap_tabpanel\"]/ul/li[3]/div[2]/div[2]/a'\n",
    "                        ).click()\n",
    "        time.sleep(0.2)\n",
    "    except :\n",
    "        break\n",
    "    #---- try\n",
    "#------ while True\n",
    "\n",
    "#페이지의 내용이 변경되면 다시 읽어와야 한다.\n",
    "html = driver.page_source\n",
    "soup = BeautifulSoup(html, \"html.parser\")\n",
    "\n",
    "#답글을 읽는다\n",
    "#cbox_module_wai_u_cbox_content_wrap_tabpanel > ul > li.u_cbox_comment.cbox_module__comment_461794567._user_id_no_aK3ia > div.u_cbox_reply_area > ul > li.u_cbox_comment.cbox_module__comment_461794780._user_id_no_bAbsx > div > div > div.u_cbox_text_wrap > span.u_cbox_contents\n",
    "#cbox_module_wai_u_cbox_content_wrap_tabpanel > ul > li.u_cbox_comment.cbox_module__comment_461794567._user_id_no_aK3ia > div.u_cbox_comment_box > div > div.u_cbox_text_wrap > span.u_cbox_contents\n",
    "replies = soup.select('#cbox_module_wai_u_cbox_content_wrap_tabpanel div.u_cbox_reply_area div.u_cbox_text_wrap > span.u_cbox_contents')\n",
    "print(len(replies))\n",
    "for i in range(len(replies)):\n",
    "    print(replies[i].text.strip().split(\"\\n\"))\n",
    "#---------- for i\n",
    "\n",
    "#답글접기 하이퍼링크를 클릭해서 읽은 Best댓글의 답글을 닫는다.\n",
    "#driver.find_element_by_xpath( # selenium 3버전\n",
    "    #'//*[@id=\"cbox_module_wai_u_cbox_content_wrap_tabpanel\"]/ul/li[3]/div[2]/a' #3번째 Best 댓글의 답글 접기 하이퍼링크\n",
    "#).click()\n",
    "driver.find_element(By.XPATH,  #selenium 4버전\n",
    "                '//*[@id=\"cbox_module_wai_u_cbox_content_wrap_tabpanel\"]/ul/li[3]/div[2]/a'\n",
    "                    )\n",
    "\n",
    "\n",
    "time.sleep(0.2)\n"
   ]
  },
  {
   "cell_type": "code",
   "execution_count": null,
   "id": "b4ef51f9",
   "metadata": {},
   "outputs": [],
   "source": []
  },
  {
   "cell_type": "code",
   "execution_count": null,
   "id": "1d6f99ef",
   "metadata": {},
   "outputs": [],
   "source": []
  },
  {
   "cell_type": "code",
   "execution_count": null,
   "id": "774012a4",
   "metadata": {},
   "outputs": [],
   "source": []
  },
  {
   "cell_type": "code",
   "execution_count": null,
   "id": "c1027897",
   "metadata": {},
   "outputs": [],
   "source": []
  },
  {
   "cell_type": "code",
   "execution_count": null,
   "id": "6b93b5d3",
   "metadata": {},
   "outputs": [],
   "source": []
  },
  {
   "cell_type": "code",
   "execution_count": null,
   "id": "b4bb638b",
   "metadata": {},
   "outputs": [],
   "source": []
  }
 ],
 "metadata": {
  "kernelspec": {
   "display_name": "py3.7",
   "language": "python",
   "name": "py3.7"
  },
  "language_info": {
   "codemirror_mode": {
    "name": "ipython",
    "version": 3
   },
   "file_extension": ".py",
   "mimetype": "text/x-python",
   "name": "python",
   "nbconvert_exporter": "python",
   "pygments_lexer": "ipython3",
   "version": "3.7.16"
  }
 },
 "nbformat": 4,
 "nbformat_minor": 5
}
