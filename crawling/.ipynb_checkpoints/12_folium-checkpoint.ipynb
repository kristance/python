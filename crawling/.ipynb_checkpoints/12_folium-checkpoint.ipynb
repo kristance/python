{
 "cells": [
  {
   "cell_type": "code",
   "execution_count": null,
   "id": "4b37191d",
   "metadata": {},
   "outputs": [],
   "source": [
    "#folium 라이브러리를 사용하면 지도를 이용한 시각화를 할 수 있다.\n",
    "#folium 라이브러리를 설치하고  import 한다.\n",
    "#!pip install folium\n",
    "import folium"
   ]
  },
  {
   "cell_type": "code",
   "execution_count": null,
   "id": "69a083a9",
   "metadata": {},
   "outputs": [],
   "source": [
    "# folium 라이브러리의 Map() 클래스로 location 속성과 zoom_start 속성을 지정해서 지도를 만든다.\n",
    "# location 속성으로 위도와 경도를 지정해서 지도의 중심을 설정한다.\n",
    "#zoom_start 속성으로 지도의 배율을 설정한다.\n",
    "foliumMap = folium.Map(location=[37.569147, 126.984695], zoom_start=18)\n",
    "\n",
    "#folium 라이브러리의 Marker 클래스로 location 속성으로 지정한 위치에 popup 속성으로\n",
    "#지정한 문자열을 표시하는 marker를 만든다.\n",
    "#Marker 클래스로 작성한 marker는 add_to() 메소드로 지도에 추가한다.\n",
    "#folium.Marker(location=[37.569147, 126.984695], popup=\"학원 위치\").add_to(foliumMap)\n",
    "\n",
    "#marker를 클릭했을 때 팝업되는 말풍선 크기가 마음에 들지 않으면 folium 라이브러리의 Popup 클래스로\n",
    "#말풍선의 최대 가로 크기를 지정할 수 있다.\n",
    "popup = folium.Popup(\"스타벅스 종각\", max_width=300)\n",
    "folium.Marker(location=[37.5699183, 126.98452810000003], popup=popup).add_to(foliumMap)\n",
    "popup = folium.Popup(\"스타벅스 종로R\", max_width=300)\n",
    "folium.Marker(location=[37.570804, 126.983494], popup=popup).add_to(foliumMap)\n",
    "\n",
    "#save() 메소드로 folium을 사용해서 작성한 지도를 html 파일로 저장할 수 있다.\n",
    "foliumMap.save(\"./output/foliumMap.htm\")\n",
    "foliumMap"
   ]
  },
  {
   "cell_type": "code",
   "execution_count": null,
   "id": "5addf142",
   "metadata": {},
   "outputs": [],
   "source": []
  },
  {
   "cell_type": "code",
   "execution_count": null,
   "id": "67f58e62",
   "metadata": {},
   "outputs": [],
   "source": []
  },
  {
   "cell_type": "code",
   "execution_count": null,
   "id": "91d2ccb0",
   "metadata": {},
   "outputs": [],
   "source": []
  },
  {
   "cell_type": "code",
   "execution_count": null,
   "id": "2553b089",
   "metadata": {},
   "outputs": [],
   "source": []
  },
  {
   "cell_type": "code",
   "execution_count": null,
   "id": "18c1adbd",
   "metadata": {},
   "outputs": [],
   "source": []
  },
  {
   "cell_type": "code",
   "execution_count": null,
   "id": "786c6d0d",
   "metadata": {},
   "outputs": [],
   "source": []
  },
  {
   "cell_type": "code",
   "execution_count": null,
   "id": "3230c574",
   "metadata": {},
   "outputs": [],
   "source": []
  },
  {
   "cell_type": "code",
   "execution_count": null,
   "id": "5ceb2ee7",
   "metadata": {},
   "outputs": [],
   "source": []
  },
  {
   "cell_type": "code",
   "execution_count": null,
   "id": "f813c2ba",
   "metadata": {},
   "outputs": [],
   "source": []
  },
  {
   "cell_type": "code",
   "execution_count": null,
   "id": "23c767a0",
   "metadata": {},
   "outputs": [],
   "source": []
  },
  {
   "cell_type": "code",
   "execution_count": null,
   "id": "a6e5a484",
   "metadata": {},
   "outputs": [],
   "source": []
  },
  {
   "cell_type": "code",
   "execution_count": null,
   "id": "f3103b02",
   "metadata": {},
   "outputs": [],
   "source": []
  },
  {
   "cell_type": "code",
   "execution_count": null,
   "id": "5b7c5d5c",
   "metadata": {},
   "outputs": [],
   "source": []
  },
  {
   "cell_type": "code",
   "execution_count": null,
   "id": "13e5bb0a",
   "metadata": {},
   "outputs": [],
   "source": []
  }
 ],
 "metadata": {
  "kernelspec": {
   "display_name": "Python 3 (ipykernel)",
   "language": "python",
   "name": "python3"
  },
  "language_info": {
   "codemirror_mode": {
    "name": "ipython",
    "version": 3
   },
   "file_extension": ".py",
   "mimetype": "text/x-python",
   "name": "python",
   "nbconvert_exporter": "python",
   "pygments_lexer": "ipython3",
   "version": "3.7.1"
  }
 },
 "nbformat": 4,
 "nbformat_minor": 5
}
