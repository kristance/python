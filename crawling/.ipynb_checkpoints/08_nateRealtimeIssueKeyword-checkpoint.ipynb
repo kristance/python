{
 "cells": [
  {
   "cell_type": "code",
   "execution_count": 381,
   "id": "cefcd5cf",
   "metadata": {},
   "outputs": [],
   "source": [
    "%config Completer.use_jedi = False\n",
    "import warnings\n",
    "warnings.filterwarnings(action=\"ignore\")\n",
    "\n",
    "import requests\n",
    "from bs4 import BeautifulSoup\n",
    "from datetime import datetime as dt\n",
    "import time"
   ]
  },
  {
   "cell_type": "code",
   "execution_count": 510,
   "id": "70215129",
   "metadata": {},
   "outputs": [
    {
     "name": "stdout",
     "output_type": "stream",
     "text": [
      "1\n",
      "2\n",
      "3\n",
      "4\n",
      "5\n",
      "삼성 새 사령탑에\n",
      "정상 전화협의 한일\n",
      "산들 매니저\n",
      "장제원\n",
      "배용준 박수진 전속계약\n"
     ]
    }
   ],
   "source": [
    "targetSite = \"https://www.nate.com/\"\n",
    "h = {\"User-agent\" : \"Mozilla/5.0 (Windows NT 6.3; Win64; x64; Trident/7.0; MSAppHost/2.0; rv:11.0) like Gecko\"}\n",
    "request = requests.get(targetSite, headers=h)\n",
    "html = request.text\n",
    "soup = BeautifulSoup(html, \"html.parser\")\n",
    "#print(soup)\n",
    "\n",
    "#순위\n",
    "#ranks = soup.findAll(\"span\", {\"class\" : \"num_rank\"})\n",
    "#ranks = soup.select(\"#olLiveIssueKeyword > li > span\")\n",
    "ranks = soup.select(\"#olLiveIssueKeyword .num_rank\")\n",
    "#print(len(ranks))\n",
    "#print(ranks[:5])\n",
    "for rank in ranks[:5]:\n",
    "    print(rank.text)\n",
    "#----- for rank          \n",
    "\n",
    "# 실시간 이유 키워드\n",
    "issues = soup.findAll(\"span\", {\"class\" : \"txt_rank\"})\n",
    "#print(len(issues))\n",
    "#print(issues)\n",
    "for issue in issues[:5]:\n",
    "    print(issue.text)"
   ]
  },
  {
   "cell_type": "code",
   "execution_count": null,
   "id": "c789c9fb",
   "metadata": {},
   "outputs": [],
   "source": []
  },
  {
   "cell_type": "code",
   "execution_count": null,
   "id": "aa8e266f",
   "metadata": {},
   "outputs": [],
   "source": []
  },
  {
   "cell_type": "code",
   "execution_count": null,
   "id": "4ec4378a",
   "metadata": {},
   "outputs": [],
   "source": []
  },
  {
   "cell_type": "code",
   "execution_count": null,
   "id": "bd57566c",
   "metadata": {},
   "outputs": [],
   "source": []
  },
  {
   "cell_type": "code",
   "execution_count": null,
   "id": "ee8bbadd",
   "metadata": {},
   "outputs": [],
   "source": []
  },
  {
   "cell_type": "code",
   "execution_count": null,
   "id": "594f40b8",
   "metadata": {},
   "outputs": [],
   "source": []
  },
  {
   "cell_type": "code",
   "execution_count": null,
   "id": "8bcb31b0",
   "metadata": {},
   "outputs": [],
   "source": []
  }
 ],
 "metadata": {
  "kernelspec": {
   "display_name": "Python 3",
   "language": "python",
   "name": "python3"
  },
  "language_info": {
   "codemirror_mode": {
    "name": "ipython",
    "version": 3
   },
   "file_extension": ".py",
   "mimetype": "text/x-python",
   "name": "python",
   "nbconvert_exporter": "python",
   "pygments_lexer": "ipython3",
   "version": "3.6.8"
  }
 },
 "nbformat": 4,
 "nbformat_minor": 5
}
