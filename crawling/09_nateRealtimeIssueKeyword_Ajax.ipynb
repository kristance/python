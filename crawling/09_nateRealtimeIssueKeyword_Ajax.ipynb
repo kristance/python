{
 "cells": [
  {
   "cell_type": "code",
   "execution_count": 1,
   "id": "d3de0ad9",
   "metadata": {},
   "outputs": [],
   "source": [
    "%config Completer.use_jedi = False\n",
    "import warnings\n",
    "warnings.filterwarnings(action=\"ignore\")\n"
   ]
  },
  {
   "cell_type": "code",
   "execution_count": 2,
   "id": "9552e8df",
   "metadata": {},
   "outputs": [],
   "source": [
    "import requests\n",
    "#BeautifulSoup은 html 문서를 파싱할 때 사용하므로 json 형태로 넘어오는 데이터에는 사용하지 않는다.\n",
    "#from bs4 import BeautifulSoup\n",
    "# json 형태의 문자열을 파이썬에서 처리할 수 있도록 리스트나 딕셔너리로 변경하기 위해 import 한다.\n",
    "import json"
   ]
  },
  {
   "cell_type": "markdown",
   "id": "b8327a95",
   "metadata": {},
   "source": [
    "<img src=\"./r1.png\"> \n",
    "<img src=\"./r2.png\"> \n"
   ]
  },
  {
   "cell_type": "code",
   "execution_count": 3,
   "id": "e0253194",
   "metadata": {},
   "outputs": [
    {
     "name": "stdout",
     "output_type": "stream",
     "text": [
      "<Response [200]>\n"
     ]
    }
   ],
   "source": [
    "#실시간 이슈 키워드가 웹페이지에 전부 혹 일부가 포함되어 있지 않고 ajax를 이용해서 실시간으로 \n",
    "#받아오는 방식이 사용된다.\n",
    "targetSite = \"https://www.nate.com/js/data/jsonLiveKeywordDataV1.js?v=202404181005\"\n",
    "request = requests.get(targetSite)\n",
    "print(request)\n",
    "#파이썬은 한글 인코딩이 유니코드(utf-8)로 되어있기 때문에 \"eur-kr\"로 인코딩된 사이트를 크롤링할 때\n",
    "#한글이 깨지면 아래와 같이 한글 인코딩 방식을 지정하면 된다.\n",
    "request.encoding = \"euc-kr\""
   ]
  },
  {
   "cell_type": "code",
   "execution_count": 4,
   "id": "99a6bb59",
   "metadata": {},
   "outputs": [
    {
     "name": "stdout",
     "output_type": "stream",
     "text": [
      "[[\"1\",  \"주선옥\",  \"s\",  \"0\",  \"주선옥\"], [\"2\",  \"민주당 양곡법 직회부\",  \"n\",  \"0\",  \"민주당 본회의 직회부\"], [\"3\",  \"피프티 명예훼손 고소\",  \"+\",  \"63\",  \"피프티 명예훼손 고소\"], [\"4\",  \"기아 2024 어워드\",  \"n\",  \"0\",  \"기아 2024 어워드 수상\"], [\"5\",  \"대마왕 전 의협\",  \"n\",  \"0\",  \"대마왕 전 의협 맹비난\"], [\"6\",  \"가해자 누나\",  \"-\",  \"2\",  \"가해자 누나\"], [\"7\",  \"로이킴 박보람 추모\",  \"n\",  \"0\",  \"로이킴 박보람 추모\"], [\"8\",  \"선재 업고 튀어\",  \"-\",  \"2\",  \"선재 업고 튀어\"], [\"9\",  \"한강 괴물 철거하기로\",  \"n\",  \"0\",  \"한강 괴물 철거하기로\"], [\"10\",  \"만찬회동 국정기조 논의\",  \"n\",  \"0\",  \"만찬회동 국정기조 논의\"]]\n",
      "<class 'str'>\n"
     ]
    }
   ],
   "source": [
    "issues = request.text\n",
    "print(issues)\n",
    "print(type(issues))"
   ]
  },
  {
   "cell_type": "markdown",
   "id": "1b4ce4a7",
   "metadata": {},
   "source": [
    "json 형태의 문자열로 얻어온 실시간 이유 데이터를 파이썬이 처리할 수 있는 데이터 타입으로 변환해서 처리한다.  \n"
   ]
  },
  {
   "cell_type": "code",
   "execution_count": 5,
   "id": "8a0ffd12",
   "metadata": {},
   "outputs": [
    {
     "name": "stdout",
     "output_type": "stream",
     "text": [
      "[['1', '주선옥', 's', '0', '주선옥'], ['2', '민주당 양곡법 직회부', 'n', '0', '민주당 본회의 직회부'], ['3', '피프티 명예훼손 고소', '+', '63', '피프티 명예훼손 고소'], ['4', '기아 2024 어워드', 'n', '0', '기아 2024 어워드 수상'], ['5', '대마왕 전 의협', 'n', '0', '대마왕 전 의협 맹비난'], ['6', '가해자 누나', '-', '2', '가해자 누나'], ['7', '로이킴 박보람 추모', 'n', '0', '로이킴 박보람 추모'], ['8', '선재 업고 튀어', '-', '2', '선재 업고 튀어'], ['9', '한강 괴물 철거하기로', 'n', '0', '한강 괴물 철거하기로'], ['10', '만찬회동 국정기조 논의', 'n', '0', '만찬회동 국정기조 논의']]\n",
      "<class 'list'>\n"
     ]
    }
   ],
   "source": [
    "#json모듈의 loads() 메소드는 json형태의 문자열이 {}를 포함하면 딕셔너리로,\n",
    "#{}를 포함하지 않으면 리스트로 변환한다.\n",
    "ranks = json.loads(issues)\n",
    "print(ranks)\n",
    "print(type(ranks))"
   ]
  },
  {
   "cell_type": "code",
   "execution_count": 6,
   "id": "be4eea54",
   "metadata": {},
   "outputs": [
    {
     "name": "stdout",
     "output_type": "stream",
     "text": [
      "[['1', '주선옥', 's', '0', '주선옥'], ['2', '민주당 양곡법 직회부', 'n', '0', '민주당 본회의 직회부'], ['3', '피프티 명예훼손 고소', '+', '63', '피프티 명예훼손 고소'], ['4', '기아 2024 어워드', 'n', '0', '기아 2024 어워드 수상'], ['5', '대마왕 전 의협', 'n', '0', '대마왕 전 의협 맹비난'], ['6', '가해자 누나', '-', '2', '가해자 누나'], ['7', '로이킴 박보람 추모', 'n', '0', '로이킴 박보람 추모'], ['8', '선재 업고 튀어', '-', '2', '선재 업고 튀어'], ['9', '한강 괴물 철거하기로', 'n', '0', '한강 괴물 철거하기로'], ['10', '만찬회동 국정기조 논의', 'n', '0', '만찬회동 국정기조 논의']]\n",
      "<class 'list'>\n"
     ]
    }
   ],
   "source": [
    "# requests 모듈의 json() 메소드는 json형태의 문자열이 {}를 포함하면 딕셔너리로,\n",
    "#{}를 포함하지 않으면 리스트로 변환한다.\n",
    "ranks = request.json()\n",
    "print(ranks)\n",
    "print(type(ranks))"
   ]
  },
  {
   "cell_type": "code",
   "execution_count": 11,
   "id": "edf26c2a",
   "metadata": {},
   "outputs": [
    {
     "name": "stdout",
     "output_type": "stream",
     "text": [
      " 1위 -> 주선옥[-]\n",
      " 2위 -> 민주당 양곡법 직회부[new]\n",
      " 3위 -> 피프티 명예훼손 고소[↑63]\n",
      " 4위 -> 기아 2024 어워드[new]\n",
      " 5위 -> 대마왕 전 의협[new]\n",
      " 6위 -> 가해자 누나[↓2]\n",
      " 7위 -> 로이킴 박보람 추모[new]\n",
      " 8위 -> 선재 업고 튀어[↓2]\n",
      " 9위 -> 한강 괴물 철거하기로[new]\n",
      "10위 -> 만찬회동 국정기조 논의[new]\n"
     ]
    }
   ],
   "source": [
    "for rank in ranks:\n",
    "    print(\"{:>2s}위 -> {}\".format(rank[0], rank[1]), end=\"\")\n",
    "    if rank[2] == \"+\":\n",
    "        print(\"[{}{}]\".format(\"↑\", rank[3]))\n",
    "    elif rank[2] == \"-\":\n",
    "        print(\"[{}{}]\".format(\"↓\", rank[3]))\n",
    "    elif rank[2] == \"n\":\n",
    "        print(\"[new]\")\n",
    "    else :\n",
    "        print(\"[-]\")"
   ]
  },
  {
   "cell_type": "code",
   "execution_count": null,
   "id": "81887b00",
   "metadata": {},
   "outputs": [],
   "source": []
  },
  {
   "cell_type": "code",
   "execution_count": null,
   "id": "7d0a9263",
   "metadata": {},
   "outputs": [],
   "source": []
  },
  {
   "cell_type": "code",
   "execution_count": null,
   "id": "600d1341",
   "metadata": {},
   "outputs": [],
   "source": []
  },
  {
   "cell_type": "code",
   "execution_count": null,
   "id": "4a254652",
   "metadata": {},
   "outputs": [],
   "source": []
  }
 ],
 "metadata": {
  "kernelspec": {
   "display_name": "Python 3",
   "language": "python",
   "name": "python3"
  },
  "language_info": {
   "codemirror_mode": {
    "name": "ipython",
    "version": 3
   },
   "file_extension": ".py",
   "mimetype": "text/x-python",
   "name": "python",
   "nbconvert_exporter": "python",
   "pygments_lexer": "ipython3",
   "version": "3.6.8"
  }
 },
 "nbformat": 4,
 "nbformat_minor": 5
}
